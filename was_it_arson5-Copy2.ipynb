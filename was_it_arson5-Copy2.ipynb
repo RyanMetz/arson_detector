{
 "cells": [
  {
   "cell_type": "markdown",
   "metadata": {},
   "source": [
    "The cell below removes the annoying app bar thing at the bottom of a notebook."
   ]
  },
  {
   "cell_type": "code",
   "execution_count": 1,
   "metadata": {},
   "outputs": [
    {
     "data": {
      "application/javascript": [
       "$('.nbp-app-bar').toggle()"
      ],
      "text/plain": [
       "<IPython.core.display.Javascript object>"
      ]
     },
     "metadata": {},
     "output_type": "display_data"
    }
   ],
   "source": [
    "%%javascript\n",
    "$('.nbp-app-bar').toggle()"
   ]
  },
  {
   "cell_type": "code",
   "execution_count": 112,
   "metadata": {},
   "outputs": [],
   "source": [
    "import numpy as np\n",
    "import pandas as pd\n",
    "import geopandas as gpd\n",
    "import matplotlib.pyplot as plt\n",
    "from datetime import datetime\n",
    "import calendar\n",
    "import sqlite3\n",
    "import seaborn as sns\n",
    "#import pysal as ps\n",
    "#from pysal.contrib.viz import mapping as maps\n",
    "from sklearn.linear_model import LogisticRegression\n",
    "from sklearn.naive_bayes import GaussianNB\n",
    "from sklearn.ensemble import RandomTreesEmbedding, RandomForestClassifier, GradientBoostingClassifier, BaggingClassifier\n",
    "from xgboost import XGBClassifier\n",
    "from sklearn.svm import SVC, LinearSVC\n",
    "from sklearn.pipeline import make_pipeline\n",
    "from sklearn.model_selection import train_test_split, cross_val_score\n",
    "from sklearn.preprocessing import LabelEncoder, OneHotEncoder, RobustScaler, StandardScaler\n",
    "from sklearn.decomposition import PCA\n",
    "from sklearn.calibration import CalibratedClassifierCV\n",
    "from sklearn.metrics import confusion_matrix, auc, roc_curve, classification_report\n",
    "from sklearn.multiclass import OneVsRestClassifier\n",
    "from sklearn.utils import resample\n",
    "\n",
    "\n",
    "%matplotlib inline"
   ]
  },
  {
   "cell_type": "markdown",
   "metadata": {},
   "source": [
    "The cell below makes it so pandas will show me all the columns."
   ]
  },
  {
   "cell_type": "code",
   "execution_count": 3,
   "metadata": {},
   "outputs": [],
   "source": [
    "pd.set_option('display.max_columns', 40)"
   ]
  },
  {
   "cell_type": "markdown",
   "metadata": {},
   "source": [
    "The below cell loads the spatialite extention to sqlite. I got the code from the spatialite mailing list\n",
    "https://groups.google.com/d/msg/spatialite-users/o0jUwMUqx_g/OEat2JTUAAAJ\n",
    "I can get it to work without geopandas. With geopandas imported it kills the ipython kernel within seconds. Ironic! Without one, the other is useless."
   ]
  },
  {
   "cell_type": "code",
   "execution_count": null,
   "metadata": {},
   "outputs": [],
   "source": [
    "#conn = sqlite3.connect(':memory:') \n",
    "#conn.enable_load_extension(True) \n",
    "#conn.execute(\"SELECT load_extension('mod_spatialite')\") "
   ]
  },
  {
   "cell_type": "markdown",
   "metadata": {},
   "source": [
    "The below code for importing all the sql data came from: https://www.dataquest.io/blog/python-pandas-databases/"
   ]
  },
  {
   "cell_type": "code",
   "execution_count": 4,
   "metadata": {},
   "outputs": [],
   "source": [
    "conn = sqlite3.connect(\"./data/FPA_FOD_20170508.sqlite\")"
   ]
  },
  {
   "cell_type": "code",
   "execution_count": null,
   "metadata": {},
   "outputs": [],
   "source": [
    "#this is if you want to read the data in as tuples\n",
    "\n",
    "#cur = conn.cursor()\n",
    "#cur.execute(\"SELECT * FROM fires;\")\n",
    "#results = cur.fetchall()"
   ]
  },
  {
   "cell_type": "code",
   "execution_count": 5,
   "metadata": {},
   "outputs": [],
   "source": [
    "df_all = pd.read_sql_query(\"SELECT * FROM fires;\", conn)\n",
    "#this grabs the whole db and puts it into a df using the sqlite3.Connection"
   ]
  },
  {
   "cell_type": "code",
   "execution_count": 6,
   "metadata": {},
   "outputs": [
    {
     "data": {
      "text/plain": [
       "(1880465, 39)"
      ]
     },
     "execution_count": 6,
     "metadata": {},
     "output_type": "execute_result"
    }
   ],
   "source": [
    "df_all.shape"
   ]
  },
  {
   "cell_type": "code",
   "execution_count": 7,
   "metadata": {},
   "outputs": [
    {
     "data": {
      "text/html": [
       "<div>\n",
       "<style scoped>\n",
       "    .dataframe tbody tr th:only-of-type {\n",
       "        vertical-align: middle;\n",
       "    }\n",
       "\n",
       "    .dataframe tbody tr th {\n",
       "        vertical-align: top;\n",
       "    }\n",
       "\n",
       "    .dataframe thead th {\n",
       "        text-align: right;\n",
       "    }\n",
       "</style>\n",
       "<table border=\"1\" class=\"dataframe\">\n",
       "  <thead>\n",
       "    <tr style=\"text-align: right;\">\n",
       "      <th></th>\n",
       "      <th>OBJECTID</th>\n",
       "      <th>FOD_ID</th>\n",
       "      <th>FPA_ID</th>\n",
       "      <th>SOURCE_SYSTEM_TYPE</th>\n",
       "      <th>SOURCE_SYSTEM</th>\n",
       "      <th>NWCG_REPORTING_AGENCY</th>\n",
       "      <th>NWCG_REPORTING_UNIT_ID</th>\n",
       "      <th>NWCG_REPORTING_UNIT_NAME</th>\n",
       "      <th>SOURCE_REPORTING_UNIT</th>\n",
       "      <th>SOURCE_REPORTING_UNIT_NAME</th>\n",
       "      <th>LOCAL_FIRE_REPORT_ID</th>\n",
       "      <th>LOCAL_INCIDENT_ID</th>\n",
       "      <th>FIRE_CODE</th>\n",
       "      <th>FIRE_NAME</th>\n",
       "      <th>ICS_209_INCIDENT_NUMBER</th>\n",
       "      <th>ICS_209_NAME</th>\n",
       "      <th>MTBS_ID</th>\n",
       "      <th>MTBS_FIRE_NAME</th>\n",
       "      <th>COMPLEX_NAME</th>\n",
       "      <th>FIRE_YEAR</th>\n",
       "      <th>DISCOVERY_DATE</th>\n",
       "      <th>DISCOVERY_DOY</th>\n",
       "      <th>DISCOVERY_TIME</th>\n",
       "      <th>STAT_CAUSE_CODE</th>\n",
       "      <th>STAT_CAUSE_DESCR</th>\n",
       "      <th>CONT_DATE</th>\n",
       "      <th>CONT_DOY</th>\n",
       "      <th>CONT_TIME</th>\n",
       "      <th>FIRE_SIZE</th>\n",
       "      <th>FIRE_SIZE_CLASS</th>\n",
       "      <th>LATITUDE</th>\n",
       "      <th>LONGITUDE</th>\n",
       "      <th>OWNER_CODE</th>\n",
       "      <th>OWNER_DESCR</th>\n",
       "      <th>STATE</th>\n",
       "      <th>COUNTY</th>\n",
       "      <th>FIPS_CODE</th>\n",
       "      <th>FIPS_NAME</th>\n",
       "      <th>Shape</th>\n",
       "    </tr>\n",
       "  </thead>\n",
       "  <tbody>\n",
       "    <tr>\n",
       "      <th>0</th>\n",
       "      <td>1</td>\n",
       "      <td>1</td>\n",
       "      <td>FS-1418826</td>\n",
       "      <td>FED</td>\n",
       "      <td>FS-FIRESTAT</td>\n",
       "      <td>FS</td>\n",
       "      <td>USCAPNF</td>\n",
       "      <td>Plumas National Forest</td>\n",
       "      <td>0511</td>\n",
       "      <td>Plumas National Forest</td>\n",
       "      <td>1</td>\n",
       "      <td>PNF-47</td>\n",
       "      <td>BJ8K</td>\n",
       "      <td>FOUNTAIN</td>\n",
       "      <td>None</td>\n",
       "      <td>None</td>\n",
       "      <td>None</td>\n",
       "      <td>None</td>\n",
       "      <td>None</td>\n",
       "      <td>2005</td>\n",
       "      <td>2453403.5</td>\n",
       "      <td>33</td>\n",
       "      <td>1300</td>\n",
       "      <td>9.0</td>\n",
       "      <td>Miscellaneous</td>\n",
       "      <td>2453403.5</td>\n",
       "      <td>33.0</td>\n",
       "      <td>1730</td>\n",
       "      <td>0.10</td>\n",
       "      <td>A</td>\n",
       "      <td>40.036944</td>\n",
       "      <td>-121.005833</td>\n",
       "      <td>5.0</td>\n",
       "      <td>USFS</td>\n",
       "      <td>CA</td>\n",
       "      <td>63</td>\n",
       "      <td>063</td>\n",
       "      <td>Plumas</td>\n",
       "      <td>b'\\x00\\x01\\xad\\x10\\x00\\x00\\xe8d\\xc2\\x92_@^\\xc0...</td>\n",
       "    </tr>\n",
       "    <tr>\n",
       "      <th>1</th>\n",
       "      <td>2</td>\n",
       "      <td>2</td>\n",
       "      <td>FS-1418827</td>\n",
       "      <td>FED</td>\n",
       "      <td>FS-FIRESTAT</td>\n",
       "      <td>FS</td>\n",
       "      <td>USCAENF</td>\n",
       "      <td>Eldorado National Forest</td>\n",
       "      <td>0503</td>\n",
       "      <td>Eldorado National Forest</td>\n",
       "      <td>13</td>\n",
       "      <td>13</td>\n",
       "      <td>AAC0</td>\n",
       "      <td>PIGEON</td>\n",
       "      <td>None</td>\n",
       "      <td>None</td>\n",
       "      <td>None</td>\n",
       "      <td>None</td>\n",
       "      <td>None</td>\n",
       "      <td>2004</td>\n",
       "      <td>2453137.5</td>\n",
       "      <td>133</td>\n",
       "      <td>0845</td>\n",
       "      <td>1.0</td>\n",
       "      <td>Lightning</td>\n",
       "      <td>2453137.5</td>\n",
       "      <td>133.0</td>\n",
       "      <td>1530</td>\n",
       "      <td>0.25</td>\n",
       "      <td>A</td>\n",
       "      <td>38.933056</td>\n",
       "      <td>-120.404444</td>\n",
       "      <td>5.0</td>\n",
       "      <td>USFS</td>\n",
       "      <td>CA</td>\n",
       "      <td>61</td>\n",
       "      <td>061</td>\n",
       "      <td>Placer</td>\n",
       "      <td>b'\\x00\\x01\\xad\\x10\\x00\\x00T\\xb6\\xeej\\xe2\\x19^\\...</td>\n",
       "    </tr>\n",
       "  </tbody>\n",
       "</table>\n",
       "</div>"
      ],
      "text/plain": [
       "   OBJECTID  FOD_ID      FPA_ID SOURCE_SYSTEM_TYPE SOURCE_SYSTEM  \\\n",
       "0         1       1  FS-1418826                FED   FS-FIRESTAT   \n",
       "1         2       2  FS-1418827                FED   FS-FIRESTAT   \n",
       "\n",
       "  NWCG_REPORTING_AGENCY NWCG_REPORTING_UNIT_ID  NWCG_REPORTING_UNIT_NAME  \\\n",
       "0                    FS                USCAPNF    Plumas National Forest   \n",
       "1                    FS                USCAENF  Eldorado National Forest   \n",
       "\n",
       "  SOURCE_REPORTING_UNIT SOURCE_REPORTING_UNIT_NAME LOCAL_FIRE_REPORT_ID  \\\n",
       "0                  0511     Plumas National Forest                    1   \n",
       "1                  0503   Eldorado National Forest                   13   \n",
       "\n",
       "  LOCAL_INCIDENT_ID FIRE_CODE FIRE_NAME ICS_209_INCIDENT_NUMBER ICS_209_NAME  \\\n",
       "0            PNF-47      BJ8K  FOUNTAIN                    None         None   \n",
       "1                13      AAC0    PIGEON                    None         None   \n",
       "\n",
       "  MTBS_ID MTBS_FIRE_NAME COMPLEX_NAME  FIRE_YEAR  DISCOVERY_DATE  \\\n",
       "0    None           None         None       2005       2453403.5   \n",
       "1    None           None         None       2004       2453137.5   \n",
       "\n",
       "   DISCOVERY_DOY DISCOVERY_TIME  STAT_CAUSE_CODE STAT_CAUSE_DESCR  CONT_DATE  \\\n",
       "0             33           1300              9.0    Miscellaneous  2453403.5   \n",
       "1            133           0845              1.0        Lightning  2453137.5   \n",
       "\n",
       "   CONT_DOY CONT_TIME  FIRE_SIZE FIRE_SIZE_CLASS   LATITUDE   LONGITUDE  \\\n",
       "0      33.0      1730       0.10               A  40.036944 -121.005833   \n",
       "1     133.0      1530       0.25               A  38.933056 -120.404444   \n",
       "\n",
       "   OWNER_CODE OWNER_DESCR STATE COUNTY FIPS_CODE FIPS_NAME  \\\n",
       "0         5.0        USFS    CA     63       063    Plumas   \n",
       "1         5.0        USFS    CA     61       061    Placer   \n",
       "\n",
       "                                               Shape  \n",
       "0  b'\\x00\\x01\\xad\\x10\\x00\\x00\\xe8d\\xc2\\x92_@^\\xc0...  \n",
       "1  b'\\x00\\x01\\xad\\x10\\x00\\x00T\\xb6\\xeej\\xe2\\x19^\\...  "
      ]
     },
     "execution_count": 7,
     "metadata": {},
     "output_type": "execute_result"
    }
   ],
   "source": [
    "df_all.head(2)"
   ]
  },
  {
   "cell_type": "markdown",
   "metadata": {},
   "source": [
    "Since pandas can't handle the geometry information the Shape column is useless anyway, I'm going to drop it. It lives on in the original sqlite db."
   ]
  },
  {
   "cell_type": "code",
   "execution_count": 8,
   "metadata": {},
   "outputs": [],
   "source": [
    "df_all.drop(['Shape'], axis=1, inplace=True)"
   ]
  },
  {
   "cell_type": "code",
   "execution_count": 9,
   "metadata": {
    "scrolled": true
   },
   "outputs": [
    {
     "data": {
      "text/plain": [
       "Index(['OBJECTID', 'FOD_ID', 'FPA_ID', 'SOURCE_SYSTEM_TYPE', 'SOURCE_SYSTEM',\n",
       "       'NWCG_REPORTING_AGENCY', 'NWCG_REPORTING_UNIT_ID',\n",
       "       'NWCG_REPORTING_UNIT_NAME', 'SOURCE_REPORTING_UNIT',\n",
       "       'SOURCE_REPORTING_UNIT_NAME', 'LOCAL_FIRE_REPORT_ID',\n",
       "       'LOCAL_INCIDENT_ID', 'FIRE_CODE', 'FIRE_NAME',\n",
       "       'ICS_209_INCIDENT_NUMBER', 'ICS_209_NAME', 'MTBS_ID', 'MTBS_FIRE_NAME',\n",
       "       'COMPLEX_NAME', 'FIRE_YEAR', 'DISCOVERY_DATE', 'DISCOVERY_DOY',\n",
       "       'DISCOVERY_TIME', 'STAT_CAUSE_CODE', 'STAT_CAUSE_DESCR', 'CONT_DATE',\n",
       "       'CONT_DOY', 'CONT_TIME', 'FIRE_SIZE', 'FIRE_SIZE_CLASS', 'LATITUDE',\n",
       "       'LONGITUDE', 'OWNER_CODE', 'OWNER_DESCR', 'STATE', 'COUNTY',\n",
       "       'FIPS_CODE', 'FIPS_NAME'],\n",
       "      dtype='object')"
      ]
     },
     "execution_count": 9,
     "metadata": {},
     "output_type": "execute_result"
    }
   ],
   "source": [
    "df_all.columns"
   ]
  },
  {
   "cell_type": "code",
   "execution_count": 10,
   "metadata": {},
   "outputs": [
    {
     "data": {
      "text/plain": [
       "array(['Miscellaneous', 'Lightning', 'Debris Burning', 'Campfire',\n",
       "       'Equipment Use', 'Arson', 'Children', 'Railroad', 'Smoking',\n",
       "       'Powerline', 'Structure', 'Fireworks', 'Missing/Undefined'],\n",
       "      dtype=object)"
      ]
     },
     "execution_count": 10,
     "metadata": {},
     "output_type": "execute_result"
    }
   ],
   "source": [
    "df_all.STAT_CAUSE_DESCR.unique()"
   ]
  },
  {
   "cell_type": "markdown",
   "metadata": {},
   "source": [
    "There are entries in my target column that I can't use so I am dropping them."
   ]
  },
  {
   "cell_type": "code",
   "execution_count": 11,
   "metadata": {},
   "outputs": [],
   "source": [
    "df_all.drop(df_all[df_all['STAT_CAUSE_DESCR'] == 'Missing/Undefined'].index, inplace=True)"
   ]
  },
  {
   "cell_type": "code",
   "execution_count": 12,
   "metadata": {},
   "outputs": [
    {
     "data": {
      "text/plain": [
       "(1713742, 38)"
      ]
     },
     "execution_count": 12,
     "metadata": {},
     "output_type": "execute_result"
    }
   ],
   "source": [
    "df_all.shape"
   ]
  },
  {
   "cell_type": "code",
   "execution_count": 13,
   "metadata": {
    "scrolled": true
   },
   "outputs": [
    {
     "data": {
      "text/plain": [
       "OBJECTID                        int64\n",
       "FOD_ID                          int64\n",
       "FPA_ID                         object\n",
       "SOURCE_SYSTEM_TYPE             object\n",
       "SOURCE_SYSTEM                  object\n",
       "NWCG_REPORTING_AGENCY          object\n",
       "NWCG_REPORTING_UNIT_ID         object\n",
       "NWCG_REPORTING_UNIT_NAME       object\n",
       "SOURCE_REPORTING_UNIT          object\n",
       "SOURCE_REPORTING_UNIT_NAME     object\n",
       "LOCAL_FIRE_REPORT_ID           object\n",
       "LOCAL_INCIDENT_ID              object\n",
       "FIRE_CODE                      object\n",
       "FIRE_NAME                      object\n",
       "ICS_209_INCIDENT_NUMBER        object\n",
       "ICS_209_NAME                   object\n",
       "MTBS_ID                        object\n",
       "MTBS_FIRE_NAME                 object\n",
       "COMPLEX_NAME                   object\n",
       "FIRE_YEAR                       int64\n",
       "DISCOVERY_DATE                float64\n",
       "DISCOVERY_DOY                   int64\n",
       "DISCOVERY_TIME                 object\n",
       "STAT_CAUSE_CODE               float64\n",
       "STAT_CAUSE_DESCR               object\n",
       "CONT_DATE                     float64\n",
       "CONT_DOY                      float64\n",
       "CONT_TIME                      object\n",
       "FIRE_SIZE                     float64\n",
       "FIRE_SIZE_CLASS                object\n",
       "LATITUDE                      float64\n",
       "LONGITUDE                     float64\n",
       "OWNER_CODE                    float64\n",
       "OWNER_DESCR                    object\n",
       "STATE                          object\n",
       "COUNTY                         object\n",
       "FIPS_CODE                      object\n",
       "FIPS_NAME                      object\n",
       "dtype: object"
      ]
     },
     "execution_count": 13,
     "metadata": {},
     "output_type": "execute_result"
    }
   ],
   "source": [
    "df_all.dtypes"
   ]
  },
  {
   "cell_type": "code",
   "execution_count": 14,
   "metadata": {
    "scrolled": true
   },
   "outputs": [
    {
     "data": {
      "text/plain": [
       "OBJECTID                            0\n",
       "FOD_ID                              0\n",
       "FPA_ID                              0\n",
       "SOURCE_SYSTEM_TYPE                  0\n",
       "SOURCE_SYSTEM                       0\n",
       "NWCG_REPORTING_AGENCY               0\n",
       "NWCG_REPORTING_UNIT_ID              0\n",
       "NWCG_REPORTING_UNIT_NAME            0\n",
       "SOURCE_REPORTING_UNIT               0\n",
       "SOURCE_REPORTING_UNIT_NAME          0\n",
       "LOCAL_FIRE_REPORT_ID          1297372\n",
       "LOCAL_INCIDENT_ID              705847\n",
       "FIRE_CODE                     1396084\n",
       "FIRE_NAME                      839288\n",
       "ICS_209_INCIDENT_NUMBER       1691038\n",
       "ICS_209_NAME                  1691038\n",
       "MTBS_ID                       1703584\n",
       "MTBS_FIRE_NAME                1703584\n",
       "COMPLEX_NAME                  1708655\n",
       "FIRE_YEAR                           0\n",
       "DISCOVERY_DATE                      0\n",
       "DISCOVERY_DOY                       0\n",
       "DISCOVERY_TIME                 770477\n",
       "STAT_CAUSE_CODE                     0\n",
       "STAT_CAUSE_DESCR                    0\n",
       "CONT_DATE                      796359\n",
       "CONT_DOY                       796359\n",
       "CONT_TIME                      853694\n",
       "FIRE_SIZE                           0\n",
       "FIRE_SIZE_CLASS                     0\n",
       "LATITUDE                            0\n",
       "LONGITUDE                           0\n",
       "OWNER_CODE                          0\n",
       "OWNER_DESCR                         0\n",
       "STATE                               0\n",
       "COUNTY                         636349\n",
       "FIPS_CODE                      636349\n",
       "FIPS_NAME                      636349\n",
       "dtype: int64"
      ]
     },
     "execution_count": 14,
     "metadata": {},
     "output_type": "execute_result"
    }
   ],
   "source": [
    "df_all.isnull().sum()"
   ]
  },
  {
   "cell_type": "markdown",
   "metadata": {},
   "source": [
    "I'm going to create a new df, df_pred, by dropping columns from the FPA_FOD data. I'm going to read that into a csv so I have it for later, and then stop using the full set. I will keep the full set on my SSD, of course. I am making these decisions based on the data atlas located here: https://www.kaggle.com/davideanastasia/contour-map-of-us-wildfire-dataset/data"
   ]
  },
  {
   "cell_type": "code",
   "execution_count": 15,
   "metadata": {
    "scrolled": true
   },
   "outputs": [
    {
     "data": {
      "text/plain": [
       "D44Z    9451\n",
       "5555    5144\n",
       "D5GJ    3459\n",
       "0001    3329\n",
       "0000    1928\n",
       "2300    1892\n",
       "EKV3    1032\n",
       "4700    1003\n",
       "EKW0     938\n",
       "0100     904\n",
       "EKT5     883\n",
       "5900     833\n",
       "EKV0     756\n",
       "EK2R     729\n",
       "7000     721\n",
       "EKV5     703\n",
       "EK2D     690\n",
       "EK3D     666\n",
       "EK2N     660\n",
       "EKV6     647\n",
       "EK2A     624\n",
       "EKT4     614\n",
       "EK2B     585\n",
       "EK2Q     551\n",
       "7500     537\n",
       "EN0A     533\n",
       "EK2F     513\n",
       "EKW2     504\n",
       "EKS5     495\n",
       "EKT1     493\n",
       "        ... \n",
       "CWC0       1\n",
       "EA0A       1\n",
       "EV9K       1\n",
       "A5VX       1\n",
       "HCR3       1\n",
       "DP1T       1\n",
       "EH9V       1\n",
       "H2BP       1\n",
       "BTE3       1\n",
       "H6XX       1\n",
       "CE7F       1\n",
       "JZK9       1\n",
       "B12M       1\n",
       "CSS3       1\n",
       "C83H       1\n",
       "DH2A       1\n",
       "DLT9       1\n",
       "ELW1       1\n",
       "JJ3J       1\n",
       "H40H       1\n",
       "N877       1\n",
       "DQ33       1\n",
       "R966       1\n",
       "E9LB       1\n",
       "DSN9       1\n",
       "C2CW       1\n",
       "EMB7       1\n",
       "ETE9       1\n",
       "E39R       1\n",
       "DKY3       1\n",
       "Name: FIRE_CODE, Length: 166669, dtype: int64"
      ]
     },
     "execution_count": 15,
     "metadata": {},
     "output_type": "execute_result"
    }
   ],
   "source": [
    "df_all['FIRE_CODE'].value_counts()"
   ]
  },
  {
   "cell_type": "markdown",
   "metadata": {},
   "source": [
    "I'm going to drop features that I don't care about and then do feature engineering."
   ]
  },
  {
   "cell_type": "code",
   "execution_count": 16,
   "metadata": {},
   "outputs": [],
   "source": [
    "df_all = df_all.drop(['OBJECTID', 'FPA_ID', 'SOURCE_SYSTEM_TYPE', 'SOURCE_SYSTEM',\n",
    "                  'NWCG_REPORTING_AGENCY', 'NWCG_REPORTING_UNIT_ID',\n",
    "                  'NWCG_REPORTING_UNIT_NAME', 'SOURCE_REPORTING_UNIT',\n",
    "                  'SOURCE_REPORTING_UNIT_NAME', 'LOCAL_FIRE_REPORT_ID',\n",
    "                  'LOCAL_INCIDENT_ID', 'FIRE_NAME',\n",
    "                  'ICS_209_INCIDENT_NUMBER', 'ICS_209_NAME', 'MTBS_ID', 'MTBS_FIRE_NAME',\n",
    "                  'COMPLEX_NAME', 'FIRE_YEAR', 'DISCOVERY_TIME', \n",
    "                  'STAT_CAUSE_CODE', 'CONT_TIME', \n",
    "                  'FIRE_SIZE_CLASS', 'LATITUDE', 'LONGITUDE', 'OWNER_CODE', \n",
    "                  'OWNER_DESCR', 'COUNTY', 'FIPS_NAME'], axis=1)\n",
    "\n",
    "#at some point redo this. Instead of doing a drop just include all feats I want to keep. Much more readable, shorter"
   ]
  },
  {
   "cell_type": "code",
   "execution_count": 17,
   "metadata": {},
   "outputs": [
    {
     "data": {
      "text/plain": [
       "(1713742, 10)"
      ]
     },
     "execution_count": 17,
     "metadata": {},
     "output_type": "execute_result"
    }
   ],
   "source": [
    "df_all.shape"
   ]
  },
  {
   "cell_type": "code",
   "execution_count": 18,
   "metadata": {},
   "outputs": [
    {
     "data": {
      "text/html": [
       "<div>\n",
       "<style scoped>\n",
       "    .dataframe tbody tr th:only-of-type {\n",
       "        vertical-align: middle;\n",
       "    }\n",
       "\n",
       "    .dataframe tbody tr th {\n",
       "        vertical-align: top;\n",
       "    }\n",
       "\n",
       "    .dataframe thead th {\n",
       "        text-align: right;\n",
       "    }\n",
       "</style>\n",
       "<table border=\"1\" class=\"dataframe\">\n",
       "  <thead>\n",
       "    <tr style=\"text-align: right;\">\n",
       "      <th></th>\n",
       "      <th>FOD_ID</th>\n",
       "      <th>FIRE_CODE</th>\n",
       "      <th>DISCOVERY_DATE</th>\n",
       "      <th>DISCOVERY_DOY</th>\n",
       "      <th>STAT_CAUSE_DESCR</th>\n",
       "      <th>CONT_DATE</th>\n",
       "      <th>CONT_DOY</th>\n",
       "      <th>FIRE_SIZE</th>\n",
       "      <th>STATE</th>\n",
       "      <th>FIPS_CODE</th>\n",
       "    </tr>\n",
       "  </thead>\n",
       "  <tbody>\n",
       "    <tr>\n",
       "      <th>0</th>\n",
       "      <td>1</td>\n",
       "      <td>BJ8K</td>\n",
       "      <td>2453403.5</td>\n",
       "      <td>33</td>\n",
       "      <td>Miscellaneous</td>\n",
       "      <td>2453403.5</td>\n",
       "      <td>33.0</td>\n",
       "      <td>0.10</td>\n",
       "      <td>CA</td>\n",
       "      <td>063</td>\n",
       "    </tr>\n",
       "    <tr>\n",
       "      <th>1</th>\n",
       "      <td>2</td>\n",
       "      <td>AAC0</td>\n",
       "      <td>2453137.5</td>\n",
       "      <td>133</td>\n",
       "      <td>Lightning</td>\n",
       "      <td>2453137.5</td>\n",
       "      <td>133.0</td>\n",
       "      <td>0.25</td>\n",
       "      <td>CA</td>\n",
       "      <td>061</td>\n",
       "    </tr>\n",
       "    <tr>\n",
       "      <th>2</th>\n",
       "      <td>3</td>\n",
       "      <td>A32W</td>\n",
       "      <td>2453156.5</td>\n",
       "      <td>152</td>\n",
       "      <td>Debris Burning</td>\n",
       "      <td>2453156.5</td>\n",
       "      <td>152.0</td>\n",
       "      <td>0.10</td>\n",
       "      <td>CA</td>\n",
       "      <td>017</td>\n",
       "    </tr>\n",
       "    <tr>\n",
       "      <th>3</th>\n",
       "      <td>4</td>\n",
       "      <td>None</td>\n",
       "      <td>2453184.5</td>\n",
       "      <td>180</td>\n",
       "      <td>Lightning</td>\n",
       "      <td>2453189.5</td>\n",
       "      <td>185.0</td>\n",
       "      <td>0.10</td>\n",
       "      <td>CA</td>\n",
       "      <td>003</td>\n",
       "    </tr>\n",
       "    <tr>\n",
       "      <th>4</th>\n",
       "      <td>5</td>\n",
       "      <td>None</td>\n",
       "      <td>2453184.5</td>\n",
       "      <td>180</td>\n",
       "      <td>Lightning</td>\n",
       "      <td>2453189.5</td>\n",
       "      <td>185.0</td>\n",
       "      <td>0.10</td>\n",
       "      <td>CA</td>\n",
       "      <td>003</td>\n",
       "    </tr>\n",
       "    <tr>\n",
       "      <th>5</th>\n",
       "      <td>6</td>\n",
       "      <td>None</td>\n",
       "      <td>2453186.5</td>\n",
       "      <td>182</td>\n",
       "      <td>Lightning</td>\n",
       "      <td>2453187.5</td>\n",
       "      <td>183.0</td>\n",
       "      <td>0.10</td>\n",
       "      <td>CA</td>\n",
       "      <td>005</td>\n",
       "    </tr>\n",
       "    <tr>\n",
       "      <th>6</th>\n",
       "      <td>7</td>\n",
       "      <td>None</td>\n",
       "      <td>2453187.5</td>\n",
       "      <td>183</td>\n",
       "      <td>Lightning</td>\n",
       "      <td>2453188.5</td>\n",
       "      <td>184.0</td>\n",
       "      <td>0.10</td>\n",
       "      <td>CA</td>\n",
       "      <td>017</td>\n",
       "    </tr>\n",
       "    <tr>\n",
       "      <th>7</th>\n",
       "      <td>8</td>\n",
       "      <td>BK5X</td>\n",
       "      <td>2453437.5</td>\n",
       "      <td>67</td>\n",
       "      <td>Debris Burning</td>\n",
       "      <td>2453437.5</td>\n",
       "      <td>67.0</td>\n",
       "      <td>0.80</td>\n",
       "      <td>CA</td>\n",
       "      <td>None</td>\n",
       "    </tr>\n",
       "    <tr>\n",
       "      <th>8</th>\n",
       "      <td>9</td>\n",
       "      <td>BLPQ</td>\n",
       "      <td>2453444.5</td>\n",
       "      <td>74</td>\n",
       "      <td>Debris Burning</td>\n",
       "      <td>2453444.5</td>\n",
       "      <td>74.0</td>\n",
       "      <td>1.00</td>\n",
       "      <td>CA</td>\n",
       "      <td>None</td>\n",
       "    </tr>\n",
       "    <tr>\n",
       "      <th>9</th>\n",
       "      <td>10</td>\n",
       "      <td>None</td>\n",
       "      <td>2453187.5</td>\n",
       "      <td>183</td>\n",
       "      <td>Lightning</td>\n",
       "      <td>2453188.5</td>\n",
       "      <td>184.0</td>\n",
       "      <td>0.10</td>\n",
       "      <td>CA</td>\n",
       "      <td>005</td>\n",
       "    </tr>\n",
       "    <tr>\n",
       "      <th>10</th>\n",
       "      <td>11</td>\n",
       "      <td>None</td>\n",
       "      <td>2453188.5</td>\n",
       "      <td>184</td>\n",
       "      <td>Lightning</td>\n",
       "      <td>2453189.5</td>\n",
       "      <td>185.0</td>\n",
       "      <td>0.10</td>\n",
       "      <td>CA</td>\n",
       "      <td>017</td>\n",
       "    </tr>\n",
       "    <tr>\n",
       "      <th>11</th>\n",
       "      <td>12</td>\n",
       "      <td>None</td>\n",
       "      <td>2453188.5</td>\n",
       "      <td>184</td>\n",
       "      <td>Lightning</td>\n",
       "      <td>2453189.5</td>\n",
       "      <td>185.0</td>\n",
       "      <td>0.10</td>\n",
       "      <td>CA</td>\n",
       "      <td>005</td>\n",
       "    </tr>\n",
       "    <tr>\n",
       "      <th>12</th>\n",
       "      <td>13</td>\n",
       "      <td>None</td>\n",
       "      <td>2453251.5</td>\n",
       "      <td>247</td>\n",
       "      <td>Miscellaneous</td>\n",
       "      <td>2453251.5</td>\n",
       "      <td>247.0</td>\n",
       "      <td>0.10</td>\n",
       "      <td>CA</td>\n",
       "      <td>017</td>\n",
       "    </tr>\n",
       "    <tr>\n",
       "      <th>13</th>\n",
       "      <td>14</td>\n",
       "      <td>None</td>\n",
       "      <td>2453276.5</td>\n",
       "      <td>272</td>\n",
       "      <td>Campfire</td>\n",
       "      <td>2453276.5</td>\n",
       "      <td>272.0</td>\n",
       "      <td>6.00</td>\n",
       "      <td>CA</td>\n",
       "      <td>005</td>\n",
       "    </tr>\n",
       "    <tr>\n",
       "      <th>14</th>\n",
       "      <td>15</td>\n",
       "      <td>None</td>\n",
       "      <td>2453281.5</td>\n",
       "      <td>277</td>\n",
       "      <td>Lightning</td>\n",
       "      <td>2453281.5</td>\n",
       "      <td>277.0</td>\n",
       "      <td>0.20</td>\n",
       "      <td>CA</td>\n",
       "      <td>017</td>\n",
       "    </tr>\n",
       "    <tr>\n",
       "      <th>15</th>\n",
       "      <td>16</td>\n",
       "      <td>None</td>\n",
       "      <td>2453281.5</td>\n",
       "      <td>277</td>\n",
       "      <td>Lightning</td>\n",
       "      <td>2453281.5</td>\n",
       "      <td>277.0</td>\n",
       "      <td>0.10</td>\n",
       "      <td>CA</td>\n",
       "      <td>017</td>\n",
       "    </tr>\n",
       "    <tr>\n",
       "      <th>16</th>\n",
       "      <td>17</td>\n",
       "      <td></td>\n",
       "      <td>2453284.5</td>\n",
       "      <td>280</td>\n",
       "      <td>Equipment Use</td>\n",
       "      <td>2453299.5</td>\n",
       "      <td>295.0</td>\n",
       "      <td>16823.00</td>\n",
       "      <td>CA</td>\n",
       "      <td>005</td>\n",
       "    </tr>\n",
       "    <tr>\n",
       "      <th>17</th>\n",
       "      <td>18</td>\n",
       "      <td>BHA3</td>\n",
       "      <td>2453291.5</td>\n",
       "      <td>287</td>\n",
       "      <td>Equipment Use</td>\n",
       "      <td>2453295.5</td>\n",
       "      <td>291.0</td>\n",
       "      <td>7700.00</td>\n",
       "      <td>CA</td>\n",
       "      <td>017</td>\n",
       "    </tr>\n",
       "    <tr>\n",
       "      <th>18</th>\n",
       "      <td>19</td>\n",
       "      <td>None</td>\n",
       "      <td>2453329.5</td>\n",
       "      <td>325</td>\n",
       "      <td>Debris Burning</td>\n",
       "      <td>2453330.5</td>\n",
       "      <td>326.0</td>\n",
       "      <td>0.10</td>\n",
       "      <td>CA</td>\n",
       "      <td>017</td>\n",
       "    </tr>\n",
       "    <tr>\n",
       "      <th>19</th>\n",
       "      <td>20</td>\n",
       "      <td>AVPA</td>\n",
       "      <td>2453160.5</td>\n",
       "      <td>156</td>\n",
       "      <td>Lightning</td>\n",
       "      <td>2453160.5</td>\n",
       "      <td>156.0</td>\n",
       "      <td>0.10</td>\n",
       "      <td>NM</td>\n",
       "      <td>027</td>\n",
       "    </tr>\n",
       "  </tbody>\n",
       "</table>\n",
       "</div>"
      ],
      "text/plain": [
       "    FOD_ID FIRE_CODE  DISCOVERY_DATE  DISCOVERY_DOY STAT_CAUSE_DESCR  \\\n",
       "0        1      BJ8K       2453403.5             33    Miscellaneous   \n",
       "1        2      AAC0       2453137.5            133        Lightning   \n",
       "2        3      A32W       2453156.5            152   Debris Burning   \n",
       "3        4      None       2453184.5            180        Lightning   \n",
       "4        5      None       2453184.5            180        Lightning   \n",
       "5        6      None       2453186.5            182        Lightning   \n",
       "6        7      None       2453187.5            183        Lightning   \n",
       "7        8      BK5X       2453437.5             67   Debris Burning   \n",
       "8        9      BLPQ       2453444.5             74   Debris Burning   \n",
       "9       10      None       2453187.5            183        Lightning   \n",
       "10      11      None       2453188.5            184        Lightning   \n",
       "11      12      None       2453188.5            184        Lightning   \n",
       "12      13      None       2453251.5            247    Miscellaneous   \n",
       "13      14      None       2453276.5            272         Campfire   \n",
       "14      15      None       2453281.5            277        Lightning   \n",
       "15      16      None       2453281.5            277        Lightning   \n",
       "16      17                 2453284.5            280    Equipment Use   \n",
       "17      18      BHA3       2453291.5            287    Equipment Use   \n",
       "18      19      None       2453329.5            325   Debris Burning   \n",
       "19      20      AVPA       2453160.5            156        Lightning   \n",
       "\n",
       "    CONT_DATE  CONT_DOY  FIRE_SIZE STATE FIPS_CODE  \n",
       "0   2453403.5      33.0       0.10    CA       063  \n",
       "1   2453137.5     133.0       0.25    CA       061  \n",
       "2   2453156.5     152.0       0.10    CA       017  \n",
       "3   2453189.5     185.0       0.10    CA       003  \n",
       "4   2453189.5     185.0       0.10    CA       003  \n",
       "5   2453187.5     183.0       0.10    CA       005  \n",
       "6   2453188.5     184.0       0.10    CA       017  \n",
       "7   2453437.5      67.0       0.80    CA      None  \n",
       "8   2453444.5      74.0       1.00    CA      None  \n",
       "9   2453188.5     184.0       0.10    CA       005  \n",
       "10  2453189.5     185.0       0.10    CA       017  \n",
       "11  2453189.5     185.0       0.10    CA       005  \n",
       "12  2453251.5     247.0       0.10    CA       017  \n",
       "13  2453276.5     272.0       6.00    CA       005  \n",
       "14  2453281.5     277.0       0.20    CA       017  \n",
       "15  2453281.5     277.0       0.10    CA       017  \n",
       "16  2453299.5     295.0   16823.00    CA       005  \n",
       "17  2453295.5     291.0    7700.00    CA       017  \n",
       "18  2453330.5     326.0       0.10    CA       017  \n",
       "19  2453160.5     156.0       0.10    NM       027  "
      ]
     },
     "execution_count": 18,
     "metadata": {},
     "output_type": "execute_result"
    }
   ],
   "source": [
    "df_all.head(20)"
   ]
  },
  {
   "cell_type": "markdown",
   "metadata": {},
   "source": [
    "Time for feature engineering."
   ]
  },
  {
   "cell_type": "markdown",
   "metadata": {},
   "source": [
    "The 2 columns with the dates for discovery and containment are in the Julian format so I will have to convert them into gregorian timestamps and then engineer a duration. I do think day of year discovered will have some predictive power and will keep that column. I will also engineer month and a day-of-week discovered features."
   ]
  },
  {
   "cell_type": "code",
   "execution_count": 19,
   "metadata": {},
   "outputs": [],
   "source": [
    "df_all['START_DATE'] = pd.to_datetime(df_all['DISCOVERY_DATE'], unit='D', infer_datetime_format=True, origin='julian')"
   ]
  },
  {
   "cell_type": "code",
   "execution_count": 20,
   "metadata": {},
   "outputs": [],
   "source": [
    "df_all['END_DATE'] = pd.to_datetime(df_all['CONT_DATE'], unit='D', infer_datetime_format=True, origin='julian')"
   ]
  },
  {
   "cell_type": "code",
   "execution_count": 21,
   "metadata": {},
   "outputs": [
    {
     "data": {
      "text/html": [
       "<div>\n",
       "<style scoped>\n",
       "    .dataframe tbody tr th:only-of-type {\n",
       "        vertical-align: middle;\n",
       "    }\n",
       "\n",
       "    .dataframe tbody tr th {\n",
       "        vertical-align: top;\n",
       "    }\n",
       "\n",
       "    .dataframe thead th {\n",
       "        text-align: right;\n",
       "    }\n",
       "</style>\n",
       "<table border=\"1\" class=\"dataframe\">\n",
       "  <thead>\n",
       "    <tr style=\"text-align: right;\">\n",
       "      <th></th>\n",
       "      <th>FOD_ID</th>\n",
       "      <th>FIRE_CODE</th>\n",
       "      <th>DISCOVERY_DATE</th>\n",
       "      <th>DISCOVERY_DOY</th>\n",
       "      <th>STAT_CAUSE_DESCR</th>\n",
       "      <th>CONT_DATE</th>\n",
       "      <th>CONT_DOY</th>\n",
       "      <th>FIRE_SIZE</th>\n",
       "      <th>STATE</th>\n",
       "      <th>FIPS_CODE</th>\n",
       "      <th>START_DATE</th>\n",
       "      <th>END_DATE</th>\n",
       "    </tr>\n",
       "  </thead>\n",
       "  <tbody>\n",
       "    <tr>\n",
       "      <th>0</th>\n",
       "      <td>1</td>\n",
       "      <td>BJ8K</td>\n",
       "      <td>2453403.5</td>\n",
       "      <td>33</td>\n",
       "      <td>Miscellaneous</td>\n",
       "      <td>2453403.5</td>\n",
       "      <td>33.0</td>\n",
       "      <td>0.10</td>\n",
       "      <td>CA</td>\n",
       "      <td>063</td>\n",
       "      <td>2005-02-02</td>\n",
       "      <td>2005-02-02</td>\n",
       "    </tr>\n",
       "    <tr>\n",
       "      <th>1</th>\n",
       "      <td>2</td>\n",
       "      <td>AAC0</td>\n",
       "      <td>2453137.5</td>\n",
       "      <td>133</td>\n",
       "      <td>Lightning</td>\n",
       "      <td>2453137.5</td>\n",
       "      <td>133.0</td>\n",
       "      <td>0.25</td>\n",
       "      <td>CA</td>\n",
       "      <td>061</td>\n",
       "      <td>2004-05-12</td>\n",
       "      <td>2004-05-12</td>\n",
       "    </tr>\n",
       "  </tbody>\n",
       "</table>\n",
       "</div>"
      ],
      "text/plain": [
       "   FOD_ID FIRE_CODE  DISCOVERY_DATE  DISCOVERY_DOY STAT_CAUSE_DESCR  \\\n",
       "0       1      BJ8K       2453403.5             33    Miscellaneous   \n",
       "1       2      AAC0       2453137.5            133        Lightning   \n",
       "\n",
       "   CONT_DATE  CONT_DOY  FIRE_SIZE STATE FIPS_CODE START_DATE   END_DATE  \n",
       "0  2453403.5      33.0       0.10    CA       063 2005-02-02 2005-02-02  \n",
       "1  2453137.5     133.0       0.25    CA       061 2004-05-12 2004-05-12  "
      ]
     },
     "execution_count": 21,
     "metadata": {},
     "output_type": "execute_result"
    }
   ],
   "source": [
    "df_all.head(2)"
   ]
  },
  {
   "cell_type": "code",
   "execution_count": 22,
   "metadata": {},
   "outputs": [],
   "source": [
    "df_all = df_all.drop(['DISCOVERY_DATE', 'CONT_DATE'], axis=1)"
   ]
  },
  {
   "cell_type": "code",
   "execution_count": 23,
   "metadata": {},
   "outputs": [
    {
     "data": {
      "text/html": [
       "<div>\n",
       "<style scoped>\n",
       "    .dataframe tbody tr th:only-of-type {\n",
       "        vertical-align: middle;\n",
       "    }\n",
       "\n",
       "    .dataframe tbody tr th {\n",
       "        vertical-align: top;\n",
       "    }\n",
       "\n",
       "    .dataframe thead th {\n",
       "        text-align: right;\n",
       "    }\n",
       "</style>\n",
       "<table border=\"1\" class=\"dataframe\">\n",
       "  <thead>\n",
       "    <tr style=\"text-align: right;\">\n",
       "      <th></th>\n",
       "      <th>FOD_ID</th>\n",
       "      <th>FIRE_CODE</th>\n",
       "      <th>DISCOVERY_DOY</th>\n",
       "      <th>STAT_CAUSE_DESCR</th>\n",
       "      <th>CONT_DOY</th>\n",
       "      <th>FIRE_SIZE</th>\n",
       "      <th>STATE</th>\n",
       "      <th>FIPS_CODE</th>\n",
       "      <th>START_DATE</th>\n",
       "      <th>END_DATE</th>\n",
       "    </tr>\n",
       "  </thead>\n",
       "  <tbody>\n",
       "    <tr>\n",
       "      <th>0</th>\n",
       "      <td>1</td>\n",
       "      <td>BJ8K</td>\n",
       "      <td>33</td>\n",
       "      <td>Miscellaneous</td>\n",
       "      <td>33.0</td>\n",
       "      <td>0.10</td>\n",
       "      <td>CA</td>\n",
       "      <td>063</td>\n",
       "      <td>2005-02-02</td>\n",
       "      <td>2005-02-02</td>\n",
       "    </tr>\n",
       "    <tr>\n",
       "      <th>1</th>\n",
       "      <td>2</td>\n",
       "      <td>AAC0</td>\n",
       "      <td>133</td>\n",
       "      <td>Lightning</td>\n",
       "      <td>133.0</td>\n",
       "      <td>0.25</td>\n",
       "      <td>CA</td>\n",
       "      <td>061</td>\n",
       "      <td>2004-05-12</td>\n",
       "      <td>2004-05-12</td>\n",
       "    </tr>\n",
       "    <tr>\n",
       "      <th>2</th>\n",
       "      <td>3</td>\n",
       "      <td>A32W</td>\n",
       "      <td>152</td>\n",
       "      <td>Debris Burning</td>\n",
       "      <td>152.0</td>\n",
       "      <td>0.10</td>\n",
       "      <td>CA</td>\n",
       "      <td>017</td>\n",
       "      <td>2004-05-31</td>\n",
       "      <td>2004-05-31</td>\n",
       "    </tr>\n",
       "  </tbody>\n",
       "</table>\n",
       "</div>"
      ],
      "text/plain": [
       "   FOD_ID FIRE_CODE  DISCOVERY_DOY STAT_CAUSE_DESCR  CONT_DOY  FIRE_SIZE  \\\n",
       "0       1      BJ8K             33    Miscellaneous      33.0       0.10   \n",
       "1       2      AAC0            133        Lightning     133.0       0.25   \n",
       "2       3      A32W            152   Debris Burning     152.0       0.10   \n",
       "\n",
       "  STATE FIPS_CODE START_DATE   END_DATE  \n",
       "0    CA       063 2005-02-02 2005-02-02  \n",
       "1    CA       061 2004-05-12 2004-05-12  \n",
       "2    CA       017 2004-05-31 2004-05-31  "
      ]
     },
     "execution_count": 23,
     "metadata": {},
     "output_type": "execute_result"
    }
   ],
   "source": [
    "df_all.head(3)"
   ]
  },
  {
   "cell_type": "code",
   "execution_count": 24,
   "metadata": {},
   "outputs": [],
   "source": [
    "df_all['BURN_TIME'] = (df_all['END_DATE'] - df_all['START_DATE']).astype('timedelta64[D]')"
   ]
  },
  {
   "cell_type": "code",
   "execution_count": 25,
   "metadata": {},
   "outputs": [],
   "source": [
    "df_all['MONTH'] = pd.DatetimeIndex(df_all['START_DATE']).month"
   ]
  },
  {
   "cell_type": "code",
   "execution_count": 26,
   "metadata": {},
   "outputs": [],
   "source": [
    "df_all['DOW'] = pd.DatetimeIndex(df_all['START_DATE']).weekday_name"
   ]
  },
  {
   "cell_type": "code",
   "execution_count": 27,
   "metadata": {},
   "outputs": [
    {
     "data": {
      "text/html": [
       "<div>\n",
       "<style scoped>\n",
       "    .dataframe tbody tr th:only-of-type {\n",
       "        vertical-align: middle;\n",
       "    }\n",
       "\n",
       "    .dataframe tbody tr th {\n",
       "        vertical-align: top;\n",
       "    }\n",
       "\n",
       "    .dataframe thead th {\n",
       "        text-align: right;\n",
       "    }\n",
       "</style>\n",
       "<table border=\"1\" class=\"dataframe\">\n",
       "  <thead>\n",
       "    <tr style=\"text-align: right;\">\n",
       "      <th></th>\n",
       "      <th>FOD_ID</th>\n",
       "      <th>FIRE_CODE</th>\n",
       "      <th>DISCOVERY_DOY</th>\n",
       "      <th>STAT_CAUSE_DESCR</th>\n",
       "      <th>CONT_DOY</th>\n",
       "      <th>FIRE_SIZE</th>\n",
       "      <th>STATE</th>\n",
       "      <th>FIPS_CODE</th>\n",
       "      <th>START_DATE</th>\n",
       "      <th>END_DATE</th>\n",
       "      <th>BURN_TIME</th>\n",
       "      <th>MONTH</th>\n",
       "      <th>DOW</th>\n",
       "    </tr>\n",
       "  </thead>\n",
       "  <tbody>\n",
       "    <tr>\n",
       "      <th>0</th>\n",
       "      <td>1</td>\n",
       "      <td>BJ8K</td>\n",
       "      <td>33</td>\n",
       "      <td>Miscellaneous</td>\n",
       "      <td>33.0</td>\n",
       "      <td>0.10</td>\n",
       "      <td>CA</td>\n",
       "      <td>063</td>\n",
       "      <td>2005-02-02</td>\n",
       "      <td>2005-02-02</td>\n",
       "      <td>0.0</td>\n",
       "      <td>2</td>\n",
       "      <td>Wednesday</td>\n",
       "    </tr>\n",
       "    <tr>\n",
       "      <th>1</th>\n",
       "      <td>2</td>\n",
       "      <td>AAC0</td>\n",
       "      <td>133</td>\n",
       "      <td>Lightning</td>\n",
       "      <td>133.0</td>\n",
       "      <td>0.25</td>\n",
       "      <td>CA</td>\n",
       "      <td>061</td>\n",
       "      <td>2004-05-12</td>\n",
       "      <td>2004-05-12</td>\n",
       "      <td>0.0</td>\n",
       "      <td>5</td>\n",
       "      <td>Wednesday</td>\n",
       "    </tr>\n",
       "    <tr>\n",
       "      <th>2</th>\n",
       "      <td>3</td>\n",
       "      <td>A32W</td>\n",
       "      <td>152</td>\n",
       "      <td>Debris Burning</td>\n",
       "      <td>152.0</td>\n",
       "      <td>0.10</td>\n",
       "      <td>CA</td>\n",
       "      <td>017</td>\n",
       "      <td>2004-05-31</td>\n",
       "      <td>2004-05-31</td>\n",
       "      <td>0.0</td>\n",
       "      <td>5</td>\n",
       "      <td>Monday</td>\n",
       "    </tr>\n",
       "  </tbody>\n",
       "</table>\n",
       "</div>"
      ],
      "text/plain": [
       "   FOD_ID FIRE_CODE  DISCOVERY_DOY STAT_CAUSE_DESCR  CONT_DOY  FIRE_SIZE  \\\n",
       "0       1      BJ8K             33    Miscellaneous      33.0       0.10   \n",
       "1       2      AAC0            133        Lightning     133.0       0.25   \n",
       "2       3      A32W            152   Debris Burning     152.0       0.10   \n",
       "\n",
       "  STATE FIPS_CODE START_DATE   END_DATE  BURN_TIME  MONTH        DOW  \n",
       "0    CA       063 2005-02-02 2005-02-02        0.0      2  Wednesday  \n",
       "1    CA       061 2004-05-12 2004-05-12        0.0      5  Wednesday  \n",
       "2    CA       017 2004-05-31 2004-05-31        0.0      5     Monday  "
      ]
     },
     "execution_count": 27,
     "metadata": {},
     "output_type": "execute_result"
    }
   ],
   "source": [
    "df_all.head(3)"
   ]
  },
  {
   "cell_type": "code",
   "execution_count": 28,
   "metadata": {},
   "outputs": [],
   "source": [
    "df_all = df_all.drop(['CONT_DOY'], axis=1)"
   ]
  },
  {
   "cell_type": "code",
   "execution_count": 29,
   "metadata": {},
   "outputs": [],
   "source": [
    "df_all = df_all.drop(['END_DATE'], axis=1)"
   ]
  },
  {
   "cell_type": "code",
   "execution_count": 30,
   "metadata": {},
   "outputs": [
    {
     "data": {
      "text/html": [
       "<div>\n",
       "<style scoped>\n",
       "    .dataframe tbody tr th:only-of-type {\n",
       "        vertical-align: middle;\n",
       "    }\n",
       "\n",
       "    .dataframe tbody tr th {\n",
       "        vertical-align: top;\n",
       "    }\n",
       "\n",
       "    .dataframe thead th {\n",
       "        text-align: right;\n",
       "    }\n",
       "</style>\n",
       "<table border=\"1\" class=\"dataframe\">\n",
       "  <thead>\n",
       "    <tr style=\"text-align: right;\">\n",
       "      <th></th>\n",
       "      <th>FOD_ID</th>\n",
       "      <th>FIRE_CODE</th>\n",
       "      <th>DISCOVERY_DOY</th>\n",
       "      <th>STAT_CAUSE_DESCR</th>\n",
       "      <th>FIRE_SIZE</th>\n",
       "      <th>STATE</th>\n",
       "      <th>FIPS_CODE</th>\n",
       "      <th>START_DATE</th>\n",
       "      <th>BURN_TIME</th>\n",
       "      <th>MONTH</th>\n",
       "      <th>DOW</th>\n",
       "    </tr>\n",
       "  </thead>\n",
       "  <tbody>\n",
       "    <tr>\n",
       "      <th>0</th>\n",
       "      <td>1</td>\n",
       "      <td>BJ8K</td>\n",
       "      <td>33</td>\n",
       "      <td>Miscellaneous</td>\n",
       "      <td>0.10</td>\n",
       "      <td>CA</td>\n",
       "      <td>063</td>\n",
       "      <td>2005-02-02</td>\n",
       "      <td>0.0</td>\n",
       "      <td>2</td>\n",
       "      <td>Wednesday</td>\n",
       "    </tr>\n",
       "    <tr>\n",
       "      <th>1</th>\n",
       "      <td>2</td>\n",
       "      <td>AAC0</td>\n",
       "      <td>133</td>\n",
       "      <td>Lightning</td>\n",
       "      <td>0.25</td>\n",
       "      <td>CA</td>\n",
       "      <td>061</td>\n",
       "      <td>2004-05-12</td>\n",
       "      <td>0.0</td>\n",
       "      <td>5</td>\n",
       "      <td>Wednesday</td>\n",
       "    </tr>\n",
       "    <tr>\n",
       "      <th>2</th>\n",
       "      <td>3</td>\n",
       "      <td>A32W</td>\n",
       "      <td>152</td>\n",
       "      <td>Debris Burning</td>\n",
       "      <td>0.10</td>\n",
       "      <td>CA</td>\n",
       "      <td>017</td>\n",
       "      <td>2004-05-31</td>\n",
       "      <td>0.0</td>\n",
       "      <td>5</td>\n",
       "      <td>Monday</td>\n",
       "    </tr>\n",
       "  </tbody>\n",
       "</table>\n",
       "</div>"
      ],
      "text/plain": [
       "   FOD_ID FIRE_CODE  DISCOVERY_DOY STAT_CAUSE_DESCR  FIRE_SIZE STATE  \\\n",
       "0       1      BJ8K             33    Miscellaneous       0.10    CA   \n",
       "1       2      AAC0            133        Lightning       0.25    CA   \n",
       "2       3      A32W            152   Debris Burning       0.10    CA   \n",
       "\n",
       "  FIPS_CODE START_DATE  BURN_TIME  MONTH        DOW  \n",
       "0       063 2005-02-02        0.0      2  Wednesday  \n",
       "1       061 2004-05-12        0.0      5  Wednesday  \n",
       "2       017 2004-05-31        0.0      5     Monday  "
      ]
     },
     "execution_count": 30,
     "metadata": {},
     "output_type": "execute_result"
    }
   ],
   "source": [
    "df_all.head(3)"
   ]
  },
  {
   "cell_type": "code",
   "execution_count": 31,
   "metadata": {},
   "outputs": [],
   "source": [
    "df_all = df_all.drop(['FOD_ID'], axis=1)"
   ]
  },
  {
   "cell_type": "code",
   "execution_count": 32,
   "metadata": {},
   "outputs": [
    {
     "data": {
      "text/html": [
       "<div>\n",
       "<style scoped>\n",
       "    .dataframe tbody tr th:only-of-type {\n",
       "        vertical-align: middle;\n",
       "    }\n",
       "\n",
       "    .dataframe tbody tr th {\n",
       "        vertical-align: top;\n",
       "    }\n",
       "\n",
       "    .dataframe thead th {\n",
       "        text-align: right;\n",
       "    }\n",
       "</style>\n",
       "<table border=\"1\" class=\"dataframe\">\n",
       "  <thead>\n",
       "    <tr style=\"text-align: right;\">\n",
       "      <th></th>\n",
       "      <th>FIRE_CODE</th>\n",
       "      <th>DISCOVERY_DOY</th>\n",
       "      <th>STAT_CAUSE_DESCR</th>\n",
       "      <th>FIRE_SIZE</th>\n",
       "      <th>STATE</th>\n",
       "      <th>FIPS_CODE</th>\n",
       "      <th>START_DATE</th>\n",
       "      <th>BURN_TIME</th>\n",
       "      <th>MONTH</th>\n",
       "      <th>DOW</th>\n",
       "    </tr>\n",
       "  </thead>\n",
       "  <tbody>\n",
       "    <tr>\n",
       "      <th>0</th>\n",
       "      <td>BJ8K</td>\n",
       "      <td>33</td>\n",
       "      <td>Miscellaneous</td>\n",
       "      <td>0.10</td>\n",
       "      <td>CA</td>\n",
       "      <td>063</td>\n",
       "      <td>2005-02-02</td>\n",
       "      <td>0.0</td>\n",
       "      <td>2</td>\n",
       "      <td>Wednesday</td>\n",
       "    </tr>\n",
       "    <tr>\n",
       "      <th>1</th>\n",
       "      <td>AAC0</td>\n",
       "      <td>133</td>\n",
       "      <td>Lightning</td>\n",
       "      <td>0.25</td>\n",
       "      <td>CA</td>\n",
       "      <td>061</td>\n",
       "      <td>2004-05-12</td>\n",
       "      <td>0.0</td>\n",
       "      <td>5</td>\n",
       "      <td>Wednesday</td>\n",
       "    </tr>\n",
       "    <tr>\n",
       "      <th>2</th>\n",
       "      <td>A32W</td>\n",
       "      <td>152</td>\n",
       "      <td>Debris Burning</td>\n",
       "      <td>0.10</td>\n",
       "      <td>CA</td>\n",
       "      <td>017</td>\n",
       "      <td>2004-05-31</td>\n",
       "      <td>0.0</td>\n",
       "      <td>5</td>\n",
       "      <td>Monday</td>\n",
       "    </tr>\n",
       "    <tr>\n",
       "      <th>3</th>\n",
       "      <td>None</td>\n",
       "      <td>180</td>\n",
       "      <td>Lightning</td>\n",
       "      <td>0.10</td>\n",
       "      <td>CA</td>\n",
       "      <td>003</td>\n",
       "      <td>2004-06-28</td>\n",
       "      <td>5.0</td>\n",
       "      <td>6</td>\n",
       "      <td>Monday</td>\n",
       "    </tr>\n",
       "    <tr>\n",
       "      <th>4</th>\n",
       "      <td>None</td>\n",
       "      <td>180</td>\n",
       "      <td>Lightning</td>\n",
       "      <td>0.10</td>\n",
       "      <td>CA</td>\n",
       "      <td>003</td>\n",
       "      <td>2004-06-28</td>\n",
       "      <td>5.0</td>\n",
       "      <td>6</td>\n",
       "      <td>Monday</td>\n",
       "    </tr>\n",
       "  </tbody>\n",
       "</table>\n",
       "</div>"
      ],
      "text/plain": [
       "  FIRE_CODE  DISCOVERY_DOY STAT_CAUSE_DESCR  FIRE_SIZE STATE FIPS_CODE  \\\n",
       "0      BJ8K             33    Miscellaneous       0.10    CA       063   \n",
       "1      AAC0            133        Lightning       0.25    CA       061   \n",
       "2      A32W            152   Debris Burning       0.10    CA       017   \n",
       "3      None            180        Lightning       0.10    CA       003   \n",
       "4      None            180        Lightning       0.10    CA       003   \n",
       "\n",
       "  START_DATE  BURN_TIME  MONTH        DOW  \n",
       "0 2005-02-02        0.0      2  Wednesday  \n",
       "1 2004-05-12        0.0      5  Wednesday  \n",
       "2 2004-05-31        0.0      5     Monday  \n",
       "3 2004-06-28        5.0      6     Monday  \n",
       "4 2004-06-28        5.0      6     Monday  "
      ]
     },
     "execution_count": 32,
     "metadata": {},
     "output_type": "execute_result"
    }
   ],
   "source": [
    "df_all.head()"
   ]
  },
  {
   "cell_type": "code",
   "execution_count": 33,
   "metadata": {},
   "outputs": [
    {
     "data": {
      "text/plain": [
       "796359"
      ]
     },
     "execution_count": 33,
     "metadata": {},
     "output_type": "execute_result"
    }
   ],
   "source": [
    "df_all['BURN_TIME'].isnull().sum()"
   ]
  },
  {
   "cell_type": "code",
   "execution_count": 34,
   "metadata": {},
   "outputs": [
    {
     "data": {
      "text/plain": [
       "<matplotlib.axes._subplots.AxesSubplot at 0x127a53a90>"
      ]
     },
     "execution_count": 34,
     "metadata": {},
     "output_type": "execute_result"
    },
    {
     "data": {
      "image/png": "[encoded data removed]",
      "text/plain": [
       "<Figure size 2880x360 with 1 Axes>"
      ]
     },
     "metadata": {},
     "output_type": "display_data"
    }
   ],
   "source": [
    "fig, ax = plt.subplots(figsize=(40,5))\n",
    "sns.countplot(x=df_all['BURN_TIME'].value_counts(), data=df_all)"
   ]
  },
  {
   "cell_type": "markdown",
   "metadata": {},
   "source": [
    "I'm going to make a new column to use as my target, \"Arson\". If the cause was arson the value will be 1, else 0."
   ]
  },
  {
   "cell_type": "code",
   "execution_count": 35,
   "metadata": {},
   "outputs": [],
   "source": [
    "# the below works but it isn't vectorized and it takes a hot minute. Going to try to do something faster for practice.\n",
    "\n",
    "# def make_arson(dataframe):\n",
    "#     if dataframe['STAT_CAUSE_DESCR'] == 'Arson':\n",
    "#         val = 1\n",
    "#     else:\n",
    "#         val = 0\n",
    "#     return val\n",
    "#\n",
    "#\n",
    "# df_all['ARSON'] = df_all.apply(make_arson, axis=1)"
   ]
  },
  {
   "cell_type": "code",
   "execution_count": 36,
   "metadata": {
    "scrolled": true
   },
   "outputs": [],
   "source": [
    "#humbug. df_all['ARSON'] = [x for x in df_all['STAT_CAUSE_DESCR'] if x =='Arson' x = 1 else 0]"
   ]
  },
  {
   "cell_type": "code",
   "execution_count": 37,
   "metadata": {},
   "outputs": [
    {
     "data": {
      "text/html": [
       "<div>\n",
       "<style scoped>\n",
       "    .dataframe tbody tr th:only-of-type {\n",
       "        vertical-align: middle;\n",
       "    }\n",
       "\n",
       "    .dataframe tbody tr th {\n",
       "        vertical-align: top;\n",
       "    }\n",
       "\n",
       "    .dataframe thead th {\n",
       "        text-align: right;\n",
       "    }\n",
       "</style>\n",
       "<table border=\"1\" class=\"dataframe\">\n",
       "  <thead>\n",
       "    <tr style=\"text-align: right;\">\n",
       "      <th></th>\n",
       "      <th>FIRE_CODE</th>\n",
       "      <th>DISCOVERY_DOY</th>\n",
       "      <th>STAT_CAUSE_DESCR</th>\n",
       "      <th>FIRE_SIZE</th>\n",
       "      <th>STATE</th>\n",
       "      <th>FIPS_CODE</th>\n",
       "      <th>START_DATE</th>\n",
       "      <th>BURN_TIME</th>\n",
       "      <th>MONTH</th>\n",
       "      <th>DOW</th>\n",
       "      <th>ARSON</th>\n",
       "    </tr>\n",
       "  </thead>\n",
       "  <tbody>\n",
       "    <tr>\n",
       "      <th>0</th>\n",
       "      <td>BJ8K</td>\n",
       "      <td>33</td>\n",
       "      <td>Miscellaneous</td>\n",
       "      <td>0.10</td>\n",
       "      <td>CA</td>\n",
       "      <td>063</td>\n",
       "      <td>2005-02-02</td>\n",
       "      <td>0.0</td>\n",
       "      <td>2</td>\n",
       "      <td>Wednesday</td>\n",
       "      <td>0.0</td>\n",
       "    </tr>\n",
       "    <tr>\n",
       "      <th>1</th>\n",
       "      <td>AAC0</td>\n",
       "      <td>133</td>\n",
       "      <td>Lightning</td>\n",
       "      <td>0.25</td>\n",
       "      <td>CA</td>\n",
       "      <td>061</td>\n",
       "      <td>2004-05-12</td>\n",
       "      <td>0.0</td>\n",
       "      <td>5</td>\n",
       "      <td>Wednesday</td>\n",
       "      <td>0.0</td>\n",
       "    </tr>\n",
       "    <tr>\n",
       "      <th>2</th>\n",
       "      <td>A32W</td>\n",
       "      <td>152</td>\n",
       "      <td>Debris Burning</td>\n",
       "      <td>0.10</td>\n",
       "      <td>CA</td>\n",
       "      <td>017</td>\n",
       "      <td>2004-05-31</td>\n",
       "      <td>0.0</td>\n",
       "      <td>5</td>\n",
       "      <td>Monday</td>\n",
       "      <td>0.0</td>\n",
       "    </tr>\n",
       "  </tbody>\n",
       "</table>\n",
       "</div>"
      ],
      "text/plain": [
       "  FIRE_CODE  DISCOVERY_DOY STAT_CAUSE_DESCR  FIRE_SIZE STATE FIPS_CODE  \\\n",
       "0      BJ8K             33    Miscellaneous       0.10    CA       063   \n",
       "1      AAC0            133        Lightning       0.25    CA       061   \n",
       "2      A32W            152   Debris Burning       0.10    CA       017   \n",
       "\n",
       "  START_DATE  BURN_TIME  MONTH        DOW  ARSON  \n",
       "0 2005-02-02        0.0      2  Wednesday    0.0  \n",
       "1 2004-05-12        0.0      5  Wednesday    0.0  \n",
       "2 2004-05-31        0.0      5     Monday    0.0  "
      ]
     },
     "execution_count": 37,
     "metadata": {},
     "output_type": "execute_result"
    }
   ],
   "source": [
    "df_all.loc[df_all['STAT_CAUSE_DESCR'] != 'Arson', 'ARSON'] = 0\n",
    "df_all.loc[df_all['STAT_CAUSE_DESCR'] == 'Arson', 'ARSON'] = 1\n",
    "\n",
    "df_all.head(3)"
   ]
  },
  {
   "cell_type": "markdown",
   "metadata": {},
   "source": [
    "Wow that was a lot faster."
   ]
  },
  {
   "cell_type": "code",
   "execution_count": 38,
   "metadata": {
    "scrolled": true
   },
   "outputs": [],
   "source": [
    "df_all['ARSON'] = df_all['ARSON'].astype(int)"
   ]
  },
  {
   "cell_type": "markdown",
   "metadata": {},
   "source": [
    "Now That I've made the target column for arson I can drop the original column."
   ]
  },
  {
   "cell_type": "code",
   "execution_count": 39,
   "metadata": {},
   "outputs": [
    {
     "data": {
      "text/html": [
       "<div>\n",
       "<style scoped>\n",
       "    .dataframe tbody tr th:only-of-type {\n",
       "        vertical-align: middle;\n",
       "    }\n",
       "\n",
       "    .dataframe tbody tr th {\n",
       "        vertical-align: top;\n",
       "    }\n",
       "\n",
       "    .dataframe thead th {\n",
       "        text-align: right;\n",
       "    }\n",
       "</style>\n",
       "<table border=\"1\" class=\"dataframe\">\n",
       "  <thead>\n",
       "    <tr style=\"text-align: right;\">\n",
       "      <th></th>\n",
       "      <th>FIRE_CODE</th>\n",
       "      <th>DISCOVERY_DOY</th>\n",
       "      <th>STAT_CAUSE_DESCR</th>\n",
       "      <th>FIRE_SIZE</th>\n",
       "      <th>STATE</th>\n",
       "      <th>FIPS_CODE</th>\n",
       "      <th>START_DATE</th>\n",
       "      <th>BURN_TIME</th>\n",
       "      <th>MONTH</th>\n",
       "      <th>DOW</th>\n",
       "      <th>ARSON</th>\n",
       "    </tr>\n",
       "  </thead>\n",
       "  <tbody>\n",
       "    <tr>\n",
       "      <th>0</th>\n",
       "      <td>BJ8K</td>\n",
       "      <td>33</td>\n",
       "      <td>Miscellaneous</td>\n",
       "      <td>0.10</td>\n",
       "      <td>CA</td>\n",
       "      <td>063</td>\n",
       "      <td>2005-02-02</td>\n",
       "      <td>0.0</td>\n",
       "      <td>2</td>\n",
       "      <td>Wednesday</td>\n",
       "      <td>0</td>\n",
       "    </tr>\n",
       "    <tr>\n",
       "      <th>1</th>\n",
       "      <td>AAC0</td>\n",
       "      <td>133</td>\n",
       "      <td>Lightning</td>\n",
       "      <td>0.25</td>\n",
       "      <td>CA</td>\n",
       "      <td>061</td>\n",
       "      <td>2004-05-12</td>\n",
       "      <td>0.0</td>\n",
       "      <td>5</td>\n",
       "      <td>Wednesday</td>\n",
       "      <td>0</td>\n",
       "    </tr>\n",
       "    <tr>\n",
       "      <th>2</th>\n",
       "      <td>A32W</td>\n",
       "      <td>152</td>\n",
       "      <td>Debris Burning</td>\n",
       "      <td>0.10</td>\n",
       "      <td>CA</td>\n",
       "      <td>017</td>\n",
       "      <td>2004-05-31</td>\n",
       "      <td>0.0</td>\n",
       "      <td>5</td>\n",
       "      <td>Monday</td>\n",
       "      <td>0</td>\n",
       "    </tr>\n",
       "    <tr>\n",
       "      <th>3</th>\n",
       "      <td>None</td>\n",
       "      <td>180</td>\n",
       "      <td>Lightning</td>\n",
       "      <td>0.10</td>\n",
       "      <td>CA</td>\n",
       "      <td>003</td>\n",
       "      <td>2004-06-28</td>\n",
       "      <td>5.0</td>\n",
       "      <td>6</td>\n",
       "      <td>Monday</td>\n",
       "      <td>0</td>\n",
       "    </tr>\n",
       "    <tr>\n",
       "      <th>4</th>\n",
       "      <td>None</td>\n",
       "      <td>180</td>\n",
       "      <td>Lightning</td>\n",
       "      <td>0.10</td>\n",
       "      <td>CA</td>\n",
       "      <td>003</td>\n",
       "      <td>2004-06-28</td>\n",
       "      <td>5.0</td>\n",
       "      <td>6</td>\n",
       "      <td>Monday</td>\n",
       "      <td>0</td>\n",
       "    </tr>\n",
       "  </tbody>\n",
       "</table>\n",
       "</div>"
      ],
      "text/plain": [
       "  FIRE_CODE  DISCOVERY_DOY STAT_CAUSE_DESCR  FIRE_SIZE STATE FIPS_CODE  \\\n",
       "0      BJ8K             33    Miscellaneous       0.10    CA       063   \n",
       "1      AAC0            133        Lightning       0.25    CA       061   \n",
       "2      A32W            152   Debris Burning       0.10    CA       017   \n",
       "3      None            180        Lightning       0.10    CA       003   \n",
       "4      None            180        Lightning       0.10    CA       003   \n",
       "\n",
       "  START_DATE  BURN_TIME  MONTH        DOW  ARSON  \n",
       "0 2005-02-02        0.0      2  Wednesday      0  \n",
       "1 2004-05-12        0.0      5  Wednesday      0  \n",
       "2 2004-05-31        0.0      5     Monday      0  \n",
       "3 2004-06-28        5.0      6     Monday      0  \n",
       "4 2004-06-28        5.0      6     Monday      0  "
      ]
     },
     "execution_count": 39,
     "metadata": {},
     "output_type": "execute_result"
    }
   ],
   "source": [
    "df_all.head()"
   ]
  },
  {
   "cell_type": "code",
   "execution_count": 40,
   "metadata": {},
   "outputs": [],
   "source": [
    "df_all.drop(['STAT_CAUSE_DESCR'], axis=1, inplace=True)"
   ]
  },
  {
   "cell_type": "code",
   "execution_count": 41,
   "metadata": {},
   "outputs": [
    {
     "data": {
      "text/plain": [
       "0    1432287\n",
       "1     281455\n",
       "Name: ARSON, dtype: int64"
      ]
     },
     "execution_count": 41,
     "metadata": {},
     "output_type": "execute_result"
    }
   ],
   "source": [
    "df_all.ARSON.value_counts()"
   ]
  },
  {
   "cell_type": "code",
   "execution_count": 42,
   "metadata": {},
   "outputs": [
    {
     "data": {
      "text/plain": [
       "0.164234172938517"
      ]
     },
     "execution_count": 42,
     "metadata": {},
     "output_type": "execute_result"
    }
   ],
   "source": [
    "281455/1713742"
   ]
  },
  {
   "cell_type": "markdown",
   "metadata": {},
   "source": [
    "16.42% of these fires were started by arsonists! Crazy. Also: that's a pretty unbalanced class. Hopefully that won't cause problems. Famous last words."
   ]
  },
  {
   "cell_type": "markdown",
   "metadata": {},
   "source": [
    "Over half of all the FIRE_CODE entries are nulls. DROPPED."
   ]
  },
  {
   "cell_type": "code",
   "execution_count": 43,
   "metadata": {},
   "outputs": [],
   "source": [
    "df_all.drop(['FIRE_CODE'], axis=1, inplace=True)"
   ]
  },
  {
   "cell_type": "code",
   "execution_count": 44,
   "metadata": {},
   "outputs": [
    {
     "data": {
      "text/plain": [
       "DISCOVERY_DOY         0\n",
       "FIRE_SIZE             0\n",
       "STATE                 0\n",
       "FIPS_CODE        636349\n",
       "START_DATE            0\n",
       "BURN_TIME        796359\n",
       "MONTH                 0\n",
       "DOW                   0\n",
       "ARSON                 0\n",
       "dtype: int64"
      ]
     },
     "execution_count": 44,
     "metadata": {},
     "output_type": "execute_result"
    }
   ],
   "source": [
    "df_all.isnull().sum()"
   ]
  },
  {
   "cell_type": "markdown",
   "metadata": {},
   "source": [
    "I'm going to drop FIPS, because I think State will cover location and going all the way down to county risks overfitting on historic data. A county may have an arsonist in it for a time who may have been arrested, moved or died; using a coefficient for that county that was affected while the arsonist was acitive will decrease accuracy. This is also true in a state but given the differences in population between states and differenes in weather conditions I think it will be predictive and have a lower risk of over fitting."
   ]
  },
  {
   "cell_type": "code",
   "execution_count": 45,
   "metadata": {},
   "outputs": [],
   "source": [
    "df_all.drop(['FIPS_CODE'], axis=1, inplace=True)"
   ]
  },
  {
   "cell_type": "code",
   "execution_count": 46,
   "metadata": {},
   "outputs": [
    {
     "data": {
      "text/html": [
       "<div>\n",
       "<style scoped>\n",
       "    .dataframe tbody tr th:only-of-type {\n",
       "        vertical-align: middle;\n",
       "    }\n",
       "\n",
       "    .dataframe tbody tr th {\n",
       "        vertical-align: top;\n",
       "    }\n",
       "\n",
       "    .dataframe thead th {\n",
       "        text-align: right;\n",
       "    }\n",
       "</style>\n",
       "<table border=\"1\" class=\"dataframe\">\n",
       "  <thead>\n",
       "    <tr style=\"text-align: right;\">\n",
       "      <th></th>\n",
       "      <th>DISCOVERY_DOY</th>\n",
       "      <th>FIRE_SIZE</th>\n",
       "      <th>STATE</th>\n",
       "      <th>START_DATE</th>\n",
       "      <th>BURN_TIME</th>\n",
       "      <th>MONTH</th>\n",
       "      <th>DOW</th>\n",
       "      <th>ARSON</th>\n",
       "    </tr>\n",
       "  </thead>\n",
       "  <tbody>\n",
       "    <tr>\n",
       "      <th>0</th>\n",
       "      <td>33</td>\n",
       "      <td>0.10</td>\n",
       "      <td>CA</td>\n",
       "      <td>2005-02-02</td>\n",
       "      <td>0.0</td>\n",
       "      <td>2</td>\n",
       "      <td>Wednesday</td>\n",
       "      <td>0</td>\n",
       "    </tr>\n",
       "    <tr>\n",
       "      <th>1</th>\n",
       "      <td>133</td>\n",
       "      <td>0.25</td>\n",
       "      <td>CA</td>\n",
       "      <td>2004-05-12</td>\n",
       "      <td>0.0</td>\n",
       "      <td>5</td>\n",
       "      <td>Wednesday</td>\n",
       "      <td>0</td>\n",
       "    </tr>\n",
       "    <tr>\n",
       "      <th>2</th>\n",
       "      <td>152</td>\n",
       "      <td>0.10</td>\n",
       "      <td>CA</td>\n",
       "      <td>2004-05-31</td>\n",
       "      <td>0.0</td>\n",
       "      <td>5</td>\n",
       "      <td>Monday</td>\n",
       "      <td>0</td>\n",
       "    </tr>\n",
       "  </tbody>\n",
       "</table>\n",
       "</div>"
      ],
      "text/plain": [
       "   DISCOVERY_DOY  FIRE_SIZE STATE START_DATE  BURN_TIME  MONTH        DOW  \\\n",
       "0             33       0.10    CA 2005-02-02        0.0      2  Wednesday   \n",
       "1            133       0.25    CA 2004-05-12        0.0      5  Wednesday   \n",
       "2            152       0.10    CA 2004-05-31        0.0      5     Monday   \n",
       "\n",
       "   ARSON  \n",
       "0      0  \n",
       "1      0  \n",
       "2      0  "
      ]
     },
     "execution_count": 46,
     "metadata": {},
     "output_type": "execute_result"
    }
   ],
   "source": [
    "df_all.head(3)"
   ]
  },
  {
   "cell_type": "code",
   "execution_count": 47,
   "metadata": {},
   "outputs": [
    {
     "data": {
      "text/plain": [
       "DISCOVERY_DOY             int64\n",
       "FIRE_SIZE               float64\n",
       "STATE                    object\n",
       "START_DATE       datetime64[ns]\n",
       "BURN_TIME               float64\n",
       "MONTH                     int64\n",
       "DOW                      object\n",
       "ARSON                     int64\n",
       "dtype: object"
      ]
     },
     "execution_count": 47,
     "metadata": {},
     "output_type": "execute_result"
    }
   ],
   "source": [
    "df_all.dtypes"
   ]
  },
  {
   "cell_type": "markdown",
   "metadata": {},
   "source": [
    "I don't really need to do this because I'm going to label encode and then one-hot encode it later but that will make just doing one loop for all the things that need encoding simpler, if a little more time consuming to run. Worth it."
   ]
  },
  {
   "cell_type": "code",
   "execution_count": 48,
   "metadata": {},
   "outputs": [],
   "source": [
    "df_all['MONTH'] = df_all['MONTH'].apply(lambda x: calendar.month_name[x])"
   ]
  },
  {
   "cell_type": "markdown",
   "metadata": {},
   "source": [
    "Whoops, ran it twice."
   ]
  },
  {
   "cell_type": "code",
   "execution_count": 49,
   "metadata": {},
   "outputs": [
    {
     "data": {
      "text/html": [
       "<div>\n",
       "<style scoped>\n",
       "    .dataframe tbody tr th:only-of-type {\n",
       "        vertical-align: middle;\n",
       "    }\n",
       "\n",
       "    .dataframe tbody tr th {\n",
       "        vertical-align: top;\n",
       "    }\n",
       "\n",
       "    .dataframe thead th {\n",
       "        text-align: right;\n",
       "    }\n",
       "</style>\n",
       "<table border=\"1\" class=\"dataframe\">\n",
       "  <thead>\n",
       "    <tr style=\"text-align: right;\">\n",
       "      <th></th>\n",
       "      <th>DISCOVERY_DOY</th>\n",
       "      <th>FIRE_SIZE</th>\n",
       "      <th>STATE</th>\n",
       "      <th>START_DATE</th>\n",
       "      <th>BURN_TIME</th>\n",
       "      <th>MONTH</th>\n",
       "      <th>DOW</th>\n",
       "      <th>ARSON</th>\n",
       "    </tr>\n",
       "  </thead>\n",
       "  <tbody>\n",
       "    <tr>\n",
       "      <th>0</th>\n",
       "      <td>33</td>\n",
       "      <td>0.10</td>\n",
       "      <td>CA</td>\n",
       "      <td>2005-02-02</td>\n",
       "      <td>0.0</td>\n",
       "      <td>February</td>\n",
       "      <td>Wednesday</td>\n",
       "      <td>0</td>\n",
       "    </tr>\n",
       "    <tr>\n",
       "      <th>1</th>\n",
       "      <td>133</td>\n",
       "      <td>0.25</td>\n",
       "      <td>CA</td>\n",
       "      <td>2004-05-12</td>\n",
       "      <td>0.0</td>\n",
       "      <td>May</td>\n",
       "      <td>Wednesday</td>\n",
       "      <td>0</td>\n",
       "    </tr>\n",
       "  </tbody>\n",
       "</table>\n",
       "</div>"
      ],
      "text/plain": [
       "   DISCOVERY_DOY  FIRE_SIZE STATE START_DATE  BURN_TIME     MONTH        DOW  \\\n",
       "0             33       0.10    CA 2005-02-02        0.0  February  Wednesday   \n",
       "1            133       0.25    CA 2004-05-12        0.0       May  Wednesday   \n",
       "\n",
       "   ARSON  \n",
       "0      0  \n",
       "1      0  "
      ]
     },
     "execution_count": 49,
     "metadata": {},
     "output_type": "execute_result"
    }
   ],
   "source": [
    "df_all.head(2)"
   ]
  },
  {
   "cell_type": "markdown",
   "metadata": {},
   "source": [
    "After much consideration I am going to drop the start date, keep the day-of-year, but transform it to be cyclic so the algorithms can see that 1 and 365 are actually closer than 60 and 365."
   ]
  },
  {
   "cell_type": "code",
   "execution_count": 50,
   "metadata": {},
   "outputs": [],
   "source": [
    "df_all.drop(['START_DATE'], axis=1, inplace=True)"
   ]
  },
  {
   "cell_type": "markdown",
   "metadata": {},
   "source": [
    "I need to encode my categorical values. I can use one-hot encoding or get dummies and drop one column. For month and day-of-week there are only 12 and 7 categories, respectively, so for them I'll get dummies. For the other 2 I'll use one-hot because there are so categories and I don't want to dataframe that big considering how much modeling I'm doing, the ram required would get too big."
   ]
  },
  {
   "cell_type": "markdown",
   "metadata": {},
   "source": [
    "Now I'm going to try impute data for BURN_TIME. I want to test to see if the data is missing at random. I'm going to check for a correlation between BURN_TIME and the other features."
   ]
  },
  {
   "cell_type": "code",
   "execution_count": 51,
   "metadata": {},
   "outputs": [
    {
     "data": {
      "text/html": [
       "<div>\n",
       "<style scoped>\n",
       "    .dataframe tbody tr th:only-of-type {\n",
       "        vertical-align: middle;\n",
       "    }\n",
       "\n",
       "    .dataframe tbody tr th {\n",
       "        vertical-align: top;\n",
       "    }\n",
       "\n",
       "    .dataframe thead th {\n",
       "        text-align: right;\n",
       "    }\n",
       "</style>\n",
       "<table border=\"1\" class=\"dataframe\">\n",
       "  <thead>\n",
       "    <tr style=\"text-align: right;\">\n",
       "      <th></th>\n",
       "      <th>DISCOVERY_DOY</th>\n",
       "      <th>FIRE_SIZE</th>\n",
       "      <th>STATE</th>\n",
       "      <th>BURN_TIME</th>\n",
       "      <th>MONTH</th>\n",
       "      <th>DOW</th>\n",
       "      <th>ARSON</th>\n",
       "    </tr>\n",
       "  </thead>\n",
       "  <tbody>\n",
       "    <tr>\n",
       "      <th>0</th>\n",
       "      <td>33</td>\n",
       "      <td>0.10</td>\n",
       "      <td>CA</td>\n",
       "      <td>0.0</td>\n",
       "      <td>February</td>\n",
       "      <td>Wednesday</td>\n",
       "      <td>0</td>\n",
       "    </tr>\n",
       "    <tr>\n",
       "      <th>1</th>\n",
       "      <td>133</td>\n",
       "      <td>0.25</td>\n",
       "      <td>CA</td>\n",
       "      <td>0.0</td>\n",
       "      <td>May</td>\n",
       "      <td>Wednesday</td>\n",
       "      <td>0</td>\n",
       "    </tr>\n",
       "  </tbody>\n",
       "</table>\n",
       "</div>"
      ],
      "text/plain": [
       "   DISCOVERY_DOY  FIRE_SIZE STATE  BURN_TIME     MONTH        DOW  ARSON\n",
       "0             33       0.10    CA        0.0  February  Wednesday      0\n",
       "1            133       0.25    CA        0.0       May  Wednesday      0"
      ]
     },
     "execution_count": 51,
     "metadata": {},
     "output_type": "execute_result"
    }
   ],
   "source": [
    "df_all.head(2)"
   ]
  },
  {
   "cell_type": "markdown",
   "metadata": {},
   "source": [
    "In this notebook I'm going to just drop the missing burn time values and then include it in my analysis. See what that gets me."
   ]
  },
  {
   "cell_type": "code",
   "execution_count": 52,
   "metadata": {},
   "outputs": [],
   "source": [
    "df_wburn = df_all.drop(df_all[df_all['BURN_TIME'].isnull() == True].index)"
   ]
  },
  {
   "cell_type": "code",
   "execution_count": 53,
   "metadata": {},
   "outputs": [
    {
     "data": {
      "text/html": [
       "<div>\n",
       "<style scoped>\n",
       "    .dataframe tbody tr th:only-of-type {\n",
       "        vertical-align: middle;\n",
       "    }\n",
       "\n",
       "    .dataframe tbody tr th {\n",
       "        vertical-align: top;\n",
       "    }\n",
       "\n",
       "    .dataframe thead th {\n",
       "        text-align: right;\n",
       "    }\n",
       "</style>\n",
       "<table border=\"1\" class=\"dataframe\">\n",
       "  <thead>\n",
       "    <tr style=\"text-align: right;\">\n",
       "      <th></th>\n",
       "      <th>DISCOVERY_DOY</th>\n",
       "      <th>FIRE_SIZE</th>\n",
       "      <th>STATE</th>\n",
       "      <th>BURN_TIME</th>\n",
       "      <th>MONTH</th>\n",
       "      <th>DOW</th>\n",
       "      <th>ARSON</th>\n",
       "    </tr>\n",
       "  </thead>\n",
       "  <tbody>\n",
       "    <tr>\n",
       "      <th>0</th>\n",
       "      <td>33</td>\n",
       "      <td>0.10</td>\n",
       "      <td>CA</td>\n",
       "      <td>0.0</td>\n",
       "      <td>February</td>\n",
       "      <td>Wednesday</td>\n",
       "      <td>0</td>\n",
       "    </tr>\n",
       "    <tr>\n",
       "      <th>1</th>\n",
       "      <td>133</td>\n",
       "      <td>0.25</td>\n",
       "      <td>CA</td>\n",
       "      <td>0.0</td>\n",
       "      <td>May</td>\n",
       "      <td>Wednesday</td>\n",
       "      <td>0</td>\n",
       "    </tr>\n",
       "    <tr>\n",
       "      <th>2</th>\n",
       "      <td>152</td>\n",
       "      <td>0.10</td>\n",
       "      <td>CA</td>\n",
       "      <td>0.0</td>\n",
       "      <td>May</td>\n",
       "      <td>Monday</td>\n",
       "      <td>0</td>\n",
       "    </tr>\n",
       "    <tr>\n",
       "      <th>3</th>\n",
       "      <td>180</td>\n",
       "      <td>0.10</td>\n",
       "      <td>CA</td>\n",
       "      <td>5.0</td>\n",
       "      <td>June</td>\n",
       "      <td>Monday</td>\n",
       "      <td>0</td>\n",
       "    </tr>\n",
       "    <tr>\n",
       "      <th>4</th>\n",
       "      <td>180</td>\n",
       "      <td>0.10</td>\n",
       "      <td>CA</td>\n",
       "      <td>5.0</td>\n",
       "      <td>June</td>\n",
       "      <td>Monday</td>\n",
       "      <td>0</td>\n",
       "    </tr>\n",
       "    <tr>\n",
       "      <th>5</th>\n",
       "      <td>182</td>\n",
       "      <td>0.10</td>\n",
       "      <td>CA</td>\n",
       "      <td>1.0</td>\n",
       "      <td>June</td>\n",
       "      <td>Wednesday</td>\n",
       "      <td>0</td>\n",
       "    </tr>\n",
       "    <tr>\n",
       "      <th>6</th>\n",
       "      <td>183</td>\n",
       "      <td>0.10</td>\n",
       "      <td>CA</td>\n",
       "      <td>1.0</td>\n",
       "      <td>July</td>\n",
       "      <td>Thursday</td>\n",
       "      <td>0</td>\n",
       "    </tr>\n",
       "    <tr>\n",
       "      <th>7</th>\n",
       "      <td>67</td>\n",
       "      <td>0.80</td>\n",
       "      <td>CA</td>\n",
       "      <td>0.0</td>\n",
       "      <td>March</td>\n",
       "      <td>Tuesday</td>\n",
       "      <td>0</td>\n",
       "    </tr>\n",
       "    <tr>\n",
       "      <th>8</th>\n",
       "      <td>74</td>\n",
       "      <td>1.00</td>\n",
       "      <td>CA</td>\n",
       "      <td>0.0</td>\n",
       "      <td>March</td>\n",
       "      <td>Tuesday</td>\n",
       "      <td>0</td>\n",
       "    </tr>\n",
       "    <tr>\n",
       "      <th>9</th>\n",
       "      <td>183</td>\n",
       "      <td>0.10</td>\n",
       "      <td>CA</td>\n",
       "      <td>1.0</td>\n",
       "      <td>July</td>\n",
       "      <td>Thursday</td>\n",
       "      <td>0</td>\n",
       "    </tr>\n",
       "    <tr>\n",
       "      <th>10</th>\n",
       "      <td>184</td>\n",
       "      <td>0.10</td>\n",
       "      <td>CA</td>\n",
       "      <td>1.0</td>\n",
       "      <td>July</td>\n",
       "      <td>Friday</td>\n",
       "      <td>0</td>\n",
       "    </tr>\n",
       "    <tr>\n",
       "      <th>11</th>\n",
       "      <td>184</td>\n",
       "      <td>0.10</td>\n",
       "      <td>CA</td>\n",
       "      <td>1.0</td>\n",
       "      <td>July</td>\n",
       "      <td>Friday</td>\n",
       "      <td>0</td>\n",
       "    </tr>\n",
       "    <tr>\n",
       "      <th>12</th>\n",
       "      <td>247</td>\n",
       "      <td>0.10</td>\n",
       "      <td>CA</td>\n",
       "      <td>0.0</td>\n",
       "      <td>September</td>\n",
       "      <td>Friday</td>\n",
       "      <td>0</td>\n",
       "    </tr>\n",
       "    <tr>\n",
       "      <th>13</th>\n",
       "      <td>272</td>\n",
       "      <td>6.00</td>\n",
       "      <td>CA</td>\n",
       "      <td>0.0</td>\n",
       "      <td>September</td>\n",
       "      <td>Tuesday</td>\n",
       "      <td>0</td>\n",
       "    </tr>\n",
       "    <tr>\n",
       "      <th>14</th>\n",
       "      <td>277</td>\n",
       "      <td>0.20</td>\n",
       "      <td>CA</td>\n",
       "      <td>0.0</td>\n",
       "      <td>October</td>\n",
       "      <td>Sunday</td>\n",
       "      <td>0</td>\n",
       "    </tr>\n",
       "    <tr>\n",
       "      <th>15</th>\n",
       "      <td>277</td>\n",
       "      <td>0.10</td>\n",
       "      <td>CA</td>\n",
       "      <td>0.0</td>\n",
       "      <td>October</td>\n",
       "      <td>Sunday</td>\n",
       "      <td>0</td>\n",
       "    </tr>\n",
       "    <tr>\n",
       "      <th>16</th>\n",
       "      <td>280</td>\n",
       "      <td>16823.00</td>\n",
       "      <td>CA</td>\n",
       "      <td>15.0</td>\n",
       "      <td>October</td>\n",
       "      <td>Wednesday</td>\n",
       "      <td>0</td>\n",
       "    </tr>\n",
       "    <tr>\n",
       "      <th>17</th>\n",
       "      <td>287</td>\n",
       "      <td>7700.00</td>\n",
       "      <td>CA</td>\n",
       "      <td>4.0</td>\n",
       "      <td>October</td>\n",
       "      <td>Wednesday</td>\n",
       "      <td>0</td>\n",
       "    </tr>\n",
       "    <tr>\n",
       "      <th>18</th>\n",
       "      <td>325</td>\n",
       "      <td>0.10</td>\n",
       "      <td>CA</td>\n",
       "      <td>1.0</td>\n",
       "      <td>November</td>\n",
       "      <td>Saturday</td>\n",
       "      <td>0</td>\n",
       "    </tr>\n",
       "    <tr>\n",
       "      <th>19</th>\n",
       "      <td>156</td>\n",
       "      <td>0.10</td>\n",
       "      <td>NM</td>\n",
       "      <td>0.0</td>\n",
       "      <td>June</td>\n",
       "      <td>Friday</td>\n",
       "      <td>0</td>\n",
       "    </tr>\n",
       "  </tbody>\n",
       "</table>\n",
       "</div>"
      ],
      "text/plain": [
       "    DISCOVERY_DOY  FIRE_SIZE STATE  BURN_TIME      MONTH        DOW  ARSON\n",
       "0              33       0.10    CA        0.0   February  Wednesday      0\n",
       "1             133       0.25    CA        0.0        May  Wednesday      0\n",
       "2             152       0.10    CA        0.0        May     Monday      0\n",
       "3             180       0.10    CA        5.0       June     Monday      0\n",
       "4             180       0.10    CA        5.0       June     Monday      0\n",
       "5             182       0.10    CA        1.0       June  Wednesday      0\n",
       "6             183       0.10    CA        1.0       July   Thursday      0\n",
       "7              67       0.80    CA        0.0      March    Tuesday      0\n",
       "8              74       1.00    CA        0.0      March    Tuesday      0\n",
       "9             183       0.10    CA        1.0       July   Thursday      0\n",
       "10            184       0.10    CA        1.0       July     Friday      0\n",
       "11            184       0.10    CA        1.0       July     Friday      0\n",
       "12            247       0.10    CA        0.0  September     Friday      0\n",
       "13            272       6.00    CA        0.0  September    Tuesday      0\n",
       "14            277       0.20    CA        0.0    October     Sunday      0\n",
       "15            277       0.10    CA        0.0    October     Sunday      0\n",
       "16            280   16823.00    CA       15.0    October  Wednesday      0\n",
       "17            287    7700.00    CA        4.0    October  Wednesday      0\n",
       "18            325       0.10    CA        1.0   November   Saturday      0\n",
       "19            156       0.10    NM        0.0       June     Friday      0"
      ]
     },
     "execution_count": 53,
     "metadata": {},
     "output_type": "execute_result"
    }
   ],
   "source": [
    "df_wburn.head(20)"
   ]
  },
  {
   "cell_type": "code",
   "execution_count": 54,
   "metadata": {},
   "outputs": [
    {
     "data": {
      "text/plain": [
       "(917383, 7)"
      ]
     },
     "execution_count": 54,
     "metadata": {},
     "output_type": "execute_result"
    }
   ],
   "source": [
    "df_wburn.shape"
   ]
  },
  {
   "cell_type": "code",
   "execution_count": 55,
   "metadata": {},
   "outputs": [
    {
     "data": {
      "text/plain": [
       "DISCOVERY_DOY    0\n",
       "FIRE_SIZE        0\n",
       "STATE            0\n",
       "BURN_TIME        0\n",
       "MONTH            0\n",
       "DOW              0\n",
       "ARSON            0\n",
       "dtype: int64"
      ]
     },
     "execution_count": 55,
     "metadata": {},
     "output_type": "execute_result"
    }
   ],
   "source": [
    "df_wburn.isnull().sum()"
   ]
  },
  {
   "cell_type": "code",
   "execution_count": 56,
   "metadata": {
    "scrolled": true
   },
   "outputs": [
    {
     "data": {
      "text/plain": [
       "DISCOVERY_DOY      int64\n",
       "FIRE_SIZE        float64\n",
       "STATE             object\n",
       "BURN_TIME        float64\n",
       "MONTH             object\n",
       "DOW               object\n",
       "ARSON              int64\n",
       "dtype: object"
      ]
     },
     "execution_count": 56,
     "metadata": {},
     "output_type": "execute_result"
    }
   ],
   "source": [
    "df_wburn.dtypes"
   ]
  },
  {
   "cell_type": "markdown",
   "metadata": {},
   "source": [
    "I want to make the DISCOVERED_DOY cyclic."
   ]
  },
  {
   "cell_type": "code",
   "execution_count": 57,
   "metadata": {},
   "outputs": [],
   "source": [
    "df_wburn['DOY_SIN'] = np.sin(df_wburn.DISCOVERY_DOY*(2.*np.pi/365))\n",
    "df_wburn['DOY_COS'] = np.cos(df_wburn.DISCOVERY_DOY*(2.*np.pi/365))"
   ]
  },
  {
   "cell_type": "code",
   "execution_count": 58,
   "metadata": {},
   "outputs": [
    {
     "data": {
      "text/html": [
       "<div>\n",
       "<style scoped>\n",
       "    .dataframe tbody tr th:only-of-type {\n",
       "        vertical-align: middle;\n",
       "    }\n",
       "\n",
       "    .dataframe tbody tr th {\n",
       "        vertical-align: top;\n",
       "    }\n",
       "\n",
       "    .dataframe thead th {\n",
       "        text-align: right;\n",
       "    }\n",
       "</style>\n",
       "<table border=\"1\" class=\"dataframe\">\n",
       "  <thead>\n",
       "    <tr style=\"text-align: right;\">\n",
       "      <th></th>\n",
       "      <th>DISCOVERY_DOY</th>\n",
       "      <th>FIRE_SIZE</th>\n",
       "      <th>STATE</th>\n",
       "      <th>BURN_TIME</th>\n",
       "      <th>MONTH</th>\n",
       "      <th>DOW</th>\n",
       "      <th>ARSON</th>\n",
       "      <th>DOY_SIN</th>\n",
       "      <th>DOY_COS</th>\n",
       "    </tr>\n",
       "  </thead>\n",
       "  <tbody>\n",
       "    <tr>\n",
       "      <th>0</th>\n",
       "      <td>33</td>\n",
       "      <td>0.10</td>\n",
       "      <td>CA</td>\n",
       "      <td>0.0</td>\n",
       "      <td>February</td>\n",
       "      <td>Wednesday</td>\n",
       "      <td>0</td>\n",
       "      <td>0.538005</td>\n",
       "      <td>0.842942</td>\n",
       "    </tr>\n",
       "    <tr>\n",
       "      <th>1</th>\n",
       "      <td>133</td>\n",
       "      <td>0.25</td>\n",
       "      <td>CA</td>\n",
       "      <td>0.0</td>\n",
       "      <td>May</td>\n",
       "      <td>Wednesday</td>\n",
       "      <td>0</td>\n",
       "      <td>0.752667</td>\n",
       "      <td>-0.658402</td>\n",
       "    </tr>\n",
       "  </tbody>\n",
       "</table>\n",
       "</div>"
      ],
      "text/plain": [
       "   DISCOVERY_DOY  FIRE_SIZE STATE  BURN_TIME     MONTH        DOW  ARSON  \\\n",
       "0             33       0.10    CA        0.0  February  Wednesday      0   \n",
       "1            133       0.25    CA        0.0       May  Wednesday      0   \n",
       "\n",
       "    DOY_SIN   DOY_COS  \n",
       "0  0.538005  0.842942  \n",
       "1  0.752667 -0.658402  "
      ]
     },
     "execution_count": 58,
     "metadata": {},
     "output_type": "execute_result"
    }
   ],
   "source": [
    "df_wburn.head(2)"
   ]
  },
  {
   "cell_type": "code",
   "execution_count": 59,
   "metadata": {},
   "outputs": [],
   "source": [
    "df_wburn = df_wburn.drop(['DISCOVERY_DOY'], axis=1)"
   ]
  },
  {
   "cell_type": "code",
   "execution_count": 60,
   "metadata": {},
   "outputs": [],
   "source": [
    "df_wburn['BURN_TIME'] = df_wburn['BURN_TIME'].astype(int)"
   ]
  },
  {
   "cell_type": "code",
   "execution_count": 61,
   "metadata": {},
   "outputs": [
    {
     "data": {
      "text/html": [
       "<div>\n",
       "<style scoped>\n",
       "    .dataframe tbody tr th:only-of-type {\n",
       "        vertical-align: middle;\n",
       "    }\n",
       "\n",
       "    .dataframe tbody tr th {\n",
       "        vertical-align: top;\n",
       "    }\n",
       "\n",
       "    .dataframe thead th {\n",
       "        text-align: right;\n",
       "    }\n",
       "</style>\n",
       "<table border=\"1\" class=\"dataframe\">\n",
       "  <thead>\n",
       "    <tr style=\"text-align: right;\">\n",
       "      <th></th>\n",
       "      <th>FIRE_SIZE</th>\n",
       "      <th>STATE</th>\n",
       "      <th>BURN_TIME</th>\n",
       "      <th>MONTH</th>\n",
       "      <th>DOW</th>\n",
       "      <th>ARSON</th>\n",
       "      <th>DOY_SIN</th>\n",
       "      <th>DOY_COS</th>\n",
       "    </tr>\n",
       "  </thead>\n",
       "  <tbody>\n",
       "    <tr>\n",
       "      <th>0</th>\n",
       "      <td>0.10</td>\n",
       "      <td>CA</td>\n",
       "      <td>0</td>\n",
       "      <td>February</td>\n",
       "      <td>Wednesday</td>\n",
       "      <td>0</td>\n",
       "      <td>0.538005</td>\n",
       "      <td>0.842942</td>\n",
       "    </tr>\n",
       "    <tr>\n",
       "      <th>1</th>\n",
       "      <td>0.25</td>\n",
       "      <td>CA</td>\n",
       "      <td>0</td>\n",
       "      <td>May</td>\n",
       "      <td>Wednesday</td>\n",
       "      <td>0</td>\n",
       "      <td>0.752667</td>\n",
       "      <td>-0.658402</td>\n",
       "    </tr>\n",
       "  </tbody>\n",
       "</table>\n",
       "</div>"
      ],
      "text/plain": [
       "   FIRE_SIZE STATE  BURN_TIME     MONTH        DOW  ARSON   DOY_SIN   DOY_COS\n",
       "0       0.10    CA          0  February  Wednesday      0  0.538005  0.842942\n",
       "1       0.25    CA          0       May  Wednesday      0  0.752667 -0.658402"
      ]
     },
     "execution_count": 61,
     "metadata": {},
     "output_type": "execute_result"
    }
   ],
   "source": [
    "df_wburn.head(2)"
   ]
  },
  {
   "cell_type": "markdown",
   "metadata": {},
   "source": [
    "I need to scale this. There are a ton of outliers so I'm going to use RobustScaler."
   ]
  },
  {
   "cell_type": "code",
   "execution_count": 62,
   "metadata": {},
   "outputs": [],
   "source": [
    "#robsca = RobustScaler()"
   ]
  },
  {
   "cell_type": "code",
   "execution_count": 63,
   "metadata": {},
   "outputs": [],
   "source": [
    "#df_wburn['BURN_TIME'] = robsca.fit_transform(df_wburn['BURN_TIME'].values.reshape(-1, 1))"
   ]
  },
  {
   "cell_type": "code",
   "execution_count": 64,
   "metadata": {
    "scrolled": true
   },
   "outputs": [],
   "source": [
    "#df_wburn.head(10)"
   ]
  },
  {
   "cell_type": "markdown",
   "metadata": {},
   "source": [
    "Turns out that with all the zeros in BURN_TIME it's a sparse matrix so robust scalar won't work. Sparse data often calls for MaxAbsScaler but that scales by the highest absolute value, and since there are outliers in both BURN_TIME and FIRE_SIZE I don't want to do that."
   ]
  },
  {
   "cell_type": "code",
   "execution_count": 65,
   "metadata": {},
   "outputs": [],
   "source": [
    "ss = StandardScaler()"
   ]
  },
  {
   "cell_type": "code",
   "execution_count": 66,
   "metadata": {},
   "outputs": [
    {
     "name": "stderr",
     "output_type": "stream",
     "text": [
      "/Users/ryanmetz/anaconda3/envs/ipykernel_py3/lib/python3.6/site-packages/sklearn/utils/validation.py:475: DataConversionWarning: Data with input dtype int64 was converted to float64 by StandardScaler.\n",
      "  warnings.warn(msg, DataConversionWarning)\n"
     ]
    }
   ],
   "source": [
    "df_wburn['BURN_TIME'] = ss.fit_transform(df_wburn['BURN_TIME'].values.reshape(-1, 1))"
   ]
  },
  {
   "cell_type": "code",
   "execution_count": 67,
   "metadata": {},
   "outputs": [
    {
     "data": {
      "text/html": [
       "<div>\n",
       "<style scoped>\n",
       "    .dataframe tbody tr th:only-of-type {\n",
       "        vertical-align: middle;\n",
       "    }\n",
       "\n",
       "    .dataframe tbody tr th {\n",
       "        vertical-align: top;\n",
       "    }\n",
       "\n",
       "    .dataframe thead th {\n",
       "        text-align: right;\n",
       "    }\n",
       "</style>\n",
       "<table border=\"1\" class=\"dataframe\">\n",
       "  <thead>\n",
       "    <tr style=\"text-align: right;\">\n",
       "      <th></th>\n",
       "      <th>FIRE_SIZE</th>\n",
       "      <th>STATE</th>\n",
       "      <th>BURN_TIME</th>\n",
       "      <th>MONTH</th>\n",
       "      <th>DOW</th>\n",
       "      <th>ARSON</th>\n",
       "      <th>DOY_SIN</th>\n",
       "      <th>DOY_COS</th>\n",
       "    </tr>\n",
       "  </thead>\n",
       "  <tbody>\n",
       "    <tr>\n",
       "      <th>0</th>\n",
       "      <td>0.10</td>\n",
       "      <td>CA</td>\n",
       "      <td>-0.081338</td>\n",
       "      <td>February</td>\n",
       "      <td>Wednesday</td>\n",
       "      <td>0</td>\n",
       "      <td>0.538005</td>\n",
       "      <td>0.842942</td>\n",
       "    </tr>\n",
       "    <tr>\n",
       "      <th>1</th>\n",
       "      <td>0.25</td>\n",
       "      <td>CA</td>\n",
       "      <td>-0.081338</td>\n",
       "      <td>May</td>\n",
       "      <td>Wednesday</td>\n",
       "      <td>0</td>\n",
       "      <td>0.752667</td>\n",
       "      <td>-0.658402</td>\n",
       "    </tr>\n",
       "    <tr>\n",
       "      <th>2</th>\n",
       "      <td>0.10</td>\n",
       "      <td>CA</td>\n",
       "      <td>-0.081338</td>\n",
       "      <td>May</td>\n",
       "      <td>Monday</td>\n",
       "      <td>0</td>\n",
       "      <td>0.501242</td>\n",
       "      <td>-0.865307</td>\n",
       "    </tr>\n",
       "  </tbody>\n",
       "</table>\n",
       "</div>"
      ],
      "text/plain": [
       "   FIRE_SIZE STATE  BURN_TIME     MONTH        DOW  ARSON   DOY_SIN   DOY_COS\n",
       "0       0.10    CA  -0.081338  February  Wednesday      0  0.538005  0.842942\n",
       "1       0.25    CA  -0.081338       May  Wednesday      0  0.752667 -0.658402\n",
       "2       0.10    CA  -0.081338       May     Monday      0  0.501242 -0.865307"
      ]
     },
     "execution_count": 67,
     "metadata": {},
     "output_type": "execute_result"
    }
   ],
   "source": [
    "df_wburn.head(3)"
   ]
  },
  {
   "cell_type": "code",
   "execution_count": 68,
   "metadata": {},
   "outputs": [
    {
     "data": {
      "text/plain": [
       "(array([9.17055e+05, 1.90000e+02, 6.60000e+01, 3.00000e+01, 1.80000e+01,\n",
       "        1.00000e+01, 4.00000e+00, 4.00000e+00, 4.00000e+00, 2.00000e+00]),\n",
       " array([1.00000000e-04, 6.06945001e+04, 1.21389000e+05, 1.82083500e+05,\n",
       "        2.42778000e+05, 3.03472500e+05, 3.64167000e+05, 4.24861500e+05,\n",
       "        4.85556000e+05, 5.46250500e+05, 6.06945000e+05]),\n",
       " <a list of 10 Patch objects>)"
      ]
     },
     "execution_count": 68,
     "metadata": {},
     "output_type": "execute_result"
    },
    {
     "data": {
      "image/png": "[encoded data removed]",
      "text/plain": [
       "<Figure size 432x288 with 1 Axes>"
      ]
     },
     "metadata": {},
     "output_type": "display_data"
    }
   ],
   "source": [
    "plt.hist(df_wburn.FIRE_SIZE)"
   ]
  },
  {
   "cell_type": "code",
   "execution_count": 69,
   "metadata": {},
   "outputs": [],
   "source": [
    "robsca = RobustScaler()"
   ]
  },
  {
   "cell_type": "code",
   "execution_count": 70,
   "metadata": {},
   "outputs": [],
   "source": [
    "df_wburn['FIRE_SIZE'] = robsca.fit_transform(df_wburn['FIRE_SIZE'].values.reshape(-1, 1))"
   ]
  },
  {
   "cell_type": "code",
   "execution_count": 71,
   "metadata": {},
   "outputs": [
    {
     "data": {
      "text/html": [
       "<div>\n",
       "<style scoped>\n",
       "    .dataframe tbody tr th:only-of-type {\n",
       "        vertical-align: middle;\n",
       "    }\n",
       "\n",
       "    .dataframe tbody tr th {\n",
       "        vertical-align: top;\n",
       "    }\n",
       "\n",
       "    .dataframe thead th {\n",
       "        text-align: right;\n",
       "    }\n",
       "</style>\n",
       "<table border=\"1\" class=\"dataframe\">\n",
       "  <thead>\n",
       "    <tr style=\"text-align: right;\">\n",
       "      <th></th>\n",
       "      <th>FIRE_SIZE</th>\n",
       "      <th>STATE</th>\n",
       "      <th>BURN_TIME</th>\n",
       "      <th>MONTH</th>\n",
       "      <th>DOW</th>\n",
       "      <th>ARSON</th>\n",
       "      <th>DOY_SIN</th>\n",
       "      <th>DOY_COS</th>\n",
       "    </tr>\n",
       "  </thead>\n",
       "  <tbody>\n",
       "    <tr>\n",
       "      <th>0</th>\n",
       "      <td>-0.142857</td>\n",
       "      <td>CA</td>\n",
       "      <td>-0.081338</td>\n",
       "      <td>February</td>\n",
       "      <td>Wednesday</td>\n",
       "      <td>0</td>\n",
       "      <td>0.538005</td>\n",
       "      <td>0.842942</td>\n",
       "    </tr>\n",
       "    <tr>\n",
       "      <th>1</th>\n",
       "      <td>-0.089286</td>\n",
       "      <td>CA</td>\n",
       "      <td>-0.081338</td>\n",
       "      <td>May</td>\n",
       "      <td>Wednesday</td>\n",
       "      <td>0</td>\n",
       "      <td>0.752667</td>\n",
       "      <td>-0.658402</td>\n",
       "    </tr>\n",
       "    <tr>\n",
       "      <th>2</th>\n",
       "      <td>-0.142857</td>\n",
       "      <td>CA</td>\n",
       "      <td>-0.081338</td>\n",
       "      <td>May</td>\n",
       "      <td>Monday</td>\n",
       "      <td>0</td>\n",
       "      <td>0.501242</td>\n",
       "      <td>-0.865307</td>\n",
       "    </tr>\n",
       "  </tbody>\n",
       "</table>\n",
       "</div>"
      ],
      "text/plain": [
       "   FIRE_SIZE STATE  BURN_TIME     MONTH        DOW  ARSON   DOY_SIN   DOY_COS\n",
       "0  -0.142857    CA  -0.081338  February  Wednesday      0  0.538005  0.842942\n",
       "1  -0.089286    CA  -0.081338       May  Wednesday      0  0.752667 -0.658402\n",
       "2  -0.142857    CA  -0.081338       May     Monday      0  0.501242 -0.865307"
      ]
     },
     "execution_count": 71,
     "metadata": {},
     "output_type": "execute_result"
    }
   ],
   "source": [
    "df_wburn.head(3)"
   ]
  },
  {
   "cell_type": "markdown",
   "metadata": {},
   "source": [
    "OKAY. Now everything that needed to be is scaled and normalized. Time to encode my categorical values."
   ]
  },
  {
   "cell_type": "markdown",
   "metadata": {},
   "source": [
    "THE BELOW WAS THE ORIGINAL PLAN BUT I SWITCHED TO ONE-HOT ENCODING EVERYTHING AND USING PCA TO REDUCE DIMENSIONALITY.\n",
    "\n",
    "I need to drop 1 dummy variable for each of the features I just got dummies from. I'm choosing Wednesday because it's the middle of the weekdays, of which there are 5 vs just 2 weekends (I believe that the ratio of causes that fires started on weekend days had will be different from weekdays. I am hoping this will help with interpretation.) I'm choosing January essentially at random, it's the first value which is what get_dummies has as a parameter."
   ]
  },
  {
   "cell_type": "code",
   "execution_count": 72,
   "metadata": {},
   "outputs": [],
   "source": [
    "# categorical_vars=['MONTH','DOW']\n",
    "# for var in categorical_vars:\n",
    "#     cat_list='var'+'_'+var\n",
    "#     cat_list = pd.get_dummies(df_all[var], prefix=var, drop_first=False)\n",
    "#     df_all1=df_all.join(cat_list)\n",
    "#     df_all=df_all1\n",
    "\n",
    "#DECIDED TO DO ONE-HOT ENCODING ON EVERYTHING AND THEN USE PCA TO DEAL WITH THE COLLINIERITY PROBLEM."
   ]
  },
  {
   "cell_type": "code",
   "execution_count": 73,
   "metadata": {
    "scrolled": true
   },
   "outputs": [
    {
     "data": {
      "text/html": [
       "<div>\n",
       "<style scoped>\n",
       "    .dataframe tbody tr th:only-of-type {\n",
       "        vertical-align: middle;\n",
       "    }\n",
       "\n",
       "    .dataframe tbody tr th {\n",
       "        vertical-align: top;\n",
       "    }\n",
       "\n",
       "    .dataframe thead th {\n",
       "        text-align: right;\n",
       "    }\n",
       "</style>\n",
       "<table border=\"1\" class=\"dataframe\">\n",
       "  <thead>\n",
       "    <tr style=\"text-align: right;\">\n",
       "      <th></th>\n",
       "      <th>FIRE_SIZE</th>\n",
       "      <th>STATE</th>\n",
       "      <th>BURN_TIME</th>\n",
       "      <th>MONTH</th>\n",
       "      <th>DOW</th>\n",
       "      <th>ARSON</th>\n",
       "      <th>DOY_SIN</th>\n",
       "      <th>DOY_COS</th>\n",
       "      <th>0_x</th>\n",
       "      <th>1_x</th>\n",
       "      <th>2_x</th>\n",
       "      <th>3_x</th>\n",
       "      <th>4_x</th>\n",
       "      <th>5_x</th>\n",
       "      <th>6_x</th>\n",
       "      <th>7_x</th>\n",
       "      <th>8_x</th>\n",
       "      <th>9_x</th>\n",
       "      <th>10_x</th>\n",
       "      <th>11_x</th>\n",
       "      <th>...</th>\n",
       "      <th>51</th>\n",
       "      <th>0_y</th>\n",
       "      <th>1_y</th>\n",
       "      <th>2_y</th>\n",
       "      <th>3_y</th>\n",
       "      <th>4_y</th>\n",
       "      <th>5_y</th>\n",
       "      <th>6_y</th>\n",
       "      <th>7_y</th>\n",
       "      <th>8_y</th>\n",
       "      <th>9_y</th>\n",
       "      <th>10_y</th>\n",
       "      <th>11_y</th>\n",
       "      <th>0</th>\n",
       "      <th>1</th>\n",
       "      <th>2</th>\n",
       "      <th>3</th>\n",
       "      <th>4</th>\n",
       "      <th>5</th>\n",
       "      <th>6</th>\n",
       "    </tr>\n",
       "  </thead>\n",
       "  <tbody>\n",
       "    <tr>\n",
       "      <th>0</th>\n",
       "      <td>-0.142857</td>\n",
       "      <td>CA</td>\n",
       "      <td>-0.081338</td>\n",
       "      <td>February</td>\n",
       "      <td>Wednesday</td>\n",
       "      <td>0</td>\n",
       "      <td>0.538005</td>\n",
       "      <td>0.842942</td>\n",
       "      <td>0.0</td>\n",
       "      <td>0.0</td>\n",
       "      <td>0.0</td>\n",
       "      <td>0.0</td>\n",
       "      <td>1.0</td>\n",
       "      <td>0.0</td>\n",
       "      <td>0.0</td>\n",
       "      <td>0.0</td>\n",
       "      <td>0.0</td>\n",
       "      <td>0.0</td>\n",
       "      <td>0.0</td>\n",
       "      <td>0.0</td>\n",
       "      <td>...</td>\n",
       "      <td>0.0</td>\n",
       "      <td>0.0</td>\n",
       "      <td>0.0</td>\n",
       "      <td>0.0</td>\n",
       "      <td>1.0</td>\n",
       "      <td>0.0</td>\n",
       "      <td>0.0</td>\n",
       "      <td>0.0</td>\n",
       "      <td>0.0</td>\n",
       "      <td>0.0</td>\n",
       "      <td>0.0</td>\n",
       "      <td>0.0</td>\n",
       "      <td>0.0</td>\n",
       "      <td>0.0</td>\n",
       "      <td>0.0</td>\n",
       "      <td>0.0</td>\n",
       "      <td>0.0</td>\n",
       "      <td>0.0</td>\n",
       "      <td>0.0</td>\n",
       "      <td>1.0</td>\n",
       "    </tr>\n",
       "    <tr>\n",
       "      <th>1</th>\n",
       "      <td>-0.089286</td>\n",
       "      <td>CA</td>\n",
       "      <td>-0.081338</td>\n",
       "      <td>May</td>\n",
       "      <td>Wednesday</td>\n",
       "      <td>0</td>\n",
       "      <td>0.752667</td>\n",
       "      <td>-0.658402</td>\n",
       "      <td>0.0</td>\n",
       "      <td>0.0</td>\n",
       "      <td>0.0</td>\n",
       "      <td>0.0</td>\n",
       "      <td>1.0</td>\n",
       "      <td>0.0</td>\n",
       "      <td>0.0</td>\n",
       "      <td>0.0</td>\n",
       "      <td>0.0</td>\n",
       "      <td>0.0</td>\n",
       "      <td>0.0</td>\n",
       "      <td>0.0</td>\n",
       "      <td>...</td>\n",
       "      <td>0.0</td>\n",
       "      <td>0.0</td>\n",
       "      <td>0.0</td>\n",
       "      <td>0.0</td>\n",
       "      <td>0.0</td>\n",
       "      <td>0.0</td>\n",
       "      <td>0.0</td>\n",
       "      <td>0.0</td>\n",
       "      <td>0.0</td>\n",
       "      <td>1.0</td>\n",
       "      <td>0.0</td>\n",
       "      <td>0.0</td>\n",
       "      <td>0.0</td>\n",
       "      <td>0.0</td>\n",
       "      <td>0.0</td>\n",
       "      <td>0.0</td>\n",
       "      <td>0.0</td>\n",
       "      <td>0.0</td>\n",
       "      <td>0.0</td>\n",
       "      <td>1.0</td>\n",
       "    </tr>\n",
       "    <tr>\n",
       "      <th>2</th>\n",
       "      <td>-0.142857</td>\n",
       "      <td>CA</td>\n",
       "      <td>-0.081338</td>\n",
       "      <td>May</td>\n",
       "      <td>Monday</td>\n",
       "      <td>0</td>\n",
       "      <td>0.501242</td>\n",
       "      <td>-0.865307</td>\n",
       "      <td>0.0</td>\n",
       "      <td>0.0</td>\n",
       "      <td>0.0</td>\n",
       "      <td>0.0</td>\n",
       "      <td>1.0</td>\n",
       "      <td>0.0</td>\n",
       "      <td>0.0</td>\n",
       "      <td>0.0</td>\n",
       "      <td>0.0</td>\n",
       "      <td>0.0</td>\n",
       "      <td>0.0</td>\n",
       "      <td>0.0</td>\n",
       "      <td>...</td>\n",
       "      <td>0.0</td>\n",
       "      <td>0.0</td>\n",
       "      <td>0.0</td>\n",
       "      <td>0.0</td>\n",
       "      <td>0.0</td>\n",
       "      <td>0.0</td>\n",
       "      <td>0.0</td>\n",
       "      <td>0.0</td>\n",
       "      <td>0.0</td>\n",
       "      <td>1.0</td>\n",
       "      <td>0.0</td>\n",
       "      <td>0.0</td>\n",
       "      <td>0.0</td>\n",
       "      <td>0.0</td>\n",
       "      <td>1.0</td>\n",
       "      <td>0.0</td>\n",
       "      <td>0.0</td>\n",
       "      <td>0.0</td>\n",
       "      <td>0.0</td>\n",
       "      <td>0.0</td>\n",
       "    </tr>\n",
       "  </tbody>\n",
       "</table>\n",
       "<p>3 rows × 79 columns</p>\n",
       "</div>"
      ],
      "text/plain": [
       "   FIRE_SIZE STATE  BURN_TIME     MONTH        DOW  ARSON   DOY_SIN   DOY_COS  \\\n",
       "0  -0.142857    CA  -0.081338  February  Wednesday      0  0.538005  0.842942   \n",
       "1  -0.089286    CA  -0.081338       May  Wednesday      0  0.752667 -0.658402   \n",
       "2  -0.142857    CA  -0.081338       May     Monday      0  0.501242 -0.865307   \n",
       "\n",
       "   0_x  1_x  2_x  3_x  4_x  5_x  6_x  7_x  8_x  9_x  10_x  11_x ...    51  \\\n",
       "0  0.0  0.0  0.0  0.0  1.0  0.0  0.0  0.0  0.0  0.0   0.0   0.0 ...   0.0   \n",
       "1  0.0  0.0  0.0  0.0  1.0  0.0  0.0  0.0  0.0  0.0   0.0   0.0 ...   0.0   \n",
       "2  0.0  0.0  0.0  0.0  1.0  0.0  0.0  0.0  0.0  0.0   0.0   0.0 ...   0.0   \n",
       "\n",
       "   0_y  1_y  2_y  3_y  4_y  5_y  6_y  7_y  8_y  9_y  10_y  11_y    0    1  \\\n",
       "0  0.0  0.0  0.0  1.0  0.0  0.0  0.0  0.0  0.0  0.0   0.0   0.0  0.0  0.0   \n",
       "1  0.0  0.0  0.0  0.0  0.0  0.0  0.0  0.0  1.0  0.0   0.0   0.0  0.0  0.0   \n",
       "2  0.0  0.0  0.0  0.0  0.0  0.0  0.0  0.0  1.0  0.0   0.0   0.0  0.0  1.0   \n",
       "\n",
       "     2    3    4    5    6  \n",
       "0  0.0  0.0  0.0  0.0  1.0  \n",
       "1  0.0  0.0  0.0  0.0  1.0  \n",
       "2  0.0  0.0  0.0  0.0  0.0  \n",
       "\n",
       "[3 rows x 79 columns]"
      ]
     },
     "execution_count": 73,
     "metadata": {},
     "output_type": "execute_result"
    }
   ],
   "source": [
    "lab_enc = LabelEncoder()\n",
    "oh_enc = OneHotEncoder()\n",
    "\n",
    "need_encoding = [df_wburn['STATE'], df_wburn['MONTH'], df_wburn['DOW']]\n",
    "\n",
    "for feat in need_encoding:\n",
    "    feat_int_encoded = lab_enc.fit_transform(feat)\n",
    "    feat_int_encoded_reshape = feat_int_encoded.reshape(len(feat_int_encoded), 1) \n",
    "    feat_onehot_encoded = oh_enc.fit_transform(feat_int_encoded_reshape)\n",
    "    df_feat = pd.DataFrame(feat_onehot_encoded.toarray())\n",
    "    df_wburn2 = df_wburn.join(df_feat, lsuffix='_STATE')\n",
    "    df_wburn = df_wburn2\n",
    "\n",
    "df_wburn.shape"
   ]
  },
  {
   "cell_type": "code",
   "execution_count": null,
   "metadata": {},
   "outputs": [],
   "source": [
    "lab_enc = LabelEncoder()\n",
    "# oh_enc = OneHotEncoder()\n",
    "\n",
    "# need_encoding = [df_wburn['STATE'], df_wburn['MONTH'], df_wburn['DOW']]\n",
    "\n",
    "# for feat in need_encoding:\n",
    "#     if feat.nunique() == 52:\n",
    "#         feat_int_encoded1 = lab_enc.fit_transform(feat)\n",
    "#         feat_int_encoded_reshape1 = feat_int_encoded.reshape(len(feat_int_encoded1), 1) \n",
    "#         feat_onehot_encoded1 = oh_enc.fit_transform(feat_int_encoded_reshape1)\n",
    "#         df_feat1 = pd.DataFrame(feat_onehot_encoded1.toarray())\n",
    "#     elif feat.nunique() == 12:\n",
    "#         feat_int_encoded2 = lab_enc.fit_transform(feat)\n",
    "#         feat_int_encoded_reshape2 = feat_int_encoded2.reshape(len(feat_int_encoded2), 1) \n",
    "#         feat_onehot_encoded2 = oh_enc.fit_transform(feat_int_encoded_reshape2)\n",
    "#         df_feat2 = pd.DataFrame(feat_onehot_encoded2.toarray())\n",
    "#     else:\n",
    "#         feat_int_encoded3 = lab_enc.fit_transform(feat)\n",
    "#         feat_int_encoded_reshape3 = feat_int_encoded3.reshape(len(feat_int_encoded3), 1) \n",
    "#         feat_onehot_encoded3 = oh_enc.fit_transform(feat_int_encoded_reshape3)\n",
    "#         df_feat3 = pd.DataFrame(feat_onehot_encoded3.toarray())\n",
    "        \n",
    "#     df_wburn2 = df_wburn.join(df_feat1, lsuffix='state')\n",
    "#     df_wburn3 = df_wburn2.join(df_feat2, lsuffix='month')\n",
    "#     df_wburn4 = df_wburn3.join(df_feat3, lsuffix='DOW')\n",
    "#     df_wburn = df_wburn2\n",
    "\n",
    "\n",
    "# df_wburn.shape"
   ]
  },
  {
   "cell_type": "code",
   "execution_count": 74,
   "metadata": {},
   "outputs": [],
   "source": [
    "df_wburn.drop(['STATE', 'MONTH', 'DOW'], axis=1, inplace=True)"
   ]
  },
  {
   "cell_type": "code",
   "execution_count": 75,
   "metadata": {},
   "outputs": [
    {
     "data": {
      "text/html": [
       "<div>\n",
       "<style scoped>\n",
       "    .dataframe tbody tr th:only-of-type {\n",
       "        vertical-align: middle;\n",
       "    }\n",
       "\n",
       "    .dataframe tbody tr th {\n",
       "        vertical-align: top;\n",
       "    }\n",
       "\n",
       "    .dataframe thead th {\n",
       "        text-align: right;\n",
       "    }\n",
       "</style>\n",
       "<table border=\"1\" class=\"dataframe\">\n",
       "  <thead>\n",
       "    <tr style=\"text-align: right;\">\n",
       "      <th></th>\n",
       "      <th>FIRE_SIZE</th>\n",
       "      <th>BURN_TIME</th>\n",
       "      <th>ARSON</th>\n",
       "      <th>DOY_SIN</th>\n",
       "      <th>DOY_COS</th>\n",
       "      <th>0_x</th>\n",
       "      <th>1_x</th>\n",
       "      <th>2_x</th>\n",
       "      <th>3_x</th>\n",
       "      <th>4_x</th>\n",
       "      <th>5_x</th>\n",
       "      <th>6_x</th>\n",
       "      <th>7_x</th>\n",
       "      <th>8_x</th>\n",
       "      <th>9_x</th>\n",
       "      <th>10_x</th>\n",
       "      <th>11_x</th>\n",
       "      <th>12</th>\n",
       "      <th>13</th>\n",
       "      <th>14</th>\n",
       "      <th>...</th>\n",
       "      <th>51</th>\n",
       "      <th>0_y</th>\n",
       "      <th>1_y</th>\n",
       "      <th>2_y</th>\n",
       "      <th>3_y</th>\n",
       "      <th>4_y</th>\n",
       "      <th>5_y</th>\n",
       "      <th>6_y</th>\n",
       "      <th>7_y</th>\n",
       "      <th>8_y</th>\n",
       "      <th>9_y</th>\n",
       "      <th>10_y</th>\n",
       "      <th>11_y</th>\n",
       "      <th>0</th>\n",
       "      <th>1</th>\n",
       "      <th>2</th>\n",
       "      <th>3</th>\n",
       "      <th>4</th>\n",
       "      <th>5</th>\n",
       "      <th>6</th>\n",
       "    </tr>\n",
       "  </thead>\n",
       "  <tbody>\n",
       "    <tr>\n",
       "      <th>0</th>\n",
       "      <td>-0.142857</td>\n",
       "      <td>-0.081338</td>\n",
       "      <td>0</td>\n",
       "      <td>0.538005</td>\n",
       "      <td>0.842942</td>\n",
       "      <td>0.0</td>\n",
       "      <td>0.0</td>\n",
       "      <td>0.0</td>\n",
       "      <td>0.0</td>\n",
       "      <td>1.0</td>\n",
       "      <td>0.0</td>\n",
       "      <td>0.0</td>\n",
       "      <td>0.0</td>\n",
       "      <td>0.0</td>\n",
       "      <td>0.0</td>\n",
       "      <td>0.0</td>\n",
       "      <td>0.0</td>\n",
       "      <td>0.0</td>\n",
       "      <td>0.0</td>\n",
       "      <td>0.0</td>\n",
       "      <td>...</td>\n",
       "      <td>0.0</td>\n",
       "      <td>0.0</td>\n",
       "      <td>0.0</td>\n",
       "      <td>0.0</td>\n",
       "      <td>1.0</td>\n",
       "      <td>0.0</td>\n",
       "      <td>0.0</td>\n",
       "      <td>0.0</td>\n",
       "      <td>0.0</td>\n",
       "      <td>0.0</td>\n",
       "      <td>0.0</td>\n",
       "      <td>0.0</td>\n",
       "      <td>0.0</td>\n",
       "      <td>0.0</td>\n",
       "      <td>0.0</td>\n",
       "      <td>0.0</td>\n",
       "      <td>0.0</td>\n",
       "      <td>0.0</td>\n",
       "      <td>0.0</td>\n",
       "      <td>1.0</td>\n",
       "    </tr>\n",
       "    <tr>\n",
       "      <th>1</th>\n",
       "      <td>-0.089286</td>\n",
       "      <td>-0.081338</td>\n",
       "      <td>0</td>\n",
       "      <td>0.752667</td>\n",
       "      <td>-0.658402</td>\n",
       "      <td>0.0</td>\n",
       "      <td>0.0</td>\n",
       "      <td>0.0</td>\n",
       "      <td>0.0</td>\n",
       "      <td>1.0</td>\n",
       "      <td>0.0</td>\n",
       "      <td>0.0</td>\n",
       "      <td>0.0</td>\n",
       "      <td>0.0</td>\n",
       "      <td>0.0</td>\n",
       "      <td>0.0</td>\n",
       "      <td>0.0</td>\n",
       "      <td>0.0</td>\n",
       "      <td>0.0</td>\n",
       "      <td>0.0</td>\n",
       "      <td>...</td>\n",
       "      <td>0.0</td>\n",
       "      <td>0.0</td>\n",
       "      <td>0.0</td>\n",
       "      <td>0.0</td>\n",
       "      <td>0.0</td>\n",
       "      <td>0.0</td>\n",
       "      <td>0.0</td>\n",
       "      <td>0.0</td>\n",
       "      <td>0.0</td>\n",
       "      <td>1.0</td>\n",
       "      <td>0.0</td>\n",
       "      <td>0.0</td>\n",
       "      <td>0.0</td>\n",
       "      <td>0.0</td>\n",
       "      <td>0.0</td>\n",
       "      <td>0.0</td>\n",
       "      <td>0.0</td>\n",
       "      <td>0.0</td>\n",
       "      <td>0.0</td>\n",
       "      <td>1.0</td>\n",
       "    </tr>\n",
       "    <tr>\n",
       "      <th>2</th>\n",
       "      <td>-0.142857</td>\n",
       "      <td>-0.081338</td>\n",
       "      <td>0</td>\n",
       "      <td>0.501242</td>\n",
       "      <td>-0.865307</td>\n",
       "      <td>0.0</td>\n",
       "      <td>0.0</td>\n",
       "      <td>0.0</td>\n",
       "      <td>0.0</td>\n",
       "      <td>1.0</td>\n",
       "      <td>0.0</td>\n",
       "      <td>0.0</td>\n",
       "      <td>0.0</td>\n",
       "      <td>0.0</td>\n",
       "      <td>0.0</td>\n",
       "      <td>0.0</td>\n",
       "      <td>0.0</td>\n",
       "      <td>0.0</td>\n",
       "      <td>0.0</td>\n",
       "      <td>0.0</td>\n",
       "      <td>...</td>\n",
       "      <td>0.0</td>\n",
       "      <td>0.0</td>\n",
       "      <td>0.0</td>\n",
       "      <td>0.0</td>\n",
       "      <td>0.0</td>\n",
       "      <td>0.0</td>\n",
       "      <td>0.0</td>\n",
       "      <td>0.0</td>\n",
       "      <td>0.0</td>\n",
       "      <td>1.0</td>\n",
       "      <td>0.0</td>\n",
       "      <td>0.0</td>\n",
       "      <td>0.0</td>\n",
       "      <td>0.0</td>\n",
       "      <td>1.0</td>\n",
       "      <td>0.0</td>\n",
       "      <td>0.0</td>\n",
       "      <td>0.0</td>\n",
       "      <td>0.0</td>\n",
       "      <td>0.0</td>\n",
       "    </tr>\n",
       "  </tbody>\n",
       "</table>\n",
       "<p>3 rows × 76 columns</p>\n",
       "</div>"
      ],
      "text/plain": [
       "   FIRE_SIZE  BURN_TIME  ARSON   DOY_SIN   DOY_COS  0_x  1_x  2_x  3_x  4_x  \\\n",
       "0  -0.142857  -0.081338      0  0.538005  0.842942  0.0  0.0  0.0  0.0  1.0   \n",
       "1  -0.089286  -0.081338      0  0.752667 -0.658402  0.0  0.0  0.0  0.0  1.0   \n",
       "2  -0.142857  -0.081338      0  0.501242 -0.865307  0.0  0.0  0.0  0.0  1.0   \n",
       "\n",
       "   5_x  6_x  7_x  8_x  9_x  10_x  11_x   12   13   14 ...    51  0_y  1_y  \\\n",
       "0  0.0  0.0  0.0  0.0  0.0   0.0   0.0  0.0  0.0  0.0 ...   0.0  0.0  0.0   \n",
       "1  0.0  0.0  0.0  0.0  0.0   0.0   0.0  0.0  0.0  0.0 ...   0.0  0.0  0.0   \n",
       "2  0.0  0.0  0.0  0.0  0.0   0.0   0.0  0.0  0.0  0.0 ...   0.0  0.0  0.0   \n",
       "\n",
       "   2_y  3_y  4_y  5_y  6_y  7_y  8_y  9_y  10_y  11_y    0    1    2    3  \\\n",
       "0  0.0  1.0  0.0  0.0  0.0  0.0  0.0  0.0   0.0   0.0  0.0  0.0  0.0  0.0   \n",
       "1  0.0  0.0  0.0  0.0  0.0  0.0  1.0  0.0   0.0   0.0  0.0  0.0  0.0  0.0   \n",
       "2  0.0  0.0  0.0  0.0  0.0  0.0  1.0  0.0   0.0   0.0  0.0  1.0  0.0  0.0   \n",
       "\n",
       "     4    5    6  \n",
       "0  0.0  0.0  1.0  \n",
       "1  0.0  0.0  1.0  \n",
       "2  0.0  0.0  0.0  \n",
       "\n",
       "[3 rows x 76 columns]"
      ]
     },
     "execution_count": 75,
     "metadata": {},
     "output_type": "execute_result"
    }
   ],
   "source": [
    "df_wburn.head(3)"
   ]
  },
  {
   "cell_type": "code",
   "execution_count": 76,
   "metadata": {},
   "outputs": [
    {
     "name": "stdout",
     "output_type": "stream",
     "text": [
      "[[1.         0.10817263]\n",
      " [0.10817263 1.        ]]\n"
     ]
    }
   ],
   "source": [
    "print(np.corrcoef(df_wburn['FIRE_SIZE'], df_wburn['BURN_TIME']))"
   ]
  },
  {
   "cell_type": "markdown",
   "metadata": {},
   "source": [
    "That's a nice looking dataframe for machine learning. To deal with the all that dimensionality and collinearity I'm going to use PCA."
   ]
  },
  {
   "cell_type": "code",
   "execution_count": 77,
   "metadata": {
    "scrolled": true
   },
   "outputs": [
    {
     "name": "stdout",
     "output_type": "stream",
     "text": [
      "-0.010100877386780513\n",
      "-0.023102169599927037\n",
      "1.0\n",
      "0.21727872292443232\n",
      "0.3115484700279111\n",
      "0.018262222238848536\n",
      "0.039750388367940176\n",
      "0.09234319543058922\n",
      "-0.023448552170872477\n",
      "-0.028585804049148053\n",
      "-0.038358198490938356\n",
      "0.04414804261212062\n",
      "-0.0043735601674318204\n",
      "0.002089869300088419\n",
      "0.015387611751889086\n",
      "-0.007544983977943376\n",
      "-0.002833841770124099\n",
      "-0.006207201335102621\n",
      "-0.04573696186666396\n",
      "0.009041418452971026\n",
      "0.0008678580778531611\n",
      "0.0075746752028741865\n",
      "0.02302926050302347\n",
      "0.006669754393826193\n",
      "-0.0042819847460168325\n",
      "-0.003820122585716424\n",
      "-0.0008924848500804302\n",
      "-0.0014564729630694448\n",
      "0.006206584380532809\n",
      "0.029675375099844036\n",
      "0.014057449654639308\n",
      "-0.004405156951236721\n",
      "0.016052455924338804\n",
      "0.15458228132582866\n",
      "-0.016731038442698968\n",
      "-0.004215565954191046\n",
      "-0.004344067365684064\n",
      "-0.03536682058484418\n",
      "-0.051957535481826925\n",
      "0.08366511856913765\n",
      "-0.0056540067760405405\n",
      "0.08826292930378975\n",
      "-0.0678325984051731\n",
      "0.006721937734572639\n",
      "-0.003434609711863092\n",
      "0.011456247222251885\n",
      "0.007515007526637829\n",
      "-0.017913139184876536\n",
      "0.051766186941954416\n",
      "0.11449530408852433\n",
      "-0.05280661978934965\n",
      "0.004004852367407072\n",
      "-0.004757787482485665\n",
      "-0.04045463465925259\n",
      "-0.004994157980970034\n",
      "0.01097012793586998\n",
      "-0.0295793793116184\n",
      "0.057842760724418935\n",
      "-0.05927832725261143\n",
      "0.020847185194457028\n",
      "0.0479732268664202\n",
      "0.027308463231147554\n",
      "-0.04964274351795841\n",
      "-0.013235590306247411\n",
      "0.05153805858255825\n",
      "0.014370561477401326\n",
      "0.029871274468776444\n",
      "0.01358373360268026\n",
      "-0.020499393235334066\n",
      "-0.0016854763243586994\n",
      "-0.0011103656624290455\n",
      "0.005049199515135447\n",
      "0.0008321062761240338\n",
      "0.0006008275127299486\n",
      "0.0013672997187117912\n",
      "-0.005279015187669836\n"
     ]
    }
   ],
   "source": [
    "for i in df_wburn.columns:\n",
    "    print(np.corrcoef(df_wburn['ARSON'], df_wburn[i])[0,1])"
   ]
  },
  {
   "cell_type": "code",
   "execution_count": 78,
   "metadata": {},
   "outputs": [],
   "source": [
    "df_nosin = df_wburn.drop(['DOY_SIN'], axis=1)"
   ]
  },
  {
   "cell_type": "code",
   "execution_count": 79,
   "metadata": {},
   "outputs": [
    {
     "data": {
      "text/html": [
       "<div>\n",
       "<style scoped>\n",
       "    .dataframe tbody tr th:only-of-type {\n",
       "        vertical-align: middle;\n",
       "    }\n",
       "\n",
       "    .dataframe tbody tr th {\n",
       "        vertical-align: top;\n",
       "    }\n",
       "\n",
       "    .dataframe thead th {\n",
       "        text-align: right;\n",
       "    }\n",
       "</style>\n",
       "<table border=\"1\" class=\"dataframe\">\n",
       "  <thead>\n",
       "    <tr style=\"text-align: right;\">\n",
       "      <th></th>\n",
       "      <th>FIRE_SIZE</th>\n",
       "      <th>BURN_TIME</th>\n",
       "      <th>ARSON</th>\n",
       "      <th>DOY_COS</th>\n",
       "      <th>0_x</th>\n",
       "      <th>1_x</th>\n",
       "      <th>2_x</th>\n",
       "      <th>3_x</th>\n",
       "      <th>4_x</th>\n",
       "      <th>5_x</th>\n",
       "      <th>6_x</th>\n",
       "      <th>7_x</th>\n",
       "      <th>8_x</th>\n",
       "      <th>9_x</th>\n",
       "      <th>10_x</th>\n",
       "      <th>11_x</th>\n",
       "      <th>12</th>\n",
       "      <th>13</th>\n",
       "      <th>14</th>\n",
       "      <th>15</th>\n",
       "      <th>...</th>\n",
       "      <th>51</th>\n",
       "      <th>0_y</th>\n",
       "      <th>1_y</th>\n",
       "      <th>2_y</th>\n",
       "      <th>3_y</th>\n",
       "      <th>4_y</th>\n",
       "      <th>5_y</th>\n",
       "      <th>6_y</th>\n",
       "      <th>7_y</th>\n",
       "      <th>8_y</th>\n",
       "      <th>9_y</th>\n",
       "      <th>10_y</th>\n",
       "      <th>11_y</th>\n",
       "      <th>0</th>\n",
       "      <th>1</th>\n",
       "      <th>2</th>\n",
       "      <th>3</th>\n",
       "      <th>4</th>\n",
       "      <th>5</th>\n",
       "      <th>6</th>\n",
       "    </tr>\n",
       "  </thead>\n",
       "  <tbody>\n",
       "    <tr>\n",
       "      <th>0</th>\n",
       "      <td>-0.142857</td>\n",
       "      <td>-0.081338</td>\n",
       "      <td>0</td>\n",
       "      <td>0.842942</td>\n",
       "      <td>0.0</td>\n",
       "      <td>0.0</td>\n",
       "      <td>0.0</td>\n",
       "      <td>0.0</td>\n",
       "      <td>1.0</td>\n",
       "      <td>0.0</td>\n",
       "      <td>0.0</td>\n",
       "      <td>0.0</td>\n",
       "      <td>0.0</td>\n",
       "      <td>0.0</td>\n",
       "      <td>0.0</td>\n",
       "      <td>0.0</td>\n",
       "      <td>0.0</td>\n",
       "      <td>0.0</td>\n",
       "      <td>0.0</td>\n",
       "      <td>0.0</td>\n",
       "      <td>...</td>\n",
       "      <td>0.0</td>\n",
       "      <td>0.0</td>\n",
       "      <td>0.0</td>\n",
       "      <td>0.0</td>\n",
       "      <td>1.0</td>\n",
       "      <td>0.0</td>\n",
       "      <td>0.0</td>\n",
       "      <td>0.0</td>\n",
       "      <td>0.0</td>\n",
       "      <td>0.0</td>\n",
       "      <td>0.0</td>\n",
       "      <td>0.0</td>\n",
       "      <td>0.0</td>\n",
       "      <td>0.0</td>\n",
       "      <td>0.0</td>\n",
       "      <td>0.0</td>\n",
       "      <td>0.0</td>\n",
       "      <td>0.0</td>\n",
       "      <td>0.0</td>\n",
       "      <td>1.0</td>\n",
       "    </tr>\n",
       "    <tr>\n",
       "      <th>1</th>\n",
       "      <td>-0.089286</td>\n",
       "      <td>-0.081338</td>\n",
       "      <td>0</td>\n",
       "      <td>-0.658402</td>\n",
       "      <td>0.0</td>\n",
       "      <td>0.0</td>\n",
       "      <td>0.0</td>\n",
       "      <td>0.0</td>\n",
       "      <td>1.0</td>\n",
       "      <td>0.0</td>\n",
       "      <td>0.0</td>\n",
       "      <td>0.0</td>\n",
       "      <td>0.0</td>\n",
       "      <td>0.0</td>\n",
       "      <td>0.0</td>\n",
       "      <td>0.0</td>\n",
       "      <td>0.0</td>\n",
       "      <td>0.0</td>\n",
       "      <td>0.0</td>\n",
       "      <td>0.0</td>\n",
       "      <td>...</td>\n",
       "      <td>0.0</td>\n",
       "      <td>0.0</td>\n",
       "      <td>0.0</td>\n",
       "      <td>0.0</td>\n",
       "      <td>0.0</td>\n",
       "      <td>0.0</td>\n",
       "      <td>0.0</td>\n",
       "      <td>0.0</td>\n",
       "      <td>0.0</td>\n",
       "      <td>1.0</td>\n",
       "      <td>0.0</td>\n",
       "      <td>0.0</td>\n",
       "      <td>0.0</td>\n",
       "      <td>0.0</td>\n",
       "      <td>0.0</td>\n",
       "      <td>0.0</td>\n",
       "      <td>0.0</td>\n",
       "      <td>0.0</td>\n",
       "      <td>0.0</td>\n",
       "      <td>1.0</td>\n",
       "    </tr>\n",
       "    <tr>\n",
       "      <th>2</th>\n",
       "      <td>-0.142857</td>\n",
       "      <td>-0.081338</td>\n",
       "      <td>0</td>\n",
       "      <td>-0.865307</td>\n",
       "      <td>0.0</td>\n",
       "      <td>0.0</td>\n",
       "      <td>0.0</td>\n",
       "      <td>0.0</td>\n",
       "      <td>1.0</td>\n",
       "      <td>0.0</td>\n",
       "      <td>0.0</td>\n",
       "      <td>0.0</td>\n",
       "      <td>0.0</td>\n",
       "      <td>0.0</td>\n",
       "      <td>0.0</td>\n",
       "      <td>0.0</td>\n",
       "      <td>0.0</td>\n",
       "      <td>0.0</td>\n",
       "      <td>0.0</td>\n",
       "      <td>0.0</td>\n",
       "      <td>...</td>\n",
       "      <td>0.0</td>\n",
       "      <td>0.0</td>\n",
       "      <td>0.0</td>\n",
       "      <td>0.0</td>\n",
       "      <td>0.0</td>\n",
       "      <td>0.0</td>\n",
       "      <td>0.0</td>\n",
       "      <td>0.0</td>\n",
       "      <td>0.0</td>\n",
       "      <td>1.0</td>\n",
       "      <td>0.0</td>\n",
       "      <td>0.0</td>\n",
       "      <td>0.0</td>\n",
       "      <td>0.0</td>\n",
       "      <td>1.0</td>\n",
       "      <td>0.0</td>\n",
       "      <td>0.0</td>\n",
       "      <td>0.0</td>\n",
       "      <td>0.0</td>\n",
       "      <td>0.0</td>\n",
       "    </tr>\n",
       "  </tbody>\n",
       "</table>\n",
       "<p>3 rows × 75 columns</p>\n",
       "</div>"
      ],
      "text/plain": [
       "   FIRE_SIZE  BURN_TIME  ARSON   DOY_COS  0_x  1_x  2_x  3_x  4_x  5_x  6_x  \\\n",
       "0  -0.142857  -0.081338      0  0.842942  0.0  0.0  0.0  0.0  1.0  0.0  0.0   \n",
       "1  -0.089286  -0.081338      0 -0.658402  0.0  0.0  0.0  0.0  1.0  0.0  0.0   \n",
       "2  -0.142857  -0.081338      0 -0.865307  0.0  0.0  0.0  0.0  1.0  0.0  0.0   \n",
       "\n",
       "   7_x  8_x  9_x  10_x  11_x   12   13   14   15 ...    51  0_y  1_y  2_y  \\\n",
       "0  0.0  0.0  0.0   0.0   0.0  0.0  0.0  0.0  0.0 ...   0.0  0.0  0.0  0.0   \n",
       "1  0.0  0.0  0.0   0.0   0.0  0.0  0.0  0.0  0.0 ...   0.0  0.0  0.0  0.0   \n",
       "2  0.0  0.0  0.0   0.0   0.0  0.0  0.0  0.0  0.0 ...   0.0  0.0  0.0  0.0   \n",
       "\n",
       "   3_y  4_y  5_y  6_y  7_y  8_y  9_y  10_y  11_y    0    1    2    3    4  \\\n",
       "0  1.0  0.0  0.0  0.0  0.0  0.0  0.0   0.0   0.0  0.0  0.0  0.0  0.0  0.0   \n",
       "1  0.0  0.0  0.0  0.0  0.0  1.0  0.0   0.0   0.0  0.0  0.0  0.0  0.0  0.0   \n",
       "2  0.0  0.0  0.0  0.0  0.0  1.0  0.0   0.0   0.0  0.0  1.0  0.0  0.0  0.0   \n",
       "\n",
       "     5    6  \n",
       "0  0.0  1.0  \n",
       "1  0.0  1.0  \n",
       "2  0.0  0.0  \n",
       "\n",
       "[3 rows x 75 columns]"
      ]
     },
     "execution_count": 79,
     "metadata": {},
     "output_type": "execute_result"
    }
   ],
   "source": [
    "df_nosin.head(3)"
   ]
  },
  {
   "cell_type": "code",
   "execution_count": 80,
   "metadata": {},
   "outputs": [
    {
     "data": {
      "text/plain": [
       "PCA(copy=True, iterated_power='auto', n_components=None, random_state=None,\n",
       "  svd_solver='auto', tol=0.0, whiten=False)"
      ]
     },
     "execution_count": 80,
     "metadata": {},
     "output_type": "execute_result"
    }
   ],
   "source": [
    "pca_nosin = PCA()\n",
    "pca_nosin.fit(df_nosin.drop(['ARSON'], axis=1))"
   ]
  },
  {
   "cell_type": "code",
   "execution_count": 81,
   "metadata": {},
   "outputs": [],
   "source": [
    "var_exp_nosin = pca_nosin.explained_variance_ratio_\n",
    "cum_var_exp_nosin = np.cumsum(var_exp_nosin)"
   ]
  },
  {
   "cell_type": "code",
   "execution_count": 82,
   "metadata": {},
   "outputs": [
    {
     "data": {
      "text/plain": [
       "74"
      ]
     },
     "execution_count": 82,
     "metadata": {},
     "output_type": "execute_result"
    }
   ],
   "source": [
    "len(pca_nosin.components_)"
   ]
  },
  {
   "cell_type": "code",
   "execution_count": 83,
   "metadata": {},
   "outputs": [
    {
     "data": {
      "image/png": "[encoded data removed]",
      "text/plain": [
       "<Figure size 1080x720 with 1 Axes>"
      ]
     },
     "metadata": {},
     "output_type": "display_data"
    }
   ],
   "source": [
    "plt.figure(figsize=(15,10))\n",
    "\n",
    "# HERE IS THE BASIC PLOT\n",
    "\n",
    "# Plot the cumulative explained variance\n",
    "component_number = list(range(1, 75))\n",
    "plt.plot(component_number, cum_var_exp_nosin, lw=3)\n",
    "\n",
    "# NOW MAKE IT LOOK PRETTY\n",
    "\n",
    "# Add horizontal lines at y=0 and y=100\n",
    "plt.axhline(y=0, linewidth=5, color='grey', ls='dashed')\n",
    "plt.axhline(y=1, linewidth=3, color='grey', ls='dashed')\n",
    "\n",
    "# Set the x and y axis limits\n",
    "ax = plt.gca()\n",
    "ax.set_xlim([1,74])\n",
    "ax.set_ylim([-0.05,1.05])\n",
    "\n",
    "# Label the axes\n",
    "ax.set_ylabel('cumulative variance explained', fontsize=16)\n",
    "ax.set_xlabel('component', fontsize=16)\n",
    "\n",
    "# Make the tick labels bigger\n",
    "for tick in ax.xaxis.get_major_ticks():\n",
    "    tick.label.set_fontsize(12) \n",
    "for tick in ax.yaxis.get_major_ticks():\n",
    "    tick.label.set_fontsize(12) \n",
    "    \n",
    "# Add title\n",
    "ax.set_title('component vs cumulative variance explained\\n', fontsize=20)\n",
    "\n",
    "plt.show()"
   ]
  },
  {
   "cell_type": "code",
   "execution_count": 84,
   "metadata": {},
   "outputs": [
    {
     "name": "stdout",
     "output_type": "stream",
     "text": [
      "[0.99999807 0.99999862 0.99999877 0.99999887 0.99999895 0.99999902\n",
      " 0.99999909 0.99999915 0.99999922 0.99999928 0.99999935 0.99999941\n",
      " 0.99999946 0.99999951 0.99999955 0.99999959 0.99999962 0.99999965\n",
      " 0.99999968 0.99999971 0.99999973 0.99999975 0.99999977 0.99999979\n",
      " 0.99999981 0.99999982 0.99999984 0.99999985 0.99999986 0.99999988\n",
      " 0.99999989 0.9999999  0.99999991 0.99999991 0.99999992 0.99999993\n",
      " 0.99999994 0.99999994 0.99999995 0.99999995 0.99999996 0.99999996\n",
      " 0.99999997 0.99999997 0.99999998 0.99999998 0.99999998 0.99999999\n",
      " 0.99999999 0.99999999 0.99999999 0.99999999 0.99999999 0.99999999\n",
      " 1.         1.         1.         1.         1.         1.\n",
      " 1.         1.         1.         1.         1.         1.\n",
      " 1.         1.         1.         1.         1.         1.\n",
      " 1.         1.        ]\n"
     ]
    }
   ],
   "source": [
    "print(cum_var_exp_nosin)"
   ]
  },
  {
   "cell_type": "code",
   "execution_count": 85,
   "metadata": {},
   "outputs": [
    {
     "data": {
      "text/plain": [
       "PCA(copy=True, iterated_power='auto', n_components=None, random_state=None,\n",
       "  svd_solver='auto', tol=0.0, whiten=False)"
      ]
     },
     "execution_count": 85,
     "metadata": {},
     "output_type": "execute_result"
    }
   ],
   "source": [
    "pca_wburn = PCA()\n",
    "pca_wburn.fit(df_wburn.drop(['ARSON'], axis=1))"
   ]
  },
  {
   "cell_type": "markdown",
   "metadata": {},
   "source": [
    "The next few cells are from the PCA lesson."
   ]
  },
  {
   "cell_type": "code",
   "execution_count": 86,
   "metadata": {},
   "outputs": [],
   "source": [
    "var_exp_wburn = pca_wburn.explained_variance_ratio_\n",
    "cum_var_exp_wburn = np.cumsum(var_exp_wburn)"
   ]
  },
  {
   "cell_type": "code",
   "execution_count": 87,
   "metadata": {},
   "outputs": [
    {
     "data": {
      "text/plain": [
       "75"
      ]
     },
     "execution_count": 87,
     "metadata": {},
     "output_type": "execute_result"
    }
   ],
   "source": [
    "len(pca_wburn.components_)"
   ]
  },
  {
   "cell_type": "code",
   "execution_count": 88,
   "metadata": {},
   "outputs": [
    {
     "data": {
      "image/png": "[encoded data removed]",
      "text/plain": [
       "<Figure size 1080x720 with 1 Axes>"
      ]
     },
     "metadata": {},
     "output_type": "display_data"
    }
   ],
   "source": [
    "plt.figure(figsize=(15,10))\n",
    "\n",
    "# HERE IS THE BASIC PLOT\n",
    "\n",
    "# Plot the cumulative explained variance\n",
    "component_number = list(range(1, 76))\n",
    "plt.plot(component_number, cum_var_exp_wburn, lw=3)\n",
    "\n",
    "# NOW MAKE IT LOOK PRETTY\n",
    "\n",
    "# Add horizontal lines at y=0 and y=100\n",
    "plt.axhline(y=0, linewidth=5, color='grey', ls='dashed')\n",
    "plt.axhline(y=1, linewidth=3, color='grey', ls='dashed')\n",
    "\n",
    "# Set the x and y axis limits\n",
    "ax = plt.gca()\n",
    "ax.set_xlim([1,74])\n",
    "ax.set_ylim([-0.05,1.05])\n",
    "\n",
    "# Label the axes\n",
    "ax.set_ylabel('cumulative variance explained', fontsize=16)\n",
    "ax.set_xlabel('component', fontsize=16)\n",
    "\n",
    "# Make the tick labels bigger\n",
    "for tick in ax.xaxis.get_major_ticks():\n",
    "    tick.label.set_fontsize(12) \n",
    "for tick in ax.yaxis.get_major_ticks():\n",
    "    tick.label.set_fontsize(12) \n",
    "    \n",
    "# Add title\n",
    "ax.set_title('component vs cumulative variance explained\\n', fontsize=20)\n",
    "\n",
    "plt.show()"
   ]
  },
  {
   "cell_type": "markdown",
   "metadata": {},
   "source": [
    "I don't trust that result at all. But I have tried a bunch of different ways to catch something going wrong with it. I dropped one of my cyclical DOY columns - nothing. I scaled and normalized both my numeric columns: fire size and burn time - nothing. I checked the corrcoeffs of each feature against Arson: the biggest one is 0.3 - nothing there either. I checked to see what the correlation between BURN_TIME and FIRE_SIZE is, it's 0.1 - nothing. I have looked over the code, which is quite simple and would be hard to screw up in such a way that it would still run, several times and found no errors. I suppose it's possible that something extraordinarily improbable has occurred here."
   ]
  },
  {
   "cell_type": "code",
   "execution_count": 89,
   "metadata": {},
   "outputs": [
    {
     "name": "stdout",
     "output_type": "stream",
     "text": [
      "[0.99999786 0.99999842 0.99999864 0.99999878 0.99999888 0.99999895\n",
      " 0.99999902 0.99999909 0.99999916 0.99999922 0.99999929 0.99999935\n",
      " 0.99999941 0.99999947 0.99999951 0.99999955 0.99999959 0.99999962\n",
      " 0.99999965 0.99999968 0.99999971 0.99999973 0.99999975 0.99999977\n",
      " 0.99999979 0.99999981 0.99999982 0.99999984 0.99999985 0.99999987\n",
      " 0.99999988 0.99999989 0.9999999  0.99999991 0.99999991 0.99999992\n",
      " 0.99999993 0.99999994 0.99999994 0.99999995 0.99999995 0.99999996\n",
      " 0.99999996 0.99999997 0.99999997 0.99999998 0.99999998 0.99999998\n",
      " 0.99999999 0.99999999 0.99999999 0.99999999 0.99999999 0.99999999\n",
      " 0.99999999 1.         1.         1.         1.         1.\n",
      " 1.         1.         1.         1.         1.         1.\n",
      " 1.         1.         1.         1.         1.         1.\n",
      " 1.         1.         1.        ]\n"
     ]
    }
   ],
   "source": [
    "print(cum_var_exp_wburn)"
   ]
  },
  {
   "cell_type": "markdown",
   "metadata": {},
   "source": [
    "I'll keep 4 of my pca components for now. That keeps 99.999984% of my variance explained while dropping almost all of my variables. This solves the problems of multi-collinearity and the high dimensionality my data had after one-hot encoding. It also is going to make everything run much faster. After I've gotten to the point where I'm scoring models I'll try a few other numbers of PCA features to use, all low to keep my dimensionality down.\n",
    "\n",
    "**UPDATE:** Setled on 6 PCA features after looking at scores for a bunch of different numbers under 10."
   ]
  },
  {
   "cell_type": "markdown",
   "metadata": {},
   "source": [
    "Time to make my training and testing sets. Then I'll transform with PCA and use that."
   ]
  },
  {
   "cell_type": "code",
   "execution_count": 90,
   "metadata": {},
   "outputs": [],
   "source": [
    "X = df_wburn.drop(['ARSON'], axis=1)\n",
    "y = df_wburn['ARSON']"
   ]
  },
  {
   "cell_type": "code",
   "execution_count": 91,
   "metadata": {},
   "outputs": [],
   "source": [
    "X_train, X_test, y_train, y_test = train_test_split(X, y, test_size=0.2, random_state=42)"
   ]
  },
  {
   "cell_type": "code",
   "execution_count": 92,
   "metadata": {},
   "outputs": [],
   "source": [
    "pca_6 = PCA(n_components=6)\n",
    "pca_6.fit(X_train)\n",
    "Xt_train = pca_6.transform(X_train)\n",
    "Xt_test = pca_6.transform(X_test)"
   ]
  },
  {
   "cell_type": "markdown",
   "metadata": {},
   "source": [
    "About half of the code for these models came from : http://scikit-learn.org/stable/auto_examples/ensemble/plot_feature_transformation.html#sphx-glr-auto-examples-ensemble-plot-feature-transformation-py"
   ]
  },
  {
   "cell_type": "code",
   "execution_count": 93,
   "metadata": {},
   "outputs": [
    {
     "data": {
      "text/plain": [
       "LogisticRegression(C=1.0, class_weight=None, dual=False, fit_intercept=True,\n",
       "          intercept_scaling=1, max_iter=100, multi_class='ovr', n_jobs=1,\n",
       "          penalty='l2', random_state=None, solver='liblinear', tol=0.0001,\n",
       "          verbose=0, warm_start=False)"
      ]
     },
     "execution_count": 93,
     "metadata": {},
     "output_type": "execute_result"
    }
   ],
   "source": [
    "lr = LogisticRegression()\n",
    "lr.fit(Xt_train, y_train)"
   ]
  },
  {
   "cell_type": "code",
   "execution_count": 94,
   "metadata": {},
   "outputs": [
    {
     "data": {
      "text/plain": [
       "0.8558191654717868"
      ]
     },
     "execution_count": 94,
     "metadata": {},
     "output_type": "execute_result"
    }
   ],
   "source": [
    "lr.score(Xt_test, y_test)"
   ]
  },
  {
   "cell_type": "code",
   "execution_count": 95,
   "metadata": {},
   "outputs": [],
   "source": [
    "n_estimator = 10"
   ]
  },
  {
   "cell_type": "code",
   "execution_count": 96,
   "metadata": {},
   "outputs": [
    {
     "data": {
      "text/plain": [
       "Pipeline(memory=None,\n",
       "     steps=[('randomtreesembedding', RandomTreesEmbedding(max_depth=4, max_leaf_nodes=None,\n",
       "           min_impurity_decrease=0.0, min_impurity_split=None,\n",
       "           min_samples_leaf=1, min_samples_split=2,\n",
       "           min_weight_fraction_leaf=0.0, n_estimators=10, n_jobs=1,\n",
       "           random_state=42, sp...ty='l2', random_state=None, solver='liblinear', tol=0.0001,\n",
       "          verbose=0, warm_start=False))])"
      ]
     },
     "execution_count": 96,
     "metadata": {},
     "output_type": "execute_result"
    }
   ],
   "source": [
    "rt = RandomTreesEmbedding(max_depth=4, n_estimators=n_estimator,\n",
    "    random_state=42)\n",
    "\n",
    "rt_lm = LogisticRegression()\n",
    "pipeline = make_pipeline(rt, rt_lm)\n",
    "pipeline.fit(Xt_train, y_train)"
   ]
  },
  {
   "cell_type": "code",
   "execution_count": 97,
   "metadata": {},
   "outputs": [
    {
     "data": {
      "text/plain": [
       "0.8556745749641536"
      ]
     },
     "execution_count": 97,
     "metadata": {},
     "output_type": "execute_result"
    }
   ],
   "source": [
    "pipeline.score(Xt_test, y_test)"
   ]
  },
  {
   "cell_type": "code",
   "execution_count": 98,
   "metadata": {},
   "outputs": [
    {
     "data": {
      "text/plain": [
       "RandomForestClassifier(bootstrap=True, class_weight=None, criterion='gini',\n",
       "            max_depth=4, max_features='auto', max_leaf_nodes=None,\n",
       "            min_impurity_decrease=0.0, min_impurity_split=None,\n",
       "            min_samples_leaf=1, min_samples_split=2,\n",
       "            min_weight_fraction_leaf=0.0, n_estimators=10, n_jobs=1,\n",
       "            oob_score=False, random_state=None, verbose=0,\n",
       "            warm_start=False)"
      ]
     },
     "execution_count": 98,
     "metadata": {},
     "output_type": "execute_result"
    }
   ],
   "source": [
    "rf = RandomForestClassifier(max_depth=4, n_estimators=n_estimator)\n",
    "rf.fit(Xt_train, y_train)"
   ]
  },
  {
   "cell_type": "code",
   "execution_count": 99,
   "metadata": {},
   "outputs": [
    {
     "data": {
      "text/plain": [
       "0.8600363886110877"
      ]
     },
     "execution_count": 99,
     "metadata": {},
     "output_type": "execute_result"
    }
   ],
   "source": [
    "rf.score(Xt_test, y_test)"
   ]
  },
  {
   "cell_type": "code",
   "execution_count": 100,
   "metadata": {},
   "outputs": [
    {
     "data": {
      "text/plain": [
       "GradientBoostingClassifier(criterion='friedman_mse', init=None,\n",
       "              learning_rate=0.1, loss='deviance', max_depth=3,\n",
       "              max_features=None, max_leaf_nodes=None,\n",
       "              min_impurity_decrease=0.0, min_impurity_split=None,\n",
       "              min_samples_leaf=1, min_samples_split=2,\n",
       "              min_weight_fraction_leaf=0.0, n_estimators=10,\n",
       "              presort='auto', random_state=None, subsample=1.0, verbose=0,\n",
       "              warm_start=False)"
      ]
     },
     "execution_count": 100,
     "metadata": {},
     "output_type": "execute_result"
    }
   ],
   "source": [
    "grd = GradientBoostingClassifier(n_estimators=n_estimator)\n",
    "grd.fit(Xt_train, y_train)"
   ]
  },
  {
   "cell_type": "code",
   "execution_count": 101,
   "metadata": {},
   "outputs": [
    {
     "data": {
      "text/plain": [
       "0.8558191654717868"
      ]
     },
     "execution_count": 101,
     "metadata": {},
     "output_type": "execute_result"
    }
   ],
   "source": [
    "grd.score(Xt_test, y_test)"
   ]
  },
  {
   "cell_type": "code",
   "execution_count": 102,
   "metadata": {},
   "outputs": [
    {
     "data": {
      "text/plain": [
       "XGBClassifier(base_score=0.5, booster='gbtree', colsample_bylevel=1,\n",
       "       colsample_bytree=1, gamma=0, learning_rate=0.1, max_delta_step=0,\n",
       "       max_depth=3, min_child_weight=1, missing=None, n_estimators=100,\n",
       "       n_jobs=1, nthread=None, objective='binary:logistic', random_state=0,\n",
       "       reg_alpha=0, reg_lambda=1, scale_pos_weight=1, seed=None,\n",
       "       silent=True, subsample=1)"
      ]
     },
     "execution_count": 102,
     "metadata": {},
     "output_type": "execute_result"
    }
   ],
   "source": [
    "xgb = XGBClassifier()\n",
    "xgb.fit(Xt_train, y_train)"
   ]
  },
  {
   "cell_type": "code",
   "execution_count": 103,
   "metadata": {},
   "outputs": [
    {
     "name": "stderr",
     "output_type": "stream",
     "text": [
      "/Users/ryanmetz/anaconda3/envs/ipykernel_py3/lib/python3.6/site-packages/sklearn/preprocessing/label.py:151: DeprecationWarning: The truth value of an empty array is ambiguous. Returning False, but in future this will result in an error. Use `array.size > 0` to check that an array is not empty.\n",
      "  if diff:\n"
     ]
    },
    {
     "data": {
      "text/plain": [
       "0.8619401636282578"
      ]
     },
     "execution_count": 103,
     "metadata": {},
     "output_type": "execute_result"
    }
   ],
   "source": [
    "xgb.score(Xt_test, y_test)"
   ]
  },
  {
   "cell_type": "code",
   "execution_count": 104,
   "metadata": {},
   "outputs": [
    {
     "data": {
      "text/plain": [
       "GaussianNB(priors=None)"
      ]
     },
     "execution_count": 104,
     "metadata": {},
     "output_type": "execute_result"
    }
   ],
   "source": [
    "gnb = GaussianNB()\n",
    "gnb.fit(Xt_train, y_train)"
   ]
  },
  {
   "cell_type": "code",
   "execution_count": 105,
   "metadata": {},
   "outputs": [
    {
     "data": {
      "text/plain": [
       "0.7476534165532033"
      ]
     },
     "execution_count": 105,
     "metadata": {},
     "output_type": "execute_result"
    }
   ],
   "source": [
    "gnb.score(Xt_test, y_test)"
   ]
  },
  {
   "cell_type": "code",
   "execution_count": 106,
   "metadata": {},
   "outputs": [],
   "source": [
    "pca2 = PCA(n_components=2)\n",
    "pca2.fit(X_train)\n",
    "Xt_train_svc = pca2.transform(X_train)\n",
    "Xt_test_svc = pca2.transform(X_test)"
   ]
  },
  {
   "cell_type": "code",
   "execution_count": 151,
   "metadata": {},
   "outputs": [
    {
     "data": {
      "text/plain": [
       "LinearSVC(C=1.0, class_weight=None, dual=True, fit_intercept=False,\n",
       "     intercept_scaling=1, loss='squared_hinge', max_iter=1000,\n",
       "     multi_class='ovr', penalty='l2', random_state=42, tol=0.0001,\n",
       "     verbose=0)"
      ]
     },
     "execution_count": 151,
     "metadata": {},
     "output_type": "execute_result"
    }
   ],
   "source": [
    "lsvc = LinearSVC(fit_intercept=False, random_state=42)\n",
    "lsvc.fit(Xt_train_svc, y_train)"
   ]
  },
  {
   "cell_type": "code",
   "execution_count": 154,
   "metadata": {},
   "outputs": [
    {
     "name": "stderr",
     "output_type": "stream",
     "text": [
      "/Users/ryanmetz/anaconda3/envs/ipykernel_py3/lib/python3.6/site-packages/sklearn/calibration.py:435: RuntimeWarning: overflow encountered in exp\n",
      "  E = np.exp(AB[0] * F + AB[1])\n",
      "/Users/ryanmetz/anaconda3/envs/ipykernel_py3/lib/python3.6/site-packages/sklearn/calibration.py:445: RuntimeWarning: overflow encountered in exp\n",
      "  E = np.exp(AB[0] * F + AB[1])\n",
      "/Users/ryanmetz/anaconda3/envs/ipykernel_py3/lib/python3.6/site-packages/sklearn/calibration.py:447: RuntimeWarning: invalid value encountered in multiply\n",
      "  TEP_minus_T1P = P * (T * E - T1)\n",
      "/Users/ryanmetz/anaconda3/envs/ipykernel_py3/lib/python3.6/site-packages/sklearn/calibration.py:435: RuntimeWarning: overflow encountered in exp\n",
      "  E = np.exp(AB[0] * F + AB[1])\n",
      "/Users/ryanmetz/anaconda3/envs/ipykernel_py3/lib/python3.6/site-packages/sklearn/calibration.py:435: RuntimeWarning: overflow encountered in exp\n",
      "  E = np.exp(AB[0] * F + AB[1])\n",
      "/Users/ryanmetz/anaconda3/envs/ipykernel_py3/lib/python3.6/site-packages/sklearn/calibration.py:445: RuntimeWarning: overflow encountered in exp\n",
      "  E = np.exp(AB[0] * F + AB[1])\n",
      "/Users/ryanmetz/anaconda3/envs/ipykernel_py3/lib/python3.6/site-packages/sklearn/calibration.py:447: RuntimeWarning: invalid value encountered in multiply\n",
      "  TEP_minus_T1P = P * (T * E - T1)\n",
      "/Users/ryanmetz/anaconda3/envs/ipykernel_py3/lib/python3.6/site-packages/sklearn/calibration.py:435: RuntimeWarning: overflow encountered in exp\n",
      "  E = np.exp(AB[0] * F + AB[1])\n"
     ]
    },
    {
     "data": {
      "text/plain": [
       "CalibratedClassifierCV(base_estimator=LinearSVC(C=1.0, class_weight=None, dual=True, fit_intercept=False,\n",
       "     intercept_scaling=1, loss='squared_hinge', max_iter=1000,\n",
       "     multi_class='ovr', penalty='l2', random_state=42, tol=0.0001,\n",
       "     verbose=0),\n",
       "            cv=2, method='sigmoid')"
      ]
     },
     "execution_count": 154,
     "metadata": {},
     "output_type": "execute_result"
    }
   ],
   "source": [
    "calclass_lsvc = CalibratedClassifierCV(lsvc, cv=2, method='sigmoid')\n",
    "calclass_lsvc.fit(Xt_train_svc, y_train)"
   ]
  },
  {
   "cell_type": "code",
   "execution_count": null,
   "metadata": {},
   "outputs": [],
   "source": [
    "lsvc_preds = lsvc.predict(Xt_test_svc)\n",
    "lsvc_pred_probas = lsvc.decision_function(Xt_test_svc) "
   ]
  },
  {
   "cell_type": "markdown",
   "metadata": {},
   "source": [
    "The below cell was run and an ROC curve was generated below. It was terrible so I commented this all out so it wouldn't be re-run if I end up restarting this kernel and going through everything again."
   ]
  },
  {
   "cell_type": "code",
   "execution_count": null,
   "metadata": {},
   "outputs": [],
   "source": [
    "# Xt_train_small, Xt_train_lr, y_train_small, y_train_lr = train_test_split(Xt_train,\n",
    "#                                                             y_train,\n",
    "#                                                             test_size=0.5)\n",
    "\n",
    "# grd_enc_lm = GradientBoostingClassifier(n_estimators=n_estimator)\n",
    "# grd_lm = LogisticRegression()\n",
    "# grd_enc = OneHotEncoder()\n",
    "\n",
    "# grd.fit(Xt_train_small, y_train_small)\n",
    "# grd_enc.fit(grd.apply(Xt_train_small)[:, :, 0])\n",
    "# grd_lm.fit(grd_enc.transform(grd.apply(Xt_train_lr)[:, :, 0]), y_train_lr)"
   ]
  },
  {
   "cell_type": "code",
   "execution_count": null,
   "metadata": {},
   "outputs": [],
   "source": [
    "# clf = SVC()\n",
    "# clf.fit(Xt_train, y_train) commented out because this takes waaaaay to long to run on my laptop."
   ]
  },
  {
   "cell_type": "code",
   "execution_count": null,
   "metadata": {},
   "outputs": [],
   "source": [
    "#clf.score(Xt_test, y_test)"
   ]
  },
  {
   "cell_type": "code",
   "execution_count": null,
   "metadata": {},
   "outputs": [],
   "source": [
    "# commented out because I'm using roc2() from now on\n",
    "\n",
    "# def roc(probas, true, step=0.01):\n",
    "    \n",
    "#     probas = probas[:,1]  \n",
    "#     true = true.values \n",
    "#     assert(len(probas) == len(true))\n",
    "    \n",
    "#     TPRs = [] # Setting up empty list of True Positive Rate\n",
    "#     FPRs = [] # Setting up empty list of False Positive Rate\n",
    "    \n",
    "#     for i in np.arange(0.0,1.0,step): # np.arange allows us to use step sizes that are decimals\n",
    "#         preds_class = probas > i # Numpy arrays have a feature called 'broadcasting.' Check the documentation: https://docs.scipy.org/doc/numpy-1.13.0/user/basics.broadcasting.html to see what this does.\n",
    "#         TP = 0 \n",
    "#         FP = 0\n",
    "#         TN = 0\n",
    "#         FN = 0\n",
    "#         for index in range(len(preds_class)): # We're comparing each prediction with each true value here\n",
    "\n",
    "#             if preds_class[index] == 1 and true[index] == 1:\n",
    "#                 TP += 1\n",
    "#             elif preds_class[index] == 1 and true[index] == 0:\n",
    "#                 FP += 1\n",
    "#             elif preds_class[index] == 0 and true[index] == 0:\n",
    "#                 TN += 1 \n",
    "#             elif preds_class[index] == 0 and true[index] == 1:\n",
    "#                 FN += 1\n",
    "                \n",
    "#         TPR = TP/(TP + FN) # Calculating TPR and FPR and appending to our lists\n",
    "#         FPR = FP/(FP + TN)\n",
    "        \n",
    "#         TPRs.append(TPR)\n",
    "#         FPRs.append(FPR)\n",
    "         \n",
    "#     plt.rcParams['font.size'] = 14\n",
    "#     plt.plot(FPRs, TPRs, color=\"orange\")\n",
    "#     plt.plot([0,1],[0,1], color='navy', lw=2, linestyle='--')\n",
    "#     plt.xlim([0.0, 1.0])\n",
    "#     plt.ylim([0.0, 1.0])\n",
    "#     plt.title('Receiver Operating Characteristic')\n",
    "#     plt.xlabel(\"False Positive Rate\")\n",
    "#     plt.ylabel(\"True Positive Rate\")\n",
    "#     plt.show();"
   ]
  },
  {
   "cell_type": "code",
   "execution_count": null,
   "metadata": {},
   "outputs": [],
   "source": [
    "roc(lr.predict_proba(Xt_test), y_test)"
   ]
  },
  {
   "cell_type": "code",
   "execution_count": null,
   "metadata": {
    "scrolled": true
   },
   "outputs": [],
   "source": [
    "roc(pipeline.predict_proba(Xt_test), y_test)"
   ]
  },
  {
   "cell_type": "code",
   "execution_count": null,
   "metadata": {},
   "outputs": [],
   "source": [
    "roc(rf.predict_proba(Xt_test), y_test)"
   ]
  },
  {
   "cell_type": "code",
   "execution_count": null,
   "metadata": {},
   "outputs": [],
   "source": [
    "roc(grd.predict_proba(Xt_test), y_test)"
   ]
  },
  {
   "cell_type": "code",
   "execution_count": null,
   "metadata": {},
   "outputs": [],
   "source": [
    "roc(xgb.predict_proba(Xt_test), y_test)"
   ]
  },
  {
   "cell_type": "code",
   "execution_count": null,
   "metadata": {},
   "outputs": [],
   "source": [
    "#commented out so it can't be run again. This was terrible so I'm not going to use it, but if I go back and run\n",
    "#everything again I don't want to spend the few minutes this took to run, but I don't want to lose the graph.\n",
    "#roc(grd_lm.predict_proba(grd_enc.transform(grd.apply(X_test)[:, :, 0])), y_test)"
   ]
  },
  {
   "cell_type": "markdown",
   "metadata": {},
   "source": [
    "Wow definitely don't use that one. I'm going to comment that out above."
   ]
  },
  {
   "cell_type": "markdown",
   "metadata": {},
   "source": [
    "The code in the next 2 cells also comes from a GA lesson."
   ]
  },
  {
   "cell_type": "code",
   "execution_count": 107,
   "metadata": {},
   "outputs": [],
   "source": [
    "def roc2(probas, true, step=0.01, plot=True):\n",
    "    \"\"\"\n",
    "    probas should be a numpy array of predict_probas\n",
    "    true is a pandas series of true labels\n",
    "    step is the step size for checking thresholds\n",
    "    plot is a boolean for whether we want to generate a plot\n",
    "    \"\"\"\n",
    "    \n",
    "    probas = probas[:,1]  # The output of predict_proba() is an array of the probabilities for every class, but we only want the probabilities for class 1\n",
    "    true = true.values    # We need to convert the class labels from a Pandas Series to a numpy array. We do this using the .values attribute\n",
    "    assert(len(probas) == len(true)) # We're making sure that our probabilities vector is the same length as our true class labesl vector\n",
    "    \n",
    "    TPRs = [] # Setting up empty list of True Positive Rate\n",
    "    FPRs = [] # Setting up empty list of False Positive Rate\n",
    "    \n",
    "    for i in np.arange(0.0,1.0,step): # np.arange allows us to use step sizes that are decimals\n",
    "        preds_class = probas > i # Numpy arrays have a feature called 'broadcasting.' Check the documentation: https://docs.scipy.org/doc/numpy-1.13.0/user/basics.broadcasting.html to see what this does.\n",
    "        TP = 0 \n",
    "        FP = 0\n",
    "        TN = 0\n",
    "        FN = 0\n",
    "        for index in range(len(preds_class)): # We're comparing each prediction with each true value here\n",
    "\n",
    "            if preds_class[index] == 1 and true[index] == 1:\n",
    "                TP += 1\n",
    "            elif preds_class[index] == 1 and true[index] == 0:\n",
    "                FP += 1\n",
    "            elif preds_class[index] == 0 and true[index] == 0:\n",
    "                TN += 1 \n",
    "            elif preds_class[index] == 0 and true[index] == 1:\n",
    "                FN += 1\n",
    "                \n",
    "        TPR = TP/(TP + FN) # Calculating TPR and FPR and appending to our lists\n",
    "        FPR = FP/(FP + TN)\n",
    "        \n",
    "        TPRs.append(TPR)\n",
    "        FPRs.append(FPR)\n",
    "        \n",
    "    if plot: # Only generate a plot if plot == True\n",
    "        \n",
    "        plt.rcParams['font.size'] = 14\n",
    "        plt.plot(FPRs, TPRs, color=\"orange\")\n",
    "        plt.plot([0,1],[0,1], color='navy', lw=2, linestyle='--')\n",
    "        plt.xlim([0.0, 1.0])\n",
    "        plt.ylim([0.0, 1.0])\n",
    "        plt.title('Receiver Operating Characteristic')\n",
    "        plt.xlabel(\"False Positive Rate\")\n",
    "        plt.ylabel(\"True Positive Rate\")\n",
    "        plt.show();\n",
    "        \n",
    "    return np.array(TPRs), np.array(FPRs) # We'll neet to have our TPRs and FPRs as arrays so we can use broadcasting in the next function.\n",
    "\n",
    "def sen_spec(probas, true, stat=\"sensitivity\", stat_val=0.5, step=0.01):\n",
    "    '''\n",
    "    This is the function that the assignment is asking for. We'll feed in our probas and true vectors as we do with the previous function, as well\n",
    "    as we are looking at, as well as the value of that stat that we want to find, and the step size for our roc function.\n",
    "    \n",
    "    '''\n",
    "    \n",
    "    stat = stat.lower() # turn the string into lowercase for ease of comparison\n",
    "    \n",
    "    assert(stat in [\"sensitivity\", \"specificity\"]) # Throw an error if the user did not write sensitivity or specificity\n",
    "    \n",
    "    TPRs, FPRs = roc2(probas, true, step=step, plot=False) # use our roc function to get vectors of TPR and FPR\n",
    "    \n",
    "    if stat == \"sensitivity\":\n",
    "        diffs = np.absolute(TPRs - stat_val) # We won't necessarily be able to find a threshold that gives the exact value we're looking for, but we can find the one that gets us the closest.\n",
    "        loc = np.argmin(diffs) # We want to find the index of the TPR that was closest to the value we specified\n",
    "        threshold = loc * step\n",
    "        sensitivity = TPRs[loc]\n",
    "        spec_corr = (1 - FPRs[loc])\n",
    "        \n",
    "        print(\"Sensitivity: {:.5f}%, Specificity: {:.5f}%, Threshold: {}%\".format(sensitivity*100, spec_corr*100, threshold*100))\n",
    "        return TPRs, FPRs\n",
    "    \n",
    "    elif stat == \"specificity\":\n",
    "        specificities = 1 - FPRs # FPR = 1 - specificity --> specificity = 1 - FPR\n",
    "        diffs = np.absolute(specificities - stat_val)\n",
    "        loc = np.argmin(diffs)\n",
    "        threshold = loc * step\n",
    "        specificity = specificities[loc]\n",
    "        sens_corr = (TPRs[loc])\n",
    "        \n",
    "        print(\"Specificity: {:.5f}%, Sensitivity: {:.5f}%, Threshold: {}%\".format(specificity*100, sens_corr*100, threshold*100))\n",
    "        return TPRs, FPRs"
   ]
  },
  {
   "cell_type": "code",
   "execution_count": 108,
   "metadata": {},
   "outputs": [],
   "source": [
    "def auc(y, x):\n",
    "    \n",
    "    auc = 0\n",
    "    for i in range(1,len(x)):\n",
    "        auc += ((y[i] + y[i-1])/2)*abs((x[i] - x[i-1]))\n",
    "        \n",
    "    return auc"
   ]
  },
  {
   "cell_type": "markdown",
   "metadata": {},
   "source": [
    "Going to re-run all the models for scoring with the above functions."
   ]
  },
  {
   "cell_type": "code",
   "execution_count": 109,
   "metadata": {
    "scrolled": true
   },
   "outputs": [
    {
     "data": {
      "image/png": "[encoded data removed]",
      "text/plain": [
       "<Figure size 432x288 with 1 Axes>"
      ]
     },
     "metadata": {},
     "output_type": "display_data"
    },
    {
     "data": {
      "text/plain": [
       "(array([1.00000000e+00, 9.99498579e-01, 9.99247869e-01, 9.98913589e-01,\n",
       "        9.98245028e-01, 9.94484372e-01, 9.41500919e-01, 8.71552733e-01,\n",
       "        8.13471503e-01, 7.72605716e-01, 7.47200401e-01, 7.24385760e-01,\n",
       "        7.05582484e-01, 6.87113488e-01, 6.69062343e-01, 6.51763329e-01,\n",
       "        6.33712185e-01, 6.17666722e-01, 6.01537690e-01, 5.88584322e-01,\n",
       "        5.74628113e-01, 5.58582651e-01, 5.38943674e-01, 5.22313221e-01,\n",
       "        5.06936320e-01, 4.91559418e-01, 4.75096106e-01, 4.59050643e-01,\n",
       "        4.43590172e-01, 4.28547551e-01, 4.13003510e-01, 3.96707337e-01,\n",
       "        3.79575464e-01, 3.65619255e-01, 3.49155942e-01, 3.36620425e-01,\n",
       "        3.22664215e-01, 3.09877988e-01, 2.96673909e-01, 2.82299850e-01,\n",
       "        2.68009360e-01, 2.52131038e-01, 2.36085576e-01, 2.20207254e-01,\n",
       "        2.00735417e-01, 1.81180010e-01, 1.62293164e-01, 1.42487047e-01,\n",
       "        1.24686612e-01, 1.06551897e-01, 8.85007521e-02, 7.24552900e-02,\n",
       "        4.98913589e-02, 2.83302691e-02, 1.46247702e-02, 5.26491727e-03,\n",
       "        4.17850577e-04, 0.00000000e+00, 0.00000000e+00, 0.00000000e+00,\n",
       "        0.00000000e+00, 0.00000000e+00, 0.00000000e+00, 0.00000000e+00,\n",
       "        0.00000000e+00, 0.00000000e+00, 0.00000000e+00, 0.00000000e+00,\n",
       "        0.00000000e+00, 0.00000000e+00, 0.00000000e+00, 0.00000000e+00,\n",
       "        0.00000000e+00, 0.00000000e+00, 0.00000000e+00, 0.00000000e+00,\n",
       "        0.00000000e+00, 0.00000000e+00, 0.00000000e+00, 0.00000000e+00,\n",
       "        0.00000000e+00, 0.00000000e+00, 0.00000000e+00, 0.00000000e+00,\n",
       "        0.00000000e+00, 0.00000000e+00, 0.00000000e+00, 0.00000000e+00,\n",
       "        0.00000000e+00, 0.00000000e+00, 0.00000000e+00, 0.00000000e+00,\n",
       "        0.00000000e+00, 0.00000000e+00, 0.00000000e+00, 0.00000000e+00,\n",
       "        0.00000000e+00, 0.00000000e+00, 0.00000000e+00, 0.00000000e+00]),\n",
       " array([1.00000000e+00, 9.94551368e-01, 9.91059738e-01, 9.87314683e-01,\n",
       "        9.82006842e-01, 9.41135061e-01, 7.29623946e-01, 5.25701494e-01,\n",
       "        4.17292016e-01, 3.61496332e-01, 3.25439622e-01, 2.97985273e-01,\n",
       "        2.76345615e-01, 2.58014558e-01, 2.42682360e-01, 2.28603207e-01,\n",
       "        2.15791178e-01, 2.04640489e-01, 1.94489420e-01, 1.85070466e-01,\n",
       "        1.75750067e-01, 1.68034691e-01, 1.60431948e-01, 1.52899602e-01,\n",
       "        1.44677376e-01, 1.36891605e-01, 1.29302941e-01, 1.21995861e-01,\n",
       "        1.15209709e-01, 1.08845932e-01, 1.02960846e-01, 9.72587889e-02,\n",
       "        9.18523942e-02, 8.61221789e-02, 8.15886916e-02, 7.70974418e-02,\n",
       "        7.22260549e-02, 6.77066468e-02, 6.36518507e-02, 5.91606009e-02,\n",
       "        5.53592296e-02, 5.15578583e-02, 4.75593788e-02, 4.36594534e-02,\n",
       "        3.95201825e-02, 3.50993284e-02, 3.05658412e-02, 2.61309080e-02,\n",
       "        2.26111197e-02, 1.88660650e-02, 1.49098230e-02, 1.09113436e-02,\n",
       "        7.32115956e-03, 3.75913385e-03, 1.49239022e-03, 2.95662213e-04,\n",
       "        1.40791530e-05, 0.00000000e+00, 0.00000000e+00, 0.00000000e+00,\n",
       "        0.00000000e+00, 0.00000000e+00, 0.00000000e+00, 0.00000000e+00,\n",
       "        0.00000000e+00, 0.00000000e+00, 0.00000000e+00, 0.00000000e+00,\n",
       "        0.00000000e+00, 0.00000000e+00, 0.00000000e+00, 0.00000000e+00,\n",
       "        0.00000000e+00, 0.00000000e+00, 0.00000000e+00, 0.00000000e+00,\n",
       "        0.00000000e+00, 0.00000000e+00, 0.00000000e+00, 0.00000000e+00,\n",
       "        0.00000000e+00, 0.00000000e+00, 0.00000000e+00, 0.00000000e+00,\n",
       "        0.00000000e+00, 0.00000000e+00, 0.00000000e+00, 0.00000000e+00,\n",
       "        0.00000000e+00, 0.00000000e+00, 0.00000000e+00, 0.00000000e+00,\n",
       "        0.00000000e+00, 0.00000000e+00, 0.00000000e+00, 0.00000000e+00,\n",
       "        0.00000000e+00, 0.00000000e+00, 0.00000000e+00, 0.00000000e+00]))"
      ]
     },
     "execution_count": 109,
     "metadata": {},
     "output_type": "execute_result"
    }
   ],
   "source": [
    "roc2(lr.predict_proba(Xt_test), y_test)"
   ]
  },
  {
   "cell_type": "code",
   "execution_count": null,
   "metadata": {},
   "outputs": [],
   "source": [
    "#TPRs_lr, FPRs_lr = sen_spec(probas=lr.predict_proba(Xt_test), true=y_test, stat=\"specificity\", stat_val = 0.99, step=0.01)\n",
    "#this was with 5 pca feats\n"
   ]
  },
  {
   "cell_type": "code",
   "execution_count": null,
   "metadata": {},
   "outputs": [],
   "source": [
    "#TPRs_lr, FPRs_lr = sen_spec(probas=lr.predict_proba(Xt_test), true=y_test, stat=\"specificity\", stat_val = 0.99, step=0.01)\n",
    "# 7 PCA feats"
   ]
  },
  {
   "cell_type": "code",
   "execution_count": null,
   "metadata": {},
   "outputs": [],
   "source": [
    "#TPRs_lr, FPRs_lr = sen_spec(probas=lr.predict_proba(Xt_test), true=y_test, stat=\"specificity\", stat_val = 0.99, step=0.01)\n",
    "# 8 pca feats"
   ]
  },
  {
   "cell_type": "markdown",
   "metadata": {},
   "source": [
    "A \"by-hand gridsearch\" shows that 6 PCA features gives the best sensitivity. Could be a local maxima but I'm not willing to make the data array even bigger than 8 given how many rows I have."
   ]
  },
  {
   "cell_type": "code",
   "execution_count": 126,
   "metadata": {},
   "outputs": [
    {
     "name": "stdout",
     "output_type": "stream",
     "text": [
      "Specificity: 98.90746%, Sensitivity: 7.25389%, Threshold: 51.0%\n"
     ]
    }
   ],
   "source": [
    "TPRs_lr, FPRs_lr = sen_spec(probas=lr.predict_proba(Xt_test), true=y_test, stat=\"specificity\", stat_val = 0.99, step=0.01)\n",
    "#with 6 pca feats"
   ]
  },
  {
   "cell_type": "code",
   "execution_count": 110,
   "metadata": {},
   "outputs": [
    {
     "ename": "NameError",
     "evalue": "name 'TPRs_lr' is not defined",
     "output_type": "error",
     "traceback": [
      "\u001b[0;31m---------------------------------------------------------------------------\u001b[0m",
      "\u001b[0;31mNameError\u001b[0m                                 Traceback (most recent call last)",
      "\u001b[0;32m<ipython-input-110-ea1abe16c5e9>\u001b[0m in \u001b[0;36m<module>\u001b[0;34m()\u001b[0m\n\u001b[0;32m----> 1\u001b[0;31m \u001b[0mauc\u001b[0m\u001b[0;34m(\u001b[0m\u001b[0mTPRs_lr\u001b[0m\u001b[0;34m,\u001b[0m \u001b[0mFPRs_lr\u001b[0m\u001b[0;34m)\u001b[0m\u001b[0;34m\u001b[0m\u001b[0m\n\u001b[0m",
      "\u001b[0;31mNameError\u001b[0m: name 'TPRs_lr' is not defined"
     ]
    }
   ],
   "source": [
    "auc(TPRs_lr, FPRs_lr)"
   ]
  },
  {
   "cell_type": "markdown",
   "metadata": {},
   "source": [
    "This \"pipeline\" was a random trees embedding with a logistic regression performed on that output."
   ]
  },
  {
   "cell_type": "code",
   "execution_count": null,
   "metadata": {
    "scrolled": true
   },
   "outputs": [],
   "source": [
    "roc2(pipeline.predict_proba(Xt_test), y_test)"
   ]
  },
  {
   "cell_type": "code",
   "execution_count": null,
   "metadata": {},
   "outputs": [],
   "source": [
    "TPRs_rt, FPRs_rt = sen_spec(probas=pipeline.predict_proba(Xt_test), true=y_test, stat=\"specificity\", stat_val = 0.99, step=0.01)\n"
   ]
  },
  {
   "cell_type": "code",
   "execution_count": null,
   "metadata": {},
   "outputs": [],
   "source": [
    "auc(TPRs_rt, FPRs_rt)"
   ]
  },
  {
   "cell_type": "markdown",
   "metadata": {},
   "source": [
    "Now for the random forest."
   ]
  },
  {
   "cell_type": "code",
   "execution_count": null,
   "metadata": {
    "scrolled": true
   },
   "outputs": [],
   "source": [
    "roc2(rf.predict_proba(Xt_test), y_test)"
   ]
  },
  {
   "cell_type": "code",
   "execution_count": null,
   "metadata": {},
   "outputs": [],
   "source": [
    "TPRs_rf, FPRs_rf = sen_spec(probas=rf.predict_proba(Xt_test), true=y_test, stat=\"specificity\", stat_val = 0.99, step=0.01)\n"
   ]
  },
  {
   "cell_type": "code",
   "execution_count": null,
   "metadata": {},
   "outputs": [],
   "source": [
    "auc(TPRs_rf, FPRs_rf)"
   ]
  },
  {
   "cell_type": "markdown",
   "metadata": {},
   "source": [
    "Next is Gradient Boosted Trees Classifier"
   ]
  },
  {
   "cell_type": "code",
   "execution_count": null,
   "metadata": {
    "scrolled": true
   },
   "outputs": [],
   "source": [
    "roc2(grd.predict_proba(Xt_test), y_test)"
   ]
  },
  {
   "cell_type": "code",
   "execution_count": null,
   "metadata": {},
   "outputs": [],
   "source": [
    "TPRs_grd, FPRs_grd = sen_spec(probas=grd.predict_proba(Xt_test), true=y_test, stat=\"specificity\", stat_val = 0.99, step=0.01)\n"
   ]
  },
  {
   "cell_type": "code",
   "execution_count": null,
   "metadata": {},
   "outputs": [],
   "source": [
    "auc(TPRs_grd, FPRs_grd)"
   ]
  },
  {
   "cell_type": "markdown",
   "metadata": {},
   "source": [
    "Now for XGBoost"
   ]
  },
  {
   "cell_type": "code",
   "execution_count": null,
   "metadata": {
    "scrolled": true
   },
   "outputs": [],
   "source": [
    "roc2(xgb.predict_proba(Xt_test), y_test)"
   ]
  },
  {
   "cell_type": "code",
   "execution_count": null,
   "metadata": {},
   "outputs": [],
   "source": [
    "TPRs_xgb, FPRs_xgb = sen_spec(probas=xgb.predict_proba(Xt_test), true=y_test, stat=\"specificity\", stat_val = 0.99, step=0.01)\n"
   ]
  },
  {
   "cell_type": "code",
   "execution_count": null,
   "metadata": {},
   "outputs": [],
   "source": [
    "auc(TPRs_xgb, FPRs_xgb)"
   ]
  },
  {
   "cell_type": "markdown",
   "metadata": {},
   "source": [
    "Now Gaussian Naive Bayes Classifier."
   ]
  },
  {
   "cell_type": "code",
   "execution_count": null,
   "metadata": {
    "scrolled": true
   },
   "outputs": [],
   "source": [
    "roc2(gnb.predict_proba(Xt_test), y_test)"
   ]
  },
  {
   "cell_type": "code",
   "execution_count": null,
   "metadata": {},
   "outputs": [],
   "source": [
    "TPRs_gnb, FPRs_gnb = sen_spec(probas=gnb.predict_proba(Xt_test), true=y_test, stat=\"specificity\", stat_val = 0.99, step=0.01)\n"
   ]
  },
  {
   "cell_type": "code",
   "execution_count": null,
   "metadata": {},
   "outputs": [],
   "source": [
    "auc(TPRs_gnb, FPRs_gnb)"
   ]
  },
  {
   "cell_type": "code",
   "execution_count": null,
   "metadata": {},
   "outputs": [],
   "source": [
    "# pca_1 = PCA(n_components=1)\n",
    "# pca_1.fit(X_train)\n",
    "# Xt_train_svm = pca_1.transform(X_train)\n",
    "# Xt_test_svm = pca_1.transform(X_test)"
   ]
  },
  {
   "cell_type": "code",
   "execution_count": null,
   "metadata": {},
   "outputs": [],
   "source": [
    "# clf = SVC(probability=True)\n",
    "# clf.fit(Xt_train_svm, y_train)"
   ]
  },
  {
   "cell_type": "code",
   "execution_count": null,
   "metadata": {},
   "outputs": [],
   "source": [
    "# roc2(clf.predict_proba(Xt_test), y_test)"
   ]
  },
  {
   "cell_type": "code",
   "execution_count": null,
   "metadata": {},
   "outputs": [],
   "source": [
    "# TPRs_svc, FPRs_svc = sen_spec(probas=svc.predict_proba(Xt_test), true=y_test, stat=\"specificity\", stat_val = 0.99, step=0.01)\n"
   ]
  },
  {
   "cell_type": "code",
   "execution_count": null,
   "metadata": {},
   "outputs": [],
   "source": [
    "# auc(TPRs_svc, FPRs_svc)"
   ]
  },
  {
   "cell_type": "markdown",
   "metadata": {},
   "source": [
    "SVC is too computationally demanding for this laptop without CUDA compiling and running it on my GPU. Going to have to do that in the cloud."
   ]
  },
  {
   "cell_type": "code",
   "execution_count": 155,
   "metadata": {
    "scrolled": true
   },
   "outputs": [
    {
     "data": {
      "image/png": "[encoded data removed]",
      "text/plain": [
       "<Figure size 432x288 with 1 Axes>"
      ]
     },
     "metadata": {},
     "output_type": "display_data"
    },
    {
     "data": {
      "text/plain": [
       "(array([1.00000000e+00, 9.99832860e-01, 9.99832860e-01, 9.99832860e-01,\n",
       "        9.99832860e-01, 9.99832860e-01, 9.99665720e-01, 9.99582149e-01,\n",
       "        9.99331439e-01, 9.99331439e-01, 9.99164299e-01, 9.99080729e-01,\n",
       "        9.98830018e-01, 9.97910747e-01, 9.94567943e-01, 8.35701153e-05,\n",
       "        0.00000000e+00, 0.00000000e+00, 0.00000000e+00, 0.00000000e+00,\n",
       "        0.00000000e+00, 0.00000000e+00, 0.00000000e+00, 0.00000000e+00,\n",
       "        0.00000000e+00, 0.00000000e+00, 0.00000000e+00, 0.00000000e+00,\n",
       "        0.00000000e+00, 0.00000000e+00, 0.00000000e+00, 0.00000000e+00,\n",
       "        0.00000000e+00, 0.00000000e+00, 0.00000000e+00, 0.00000000e+00,\n",
       "        0.00000000e+00, 0.00000000e+00, 0.00000000e+00, 0.00000000e+00,\n",
       "        0.00000000e+00, 0.00000000e+00, 0.00000000e+00, 0.00000000e+00,\n",
       "        0.00000000e+00, 0.00000000e+00, 0.00000000e+00, 0.00000000e+00,\n",
       "        0.00000000e+00, 0.00000000e+00, 0.00000000e+00, 0.00000000e+00,\n",
       "        0.00000000e+00, 0.00000000e+00, 0.00000000e+00, 0.00000000e+00,\n",
       "        0.00000000e+00, 0.00000000e+00, 0.00000000e+00, 0.00000000e+00,\n",
       "        0.00000000e+00, 0.00000000e+00, 0.00000000e+00, 0.00000000e+00,\n",
       "        0.00000000e+00, 0.00000000e+00, 0.00000000e+00, 0.00000000e+00,\n",
       "        0.00000000e+00, 0.00000000e+00, 0.00000000e+00, 0.00000000e+00,\n",
       "        0.00000000e+00, 0.00000000e+00, 0.00000000e+00, 0.00000000e+00,\n",
       "        0.00000000e+00, 0.00000000e+00, 0.00000000e+00, 0.00000000e+00,\n",
       "        0.00000000e+00, 0.00000000e+00, 0.00000000e+00, 0.00000000e+00,\n",
       "        0.00000000e+00, 0.00000000e+00, 0.00000000e+00, 0.00000000e+00,\n",
       "        0.00000000e+00, 0.00000000e+00, 0.00000000e+00, 0.00000000e+00,\n",
       "        0.00000000e+00, 0.00000000e+00, 0.00000000e+00, 0.00000000e+00,\n",
       "        0.00000000e+00, 0.00000000e+00, 0.00000000e+00, 0.00000000e+00]),\n",
       " array([1.00000000e+00, 9.99859208e-01, 9.99648021e-01, 9.99493150e-01,\n",
       "        9.99324201e-01, 9.99155251e-01, 9.98929984e-01, 9.98634322e-01,\n",
       "        9.98366818e-01, 9.98085235e-01, 9.97648781e-01, 9.96972982e-01,\n",
       "        9.95874808e-01, 9.93960043e-01, 9.88173511e-01, 1.40791530e-05,\n",
       "        0.00000000e+00, 0.00000000e+00, 0.00000000e+00, 0.00000000e+00,\n",
       "        0.00000000e+00, 0.00000000e+00, 0.00000000e+00, 0.00000000e+00,\n",
       "        0.00000000e+00, 0.00000000e+00, 0.00000000e+00, 0.00000000e+00,\n",
       "        0.00000000e+00, 0.00000000e+00, 0.00000000e+00, 0.00000000e+00,\n",
       "        0.00000000e+00, 0.00000000e+00, 0.00000000e+00, 0.00000000e+00,\n",
       "        0.00000000e+00, 0.00000000e+00, 0.00000000e+00, 0.00000000e+00,\n",
       "        0.00000000e+00, 0.00000000e+00, 0.00000000e+00, 0.00000000e+00,\n",
       "        0.00000000e+00, 0.00000000e+00, 0.00000000e+00, 0.00000000e+00,\n",
       "        0.00000000e+00, 0.00000000e+00, 0.00000000e+00, 0.00000000e+00,\n",
       "        0.00000000e+00, 0.00000000e+00, 0.00000000e+00, 0.00000000e+00,\n",
       "        0.00000000e+00, 0.00000000e+00, 0.00000000e+00, 0.00000000e+00,\n",
       "        0.00000000e+00, 0.00000000e+00, 0.00000000e+00, 0.00000000e+00,\n",
       "        0.00000000e+00, 0.00000000e+00, 0.00000000e+00, 0.00000000e+00,\n",
       "        0.00000000e+00, 0.00000000e+00, 0.00000000e+00, 0.00000000e+00,\n",
       "        0.00000000e+00, 0.00000000e+00, 0.00000000e+00, 0.00000000e+00,\n",
       "        0.00000000e+00, 0.00000000e+00, 0.00000000e+00, 0.00000000e+00,\n",
       "        0.00000000e+00, 0.00000000e+00, 0.00000000e+00, 0.00000000e+00,\n",
       "        0.00000000e+00, 0.00000000e+00, 0.00000000e+00, 0.00000000e+00,\n",
       "        0.00000000e+00, 0.00000000e+00, 0.00000000e+00, 0.00000000e+00,\n",
       "        0.00000000e+00, 0.00000000e+00, 0.00000000e+00, 0.00000000e+00,\n",
       "        0.00000000e+00, 0.00000000e+00, 0.00000000e+00, 0.00000000e+00]))"
      ]
     },
     "execution_count": 155,
     "metadata": {},
     "output_type": "execute_result"
    }
   ],
   "source": [
    "roc2(calclass_lsvc.predict_proba(Xt_test_svc), y_test)"
   ]
  },
  {
   "cell_type": "markdown",
   "metadata": {},
   "source": [
    "I screwed up by calibrating and training on the same data set, which is fatal to this technique. I'll have to go fix that."
   ]
  },
  {
   "cell_type": "code",
   "execution_count": null,
   "metadata": {},
   "outputs": [],
   "source": [
    "TPRs_calcla_lsvc, FPRs_gnb = sen_spec(probas=calclass_lsvc.predict_proba(Xt_test_svc), true=y_test, stat=\"specificity\", stat_val = 0.99, step=0.01)\n"
   ]
  },
  {
   "cell_type": "code",
   "execution_count": null,
   "metadata": {},
   "outputs": [],
   "source": []
  },
  {
   "cell_type": "markdown",
   "metadata": {},
   "source": [
    "It would appear that having my classes unbalanced, cases of Arson make up only 16% of the instances in my sample. Has truly come back to haunt me. I will now deal with that in various ways."
   ]
  },
  {
   "cell_type": "code",
   "execution_count": null,
   "metadata": {},
   "outputs": [],
   "source": [
    "df_wburn.ARSON.value_counts()"
   ]
  },
  {
   "cell_type": "code",
   "execution_count": null,
   "metadata": {},
   "outputs": [],
   "source": [
    "# Method 1: downsample majority class\n",
    "\n",
    "df_minority = df_wburn[df_wburn['ARSON']==1]\n",
    "df_majority = df_wburn[df_wburn['ARSON']==0]\n",
    " \n",
    "df_majority_downsampled = resample(df_majority, \n",
    "                                 replace=False,    # sample without replacement\n",
    "                                 n_samples=59948,     # to match minority class\n",
    "                                 random_state=42) # reproducible results\n",
    " \n",
    "# Combine minority class with downsampled majority class\n",
    "df_downsampled = pd.concat([df_majority_downsampled, df_minority])\n",
    " \n",
    "# Display new class counts\n",
    "df_downsampled.ARSON.value_counts()"
   ]
  },
  {
   "cell_type": "code",
   "execution_count": 164,
   "metadata": {},
   "outputs": [],
   "source": [
    "Xd = df_downsampled.drop(['ARSON'], axis=1)\n",
    "yd = df_downsampled['ARSON']"
   ]
  },
  {
   "cell_type": "code",
   "execution_count": 170,
   "metadata": {},
   "outputs": [],
   "source": [
    "X_train_down, X_test_down, y_train_down, y_test_down = train_test_split(Xd, yd, test_size=0.2, random_state=42)"
   ]
  },
  {
   "cell_type": "code",
   "execution_count": 171,
   "metadata": {},
   "outputs": [],
   "source": [
    "pca_6_down = PCA(n_components=6)\n",
    "pca_6_down.fit(X_train_down)\n",
    "Xdt_train = pca_6_down.transform(X_train_down)\n",
    "Xdt_test = pca_6_down.transform(X_test_down)"
   ]
  },
  {
   "cell_type": "code",
   "execution_count": 172,
   "metadata": {},
   "outputs": [
    {
     "data": {
      "text/plain": [
       "LogisticRegression(C=1.0, class_weight=None, dual=False, fit_intercept=True,\n",
       "          intercept_scaling=1, max_iter=100, multi_class='ovr', n_jobs=1,\n",
       "          penalty='l2', random_state=None, solver='liblinear', tol=0.0001,\n",
       "          verbose=0, warm_start=False)"
      ]
     },
     "execution_count": 172,
     "metadata": {},
     "output_type": "execute_result"
    }
   ],
   "source": [
    "lr_down = LogisticRegression()\n",
    "lr_down.fit(Xdt_train, y_train_down)"
   ]
  },
  {
   "cell_type": "code",
   "execution_count": 174,
   "metadata": {},
   "outputs": [
    {
     "data": {
      "text/plain": [
       "0.7121768140116764"
      ]
     },
     "execution_count": 174,
     "metadata": {},
     "output_type": "execute_result"
    }
   ],
   "source": [
    "lr_down.score(Xdt_test, y_test_down)"
   ]
  },
  {
   "cell_type": "code",
   "execution_count": 175,
   "metadata": {},
   "outputs": [
    {
     "data": {
      "text/plain": [
       "Pipeline(memory=None,\n",
       "     steps=[('randomtreesembedding', RandomTreesEmbedding(max_depth=4, max_leaf_nodes=None,\n",
       "           min_impurity_decrease=0.0, min_impurity_split=None,\n",
       "           min_samples_leaf=1, min_samples_split=2,\n",
       "           min_weight_fraction_leaf=0.0, n_estimators=10, n_jobs=1,\n",
       "           random_state=42, sp...ty='l2', random_state=None, solver='liblinear', tol=0.0001,\n",
       "          verbose=0, warm_start=False))])"
      ]
     },
     "execution_count": 175,
     "metadata": {},
     "output_type": "execute_result"
    }
   ],
   "source": [
    "rt_down = RandomTreesEmbedding(max_depth=4, n_estimators=n_estimator,\n",
    "    random_state=42)\n",
    "\n",
    "rt_lm_down = LogisticRegression()\n",
    "pipeline_down = make_pipeline(rt_down, rt_lm_down)\n",
    "pipeline_down.fit(Xdt_train, y_train_down)"
   ]
  },
  {
   "cell_type": "code",
   "execution_count": 176,
   "metadata": {},
   "outputs": [
    {
     "data": {
      "text/plain": [
       "RandomForestClassifier(bootstrap=True, class_weight=None, criterion='gini',\n",
       "            max_depth=4, max_features='auto', max_leaf_nodes=None,\n",
       "            min_impurity_decrease=0.0, min_impurity_split=None,\n",
       "            min_samples_leaf=1, min_samples_split=2,\n",
       "            min_weight_fraction_leaf=0.0, n_estimators=10, n_jobs=1,\n",
       "            oob_score=False, random_state=None, verbose=0,\n",
       "            warm_start=False)"
      ]
     },
     "execution_count": 176,
     "metadata": {},
     "output_type": "execute_result"
    }
   ],
   "source": [
    "rf_down = RandomForestClassifier(max_depth=4, n_estimators=n_estimator)\n",
    "rf_down.fit(Xdt_train, y_train_down)"
   ]
  },
  {
   "cell_type": "code",
   "execution_count": 177,
   "metadata": {},
   "outputs": [
    {
     "data": {
      "text/plain": [
       "GradientBoostingClassifier(criterion='friedman_mse', init=None,\n",
       "              learning_rate=0.1, loss='deviance', max_depth=3,\n",
       "              max_features=None, max_leaf_nodes=None,\n",
       "              min_impurity_decrease=0.0, min_impurity_split=None,\n",
       "              min_samples_leaf=1, min_samples_split=2,\n",
       "              min_weight_fraction_leaf=0.0, n_estimators=10,\n",
       "              presort='auto', random_state=None, subsample=1.0, verbose=0,\n",
       "              warm_start=False)"
      ]
     },
     "execution_count": 177,
     "metadata": {},
     "output_type": "execute_result"
    }
   ],
   "source": [
    "grd_down = GradientBoostingClassifier(n_estimators=n_estimator)\n",
    "grd_down.fit(Xdt_train, y_train_down)"
   ]
  },
  {
   "cell_type": "code",
   "execution_count": 178,
   "metadata": {},
   "outputs": [
    {
     "data": {
      "text/plain": [
       "XGBClassifier(base_score=0.5, booster='gbtree', colsample_bylevel=1,\n",
       "       colsample_bytree=1, gamma=0, learning_rate=0.1, max_delta_step=0,\n",
       "       max_depth=3, min_child_weight=1, missing=None, n_estimators=100,\n",
       "       n_jobs=1, nthread=None, objective='binary:logistic', random_state=0,\n",
       "       reg_alpha=0, reg_lambda=1, scale_pos_weight=1, seed=None,\n",
       "       silent=True, subsample=1)"
      ]
     },
     "execution_count": 178,
     "metadata": {},
     "output_type": "execute_result"
    }
   ],
   "source": [
    "xgb_down = XGBClassifier()\n",
    "xgb_down.fit(Xdt_train, y_train_down)"
   ]
  },
  {
   "cell_type": "code",
   "execution_count": 179,
   "metadata": {},
   "outputs": [
    {
     "data": {
      "text/plain": [
       "GaussianNB(priors=None)"
      ]
     },
     "execution_count": 179,
     "metadata": {},
     "output_type": "execute_result"
    }
   ],
   "source": [
    "gnb_down = GaussianNB()\n",
    "gnb.fit(Xdt_train, y_train_down)"
   ]
  },
  {
   "cell_type": "code",
   "execution_count": 182,
   "metadata": {},
   "outputs": [
    {
     "data": {
      "text/plain": [
       "LinearSVC(C=1.0, class_weight=None, dual=True, fit_intercept=False,\n",
       "     intercept_scaling=1, loss='squared_hinge', max_iter=1000,\n",
       "     multi_class='ovr', penalty='l2', random_state=42, tol=0.0001,\n",
       "     verbose=0)"
      ]
     },
     "execution_count": 182,
     "metadata": {},
     "output_type": "execute_result"
    }
   ],
   "source": [
    "lsvc_down = LinearSVC(fit_intercept=False, random_state=42)\n",
    "lsvc_down.fit(Xdt_train, y_train_down)"
   ]
  },
  {
   "cell_type": "code",
   "execution_count": 183,
   "metadata": {
    "scrolled": true
   },
   "outputs": [
    {
     "data": {
      "image/png": "[encoded data removed]",
      "text/plain": [
       "<Figure size 432x288 with 1 Axes>"
      ]
     },
     "metadata": {},
     "output_type": "display_data"
    },
    {
     "data": {
      "text/plain": [
       "(array([1.        , 0.99991568, 0.99991568, 0.99974703, 0.9996627 ,\n",
       "        0.99957838, 0.99957838, 0.99957838, 0.99957838, 0.99957838,\n",
       "        0.99940973, 0.99940973, 0.99924108, 0.99924108, 0.99924108,\n",
       "        0.99907243, 0.99890379, 0.99890379, 0.99890379, 0.99865081,\n",
       "        0.99856649, 0.99839784, 0.99797622, 0.99536217, 0.98836327,\n",
       "        0.97259465, 0.94805633, 0.92267476, 0.89956995, 0.87781432,\n",
       "        0.8571549 , 0.83666414, 0.8208112 , 0.8054642 , 0.79188802,\n",
       "        0.7785648 , 0.76827726, 0.75849566, 0.74997892, 0.74205245,\n",
       "        0.7345476 , 0.7268741 , 0.71793575, 0.71110549, 0.70511848,\n",
       "        0.69870984, 0.69061472, 0.68395312, 0.67577367, 0.66885909,\n",
       "        0.6611856 , 0.65418669, 0.6465132 , 0.63959862, 0.63082891,\n",
       "        0.62096298, 0.61295219, 0.60283329, 0.59406358, 0.58495657,\n",
       "        0.5728139 , 0.56286365, 0.55240745, 0.54077072, 0.52938696,\n",
       "        0.51581078, 0.50425837, 0.49186272, 0.47828653, 0.46352981,\n",
       "        0.44978497, 0.43410068, 0.41816342, 0.40247913, 0.38679484,\n",
       "        0.3712792 , 0.35433004, 0.33847711, 0.32304579, 0.30677123,\n",
       "        0.28965343, 0.26975293, 0.24327515, 0.21679737, 0.18770554,\n",
       "        0.14925373, 0.11088625, 0.0709166 , 0.02748967, 0.00134919,\n",
       "        0.        , 0.        , 0.        , 0.        , 0.        ,\n",
       "        0.        , 0.        , 0.        , 0.        , 0.        ]),\n",
       " array([1.00000000e+00, 9.99834997e-01, 9.99257487e-01, 9.98349971e-01,\n",
       "        9.97359954e-01, 9.96864945e-01, 9.95627423e-01, 9.94967412e-01,\n",
       "        9.94307400e-01, 9.93729890e-01, 9.93317383e-01, 9.92574870e-01,\n",
       "        9.92162363e-01, 9.91584853e-01, 9.90842340e-01, 9.90182328e-01,\n",
       "        9.88862305e-01, 9.87707285e-01, 9.86717268e-01, 9.85397244e-01,\n",
       "        9.84572230e-01, 9.82922201e-01, 9.78632126e-01, 9.67659434e-01,\n",
       "        9.32101312e-01, 8.63377609e-01, 7.76173583e-01, 6.95652174e-01,\n",
       "        6.38478673e-01, 5.81882683e-01, 5.28999257e-01, 4.82055936e-01,\n",
       "        4.50210379e-01, 4.23067404e-01, 4.01204521e-01, 3.82064186e-01,\n",
       "        3.65233892e-01, 3.52941176e-01, 3.39575943e-01, 3.28355746e-01,\n",
       "        3.17713060e-01, 3.07812887e-01, 2.99397739e-01, 2.89415065e-01,\n",
       "        2.80092402e-01, 2.72997277e-01, 2.64417127e-01, 2.56991997e-01,\n",
       "        2.50639386e-01, 2.44121772e-01, 2.37934164e-01, 2.32901576e-01,\n",
       "        2.25476446e-01, 2.17226301e-01, 2.11533702e-01, 2.05511096e-01,\n",
       "        1.99983500e-01, 1.94125897e-01, 1.88515799e-01, 1.82988202e-01,\n",
       "        1.77873113e-01, 1.72923026e-01, 1.67560432e-01, 1.62610346e-01,\n",
       "        1.58485273e-01, 1.51555152e-01, 1.44790034e-01, 1.39592443e-01,\n",
       "        1.33734840e-01, 1.27794736e-01, 1.22019635e-01, 1.15254517e-01,\n",
       "        1.09396914e-01, 1.03786816e-01, 9.61966834e-02, 9.00090752e-02,\n",
       "        8.36564640e-02, 7.77988615e-02, 7.21887633e-02, 6.65786651e-02,\n",
       "        6.11335698e-02, 5.61834832e-02, 5.06558865e-02, 4.48807854e-02,\n",
       "        3.73731540e-02, 2.84629981e-02, 1.83978220e-02, 9.73517037e-03,\n",
       "        4.04257074e-03, 1.65002888e-04, 0.00000000e+00, 0.00000000e+00,\n",
       "        0.00000000e+00, 0.00000000e+00, 0.00000000e+00, 0.00000000e+00,\n",
       "        0.00000000e+00, 0.00000000e+00, 0.00000000e+00, 0.00000000e+00]))"
      ]
     },
     "execution_count": 183,
     "metadata": {},
     "output_type": "execute_result"
    }
   ],
   "source": [
    "roc2(lr_down.predict_proba(Xdt_test), y_test_down)"
   ]
  },
  {
   "cell_type": "code",
   "execution_count": 216,
   "metadata": {},
   "outputs": [
    {
     "name": "stdout",
     "output_type": "stream",
     "text": [
      "Specificity: 99.02648%, Sensitivity: 7.09166%, Threshold: 87.0%\n"
     ]
    }
   ],
   "source": [
    "TPRs_lr_down, FPRs_lr_down = sen_spec(probas=lr_down.predict_proba(Xdt_test), true=y_test_down, stat=\"specificity\", stat_val = 0.99, step=0.01)\n"
   ]
  },
  {
   "cell_type": "code",
   "execution_count": 217,
   "metadata": {},
   "outputs": [
    {
     "data": {
      "text/plain": [
       "0.2340941317472297"
      ]
     },
     "execution_count": 217,
     "metadata": {},
     "output_type": "execute_result"
    }
   ],
   "source": [
    "auc(TPRs_lr_down, FPRs_lr_down)"
   ]
  },
  {
   "cell_type": "markdown",
   "metadata": {},
   "source": [
    "Not exactly the sensitivity score I was looking for. AUC-ROC score is at 76.6%, not really a change."
   ]
  },
  {
   "cell_type": "code",
   "execution_count": 187,
   "metadata": {
    "scrolled": true
   },
   "outputs": [
    {
     "data": {
      "image/png": "[encoded data removed]",
      "text/plain": [
       "<Figure size 432x288 with 1 Axes>"
      ]
     },
     "metadata": {},
     "output_type": "display_data"
    },
    {
     "data": {
      "text/plain": [
       "(array([1.00000000e+00, 1.00000000e+00, 1.00000000e+00, 1.00000000e+00,\n",
       "        1.00000000e+00, 1.00000000e+00, 1.00000000e+00, 1.00000000e+00,\n",
       "        1.00000000e+00, 1.00000000e+00, 1.00000000e+00, 9.99747028e-01,\n",
       "        9.99494055e-01, 9.99072434e-01, 9.98735138e-01, 9.98482165e-01,\n",
       "        9.96205414e-01, 9.95783793e-01, 9.94434607e-01, 9.90049751e-01,\n",
       "        9.86592461e-01, 9.83809765e-01, 9.81785985e-01, 9.71835737e-01,\n",
       "        9.55814150e-01, 9.44177418e-01, 9.17193693e-01, 8.89029429e-01,\n",
       "        8.59853276e-01, 8.54372207e-01, 8.45771144e-01, 8.23846867e-01,\n",
       "        8.02175563e-01, 7.94502066e-01, 7.92478287e-01, 7.87418838e-01,\n",
       "        7.75697782e-01, 7.70722658e-01, 7.69626444e-01, 7.65494561e-01,\n",
       "        7.62543216e-01, 7.61952947e-01, 7.39775698e-01, 7.38679484e-01,\n",
       "        7.36318408e-01, 7.32186525e-01, 7.31680580e-01, 7.31680580e-01,\n",
       "        7.28391939e-01, 7.23416814e-01, 7.17598448e-01, 7.07226579e-01,\n",
       "        6.94830930e-01, 6.89265537e-01, 6.86482840e-01, 6.82435281e-01,\n",
       "        6.71894763e-01, 6.63378025e-01, 6.40441859e-01, 6.39682941e-01,\n",
       "        6.29311072e-01, 6.26191079e-01, 6.25179189e-01, 6.22733789e-01,\n",
       "        5.59153386e-01, 5.53166372e-01, 5.46926385e-01, 5.21038873e-01,\n",
       "        5.14377266e-01, 4.90597858e-01, 3.78446749e-01, 3.57197066e-01,\n",
       "        2.71945358e-01, 2.69837254e-01, 2.66885909e-01, 1.76659077e-01,\n",
       "        1.75815836e-01, 1.55409394e-01, 1.40062400e-01, 1.29268910e-01,\n",
       "        1.25474323e-01, 1.25221351e-01, 1.23281896e-01, 1.11223543e-01,\n",
       "        1.10970571e-01, 1.09452736e-01, 1.06417067e-01, 2.60561599e-02,\n",
       "        1.35761869e-02, 2.69837254e-03, 1.93945527e-03, 1.26486213e-03,\n",
       "        1.68648284e-04, 0.00000000e+00, 0.00000000e+00, 0.00000000e+00,\n",
       "        0.00000000e+00, 0.00000000e+00, 0.00000000e+00, 0.00000000e+00]),\n",
       " array([1.00000000e+00, 1.00000000e+00, 1.00000000e+00, 1.00000000e+00,\n",
       "        1.00000000e+00, 1.00000000e+00, 9.99834997e-01, 9.99669994e-01,\n",
       "        9.99669994e-01, 9.99587493e-01, 9.99504991e-01, 9.97112449e-01,\n",
       "        9.96617441e-01, 9.95297418e-01, 9.92987377e-01, 9.91419850e-01,\n",
       "        9.81189671e-01, 9.78962132e-01, 9.76322086e-01, 9.61636829e-01,\n",
       "        9.48684102e-01, 9.38288920e-01, 9.31441300e-01, 8.87385529e-01,\n",
       "        8.36152133e-01, 7.95066414e-01, 7.21227621e-01, 6.51431400e-01,\n",
       "        5.74622556e-01, 5.65052388e-01, 5.49872123e-01, 5.06476363e-01,\n",
       "        4.53922944e-01, 4.38247669e-01, 4.33627588e-01, 4.26532464e-01,\n",
       "        4.04999587e-01, 3.95264417e-01, 3.91634354e-01, 3.86849270e-01,\n",
       "        3.82724198e-01, 3.80496659e-01, 3.30170778e-01, 3.27943239e-01,\n",
       "        3.23900668e-01, 3.17465556e-01, 3.17053048e-01, 3.16888046e-01,\n",
       "        3.13835492e-01, 3.09050408e-01, 3.04100322e-01, 2.94530154e-01,\n",
       "        2.81082419e-01, 2.74564805e-01, 2.73244782e-01, 2.71512251e-01,\n",
       "        2.66562165e-01, 2.57982015e-01, 2.35789126e-01, 2.34964112e-01,\n",
       "        2.22671397e-01, 2.19866348e-01, 2.19041333e-01, 2.16978797e-01,\n",
       "        1.88268295e-01, 1.86288260e-01, 1.82823199e-01, 1.72675522e-01,\n",
       "        1.69457966e-01, 1.60547810e-01, 1.07664384e-01, 1.00074251e-01,\n",
       "        7.19412590e-02, 7.07037373e-02, 6.89712070e-02, 4.29832522e-02,\n",
       "        4.26532464e-02, 3.81981685e-02, 3.40730963e-02, 3.15980530e-02,\n",
       "        3.01955284e-02, 2.99480241e-02, 2.97005198e-02, 2.70604736e-02,\n",
       "        2.69779721e-02, 2.65654649e-02, 2.59054533e-02, 6.84761983e-03,\n",
       "        3.54756208e-03, 4.95008663e-04, 2.47504331e-04, 1.65002888e-04,\n",
       "        8.25014438e-05, 0.00000000e+00, 0.00000000e+00, 0.00000000e+00,\n",
       "        0.00000000e+00, 0.00000000e+00, 0.00000000e+00, 0.00000000e+00]))"
      ]
     },
     "execution_count": 187,
     "metadata": {},
     "output_type": "execute_result"
    }
   ],
   "source": [
    "roc2(pipeline_down.predict_proba(Xdt_test), y_test_down)"
   ]
  },
  {
   "cell_type": "code",
   "execution_count": 214,
   "metadata": {},
   "outputs": [
    {
     "name": "stdout",
     "output_type": "stream",
     "text": [
      "Sensitivity: 99.00498%, Specificity: 3.83632%, Threshold: 19.0%\n"
     ]
    }
   ],
   "source": [
    "TPRs_pipeline_down, FPRs_pipeline_down = sen_spec(probas=pipeline_down.predict_proba(Xdt_test), true=y_test_down, stat=\"sensitivity\", stat_val = 0.99, step=0.01)\n"
   ]
  },
  {
   "cell_type": "code",
   "execution_count": 215,
   "metadata": {},
   "outputs": [
    {
     "data": {
      "text/plain": [
       "0.25253922559632647"
      ]
     },
     "execution_count": 215,
     "metadata": {},
     "output_type": "execute_result"
    }
   ],
   "source": [
    "auc(TPRs_pipeline_down, FPRs_pipeline_down)"
   ]
  },
  {
   "cell_type": "markdown",
   "metadata": {},
   "source": [
    "That actually got worse. Something is wrong."
   ]
  },
  {
   "cell_type": "code",
   "execution_count": 197,
   "metadata": {},
   "outputs": [
    {
     "name": "stdout",
     "output_type": "stream",
     "text": [
      "(95916, 6)\n",
      "(23980, 6)\n",
      "1    48089\n",
      "0    47827\n",
      "Name: ARSON, dtype: int64\n",
      "0    12121\n",
      "1    11859\n",
      "Name: ARSON, dtype: int64\n"
     ]
    }
   ],
   "source": [
    "print((Xdt_train).shape)\n",
    "print((Xdt_test).shape)\n",
    "print((y_train_down).value_counts())\n",
    "print((y_test_down).value_counts())"
   ]
  },
  {
   "cell_type": "markdown",
   "metadata": {},
   "source": [
    "The sizes and value counts are right. I'm not sure what's going on here. I can't find a mistake."
   ]
  },
  {
   "cell_type": "code",
   "execution_count": 198,
   "metadata": {
    "scrolled": true
   },
   "outputs": [
    {
     "data": {
      "image/png": "[encoded data removed]",
      "text/plain": [
       "<Figure size 432x288 with 1 Axes>"
      ]
     },
     "metadata": {},
     "output_type": "display_data"
    },
    {
     "data": {
      "text/plain": [
       "(array([1.        , 1.        , 1.        , 1.        , 1.        ,\n",
       "        1.        , 1.        , 1.        , 1.        , 1.        ,\n",
       "        1.        , 1.        , 1.        , 1.        , 1.        ,\n",
       "        0.99957838, 0.99932541, 0.99679568, 0.99578379, 0.99494055,\n",
       "        0.99443461, 0.9881103 , 0.97984653, 0.96441521, 0.95707901,\n",
       "        0.94679147, 0.93633527, 0.92807151, 0.91533856, 0.90361751,\n",
       "        0.89476347, 0.88835484, 0.88380133, 0.87418838, 0.8676111 ,\n",
       "        0.86331057, 0.85707058, 0.85032465, 0.84442196, 0.83995278,\n",
       "        0.83497765, 0.81904039, 0.81001771, 0.80352475, 0.78539506,\n",
       "        0.77333671, 0.75807404, 0.74610001, 0.73539084, 0.72628384,\n",
       "        0.71304494, 0.70326334, 0.68707311, 0.67476178, 0.66346235,\n",
       "        0.65292183, 0.64288726, 0.63057593, 0.62011974, 0.5965933 ,\n",
       "        0.58310144, 0.56741715, 0.55485285, 0.53967451, 0.52635129,\n",
       "        0.51606375, 0.50442702, 0.48823678, 0.47972004, 0.46352981,\n",
       "        0.44750822, 0.42406611, 0.40677966, 0.38890294, 0.37102622,\n",
       "        0.34109115, 0.29850746, 0.2703432 , 0.238553  , 0.2165444 ,\n",
       "        0.20355848, 0.18821148, 0.17387638, 0.14048402, 0.10295978,\n",
       "        0.        , 0.        , 0.        , 0.        , 0.        ,\n",
       "        0.        , 0.        , 0.        , 0.        , 0.        ,\n",
       "        0.        , 0.        , 0.        , 0.        , 0.        ]),\n",
       " array([1.        , 1.        , 1.        , 1.        , 1.        ,\n",
       "        1.        , 1.        , 1.        , 1.        , 1.        ,\n",
       "        1.        , 1.        , 1.        , 1.        , 1.        ,\n",
       "        0.98366471, 0.98052966, 0.93177131, 0.92096362, 0.91782856,\n",
       "        0.91329098, 0.87006023, 0.83615213, 0.75686825, 0.72716773,\n",
       "        0.68319446, 0.64293375, 0.61620328, 0.58749278, 0.55482221,\n",
       "        0.52990677, 0.50787889, 0.49525617, 0.47925089, 0.4687732 ,\n",
       "        0.46167808, 0.44922036, 0.43569012, 0.4285125 , 0.42133487,\n",
       "        0.41242472, 0.39163435, 0.37818662, 0.36911146, 0.34361851,\n",
       "        0.32868575, 0.30913291, 0.29618018, 0.28454748, 0.27291478,\n",
       "        0.26144708, 0.25319693, 0.23694415, 0.22555895, 0.21574128,\n",
       "        0.21004868, 0.20485108, 0.19849847, 0.19049583, 0.1769656 ,\n",
       "        0.16690042, 0.15782526, 0.15130765, 0.14371752, 0.13439485,\n",
       "        0.12837225, 0.12251464, 0.11632704, 0.11269697, 0.10535434,\n",
       "        0.0972692 , 0.08827654, 0.08134642, 0.07532382, 0.06996122,\n",
       "        0.06195858, 0.04966587, 0.04265325, 0.03514562, 0.03052553,\n",
       "        0.02788549, 0.02541044, 0.0227704 , 0.0169128 , 0.01229272,\n",
       "        0.        , 0.        , 0.        , 0.        , 0.        ,\n",
       "        0.        , 0.        , 0.        , 0.        , 0.        ,\n",
       "        0.        , 0.        , 0.        , 0.        , 0.        ]))"
      ]
     },
     "execution_count": 198,
     "metadata": {},
     "output_type": "execute_result"
    }
   ],
   "source": [
    "roc2(rf_down.predict_proba(Xdt_test), y_test_down)"
   ]
  },
  {
   "cell_type": "code",
   "execution_count": 212,
   "metadata": {},
   "outputs": [
    {
     "name": "stdout",
     "output_type": "stream",
     "text": [
      "Sensitivity: 98.81103%, Specificity: 12.99398%, Threshold: 21.0%\n"
     ]
    }
   ],
   "source": [
    "TPRs_rf_down, FPRs_rf_down = sen_spec(probas=rf_down.predict_proba(Xdt_test), true=y_test_down, stat=\"sensitivity\", stat_val = 0.99, step=0.01)\n"
   ]
  },
  {
   "cell_type": "code",
   "execution_count": 213,
   "metadata": {},
   "outputs": [
    {
     "data": {
      "text/plain": [
       "0.2044200967673271"
      ]
     },
     "execution_count": 213,
     "metadata": {},
     "output_type": "execute_result"
    }
   ],
   "source": [
    "auc(TPRs_rf_down, FPRs_rf_down)"
   ]
  },
  {
   "cell_type": "markdown",
   "metadata": {},
   "source": [
    "Interesting the downsampled data provided an rf with 1% higher sensitivity."
   ]
  },
  {
   "cell_type": "code",
   "execution_count": 114,
   "metadata": {
    "scrolled": true
   },
   "outputs": [
    {
     "ename": "NameError",
     "evalue": "name 'grd_down' is not defined",
     "output_type": "error",
     "traceback": [
      "\u001b[0;31m---------------------------------------------------------------------------\u001b[0m",
      "\u001b[0;31mNameError\u001b[0m                                 Traceback (most recent call last)",
      "\u001b[0;32m<ipython-input-114-6998fed665b7>\u001b[0m in \u001b[0;36m<module>\u001b[0;34m()\u001b[0m\n\u001b[0;32m----> 1\u001b[0;31m \u001b[0mroc2\u001b[0m\u001b[0;34m(\u001b[0m\u001b[0mgrd_down\u001b[0m\u001b[0;34m.\u001b[0m\u001b[0mpredict_proba\u001b[0m\u001b[0;34m(\u001b[0m\u001b[0mXt_test\u001b[0m\u001b[0;34m)\u001b[0m\u001b[0;34m,\u001b[0m \u001b[0my_test\u001b[0m\u001b[0;34m)\u001b[0m\u001b[0;34m\u001b[0m\u001b[0m\n\u001b[0m",
      "\u001b[0;31mNameError\u001b[0m: name 'grd_down' is not defined"
     ]
    }
   ],
   "source": [
    "roc2(grd_down.predict_proba(Xt_test), y_test)"
   ]
  },
  {
   "cell_type": "code",
   "execution_count": 211,
   "metadata": {},
   "outputs": [
    {
     "name": "stdout",
     "output_type": "stream",
     "text": [
      "Sensitivity: 99.08930%, Specificity: 11.08819%, Threshold: 31.0%\n"
     ]
    }
   ],
   "source": [
    "TPRs_grd_down, FPRs_grd_down = sen_spec(probas=grd_down.predict_proba(Xdt_test), true=y_test_down, stat=\"sensitivity\", stat_val = 0.99, step=0.01)\n"
   ]
  },
  {
   "cell_type": "code",
   "execution_count": 204,
   "metadata": {},
   "outputs": [
    {
     "data": {
      "text/plain": [
       "0.20120755288021486"
      ]
     },
     "execution_count": 204,
     "metadata": {},
     "output_type": "execute_result"
    }
   ],
   "source": [
    "auc(TPRs_grd_down, FPRs_grd_down)"
   ]
  },
  {
   "cell_type": "code",
   "execution_count": 205,
   "metadata": {
    "scrolled": true
   },
   "outputs": [
    {
     "data": {
      "image/png": "[encoded data removed]",
      "text/plain": [
       "<Figure size 432x288 with 1 Axes>"
      ]
     },
     "metadata": {},
     "output_type": "display_data"
    },
    {
     "data": {
      "text/plain": [
       "(array([1.00000000e+00, 1.00000000e+00, 1.00000000e+00, 1.00000000e+00,\n",
       "        1.00000000e+00, 9.99915676e-01, 9.99409731e-01, 9.98988110e-01,\n",
       "        9.98060545e-01, 9.97301627e-01, 9.96289738e-01, 9.95024876e-01,\n",
       "        9.93422717e-01, 9.91651910e-01, 9.87772999e-01, 9.84400034e-01,\n",
       "        9.80352475e-01, 9.74365461e-01, 9.67113585e-01, 9.59946033e-01,\n",
       "        9.53115777e-01, 9.48393625e-01, 9.42912556e-01, 9.36841218e-01,\n",
       "        9.26469348e-01, 9.18711527e-01, 9.13820727e-01, 9.07833713e-01,\n",
       "        9.02268319e-01, 8.98136436e-01, 8.90800236e-01, 8.85403491e-01,\n",
       "        8.81187284e-01, 8.74947297e-01, 8.67611097e-01, 8.61877055e-01,\n",
       "        8.55552745e-01, 8.47794924e-01, 8.41301965e-01, 8.31857661e-01,\n",
       "        8.23087950e-01, 8.17100936e-01, 8.09174467e-01, 8.00320432e-01,\n",
       "        7.91803693e-01, 7.83624252e-01, 7.70975630e-01, 7.57736740e-01,\n",
       "        7.45172443e-01, 7.34884898e-01, 7.19200607e-01, 7.07395227e-01,\n",
       "        6.97444978e-01, 6.88590944e-01, 6.79736909e-01, 6.71894763e-01,\n",
       "        6.62872080e-01, 6.53006156e-01, 6.41959693e-01, 6.32515389e-01,\n",
       "        6.21974871e-01, 6.11434354e-01, 6.04435450e-01, 5.97942491e-01,\n",
       "        5.88160890e-01, 5.80150097e-01, 5.68429041e-01, 5.50215027e-01,\n",
       "        5.40517750e-01, 5.33856143e-01, 5.25845350e-01, 5.14208618e-01,\n",
       "        5.02740535e-01, 4.90007589e-01, 4.75503837e-01, 4.56952526e-01,\n",
       "        4.31317986e-01, 4.05177502e-01, 3.75326756e-01, 3.45813306e-01,\n",
       "        3.19166877e-01, 2.97579897e-01, 2.76077241e-01, 2.61067544e-01,\n",
       "        2.49683784e-01, 2.25735728e-01, 1.90572561e-01, 1.68563960e-01,\n",
       "        1.35930517e-01, 7.74938865e-02, 1.73707733e-02, 4.72215195e-03,\n",
       "        1.68648284e-04, 0.00000000e+00, 0.00000000e+00, 0.00000000e+00,\n",
       "        0.00000000e+00, 0.00000000e+00, 0.00000000e+00, 0.00000000e+00]),\n",
       " array([1.00000000e+00, 1.00000000e+00, 1.00000000e+00, 9.99257487e-01,\n",
       "        9.97194951e-01, 9.88202294e-01, 9.67164425e-01, 9.50581635e-01,\n",
       "        9.39526442e-01, 9.28141242e-01, 9.15106014e-01, 9.03390809e-01,\n",
       "        8.92335616e-01, 8.79630394e-01, 8.54797459e-01, 8.32687072e-01,\n",
       "        8.08926656e-01, 7.73038528e-01, 7.41770481e-01, 7.07202376e-01,\n",
       "        6.79894398e-01, 6.61744081e-01, 6.42356241e-01, 6.23875918e-01,\n",
       "        5.89637819e-01, 5.67527432e-01, 5.50037126e-01, 5.36754393e-01,\n",
       "        5.20006600e-01, 5.07548882e-01, 4.96741193e-01, 4.82880950e-01,\n",
       "        4.74465803e-01, 4.62090587e-01, 4.47652834e-01, 4.35525122e-01,\n",
       "        4.24469928e-01, 4.12012210e-01, 4.02854550e-01, 3.88829305e-01,\n",
       "        3.78434123e-01, 3.69936474e-01, 3.58386272e-01, 3.46423562e-01,\n",
       "        3.36853395e-01, 3.28850755e-01, 3.15898028e-01, 2.97830212e-01,\n",
       "        2.84794984e-01, 2.72007260e-01, 2.54269450e-01, 2.41234222e-01,\n",
       "        2.33479086e-01, 2.24486429e-01, 2.17061299e-01, 2.10378682e-01,\n",
       "        2.03366059e-01, 1.96518439e-01, 1.84968237e-01, 1.77955614e-01,\n",
       "        1.71025493e-01, 1.64260375e-01, 1.60382807e-01, 1.56587740e-01,\n",
       "        1.50647636e-01, 1.45202541e-01, 1.39592443e-01, 1.31177296e-01,\n",
       "        1.26887221e-01, 1.24494679e-01, 1.20864615e-01, 1.16327036e-01,\n",
       "        1.11789456e-01, 1.06674367e-01, 1.01394274e-01, 9.35566372e-02,\n",
       "        8.36564640e-02, 7.40037951e-02, 6.78986882e-02, 5.96485438e-02,\n",
       "        5.24709182e-02, 4.75208316e-02, 4.24882435e-02, 3.97656959e-02,\n",
       "        3.65481396e-02, 2.87105024e-02, 2.36779144e-02, 1.96353436e-02,\n",
       "        1.49327613e-02, 8.00264005e-03, 1.65002888e-03, 5.77510106e-04,\n",
       "        0.00000000e+00, 0.00000000e+00, 0.00000000e+00, 0.00000000e+00,\n",
       "        0.00000000e+00, 0.00000000e+00, 0.00000000e+00, 0.00000000e+00]))"
      ]
     },
     "execution_count": 205,
     "metadata": {},
     "output_type": "execute_result"
    }
   ],
   "source": [
    "roc2(xgb_down.predict_proba(Xdt_test), y_test_down)"
   ]
  },
  {
   "cell_type": "code",
   "execution_count": 113,
   "metadata": {},
   "outputs": [
    {
     "ename": "NameError",
     "evalue": "name 'xgb_down' is not defined",
     "output_type": "error",
     "traceback": [
      "\u001b[0;31m---------------------------------------------------------------------------\u001b[0m",
      "\u001b[0;31mNameError\u001b[0m                                 Traceback (most recent call last)",
      "\u001b[0;32m<ipython-input-113-beeec2348a9f>\u001b[0m in \u001b[0;36m<module>\u001b[0;34m()\u001b[0m\n\u001b[0;32m----> 1\u001b[0;31m \u001b[0mTPRs_xgb_down\u001b[0m\u001b[0;34m,\u001b[0m \u001b[0mFPRs_xgb_down\u001b[0m \u001b[0;34m=\u001b[0m \u001b[0msen_spec\u001b[0m\u001b[0;34m(\u001b[0m\u001b[0mprobas\u001b[0m\u001b[0;34m=\u001b[0m\u001b[0mxgb_down\u001b[0m\u001b[0;34m.\u001b[0m\u001b[0mpredict_proba\u001b[0m\u001b[0;34m(\u001b[0m\u001b[0mXdt_test\u001b[0m\u001b[0;34m)\u001b[0m\u001b[0;34m,\u001b[0m \u001b[0mtrue\u001b[0m\u001b[0;34m=\u001b[0m\u001b[0my_test_down\u001b[0m\u001b[0;34m,\u001b[0m \u001b[0mstat\u001b[0m\u001b[0;34m=\u001b[0m\u001b[0;34m\"specificity\"\u001b[0m\u001b[0;34m,\u001b[0m \u001b[0mstat_val\u001b[0m \u001b[0;34m=\u001b[0m \u001b[0;36m0.99\u001b[0m\u001b[0;34m,\u001b[0m \u001b[0mstep\u001b[0m\u001b[0;34m=\u001b[0m\u001b[0;36m0.01\u001b[0m\u001b[0;34m)\u001b[0m\u001b[0;34m\u001b[0m\u001b[0m\n\u001b[0m",
      "\u001b[0;31mNameError\u001b[0m: name 'xgb_down' is not defined"
     ]
    }
   ],
   "source": [
    "TPRs_xgb_down, FPRs_xgb_down = sen_spec(probas=xgb_down.predict_proba(Xdt_test), true=y_test_down, stat=\"specificity\", stat_val = 0.99, step=0.01)\n"
   ]
  },
  {
   "cell_type": "code",
   "execution_count": 210,
   "metadata": {},
   "outputs": [
    {
     "data": {
      "text/plain": [
       "0.19359428848188498"
      ]
     },
     "execution_count": 210,
     "metadata": {},
     "output_type": "execute_result"
    }
   ],
   "source": [
    "auc(TPRs_xgb_down, FPRs_xgb_down)"
   ]
  },
  {
   "cell_type": "markdown",
   "metadata": {},
   "source": [
    "Method 2: upsampling the minority class: fires started by aronists."
   ]
  },
  {
   "cell_type": "code",
   "execution_count": null,
   "metadata": {},
   "outputs": [],
   "source": []
  },
  {
   "cell_type": "code",
   "execution_count": null,
   "metadata": {},
   "outputs": [],
   "source": []
  },
  {
   "cell_type": "code",
   "execution_count": null,
   "metadata": {},
   "outputs": [],
   "source": []
  },
  {
   "cell_type": "code",
   "execution_count": null,
   "metadata": {},
   "outputs": [],
   "source": []
  }
 ],
 "metadata": {
  "kernelspec": {
   "display_name": "Python [conda env:ipykernel_py3]",
   "language": "python",
   "name": "conda-env-ipykernel_py3-py"
  },
  "language_info": {
   "codemirror_mode": {
    "name": "ipython",
    "version": 3
   },
   "file_extension": ".py",
   "mimetype": "text/x-python",
   "name": "python",
   "nbconvert_exporter": "python",
   "pygments_lexer": "ipython3",
   "version": "3.6.4"
  }
 },
 "nbformat": 4,
 "nbformat_minor": 2
}
