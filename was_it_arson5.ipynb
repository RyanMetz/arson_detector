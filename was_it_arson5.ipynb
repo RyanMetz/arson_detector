{
 "cells": [
  {
   "cell_type": "markdown",
   "metadata": {},
   "source": [
    "The cell below removes the annoying app bar thing at the bottom of a notebook."
   ]
  },
  {
   "cell_type": "code",
   "execution_count": 2,
   "metadata": {},
   "outputs": [
    {
     "data": {
      "application/javascript": [
       "$('.nbp-app-bar').toggle()"
      ],
      "text/plain": [
       "<IPython.core.display.Javascript object>"
      ]
     },
     "metadata": {},
     "output_type": "display_data"
    }
   ],
   "source": [
    "%%javascript\n",
    "$('.nbp-app-bar').toggle()"
   ]
  },
  {
   "cell_type": "code",
   "execution_count": 3,
   "metadata": {},
   "outputs": [],
   "source": [
    "import numpy as np\n",
    "import pandas as pd\n",
    "import geopandas as gpd\n",
    "import matplotlib.pyplot as plt\n",
    "from datetime import datetime\n",
    "import calendar\n",
    "import sqlite3\n",
    "import seaborn as sns\n",
    "#import pysal as ps\n",
    "#from pysal.contrib.viz import mapping as maps\n",
    "from sklearn.linear_model import LogisticRegression\n",
    "from sklearn.naive_bayes import GaussianNB\n",
    "from sklearn.ensemble import RandomTreesEmbedding, RandomForestClassifier, GradientBoostingClassifier, BaggingClassifier\n",
    "from xgboost import XGBClassifier\n",
    "from sklearn.svm import SVC, LinearSVC\n",
    "from sklearn.pipeline import make_pipeline\n",
    "from sklearn.model_selection import train_test_split, cross_val_score\n",
    "from sklearn.preprocessing import LabelEncoder, OneHotEncoder, RobustScaler, StandardScaler\n",
    "from sklearn.decomposition import PCA\n",
    "from sklearn.calibration import CalibratedClassifierCV\n",
    "from sklearn.metrics import confusion_matrix, auc, roc_curve, classification_report\n",
    "from sklearn.multiclass import OneVsRestClassifier\n",
    "from sklearn.utils import resample\n",
    "\n",
    "\n",
    "%matplotlib inline"
   ]
  },
  {
   "cell_type": "markdown",
   "metadata": {},
   "source": [
    "The cell below makes it so pandas will show me all the columns."
   ]
  },
  {
   "cell_type": "code",
   "execution_count": 4,
   "metadata": {},
   "outputs": [],
   "source": [
    "pd.set_option('display.max_columns', 40)"
   ]
  },
  {
   "cell_type": "markdown",
   "metadata": {},
   "source": [
    "The below cell loads the spatialite extention to sqlite. I got the code from the spatialite mailing list\n",
    "https://groups.google.com/d/msg/spatialite-users/o0jUwMUqx_g/OEat2JTUAAAJ\n",
    "I can get it to work without geopandas. With geopandas imported it kills the ipython kernel within seconds. Ironic! Without one, the other is useless."
   ]
  },
  {
   "cell_type": "code",
   "execution_count": 5,
   "metadata": {},
   "outputs": [],
   "source": [
    "#conn = sqlite3.connect(':memory:') \n",
    "#conn.enable_load_extension(True) \n",
    "#conn.execute(\"SELECT load_extension('mod_spatialite')\") "
   ]
  },
  {
   "cell_type": "markdown",
   "metadata": {},
   "source": [
    "The below code for importing all the sql data came from: https://www.dataquest.io/blog/python-pandas-databases/"
   ]
  },
  {
   "cell_type": "code",
   "execution_count": 12,
   "metadata": {},
   "outputs": [],
   "source": [
    "conn = sqlite3.connect(\"./FPA_FOD_20170508.sqlite\")"
   ]
  },
  {
   "cell_type": "code",
   "execution_count": 13,
   "metadata": {},
   "outputs": [],
   "source": [
    "#this is if you want to read the data in as tuples\n",
    "\n",
    "#cur = conn.cursor()\n",
    "#cur.execute(\"SELECT * FROM fires;\")\n",
    "#results = cur.fetchall()"
   ]
  },
  {
   "cell_type": "code",
   "execution_count": 14,
   "metadata": {},
   "outputs": [],
   "source": [
    "df_all = pd.read_sql_query(\"SELECT * FROM fires;\", conn)\n",
    "#this grabs the whole db and puts it into a df using the sqlite3.Connection"
   ]
  },
  {
   "cell_type": "code",
   "execution_count": 15,
   "metadata": {},
   "outputs": [
    {
     "data": {
      "text/plain": [
       "(1880465, 39)"
      ]
     },
     "execution_count": 15,
     "metadata": {},
     "output_type": "execute_result"
    }
   ],
   "source": [
    "df_all.shape"
   ]
  },
  {
   "cell_type": "code",
   "execution_count": 16,
   "metadata": {},
   "outputs": [
    {
     "data": {
      "text/html": [
       "<div>\n",
       "<style scoped>\n",
       "    .dataframe tbody tr th:only-of-type {\n",
       "        vertical-align: middle;\n",
       "    }\n",
       "\n",
       "    .dataframe tbody tr th {\n",
       "        vertical-align: top;\n",
       "    }\n",
       "\n",
       "    .dataframe thead th {\n",
       "        text-align: right;\n",
       "    }\n",
       "</style>\n",
       "<table border=\"1\" class=\"dataframe\">\n",
       "  <thead>\n",
       "    <tr style=\"text-align: right;\">\n",
       "      <th></th>\n",
       "      <th>OBJECTID</th>\n",
       "      <th>FOD_ID</th>\n",
       "      <th>FPA_ID</th>\n",
       "      <th>SOURCE_SYSTEM_TYPE</th>\n",
       "      <th>SOURCE_SYSTEM</th>\n",
       "      <th>NWCG_REPORTING_AGENCY</th>\n",
       "      <th>NWCG_REPORTING_UNIT_ID</th>\n",
       "      <th>NWCG_REPORTING_UNIT_NAME</th>\n",
       "      <th>SOURCE_REPORTING_UNIT</th>\n",
       "      <th>SOURCE_REPORTING_UNIT_NAME</th>\n",
       "      <th>LOCAL_FIRE_REPORT_ID</th>\n",
       "      <th>LOCAL_INCIDENT_ID</th>\n",
       "      <th>FIRE_CODE</th>\n",
       "      <th>FIRE_NAME</th>\n",
       "      <th>ICS_209_INCIDENT_NUMBER</th>\n",
       "      <th>ICS_209_NAME</th>\n",
       "      <th>MTBS_ID</th>\n",
       "      <th>MTBS_FIRE_NAME</th>\n",
       "      <th>COMPLEX_NAME</th>\n",
       "      <th>FIRE_YEAR</th>\n",
       "      <th>DISCOVERY_DATE</th>\n",
       "      <th>DISCOVERY_DOY</th>\n",
       "      <th>DISCOVERY_TIME</th>\n",
       "      <th>STAT_CAUSE_CODE</th>\n",
       "      <th>STAT_CAUSE_DESCR</th>\n",
       "      <th>CONT_DATE</th>\n",
       "      <th>CONT_DOY</th>\n",
       "      <th>CONT_TIME</th>\n",
       "      <th>FIRE_SIZE</th>\n",
       "      <th>FIRE_SIZE_CLASS</th>\n",
       "      <th>LATITUDE</th>\n",
       "      <th>LONGITUDE</th>\n",
       "      <th>OWNER_CODE</th>\n",
       "      <th>OWNER_DESCR</th>\n",
       "      <th>STATE</th>\n",
       "      <th>COUNTY</th>\n",
       "      <th>FIPS_CODE</th>\n",
       "      <th>FIPS_NAME</th>\n",
       "      <th>Shape</th>\n",
       "    </tr>\n",
       "  </thead>\n",
       "  <tbody>\n",
       "    <tr>\n",
       "      <th>0</th>\n",
       "      <td>1</td>\n",
       "      <td>1</td>\n",
       "      <td>FS-1418826</td>\n",
       "      <td>FED</td>\n",
       "      <td>FS-FIRESTAT</td>\n",
       "      <td>FS</td>\n",
       "      <td>USCAPNF</td>\n",
       "      <td>Plumas National Forest</td>\n",
       "      <td>0511</td>\n",
       "      <td>Plumas National Forest</td>\n",
       "      <td>1</td>\n",
       "      <td>PNF-47</td>\n",
       "      <td>BJ8K</td>\n",
       "      <td>FOUNTAIN</td>\n",
       "      <td>None</td>\n",
       "      <td>None</td>\n",
       "      <td>None</td>\n",
       "      <td>None</td>\n",
       "      <td>None</td>\n",
       "      <td>2005</td>\n",
       "      <td>2453403.5</td>\n",
       "      <td>33</td>\n",
       "      <td>1300</td>\n",
       "      <td>9.0</td>\n",
       "      <td>Miscellaneous</td>\n",
       "      <td>2453403.5</td>\n",
       "      <td>33.0</td>\n",
       "      <td>1730</td>\n",
       "      <td>0.10</td>\n",
       "      <td>A</td>\n",
       "      <td>40.036944</td>\n",
       "      <td>-121.005833</td>\n",
       "      <td>5.0</td>\n",
       "      <td>USFS</td>\n",
       "      <td>CA</td>\n",
       "      <td>63</td>\n",
       "      <td>063</td>\n",
       "      <td>Plumas</td>\n",
       "      <td>b'\\x00\\x01\\xad\\x10\\x00\\x00\\xe8d\\xc2\\x92_@^\\xc0...</td>\n",
       "    </tr>\n",
       "    <tr>\n",
       "      <th>1</th>\n",
       "      <td>2</td>\n",
       "      <td>2</td>\n",
       "      <td>FS-1418827</td>\n",
       "      <td>FED</td>\n",
       "      <td>FS-FIRESTAT</td>\n",
       "      <td>FS</td>\n",
       "      <td>USCAENF</td>\n",
       "      <td>Eldorado National Forest</td>\n",
       "      <td>0503</td>\n",
       "      <td>Eldorado National Forest</td>\n",
       "      <td>13</td>\n",
       "      <td>13</td>\n",
       "      <td>AAC0</td>\n",
       "      <td>PIGEON</td>\n",
       "      <td>None</td>\n",
       "      <td>None</td>\n",
       "      <td>None</td>\n",
       "      <td>None</td>\n",
       "      <td>None</td>\n",
       "      <td>2004</td>\n",
       "      <td>2453137.5</td>\n",
       "      <td>133</td>\n",
       "      <td>0845</td>\n",
       "      <td>1.0</td>\n",
       "      <td>Lightning</td>\n",
       "      <td>2453137.5</td>\n",
       "      <td>133.0</td>\n",
       "      <td>1530</td>\n",
       "      <td>0.25</td>\n",
       "      <td>A</td>\n",
       "      <td>38.933056</td>\n",
       "      <td>-120.404444</td>\n",
       "      <td>5.0</td>\n",
       "      <td>USFS</td>\n",
       "      <td>CA</td>\n",
       "      <td>61</td>\n",
       "      <td>061</td>\n",
       "      <td>Placer</td>\n",
       "      <td>b'\\x00\\x01\\xad\\x10\\x00\\x00T\\xb6\\xeej\\xe2\\x19^\\...</td>\n",
       "    </tr>\n",
       "  </tbody>\n",
       "</table>\n",
       "</div>"
      ],
      "text/plain": [
       "   OBJECTID  FOD_ID      FPA_ID SOURCE_SYSTEM_TYPE SOURCE_SYSTEM  \\\n",
       "0         1       1  FS-1418826                FED   FS-FIRESTAT   \n",
       "1         2       2  FS-1418827                FED   FS-FIRESTAT   \n",
       "\n",
       "  NWCG_REPORTING_AGENCY NWCG_REPORTING_UNIT_ID  NWCG_REPORTING_UNIT_NAME  \\\n",
       "0                    FS                USCAPNF    Plumas National Forest   \n",
       "1                    FS                USCAENF  Eldorado National Forest   \n",
       "\n",
       "  SOURCE_REPORTING_UNIT SOURCE_REPORTING_UNIT_NAME LOCAL_FIRE_REPORT_ID  \\\n",
       "0                  0511     Plumas National Forest                    1   \n",
       "1                  0503   Eldorado National Forest                   13   \n",
       "\n",
       "  LOCAL_INCIDENT_ID FIRE_CODE FIRE_NAME ICS_209_INCIDENT_NUMBER ICS_209_NAME  \\\n",
       "0            PNF-47      BJ8K  FOUNTAIN                    None         None   \n",
       "1                13      AAC0    PIGEON                    None         None   \n",
       "\n",
       "  MTBS_ID MTBS_FIRE_NAME COMPLEX_NAME  FIRE_YEAR  DISCOVERY_DATE  \\\n",
       "0    None           None         None       2005       2453403.5   \n",
       "1    None           None         None       2004       2453137.5   \n",
       "\n",
       "   DISCOVERY_DOY DISCOVERY_TIME  STAT_CAUSE_CODE STAT_CAUSE_DESCR  CONT_DATE  \\\n",
       "0             33           1300              9.0    Miscellaneous  2453403.5   \n",
       "1            133           0845              1.0        Lightning  2453137.5   \n",
       "\n",
       "   CONT_DOY CONT_TIME  FIRE_SIZE FIRE_SIZE_CLASS   LATITUDE   LONGITUDE  \\\n",
       "0      33.0      1730       0.10               A  40.036944 -121.005833   \n",
       "1     133.0      1530       0.25               A  38.933056 -120.404444   \n",
       "\n",
       "   OWNER_CODE OWNER_DESCR STATE COUNTY FIPS_CODE FIPS_NAME  \\\n",
       "0         5.0        USFS    CA     63       063    Plumas   \n",
       "1         5.0        USFS    CA     61       061    Placer   \n",
       "\n",
       "                                               Shape  \n",
       "0  b'\\x00\\x01\\xad\\x10\\x00\\x00\\xe8d\\xc2\\x92_@^\\xc0...  \n",
       "1  b'\\x00\\x01\\xad\\x10\\x00\\x00T\\xb6\\xeej\\xe2\\x19^\\...  "
      ]
     },
     "execution_count": 16,
     "metadata": {},
     "output_type": "execute_result"
    }
   ],
   "source": [
    "df_all.head(2)"
   ]
  },
  {
   "cell_type": "markdown",
   "metadata": {},
   "source": [
    "Since pandas can't handle the geometry information the Shape column is useless anyway, I'm going to drop it. It lives on in the original sqlite db."
   ]
  },
  {
   "cell_type": "code",
   "execution_count": 17,
   "metadata": {},
   "outputs": [],
   "source": [
    "df_all.drop(['Shape'], axis=1, inplace=True)"
   ]
  },
  {
   "cell_type": "code",
   "execution_count": 18,
   "metadata": {
    "scrolled": true
   },
   "outputs": [
    {
     "data": {
      "text/plain": [
       "Index(['OBJECTID', 'FOD_ID', 'FPA_ID', 'SOURCE_SYSTEM_TYPE', 'SOURCE_SYSTEM',\n",
       "       'NWCG_REPORTING_AGENCY', 'NWCG_REPORTING_UNIT_ID',\n",
       "       'NWCG_REPORTING_UNIT_NAME', 'SOURCE_REPORTING_UNIT',\n",
       "       'SOURCE_REPORTING_UNIT_NAME', 'LOCAL_FIRE_REPORT_ID',\n",
       "       'LOCAL_INCIDENT_ID', 'FIRE_CODE', 'FIRE_NAME',\n",
       "       'ICS_209_INCIDENT_NUMBER', 'ICS_209_NAME', 'MTBS_ID', 'MTBS_FIRE_NAME',\n",
       "       'COMPLEX_NAME', 'FIRE_YEAR', 'DISCOVERY_DATE', 'DISCOVERY_DOY',\n",
       "       'DISCOVERY_TIME', 'STAT_CAUSE_CODE', 'STAT_CAUSE_DESCR', 'CONT_DATE',\n",
       "       'CONT_DOY', 'CONT_TIME', 'FIRE_SIZE', 'FIRE_SIZE_CLASS', 'LATITUDE',\n",
       "       'LONGITUDE', 'OWNER_CODE', 'OWNER_DESCR', 'STATE', 'COUNTY',\n",
       "       'FIPS_CODE', 'FIPS_NAME'],\n",
       "      dtype='object')"
      ]
     },
     "execution_count": 18,
     "metadata": {},
     "output_type": "execute_result"
    }
   ],
   "source": [
    "df_all.columns"
   ]
  },
  {
   "cell_type": "code",
   "execution_count": 19,
   "metadata": {},
   "outputs": [
    {
     "data": {
      "text/plain": [
       "array(['Miscellaneous', 'Lightning', 'Debris Burning', 'Campfire',\n",
       "       'Equipment Use', 'Arson', 'Children', 'Railroad', 'Smoking',\n",
       "       'Powerline', 'Structure', 'Fireworks', 'Missing/Undefined'],\n",
       "      dtype=object)"
      ]
     },
     "execution_count": 19,
     "metadata": {},
     "output_type": "execute_result"
    }
   ],
   "source": [
    "df_all.STAT_CAUSE_DESCR.unique()"
   ]
  },
  {
   "cell_type": "markdown",
   "metadata": {},
   "source": [
    "There are entries in my target column that I can't use so I am dropping them."
   ]
  },
  {
   "cell_type": "code",
   "execution_count": 20,
   "metadata": {},
   "outputs": [],
   "source": [
    "df_all.drop(df_all[df_all['STAT_CAUSE_DESCR'] == 'Missing/Undefined'].index, inplace=True)"
   ]
  },
  {
   "cell_type": "code",
   "execution_count": 21,
   "metadata": {},
   "outputs": [
    {
     "data": {
      "text/plain": [
       "(1713742, 38)"
      ]
     },
     "execution_count": 21,
     "metadata": {},
     "output_type": "execute_result"
    }
   ],
   "source": [
    "df_all.shape"
   ]
  },
  {
   "cell_type": "code",
   "execution_count": 22,
   "metadata": {
    "scrolled": true
   },
   "outputs": [
    {
     "data": {
      "text/plain": [
       "OBJECTID                        int64\n",
       "FOD_ID                          int64\n",
       "FPA_ID                         object\n",
       "SOURCE_SYSTEM_TYPE             object\n",
       "SOURCE_SYSTEM                  object\n",
       "NWCG_REPORTING_AGENCY          object\n",
       "NWCG_REPORTING_UNIT_ID         object\n",
       "NWCG_REPORTING_UNIT_NAME       object\n",
       "SOURCE_REPORTING_UNIT          object\n",
       "SOURCE_REPORTING_UNIT_NAME     object\n",
       "LOCAL_FIRE_REPORT_ID           object\n",
       "LOCAL_INCIDENT_ID              object\n",
       "FIRE_CODE                      object\n",
       "FIRE_NAME                      object\n",
       "ICS_209_INCIDENT_NUMBER        object\n",
       "ICS_209_NAME                   object\n",
       "MTBS_ID                        object\n",
       "MTBS_FIRE_NAME                 object\n",
       "COMPLEX_NAME                   object\n",
       "FIRE_YEAR                       int64\n",
       "DISCOVERY_DATE                float64\n",
       "DISCOVERY_DOY                   int64\n",
       "DISCOVERY_TIME                 object\n",
       "STAT_CAUSE_CODE               float64\n",
       "STAT_CAUSE_DESCR               object\n",
       "CONT_DATE                     float64\n",
       "CONT_DOY                      float64\n",
       "CONT_TIME                      object\n",
       "FIRE_SIZE                     float64\n",
       "FIRE_SIZE_CLASS                object\n",
       "LATITUDE                      float64\n",
       "LONGITUDE                     float64\n",
       "OWNER_CODE                    float64\n",
       "OWNER_DESCR                    object\n",
       "STATE                          object\n",
       "COUNTY                         object\n",
       "FIPS_CODE                      object\n",
       "FIPS_NAME                      object\n",
       "dtype: object"
      ]
     },
     "execution_count": 22,
     "metadata": {},
     "output_type": "execute_result"
    }
   ],
   "source": [
    "df_all.dtypes"
   ]
  },
  {
   "cell_type": "code",
   "execution_count": 23,
   "metadata": {
    "scrolled": true
   },
   "outputs": [
    {
     "data": {
      "text/plain": [
       "OBJECTID                            0\n",
       "FOD_ID                              0\n",
       "FPA_ID                              0\n",
       "SOURCE_SYSTEM_TYPE                  0\n",
       "SOURCE_SYSTEM                       0\n",
       "NWCG_REPORTING_AGENCY               0\n",
       "NWCG_REPORTING_UNIT_ID              0\n",
       "NWCG_REPORTING_UNIT_NAME            0\n",
       "SOURCE_REPORTING_UNIT               0\n",
       "SOURCE_REPORTING_UNIT_NAME          0\n",
       "LOCAL_FIRE_REPORT_ID          1297372\n",
       "LOCAL_INCIDENT_ID              705847\n",
       "FIRE_CODE                     1396084\n",
       "FIRE_NAME                      839288\n",
       "ICS_209_INCIDENT_NUMBER       1691038\n",
       "ICS_209_NAME                  1691038\n",
       "MTBS_ID                       1703584\n",
       "MTBS_FIRE_NAME                1703584\n",
       "COMPLEX_NAME                  1708655\n",
       "FIRE_YEAR                           0\n",
       "DISCOVERY_DATE                      0\n",
       "DISCOVERY_DOY                       0\n",
       "DISCOVERY_TIME                 770477\n",
       "STAT_CAUSE_CODE                     0\n",
       "STAT_CAUSE_DESCR                    0\n",
       "CONT_DATE                      796359\n",
       "CONT_DOY                       796359\n",
       "CONT_TIME                      853694\n",
       "FIRE_SIZE                           0\n",
       "FIRE_SIZE_CLASS                     0\n",
       "LATITUDE                            0\n",
       "LONGITUDE                           0\n",
       "OWNER_CODE                          0\n",
       "OWNER_DESCR                         0\n",
       "STATE                               0\n",
       "COUNTY                         636349\n",
       "FIPS_CODE                      636349\n",
       "FIPS_NAME                      636349\n",
       "dtype: int64"
      ]
     },
     "execution_count": 23,
     "metadata": {},
     "output_type": "execute_result"
    }
   ],
   "source": [
    "df_all.isnull().sum()"
   ]
  },
  {
   "cell_type": "markdown",
   "metadata": {},
   "source": [
    "I'm going to create a new df, df_pred, by dropping columns from the FPA_FOD data. I'm going to read that into a csv so I have it for later, and then stop using the full set. I will keep the full set on my SSD, of course. I am making these decisions based on the data atlas located here: https://www.kaggle.com/davideanastasia/contour-map-of-us-wildfire-dataset/data"
   ]
  },
  {
   "cell_type": "code",
   "execution_count": 24,
   "metadata": {
    "scrolled": true
   },
   "outputs": [
    {
     "data": {
      "text/plain": [
       "D44Z    9451\n",
       "5555    5144\n",
       "D5GJ    3459\n",
       "0001    3329\n",
       "0000    1928\n",
       "2300    1892\n",
       "EKV3    1032\n",
       "4700    1003\n",
       "EKW0     938\n",
       "0100     904\n",
       "EKT5     883\n",
       "5900     833\n",
       "EKV0     756\n",
       "EK2R     729\n",
       "7000     721\n",
       "EKV5     703\n",
       "EK2D     690\n",
       "EK3D     666\n",
       "EK2N     660\n",
       "EKV6     647\n",
       "EK2A     624\n",
       "EKT4     614\n",
       "EK2B     585\n",
       "EK2Q     551\n",
       "7500     537\n",
       "EN0A     533\n",
       "EK2F     513\n",
       "EKW2     504\n",
       "EKS5     495\n",
       "EKT1     493\n",
       "        ... \n",
       "F3HW       1\n",
       "0494       1\n",
       "JDD5       1\n",
       "FG7M       1\n",
       "EG3T       1\n",
       "3225       1\n",
       "F9BR       1\n",
       "0194       1\n",
       "FCH6       1\n",
       "ELS9       1\n",
       "D3BG       1\n",
       "CV76       1\n",
       "U137       1\n",
       "GY91       1\n",
       "FUQ9       1\n",
       "G9VL       1\n",
       "BS48       1\n",
       "H25W       1\n",
       "F83Y       1\n",
       "DJ40       1\n",
       "EU76       1\n",
       "D0JE       1\n",
       "JY93       1\n",
       "HW7N       1\n",
       "D2C9       1\n",
       "F1TD       1\n",
       "9735       1\n",
       "D4DZ       1\n",
       "H1YN       1\n",
       "CZL7       1\n",
       "Name: FIRE_CODE, Length: 166669, dtype: int64"
      ]
     },
     "execution_count": 24,
     "metadata": {},
     "output_type": "execute_result"
    }
   ],
   "source": [
    "df_all['FIRE_CODE'].value_counts()"
   ]
  },
  {
   "cell_type": "markdown",
   "metadata": {},
   "source": [
    "I'm going to drop features that I don't care about and then do feature engineering."
   ]
  },
  {
   "cell_type": "code",
   "execution_count": 25,
   "metadata": {},
   "outputs": [],
   "source": [
    "df_all = df_all.drop(['OBJECTID', 'FPA_ID', 'SOURCE_SYSTEM_TYPE', 'SOURCE_SYSTEM',\n",
    "                  'NWCG_REPORTING_AGENCY', 'NWCG_REPORTING_UNIT_ID',\n",
    "                  'NWCG_REPORTING_UNIT_NAME', 'SOURCE_REPORTING_UNIT',\n",
    "                  'SOURCE_REPORTING_UNIT_NAME', 'LOCAL_FIRE_REPORT_ID',\n",
    "                  'LOCAL_INCIDENT_ID', 'FIRE_NAME',\n",
    "                  'ICS_209_INCIDENT_NUMBER', 'ICS_209_NAME', 'MTBS_ID', 'MTBS_FIRE_NAME',\n",
    "                  'COMPLEX_NAME', 'FIRE_YEAR', 'DISCOVERY_TIME', \n",
    "                  'STAT_CAUSE_CODE', 'CONT_TIME', \n",
    "                  'FIRE_SIZE_CLASS', 'LATITUDE', 'LONGITUDE', 'OWNER_CODE', \n",
    "                  'OWNER_DESCR', 'COUNTY', 'FIPS_NAME'], axis=1)\n",
    "\n",
    "#at some point redo this. Instead of doing a drop just include all feats I want to keep. Much more readable, shorter"
   ]
  },
  {
   "cell_type": "code",
   "execution_count": 26,
   "metadata": {},
   "outputs": [
    {
     "data": {
      "text/plain": [
       "(1713742, 10)"
      ]
     },
     "execution_count": 26,
     "metadata": {},
     "output_type": "execute_result"
    }
   ],
   "source": [
    "df_all.shape"
   ]
  },
  {
   "cell_type": "code",
   "execution_count": 27,
   "metadata": {},
   "outputs": [
    {
     "data": {
      "text/html": [
       "<div>\n",
       "<style scoped>\n",
       "    .dataframe tbody tr th:only-of-type {\n",
       "        vertical-align: middle;\n",
       "    }\n",
       "\n",
       "    .dataframe tbody tr th {\n",
       "        vertical-align: top;\n",
       "    }\n",
       "\n",
       "    .dataframe thead th {\n",
       "        text-align: right;\n",
       "    }\n",
       "</style>\n",
       "<table border=\"1\" class=\"dataframe\">\n",
       "  <thead>\n",
       "    <tr style=\"text-align: right;\">\n",
       "      <th></th>\n",
       "      <th>FOD_ID</th>\n",
       "      <th>FIRE_CODE</th>\n",
       "      <th>DISCOVERY_DATE</th>\n",
       "      <th>DISCOVERY_DOY</th>\n",
       "      <th>STAT_CAUSE_DESCR</th>\n",
       "      <th>CONT_DATE</th>\n",
       "      <th>CONT_DOY</th>\n",
       "      <th>FIRE_SIZE</th>\n",
       "      <th>STATE</th>\n",
       "      <th>FIPS_CODE</th>\n",
       "    </tr>\n",
       "  </thead>\n",
       "  <tbody>\n",
       "    <tr>\n",
       "      <th>0</th>\n",
       "      <td>1</td>\n",
       "      <td>BJ8K</td>\n",
       "      <td>2453403.5</td>\n",
       "      <td>33</td>\n",
       "      <td>Miscellaneous</td>\n",
       "      <td>2453403.5</td>\n",
       "      <td>33.0</td>\n",
       "      <td>0.10</td>\n",
       "      <td>CA</td>\n",
       "      <td>063</td>\n",
       "    </tr>\n",
       "    <tr>\n",
       "      <th>1</th>\n",
       "      <td>2</td>\n",
       "      <td>AAC0</td>\n",
       "      <td>2453137.5</td>\n",
       "      <td>133</td>\n",
       "      <td>Lightning</td>\n",
       "      <td>2453137.5</td>\n",
       "      <td>133.0</td>\n",
       "      <td>0.25</td>\n",
       "      <td>CA</td>\n",
       "      <td>061</td>\n",
       "    </tr>\n",
       "    <tr>\n",
       "      <th>2</th>\n",
       "      <td>3</td>\n",
       "      <td>A32W</td>\n",
       "      <td>2453156.5</td>\n",
       "      <td>152</td>\n",
       "      <td>Debris Burning</td>\n",
       "      <td>2453156.5</td>\n",
       "      <td>152.0</td>\n",
       "      <td>0.10</td>\n",
       "      <td>CA</td>\n",
       "      <td>017</td>\n",
       "    </tr>\n",
       "    <tr>\n",
       "      <th>3</th>\n",
       "      <td>4</td>\n",
       "      <td>None</td>\n",
       "      <td>2453184.5</td>\n",
       "      <td>180</td>\n",
       "      <td>Lightning</td>\n",
       "      <td>2453189.5</td>\n",
       "      <td>185.0</td>\n",
       "      <td>0.10</td>\n",
       "      <td>CA</td>\n",
       "      <td>003</td>\n",
       "    </tr>\n",
       "    <tr>\n",
       "      <th>4</th>\n",
       "      <td>5</td>\n",
       "      <td>None</td>\n",
       "      <td>2453184.5</td>\n",
       "      <td>180</td>\n",
       "      <td>Lightning</td>\n",
       "      <td>2453189.5</td>\n",
       "      <td>185.0</td>\n",
       "      <td>0.10</td>\n",
       "      <td>CA</td>\n",
       "      <td>003</td>\n",
       "    </tr>\n",
       "    <tr>\n",
       "      <th>5</th>\n",
       "      <td>6</td>\n",
       "      <td>None</td>\n",
       "      <td>2453186.5</td>\n",
       "      <td>182</td>\n",
       "      <td>Lightning</td>\n",
       "      <td>2453187.5</td>\n",
       "      <td>183.0</td>\n",
       "      <td>0.10</td>\n",
       "      <td>CA</td>\n",
       "      <td>005</td>\n",
       "    </tr>\n",
       "    <tr>\n",
       "      <th>6</th>\n",
       "      <td>7</td>\n",
       "      <td>None</td>\n",
       "      <td>2453187.5</td>\n",
       "      <td>183</td>\n",
       "      <td>Lightning</td>\n",
       "      <td>2453188.5</td>\n",
       "      <td>184.0</td>\n",
       "      <td>0.10</td>\n",
       "      <td>CA</td>\n",
       "      <td>017</td>\n",
       "    </tr>\n",
       "    <tr>\n",
       "      <th>7</th>\n",
       "      <td>8</td>\n",
       "      <td>BK5X</td>\n",
       "      <td>2453437.5</td>\n",
       "      <td>67</td>\n",
       "      <td>Debris Burning</td>\n",
       "      <td>2453437.5</td>\n",
       "      <td>67.0</td>\n",
       "      <td>0.80</td>\n",
       "      <td>CA</td>\n",
       "      <td>None</td>\n",
       "    </tr>\n",
       "    <tr>\n",
       "      <th>8</th>\n",
       "      <td>9</td>\n",
       "      <td>BLPQ</td>\n",
       "      <td>2453444.5</td>\n",
       "      <td>74</td>\n",
       "      <td>Debris Burning</td>\n",
       "      <td>2453444.5</td>\n",
       "      <td>74.0</td>\n",
       "      <td>1.00</td>\n",
       "      <td>CA</td>\n",
       "      <td>None</td>\n",
       "    </tr>\n",
       "    <tr>\n",
       "      <th>9</th>\n",
       "      <td>10</td>\n",
       "      <td>None</td>\n",
       "      <td>2453187.5</td>\n",
       "      <td>183</td>\n",
       "      <td>Lightning</td>\n",
       "      <td>2453188.5</td>\n",
       "      <td>184.0</td>\n",
       "      <td>0.10</td>\n",
       "      <td>CA</td>\n",
       "      <td>005</td>\n",
       "    </tr>\n",
       "    <tr>\n",
       "      <th>10</th>\n",
       "      <td>11</td>\n",
       "      <td>None</td>\n",
       "      <td>2453188.5</td>\n",
       "      <td>184</td>\n",
       "      <td>Lightning</td>\n",
       "      <td>2453189.5</td>\n",
       "      <td>185.0</td>\n",
       "      <td>0.10</td>\n",
       "      <td>CA</td>\n",
       "      <td>017</td>\n",
       "    </tr>\n",
       "    <tr>\n",
       "      <th>11</th>\n",
       "      <td>12</td>\n",
       "      <td>None</td>\n",
       "      <td>2453188.5</td>\n",
       "      <td>184</td>\n",
       "      <td>Lightning</td>\n",
       "      <td>2453189.5</td>\n",
       "      <td>185.0</td>\n",
       "      <td>0.10</td>\n",
       "      <td>CA</td>\n",
       "      <td>005</td>\n",
       "    </tr>\n",
       "    <tr>\n",
       "      <th>12</th>\n",
       "      <td>13</td>\n",
       "      <td>None</td>\n",
       "      <td>2453251.5</td>\n",
       "      <td>247</td>\n",
       "      <td>Miscellaneous</td>\n",
       "      <td>2453251.5</td>\n",
       "      <td>247.0</td>\n",
       "      <td>0.10</td>\n",
       "      <td>CA</td>\n",
       "      <td>017</td>\n",
       "    </tr>\n",
       "    <tr>\n",
       "      <th>13</th>\n",
       "      <td>14</td>\n",
       "      <td>None</td>\n",
       "      <td>2453276.5</td>\n",
       "      <td>272</td>\n",
       "      <td>Campfire</td>\n",
       "      <td>2453276.5</td>\n",
       "      <td>272.0</td>\n",
       "      <td>6.00</td>\n",
       "      <td>CA</td>\n",
       "      <td>005</td>\n",
       "    </tr>\n",
       "    <tr>\n",
       "      <th>14</th>\n",
       "      <td>15</td>\n",
       "      <td>None</td>\n",
       "      <td>2453281.5</td>\n",
       "      <td>277</td>\n",
       "      <td>Lightning</td>\n",
       "      <td>2453281.5</td>\n",
       "      <td>277.0</td>\n",
       "      <td>0.20</td>\n",
       "      <td>CA</td>\n",
       "      <td>017</td>\n",
       "    </tr>\n",
       "    <tr>\n",
       "      <th>15</th>\n",
       "      <td>16</td>\n",
       "      <td>None</td>\n",
       "      <td>2453281.5</td>\n",
       "      <td>277</td>\n",
       "      <td>Lightning</td>\n",
       "      <td>2453281.5</td>\n",
       "      <td>277.0</td>\n",
       "      <td>0.10</td>\n",
       "      <td>CA</td>\n",
       "      <td>017</td>\n",
       "    </tr>\n",
       "    <tr>\n",
       "      <th>16</th>\n",
       "      <td>17</td>\n",
       "      <td></td>\n",
       "      <td>2453284.5</td>\n",
       "      <td>280</td>\n",
       "      <td>Equipment Use</td>\n",
       "      <td>2453299.5</td>\n",
       "      <td>295.0</td>\n",
       "      <td>16823.00</td>\n",
       "      <td>CA</td>\n",
       "      <td>005</td>\n",
       "    </tr>\n",
       "    <tr>\n",
       "      <th>17</th>\n",
       "      <td>18</td>\n",
       "      <td>BHA3</td>\n",
       "      <td>2453291.5</td>\n",
       "      <td>287</td>\n",
       "      <td>Equipment Use</td>\n",
       "      <td>2453295.5</td>\n",
       "      <td>291.0</td>\n",
       "      <td>7700.00</td>\n",
       "      <td>CA</td>\n",
       "      <td>017</td>\n",
       "    </tr>\n",
       "    <tr>\n",
       "      <th>18</th>\n",
       "      <td>19</td>\n",
       "      <td>None</td>\n",
       "      <td>2453329.5</td>\n",
       "      <td>325</td>\n",
       "      <td>Debris Burning</td>\n",
       "      <td>2453330.5</td>\n",
       "      <td>326.0</td>\n",
       "      <td>0.10</td>\n",
       "      <td>CA</td>\n",
       "      <td>017</td>\n",
       "    </tr>\n",
       "    <tr>\n",
       "      <th>19</th>\n",
       "      <td>20</td>\n",
       "      <td>AVPA</td>\n",
       "      <td>2453160.5</td>\n",
       "      <td>156</td>\n",
       "      <td>Lightning</td>\n",
       "      <td>2453160.5</td>\n",
       "      <td>156.0</td>\n",
       "      <td>0.10</td>\n",
       "      <td>NM</td>\n",
       "      <td>027</td>\n",
       "    </tr>\n",
       "  </tbody>\n",
       "</table>\n",
       "</div>"
      ],
      "text/plain": [
       "    FOD_ID FIRE_CODE  DISCOVERY_DATE  DISCOVERY_DOY STAT_CAUSE_DESCR  \\\n",
       "0        1      BJ8K       2453403.5             33    Miscellaneous   \n",
       "1        2      AAC0       2453137.5            133        Lightning   \n",
       "2        3      A32W       2453156.5            152   Debris Burning   \n",
       "3        4      None       2453184.5            180        Lightning   \n",
       "4        5      None       2453184.5            180        Lightning   \n",
       "5        6      None       2453186.5            182        Lightning   \n",
       "6        7      None       2453187.5            183        Lightning   \n",
       "7        8      BK5X       2453437.5             67   Debris Burning   \n",
       "8        9      BLPQ       2453444.5             74   Debris Burning   \n",
       "9       10      None       2453187.5            183        Lightning   \n",
       "10      11      None       2453188.5            184        Lightning   \n",
       "11      12      None       2453188.5            184        Lightning   \n",
       "12      13      None       2453251.5            247    Miscellaneous   \n",
       "13      14      None       2453276.5            272         Campfire   \n",
       "14      15      None       2453281.5            277        Lightning   \n",
       "15      16      None       2453281.5            277        Lightning   \n",
       "16      17                 2453284.5            280    Equipment Use   \n",
       "17      18      BHA3       2453291.5            287    Equipment Use   \n",
       "18      19      None       2453329.5            325   Debris Burning   \n",
       "19      20      AVPA       2453160.5            156        Lightning   \n",
       "\n",
       "    CONT_DATE  CONT_DOY  FIRE_SIZE STATE FIPS_CODE  \n",
       "0   2453403.5      33.0       0.10    CA       063  \n",
       "1   2453137.5     133.0       0.25    CA       061  \n",
       "2   2453156.5     152.0       0.10    CA       017  \n",
       "3   2453189.5     185.0       0.10    CA       003  \n",
       "4   2453189.5     185.0       0.10    CA       003  \n",
       "5   2453187.5     183.0       0.10    CA       005  \n",
       "6   2453188.5     184.0       0.10    CA       017  \n",
       "7   2453437.5      67.0       0.80    CA      None  \n",
       "8   2453444.5      74.0       1.00    CA      None  \n",
       "9   2453188.5     184.0       0.10    CA       005  \n",
       "10  2453189.5     185.0       0.10    CA       017  \n",
       "11  2453189.5     185.0       0.10    CA       005  \n",
       "12  2453251.5     247.0       0.10    CA       017  \n",
       "13  2453276.5     272.0       6.00    CA       005  \n",
       "14  2453281.5     277.0       0.20    CA       017  \n",
       "15  2453281.5     277.0       0.10    CA       017  \n",
       "16  2453299.5     295.0   16823.00    CA       005  \n",
       "17  2453295.5     291.0    7700.00    CA       017  \n",
       "18  2453330.5     326.0       0.10    CA       017  \n",
       "19  2453160.5     156.0       0.10    NM       027  "
      ]
     },
     "execution_count": 27,
     "metadata": {},
     "output_type": "execute_result"
    }
   ],
   "source": [
    "df_all.head(20)"
   ]
  },
  {
   "cell_type": "markdown",
   "metadata": {},
   "source": [
    "Time for feature engineering."
   ]
  },
  {
   "cell_type": "markdown",
   "metadata": {},
   "source": [
    "The 2 columns with the dates for discovery and containment are in the Julian format so I will have to convert them into gregorian timestamps and then engineer a duration. I do think day of year discovered will have some predictive power and will keep that column. I will also engineer month and a day-of-week discovered features."
   ]
  },
  {
   "cell_type": "code",
   "execution_count": 28,
   "metadata": {},
   "outputs": [],
   "source": [
    "df_all['START_DATE'] = pd.to_datetime(df_all['DISCOVERY_DATE'], unit='D', infer_datetime_format=True, origin='julian')"
   ]
  },
  {
   "cell_type": "code",
   "execution_count": 29,
   "metadata": {},
   "outputs": [],
   "source": [
    "df_all['END_DATE'] = pd.to_datetime(df_all['CONT_DATE'], unit='D', infer_datetime_format=True, origin='julian')"
   ]
  },
  {
   "cell_type": "code",
   "execution_count": 30,
   "metadata": {},
   "outputs": [
    {
     "data": {
      "text/html": [
       "<div>\n",
       "<style scoped>\n",
       "    .dataframe tbody tr th:only-of-type {\n",
       "        vertical-align: middle;\n",
       "    }\n",
       "\n",
       "    .dataframe tbody tr th {\n",
       "        vertical-align: top;\n",
       "    }\n",
       "\n",
       "    .dataframe thead th {\n",
       "        text-align: right;\n",
       "    }\n",
       "</style>\n",
       "<table border=\"1\" class=\"dataframe\">\n",
       "  <thead>\n",
       "    <tr style=\"text-align: right;\">\n",
       "      <th></th>\n",
       "      <th>FOD_ID</th>\n",
       "      <th>FIRE_CODE</th>\n",
       "      <th>DISCOVERY_DATE</th>\n",
       "      <th>DISCOVERY_DOY</th>\n",
       "      <th>STAT_CAUSE_DESCR</th>\n",
       "      <th>CONT_DATE</th>\n",
       "      <th>CONT_DOY</th>\n",
       "      <th>FIRE_SIZE</th>\n",
       "      <th>STATE</th>\n",
       "      <th>FIPS_CODE</th>\n",
       "      <th>START_DATE</th>\n",
       "      <th>END_DATE</th>\n",
       "    </tr>\n",
       "  </thead>\n",
       "  <tbody>\n",
       "    <tr>\n",
       "      <th>0</th>\n",
       "      <td>1</td>\n",
       "      <td>BJ8K</td>\n",
       "      <td>2453403.5</td>\n",
       "      <td>33</td>\n",
       "      <td>Miscellaneous</td>\n",
       "      <td>2453403.5</td>\n",
       "      <td>33.0</td>\n",
       "      <td>0.10</td>\n",
       "      <td>CA</td>\n",
       "      <td>063</td>\n",
       "      <td>2005-02-02</td>\n",
       "      <td>2005-02-02</td>\n",
       "    </tr>\n",
       "    <tr>\n",
       "      <th>1</th>\n",
       "      <td>2</td>\n",
       "      <td>AAC0</td>\n",
       "      <td>2453137.5</td>\n",
       "      <td>133</td>\n",
       "      <td>Lightning</td>\n",
       "      <td>2453137.5</td>\n",
       "      <td>133.0</td>\n",
       "      <td>0.25</td>\n",
       "      <td>CA</td>\n",
       "      <td>061</td>\n",
       "      <td>2004-05-12</td>\n",
       "      <td>2004-05-12</td>\n",
       "    </tr>\n",
       "  </tbody>\n",
       "</table>\n",
       "</div>"
      ],
      "text/plain": [
       "   FOD_ID FIRE_CODE  DISCOVERY_DATE  DISCOVERY_DOY STAT_CAUSE_DESCR  \\\n",
       "0       1      BJ8K       2453403.5             33    Miscellaneous   \n",
       "1       2      AAC0       2453137.5            133        Lightning   \n",
       "\n",
       "   CONT_DATE  CONT_DOY  FIRE_SIZE STATE FIPS_CODE START_DATE   END_DATE  \n",
       "0  2453403.5      33.0       0.10    CA       063 2005-02-02 2005-02-02  \n",
       "1  2453137.5     133.0       0.25    CA       061 2004-05-12 2004-05-12  "
      ]
     },
     "execution_count": 30,
     "metadata": {},
     "output_type": "execute_result"
    }
   ],
   "source": [
    "df_all.head(2)"
   ]
  },
  {
   "cell_type": "code",
   "execution_count": 31,
   "metadata": {},
   "outputs": [],
   "source": [
    "df_all = df_all.drop(['DISCOVERY_DATE', 'CONT_DATE'], axis=1)"
   ]
  },
  {
   "cell_type": "code",
   "execution_count": 32,
   "metadata": {},
   "outputs": [
    {
     "data": {
      "text/html": [
       "<div>\n",
       "<style scoped>\n",
       "    .dataframe tbody tr th:only-of-type {\n",
       "        vertical-align: middle;\n",
       "    }\n",
       "\n",
       "    .dataframe tbody tr th {\n",
       "        vertical-align: top;\n",
       "    }\n",
       "\n",
       "    .dataframe thead th {\n",
       "        text-align: right;\n",
       "    }\n",
       "</style>\n",
       "<table border=\"1\" class=\"dataframe\">\n",
       "  <thead>\n",
       "    <tr style=\"text-align: right;\">\n",
       "      <th></th>\n",
       "      <th>FOD_ID</th>\n",
       "      <th>FIRE_CODE</th>\n",
       "      <th>DISCOVERY_DOY</th>\n",
       "      <th>STAT_CAUSE_DESCR</th>\n",
       "      <th>CONT_DOY</th>\n",
       "      <th>FIRE_SIZE</th>\n",
       "      <th>STATE</th>\n",
       "      <th>FIPS_CODE</th>\n",
       "      <th>START_DATE</th>\n",
       "      <th>END_DATE</th>\n",
       "    </tr>\n",
       "  </thead>\n",
       "  <tbody>\n",
       "    <tr>\n",
       "      <th>0</th>\n",
       "      <td>1</td>\n",
       "      <td>BJ8K</td>\n",
       "      <td>33</td>\n",
       "      <td>Miscellaneous</td>\n",
       "      <td>33.0</td>\n",
       "      <td>0.10</td>\n",
       "      <td>CA</td>\n",
       "      <td>063</td>\n",
       "      <td>2005-02-02</td>\n",
       "      <td>2005-02-02</td>\n",
       "    </tr>\n",
       "    <tr>\n",
       "      <th>1</th>\n",
       "      <td>2</td>\n",
       "      <td>AAC0</td>\n",
       "      <td>133</td>\n",
       "      <td>Lightning</td>\n",
       "      <td>133.0</td>\n",
       "      <td>0.25</td>\n",
       "      <td>CA</td>\n",
       "      <td>061</td>\n",
       "      <td>2004-05-12</td>\n",
       "      <td>2004-05-12</td>\n",
       "    </tr>\n",
       "    <tr>\n",
       "      <th>2</th>\n",
       "      <td>3</td>\n",
       "      <td>A32W</td>\n",
       "      <td>152</td>\n",
       "      <td>Debris Burning</td>\n",
       "      <td>152.0</td>\n",
       "      <td>0.10</td>\n",
       "      <td>CA</td>\n",
       "      <td>017</td>\n",
       "      <td>2004-05-31</td>\n",
       "      <td>2004-05-31</td>\n",
       "    </tr>\n",
       "  </tbody>\n",
       "</table>\n",
       "</div>"
      ],
      "text/plain": [
       "   FOD_ID FIRE_CODE  DISCOVERY_DOY STAT_CAUSE_DESCR  CONT_DOY  FIRE_SIZE  \\\n",
       "0       1      BJ8K             33    Miscellaneous      33.0       0.10   \n",
       "1       2      AAC0            133        Lightning     133.0       0.25   \n",
       "2       3      A32W            152   Debris Burning     152.0       0.10   \n",
       "\n",
       "  STATE FIPS_CODE START_DATE   END_DATE  \n",
       "0    CA       063 2005-02-02 2005-02-02  \n",
       "1    CA       061 2004-05-12 2004-05-12  \n",
       "2    CA       017 2004-05-31 2004-05-31  "
      ]
     },
     "execution_count": 32,
     "metadata": {},
     "output_type": "execute_result"
    }
   ],
   "source": [
    "df_all.head(3)"
   ]
  },
  {
   "cell_type": "code",
   "execution_count": 33,
   "metadata": {},
   "outputs": [],
   "source": [
    "df_all['BURN_TIME'] = (df_all['END_DATE'] - df_all['START_DATE']).astype('timedelta64[D]')"
   ]
  },
  {
   "cell_type": "code",
   "execution_count": 34,
   "metadata": {},
   "outputs": [],
   "source": [
    "df_all['MONTH'] = pd.DatetimeIndex(df_all['START_DATE']).month"
   ]
  },
  {
   "cell_type": "code",
   "execution_count": 35,
   "metadata": {},
   "outputs": [],
   "source": [
    "df_all['DOW'] = pd.DatetimeIndex(df_all['START_DATE']).weekday_name"
   ]
  },
  {
   "cell_type": "code",
   "execution_count": 36,
   "metadata": {},
   "outputs": [
    {
     "data": {
      "text/html": [
       "<div>\n",
       "<style scoped>\n",
       "    .dataframe tbody tr th:only-of-type {\n",
       "        vertical-align: middle;\n",
       "    }\n",
       "\n",
       "    .dataframe tbody tr th {\n",
       "        vertical-align: top;\n",
       "    }\n",
       "\n",
       "    .dataframe thead th {\n",
       "        text-align: right;\n",
       "    }\n",
       "</style>\n",
       "<table border=\"1\" class=\"dataframe\">\n",
       "  <thead>\n",
       "    <tr style=\"text-align: right;\">\n",
       "      <th></th>\n",
       "      <th>FOD_ID</th>\n",
       "      <th>FIRE_CODE</th>\n",
       "      <th>DISCOVERY_DOY</th>\n",
       "      <th>STAT_CAUSE_DESCR</th>\n",
       "      <th>CONT_DOY</th>\n",
       "      <th>FIRE_SIZE</th>\n",
       "      <th>STATE</th>\n",
       "      <th>FIPS_CODE</th>\n",
       "      <th>START_DATE</th>\n",
       "      <th>END_DATE</th>\n",
       "      <th>BURN_TIME</th>\n",
       "      <th>MONTH</th>\n",
       "      <th>DOW</th>\n",
       "    </tr>\n",
       "  </thead>\n",
       "  <tbody>\n",
       "    <tr>\n",
       "      <th>0</th>\n",
       "      <td>1</td>\n",
       "      <td>BJ8K</td>\n",
       "      <td>33</td>\n",
       "      <td>Miscellaneous</td>\n",
       "      <td>33.0</td>\n",
       "      <td>0.10</td>\n",
       "      <td>CA</td>\n",
       "      <td>063</td>\n",
       "      <td>2005-02-02</td>\n",
       "      <td>2005-02-02</td>\n",
       "      <td>0.0</td>\n",
       "      <td>2</td>\n",
       "      <td>Wednesday</td>\n",
       "    </tr>\n",
       "    <tr>\n",
       "      <th>1</th>\n",
       "      <td>2</td>\n",
       "      <td>AAC0</td>\n",
       "      <td>133</td>\n",
       "      <td>Lightning</td>\n",
       "      <td>133.0</td>\n",
       "      <td>0.25</td>\n",
       "      <td>CA</td>\n",
       "      <td>061</td>\n",
       "      <td>2004-05-12</td>\n",
       "      <td>2004-05-12</td>\n",
       "      <td>0.0</td>\n",
       "      <td>5</td>\n",
       "      <td>Wednesday</td>\n",
       "    </tr>\n",
       "    <tr>\n",
       "      <th>2</th>\n",
       "      <td>3</td>\n",
       "      <td>A32W</td>\n",
       "      <td>152</td>\n",
       "      <td>Debris Burning</td>\n",
       "      <td>152.0</td>\n",
       "      <td>0.10</td>\n",
       "      <td>CA</td>\n",
       "      <td>017</td>\n",
       "      <td>2004-05-31</td>\n",
       "      <td>2004-05-31</td>\n",
       "      <td>0.0</td>\n",
       "      <td>5</td>\n",
       "      <td>Monday</td>\n",
       "    </tr>\n",
       "  </tbody>\n",
       "</table>\n",
       "</div>"
      ],
      "text/plain": [
       "   FOD_ID FIRE_CODE  DISCOVERY_DOY STAT_CAUSE_DESCR  CONT_DOY  FIRE_SIZE  \\\n",
       "0       1      BJ8K             33    Miscellaneous      33.0       0.10   \n",
       "1       2      AAC0            133        Lightning     133.0       0.25   \n",
       "2       3      A32W            152   Debris Burning     152.0       0.10   \n",
       "\n",
       "  STATE FIPS_CODE START_DATE   END_DATE  BURN_TIME  MONTH        DOW  \n",
       "0    CA       063 2005-02-02 2005-02-02        0.0      2  Wednesday  \n",
       "1    CA       061 2004-05-12 2004-05-12        0.0      5  Wednesday  \n",
       "2    CA       017 2004-05-31 2004-05-31        0.0      5     Monday  "
      ]
     },
     "execution_count": 36,
     "metadata": {},
     "output_type": "execute_result"
    }
   ],
   "source": [
    "df_all.head(3)"
   ]
  },
  {
   "cell_type": "code",
   "execution_count": 37,
   "metadata": {},
   "outputs": [],
   "source": [
    "df_all = df_all.drop(['CONT_DOY'], axis=1)"
   ]
  },
  {
   "cell_type": "code",
   "execution_count": 38,
   "metadata": {},
   "outputs": [],
   "source": [
    "df_all = df_all.drop(['END_DATE'], axis=1)"
   ]
  },
  {
   "cell_type": "code",
   "execution_count": 39,
   "metadata": {},
   "outputs": [
    {
     "data": {
      "text/html": [
       "<div>\n",
       "<style scoped>\n",
       "    .dataframe tbody tr th:only-of-type {\n",
       "        vertical-align: middle;\n",
       "    }\n",
       "\n",
       "    .dataframe tbody tr th {\n",
       "        vertical-align: top;\n",
       "    }\n",
       "\n",
       "    .dataframe thead th {\n",
       "        text-align: right;\n",
       "    }\n",
       "</style>\n",
       "<table border=\"1\" class=\"dataframe\">\n",
       "  <thead>\n",
       "    <tr style=\"text-align: right;\">\n",
       "      <th></th>\n",
       "      <th>FOD_ID</th>\n",
       "      <th>FIRE_CODE</th>\n",
       "      <th>DISCOVERY_DOY</th>\n",
       "      <th>STAT_CAUSE_DESCR</th>\n",
       "      <th>FIRE_SIZE</th>\n",
       "      <th>STATE</th>\n",
       "      <th>FIPS_CODE</th>\n",
       "      <th>START_DATE</th>\n",
       "      <th>BURN_TIME</th>\n",
       "      <th>MONTH</th>\n",
       "      <th>DOW</th>\n",
       "    </tr>\n",
       "  </thead>\n",
       "  <tbody>\n",
       "    <tr>\n",
       "      <th>0</th>\n",
       "      <td>1</td>\n",
       "      <td>BJ8K</td>\n",
       "      <td>33</td>\n",
       "      <td>Miscellaneous</td>\n",
       "      <td>0.10</td>\n",
       "      <td>CA</td>\n",
       "      <td>063</td>\n",
       "      <td>2005-02-02</td>\n",
       "      <td>0.0</td>\n",
       "      <td>2</td>\n",
       "      <td>Wednesday</td>\n",
       "    </tr>\n",
       "    <tr>\n",
       "      <th>1</th>\n",
       "      <td>2</td>\n",
       "      <td>AAC0</td>\n",
       "      <td>133</td>\n",
       "      <td>Lightning</td>\n",
       "      <td>0.25</td>\n",
       "      <td>CA</td>\n",
       "      <td>061</td>\n",
       "      <td>2004-05-12</td>\n",
       "      <td>0.0</td>\n",
       "      <td>5</td>\n",
       "      <td>Wednesday</td>\n",
       "    </tr>\n",
       "    <tr>\n",
       "      <th>2</th>\n",
       "      <td>3</td>\n",
       "      <td>A32W</td>\n",
       "      <td>152</td>\n",
       "      <td>Debris Burning</td>\n",
       "      <td>0.10</td>\n",
       "      <td>CA</td>\n",
       "      <td>017</td>\n",
       "      <td>2004-05-31</td>\n",
       "      <td>0.0</td>\n",
       "      <td>5</td>\n",
       "      <td>Monday</td>\n",
       "    </tr>\n",
       "  </tbody>\n",
       "</table>\n",
       "</div>"
      ],
      "text/plain": [
       "   FOD_ID FIRE_CODE  DISCOVERY_DOY STAT_CAUSE_DESCR  FIRE_SIZE STATE  \\\n",
       "0       1      BJ8K             33    Miscellaneous       0.10    CA   \n",
       "1       2      AAC0            133        Lightning       0.25    CA   \n",
       "2       3      A32W            152   Debris Burning       0.10    CA   \n",
       "\n",
       "  FIPS_CODE START_DATE  BURN_TIME  MONTH        DOW  \n",
       "0       063 2005-02-02        0.0      2  Wednesday  \n",
       "1       061 2004-05-12        0.0      5  Wednesday  \n",
       "2       017 2004-05-31        0.0      5     Monday  "
      ]
     },
     "execution_count": 39,
     "metadata": {},
     "output_type": "execute_result"
    }
   ],
   "source": [
    "df_all.head(3)"
   ]
  },
  {
   "cell_type": "code",
   "execution_count": 40,
   "metadata": {},
   "outputs": [],
   "source": [
    "df_all = df_all.drop(['FOD_ID'], axis=1)"
   ]
  },
  {
   "cell_type": "code",
   "execution_count": 41,
   "metadata": {},
   "outputs": [
    {
     "data": {
      "text/html": [
       "<div>\n",
       "<style scoped>\n",
       "    .dataframe tbody tr th:only-of-type {\n",
       "        vertical-align: middle;\n",
       "    }\n",
       "\n",
       "    .dataframe tbody tr th {\n",
       "        vertical-align: top;\n",
       "    }\n",
       "\n",
       "    .dataframe thead th {\n",
       "        text-align: right;\n",
       "    }\n",
       "</style>\n",
       "<table border=\"1\" class=\"dataframe\">\n",
       "  <thead>\n",
       "    <tr style=\"text-align: right;\">\n",
       "      <th></th>\n",
       "      <th>FIRE_CODE</th>\n",
       "      <th>DISCOVERY_DOY</th>\n",
       "      <th>STAT_CAUSE_DESCR</th>\n",
       "      <th>FIRE_SIZE</th>\n",
       "      <th>STATE</th>\n",
       "      <th>FIPS_CODE</th>\n",
       "      <th>START_DATE</th>\n",
       "      <th>BURN_TIME</th>\n",
       "      <th>MONTH</th>\n",
       "      <th>DOW</th>\n",
       "    </tr>\n",
       "  </thead>\n",
       "  <tbody>\n",
       "    <tr>\n",
       "      <th>0</th>\n",
       "      <td>BJ8K</td>\n",
       "      <td>33</td>\n",
       "      <td>Miscellaneous</td>\n",
       "      <td>0.10</td>\n",
       "      <td>CA</td>\n",
       "      <td>063</td>\n",
       "      <td>2005-02-02</td>\n",
       "      <td>0.0</td>\n",
       "      <td>2</td>\n",
       "      <td>Wednesday</td>\n",
       "    </tr>\n",
       "    <tr>\n",
       "      <th>1</th>\n",
       "      <td>AAC0</td>\n",
       "      <td>133</td>\n",
       "      <td>Lightning</td>\n",
       "      <td>0.25</td>\n",
       "      <td>CA</td>\n",
       "      <td>061</td>\n",
       "      <td>2004-05-12</td>\n",
       "      <td>0.0</td>\n",
       "      <td>5</td>\n",
       "      <td>Wednesday</td>\n",
       "    </tr>\n",
       "    <tr>\n",
       "      <th>2</th>\n",
       "      <td>A32W</td>\n",
       "      <td>152</td>\n",
       "      <td>Debris Burning</td>\n",
       "      <td>0.10</td>\n",
       "      <td>CA</td>\n",
       "      <td>017</td>\n",
       "      <td>2004-05-31</td>\n",
       "      <td>0.0</td>\n",
       "      <td>5</td>\n",
       "      <td>Monday</td>\n",
       "    </tr>\n",
       "    <tr>\n",
       "      <th>3</th>\n",
       "      <td>None</td>\n",
       "      <td>180</td>\n",
       "      <td>Lightning</td>\n",
       "      <td>0.10</td>\n",
       "      <td>CA</td>\n",
       "      <td>003</td>\n",
       "      <td>2004-06-28</td>\n",
       "      <td>5.0</td>\n",
       "      <td>6</td>\n",
       "      <td>Monday</td>\n",
       "    </tr>\n",
       "    <tr>\n",
       "      <th>4</th>\n",
       "      <td>None</td>\n",
       "      <td>180</td>\n",
       "      <td>Lightning</td>\n",
       "      <td>0.10</td>\n",
       "      <td>CA</td>\n",
       "      <td>003</td>\n",
       "      <td>2004-06-28</td>\n",
       "      <td>5.0</td>\n",
       "      <td>6</td>\n",
       "      <td>Monday</td>\n",
       "    </tr>\n",
       "  </tbody>\n",
       "</table>\n",
       "</div>"
      ],
      "text/plain": [
       "  FIRE_CODE  DISCOVERY_DOY STAT_CAUSE_DESCR  FIRE_SIZE STATE FIPS_CODE  \\\n",
       "0      BJ8K             33    Miscellaneous       0.10    CA       063   \n",
       "1      AAC0            133        Lightning       0.25    CA       061   \n",
       "2      A32W            152   Debris Burning       0.10    CA       017   \n",
       "3      None            180        Lightning       0.10    CA       003   \n",
       "4      None            180        Lightning       0.10    CA       003   \n",
       "\n",
       "  START_DATE  BURN_TIME  MONTH        DOW  \n",
       "0 2005-02-02        0.0      2  Wednesday  \n",
       "1 2004-05-12        0.0      5  Wednesday  \n",
       "2 2004-05-31        0.0      5     Monday  \n",
       "3 2004-06-28        5.0      6     Monday  \n",
       "4 2004-06-28        5.0      6     Monday  "
      ]
     },
     "execution_count": 41,
     "metadata": {},
     "output_type": "execute_result"
    }
   ],
   "source": [
    "df_all.head()"
   ]
  },
  {
   "cell_type": "code",
   "execution_count": 42,
   "metadata": {},
   "outputs": [
    {
     "data": {
      "text/plain": [
       "796359"
      ]
     },
     "execution_count": 42,
     "metadata": {},
     "output_type": "execute_result"
    }
   ],
   "source": [
    "df_all['BURN_TIME'].isnull().sum()"
   ]
  },
  {
   "cell_type": "code",
   "execution_count": 43,
   "metadata": {},
   "outputs": [
    {
     "data": {
      "text/plain": [
       "<matplotlib.axes._subplots.AxesSubplot at 0x11dcdc5f8>"
      ]
     },
     "execution_count": 43,
     "metadata": {},
     "output_type": "execute_result"
    },
    {
     "data": {
      "image/png": "[encoded data removed]",
      "text/plain": [
       "<Figure size 2880x360 with 1 Axes>"
      ]
     },
     "metadata": {},
     "output_type": "display_data"
    }
   ],
   "source": [
    "fig, ax = plt.subplots(figsize=(40,5))\n",
    "sns.countplot(x=df_all['BURN_TIME'].value_counts(), data=df_all)"
   ]
  },
  {
   "cell_type": "markdown",
   "metadata": {},
   "source": [
    "I'm going to make a new column to use as my target, \"Arson\". If the cause was arson the value will be 1, else 0."
   ]
  },
  {
   "cell_type": "code",
   "execution_count": 44,
   "metadata": {},
   "outputs": [],
   "source": [
    "# the below works but it isn't vectorized and it takes a hot minute. Going to try to do something faster for practice.\n",
    "\n",
    "# def make_arson(dataframe):\n",
    "#     if dataframe['STAT_CAUSE_DESCR'] == 'Arson':\n",
    "#         val = 1\n",
    "#     else:\n",
    "#         val = 0\n",
    "#     return val\n",
    "#\n",
    "#\n",
    "# df_all['ARSON'] = df_all.apply(make_arson, axis=1)"
   ]
  },
  {
   "cell_type": "code",
   "execution_count": 45,
   "metadata": {
    "scrolled": true
   },
   "outputs": [],
   "source": [
    "#humbug. df_all['ARSON'] = [x for x in df_all['STAT_CAUSE_DESCR'] if x =='Arson' x = 1 else 0]"
   ]
  },
  {
   "cell_type": "code",
   "execution_count": 46,
   "metadata": {},
   "outputs": [
    {
     "data": {
      "text/html": [
       "<div>\n",
       "<style scoped>\n",
       "    .dataframe tbody tr th:only-of-type {\n",
       "        vertical-align: middle;\n",
       "    }\n",
       "\n",
       "    .dataframe tbody tr th {\n",
       "        vertical-align: top;\n",
       "    }\n",
       "\n",
       "    .dataframe thead th {\n",
       "        text-align: right;\n",
       "    }\n",
       "</style>\n",
       "<table border=\"1\" class=\"dataframe\">\n",
       "  <thead>\n",
       "    <tr style=\"text-align: right;\">\n",
       "      <th></th>\n",
       "      <th>FIRE_CODE</th>\n",
       "      <th>DISCOVERY_DOY</th>\n",
       "      <th>STAT_CAUSE_DESCR</th>\n",
       "      <th>FIRE_SIZE</th>\n",
       "      <th>STATE</th>\n",
       "      <th>FIPS_CODE</th>\n",
       "      <th>START_DATE</th>\n",
       "      <th>BURN_TIME</th>\n",
       "      <th>MONTH</th>\n",
       "      <th>DOW</th>\n",
       "      <th>ARSON</th>\n",
       "    </tr>\n",
       "  </thead>\n",
       "  <tbody>\n",
       "    <tr>\n",
       "      <th>0</th>\n",
       "      <td>BJ8K</td>\n",
       "      <td>33</td>\n",
       "      <td>Miscellaneous</td>\n",
       "      <td>0.10</td>\n",
       "      <td>CA</td>\n",
       "      <td>063</td>\n",
       "      <td>2005-02-02</td>\n",
       "      <td>0.0</td>\n",
       "      <td>2</td>\n",
       "      <td>Wednesday</td>\n",
       "      <td>0.0</td>\n",
       "    </tr>\n",
       "    <tr>\n",
       "      <th>1</th>\n",
       "      <td>AAC0</td>\n",
       "      <td>133</td>\n",
       "      <td>Lightning</td>\n",
       "      <td>0.25</td>\n",
       "      <td>CA</td>\n",
       "      <td>061</td>\n",
       "      <td>2004-05-12</td>\n",
       "      <td>0.0</td>\n",
       "      <td>5</td>\n",
       "      <td>Wednesday</td>\n",
       "      <td>0.0</td>\n",
       "    </tr>\n",
       "    <tr>\n",
       "      <th>2</th>\n",
       "      <td>A32W</td>\n",
       "      <td>152</td>\n",
       "      <td>Debris Burning</td>\n",
       "      <td>0.10</td>\n",
       "      <td>CA</td>\n",
       "      <td>017</td>\n",
       "      <td>2004-05-31</td>\n",
       "      <td>0.0</td>\n",
       "      <td>5</td>\n",
       "      <td>Monday</td>\n",
       "      <td>0.0</td>\n",
       "    </tr>\n",
       "  </tbody>\n",
       "</table>\n",
       "</div>"
      ],
      "text/plain": [
       "  FIRE_CODE  DISCOVERY_DOY STAT_CAUSE_DESCR  FIRE_SIZE STATE FIPS_CODE  \\\n",
       "0      BJ8K             33    Miscellaneous       0.10    CA       063   \n",
       "1      AAC0            133        Lightning       0.25    CA       061   \n",
       "2      A32W            152   Debris Burning       0.10    CA       017   \n",
       "\n",
       "  START_DATE  BURN_TIME  MONTH        DOW  ARSON  \n",
       "0 2005-02-02        0.0      2  Wednesday    0.0  \n",
       "1 2004-05-12        0.0      5  Wednesday    0.0  \n",
       "2 2004-05-31        0.0      5     Monday    0.0  "
      ]
     },
     "execution_count": 46,
     "metadata": {},
     "output_type": "execute_result"
    }
   ],
   "source": [
    "df_all.loc[df_all['STAT_CAUSE_DESCR'] != 'Arson', 'ARSON'] = 0\n",
    "df_all.loc[df_all['STAT_CAUSE_DESCR'] == 'Arson', 'ARSON'] = 1\n",
    "\n",
    "df_all.head(3)"
   ]
  },
  {
   "cell_type": "markdown",
   "metadata": {},
   "source": [
    "Wow that was a lot faster."
   ]
  },
  {
   "cell_type": "code",
   "execution_count": 47,
   "metadata": {
    "scrolled": true
   },
   "outputs": [],
   "source": [
    "df_all['ARSON'] = df_all['ARSON'].astype(int)"
   ]
  },
  {
   "cell_type": "markdown",
   "metadata": {},
   "source": [
    "Now That I've made the target column for arson I can drop the original column."
   ]
  },
  {
   "cell_type": "code",
   "execution_count": 48,
   "metadata": {},
   "outputs": [
    {
     "data": {
      "text/html": [
       "<div>\n",
       "<style scoped>\n",
       "    .dataframe tbody tr th:only-of-type {\n",
       "        vertical-align: middle;\n",
       "    }\n",
       "\n",
       "    .dataframe tbody tr th {\n",
       "        vertical-align: top;\n",
       "    }\n",
       "\n",
       "    .dataframe thead th {\n",
       "        text-align: right;\n",
       "    }\n",
       "</style>\n",
       "<table border=\"1\" class=\"dataframe\">\n",
       "  <thead>\n",
       "    <tr style=\"text-align: right;\">\n",
       "      <th></th>\n",
       "      <th>FIRE_CODE</th>\n",
       "      <th>DISCOVERY_DOY</th>\n",
       "      <th>STAT_CAUSE_DESCR</th>\n",
       "      <th>FIRE_SIZE</th>\n",
       "      <th>STATE</th>\n",
       "      <th>FIPS_CODE</th>\n",
       "      <th>START_DATE</th>\n",
       "      <th>BURN_TIME</th>\n",
       "      <th>MONTH</th>\n",
       "      <th>DOW</th>\n",
       "      <th>ARSON</th>\n",
       "    </tr>\n",
       "  </thead>\n",
       "  <tbody>\n",
       "    <tr>\n",
       "      <th>0</th>\n",
       "      <td>BJ8K</td>\n",
       "      <td>33</td>\n",
       "      <td>Miscellaneous</td>\n",
       "      <td>0.10</td>\n",
       "      <td>CA</td>\n",
       "      <td>063</td>\n",
       "      <td>2005-02-02</td>\n",
       "      <td>0.0</td>\n",
       "      <td>2</td>\n",
       "      <td>Wednesday</td>\n",
       "      <td>0</td>\n",
       "    </tr>\n",
       "    <tr>\n",
       "      <th>1</th>\n",
       "      <td>AAC0</td>\n",
       "      <td>133</td>\n",
       "      <td>Lightning</td>\n",
       "      <td>0.25</td>\n",
       "      <td>CA</td>\n",
       "      <td>061</td>\n",
       "      <td>2004-05-12</td>\n",
       "      <td>0.0</td>\n",
       "      <td>5</td>\n",
       "      <td>Wednesday</td>\n",
       "      <td>0</td>\n",
       "    </tr>\n",
       "    <tr>\n",
       "      <th>2</th>\n",
       "      <td>A32W</td>\n",
       "      <td>152</td>\n",
       "      <td>Debris Burning</td>\n",
       "      <td>0.10</td>\n",
       "      <td>CA</td>\n",
       "      <td>017</td>\n",
       "      <td>2004-05-31</td>\n",
       "      <td>0.0</td>\n",
       "      <td>5</td>\n",
       "      <td>Monday</td>\n",
       "      <td>0</td>\n",
       "    </tr>\n",
       "    <tr>\n",
       "      <th>3</th>\n",
       "      <td>None</td>\n",
       "      <td>180</td>\n",
       "      <td>Lightning</td>\n",
       "      <td>0.10</td>\n",
       "      <td>CA</td>\n",
       "      <td>003</td>\n",
       "      <td>2004-06-28</td>\n",
       "      <td>5.0</td>\n",
       "      <td>6</td>\n",
       "      <td>Monday</td>\n",
       "      <td>0</td>\n",
       "    </tr>\n",
       "    <tr>\n",
       "      <th>4</th>\n",
       "      <td>None</td>\n",
       "      <td>180</td>\n",
       "      <td>Lightning</td>\n",
       "      <td>0.10</td>\n",
       "      <td>CA</td>\n",
       "      <td>003</td>\n",
       "      <td>2004-06-28</td>\n",
       "      <td>5.0</td>\n",
       "      <td>6</td>\n",
       "      <td>Monday</td>\n",
       "      <td>0</td>\n",
       "    </tr>\n",
       "  </tbody>\n",
       "</table>\n",
       "</div>"
      ],
      "text/plain": [
       "  FIRE_CODE  DISCOVERY_DOY STAT_CAUSE_DESCR  FIRE_SIZE STATE FIPS_CODE  \\\n",
       "0      BJ8K             33    Miscellaneous       0.10    CA       063   \n",
       "1      AAC0            133        Lightning       0.25    CA       061   \n",
       "2      A32W            152   Debris Burning       0.10    CA       017   \n",
       "3      None            180        Lightning       0.10    CA       003   \n",
       "4      None            180        Lightning       0.10    CA       003   \n",
       "\n",
       "  START_DATE  BURN_TIME  MONTH        DOW  ARSON  \n",
       "0 2005-02-02        0.0      2  Wednesday      0  \n",
       "1 2004-05-12        0.0      5  Wednesday      0  \n",
       "2 2004-05-31        0.0      5     Monday      0  \n",
       "3 2004-06-28        5.0      6     Monday      0  \n",
       "4 2004-06-28        5.0      6     Monday      0  "
      ]
     },
     "execution_count": 48,
     "metadata": {},
     "output_type": "execute_result"
    }
   ],
   "source": [
    "df_all.head()"
   ]
  },
  {
   "cell_type": "code",
   "execution_count": 49,
   "metadata": {},
   "outputs": [],
   "source": [
    "df_all.drop(['STAT_CAUSE_DESCR'], axis=1, inplace=True)"
   ]
  },
  {
   "cell_type": "code",
   "execution_count": 50,
   "metadata": {},
   "outputs": [
    {
     "data": {
      "text/plain": [
       "0    1432287\n",
       "1     281455\n",
       "Name: ARSON, dtype: int64"
      ]
     },
     "execution_count": 50,
     "metadata": {},
     "output_type": "execute_result"
    }
   ],
   "source": [
    "df_all.ARSON.value_counts()"
   ]
  },
  {
   "cell_type": "code",
   "execution_count": 51,
   "metadata": {},
   "outputs": [
    {
     "data": {
      "text/plain": [
       "0.164234172938517"
      ]
     },
     "execution_count": 51,
     "metadata": {},
     "output_type": "execute_result"
    }
   ],
   "source": [
    "281455/1713742"
   ]
  },
  {
   "cell_type": "markdown",
   "metadata": {},
   "source": [
    "16.42% of these fires were started by arsonists! Crazy. Also: that's a pretty unbalanced class. Hopefully that won't cause problems. Famous last words."
   ]
  },
  {
   "cell_type": "markdown",
   "metadata": {},
   "source": [
    "Over half of all the FIRE_CODE entries are nulls. DROPPED."
   ]
  },
  {
   "cell_type": "code",
   "execution_count": 52,
   "metadata": {},
   "outputs": [],
   "source": [
    "df_all.drop(['FIRE_CODE'], axis=1, inplace=True)"
   ]
  },
  {
   "cell_type": "code",
   "execution_count": 53,
   "metadata": {},
   "outputs": [
    {
     "data": {
      "text/plain": [
       "DISCOVERY_DOY         0\n",
       "FIRE_SIZE             0\n",
       "STATE                 0\n",
       "FIPS_CODE        636349\n",
       "START_DATE            0\n",
       "BURN_TIME        796359\n",
       "MONTH                 0\n",
       "DOW                   0\n",
       "ARSON                 0\n",
       "dtype: int64"
      ]
     },
     "execution_count": 53,
     "metadata": {},
     "output_type": "execute_result"
    }
   ],
   "source": [
    "df_all.isnull().sum()"
   ]
  },
  {
   "cell_type": "markdown",
   "metadata": {},
   "source": [
    "I'm going to drop FIPS, because I think State will cover location and going all the way down to county risks overfitting on historic data. A county may have an arsonist in it for a time who may have been arrested, moved or died; using a coefficient for that county that was affected while the arsonist was acitive will decrease accuracy. This is also true in a state but given the differences in population between states and differenes in weather conditions I think it will be predictive and have a lower risk of over fitting."
   ]
  },
  {
   "cell_type": "code",
   "execution_count": 54,
   "metadata": {},
   "outputs": [],
   "source": [
    "df_all.drop(['FIPS_CODE'], axis=1, inplace=True)"
   ]
  },
  {
   "cell_type": "code",
   "execution_count": 55,
   "metadata": {},
   "outputs": [
    {
     "data": {
      "text/html": [
       "<div>\n",
       "<style scoped>\n",
       "    .dataframe tbody tr th:only-of-type {\n",
       "        vertical-align: middle;\n",
       "    }\n",
       "\n",
       "    .dataframe tbody tr th {\n",
       "        vertical-align: top;\n",
       "    }\n",
       "\n",
       "    .dataframe thead th {\n",
       "        text-align: right;\n",
       "    }\n",
       "</style>\n",
       "<table border=\"1\" class=\"dataframe\">\n",
       "  <thead>\n",
       "    <tr style=\"text-align: right;\">\n",
       "      <th></th>\n",
       "      <th>DISCOVERY_DOY</th>\n",
       "      <th>FIRE_SIZE</th>\n",
       "      <th>STATE</th>\n",
       "      <th>START_DATE</th>\n",
       "      <th>BURN_TIME</th>\n",
       "      <th>MONTH</th>\n",
       "      <th>DOW</th>\n",
       "      <th>ARSON</th>\n",
       "    </tr>\n",
       "  </thead>\n",
       "  <tbody>\n",
       "    <tr>\n",
       "      <th>0</th>\n",
       "      <td>33</td>\n",
       "      <td>0.10</td>\n",
       "      <td>CA</td>\n",
       "      <td>2005-02-02</td>\n",
       "      <td>0.0</td>\n",
       "      <td>2</td>\n",
       "      <td>Wednesday</td>\n",
       "      <td>0</td>\n",
       "    </tr>\n",
       "    <tr>\n",
       "      <th>1</th>\n",
       "      <td>133</td>\n",
       "      <td>0.25</td>\n",
       "      <td>CA</td>\n",
       "      <td>2004-05-12</td>\n",
       "      <td>0.0</td>\n",
       "      <td>5</td>\n",
       "      <td>Wednesday</td>\n",
       "      <td>0</td>\n",
       "    </tr>\n",
       "    <tr>\n",
       "      <th>2</th>\n",
       "      <td>152</td>\n",
       "      <td>0.10</td>\n",
       "      <td>CA</td>\n",
       "      <td>2004-05-31</td>\n",
       "      <td>0.0</td>\n",
       "      <td>5</td>\n",
       "      <td>Monday</td>\n",
       "      <td>0</td>\n",
       "    </tr>\n",
       "  </tbody>\n",
       "</table>\n",
       "</div>"
      ],
      "text/plain": [
       "   DISCOVERY_DOY  FIRE_SIZE STATE START_DATE  BURN_TIME  MONTH        DOW  \\\n",
       "0             33       0.10    CA 2005-02-02        0.0      2  Wednesday   \n",
       "1            133       0.25    CA 2004-05-12        0.0      5  Wednesday   \n",
       "2            152       0.10    CA 2004-05-31        0.0      5     Monday   \n",
       "\n",
       "   ARSON  \n",
       "0      0  \n",
       "1      0  \n",
       "2      0  "
      ]
     },
     "execution_count": 55,
     "metadata": {},
     "output_type": "execute_result"
    }
   ],
   "source": [
    "df_all.head(3)"
   ]
  },
  {
   "cell_type": "code",
   "execution_count": 56,
   "metadata": {},
   "outputs": [
    {
     "data": {
      "text/plain": [
       "DISCOVERY_DOY             int64\n",
       "FIRE_SIZE               float64\n",
       "STATE                    object\n",
       "START_DATE       datetime64[ns]\n",
       "BURN_TIME               float64\n",
       "MONTH                     int64\n",
       "DOW                      object\n",
       "ARSON                     int64\n",
       "dtype: object"
      ]
     },
     "execution_count": 56,
     "metadata": {},
     "output_type": "execute_result"
    }
   ],
   "source": [
    "df_all.dtypes"
   ]
  },
  {
   "cell_type": "markdown",
   "metadata": {},
   "source": [
    "I don't really need to do this because I'm going to label encode and then one-hot encode it later but that will make just doing one loop for all the things that need encoding simpler, if a little more time consuming to run. Worth it."
   ]
  },
  {
   "cell_type": "code",
   "execution_count": 57,
   "metadata": {},
   "outputs": [],
   "source": [
    "df_all['MONTH'] = df_all['MONTH'].apply(lambda x: calendar.month_name[x])"
   ]
  },
  {
   "cell_type": "markdown",
   "metadata": {},
   "source": [
    "Whoops, ran it twice."
   ]
  },
  {
   "cell_type": "code",
   "execution_count": 58,
   "metadata": {},
   "outputs": [
    {
     "data": {
      "text/html": [
       "<div>\n",
       "<style scoped>\n",
       "    .dataframe tbody tr th:only-of-type {\n",
       "        vertical-align: middle;\n",
       "    }\n",
       "\n",
       "    .dataframe tbody tr th {\n",
       "        vertical-align: top;\n",
       "    }\n",
       "\n",
       "    .dataframe thead th {\n",
       "        text-align: right;\n",
       "    }\n",
       "</style>\n",
       "<table border=\"1\" class=\"dataframe\">\n",
       "  <thead>\n",
       "    <tr style=\"text-align: right;\">\n",
       "      <th></th>\n",
       "      <th>DISCOVERY_DOY</th>\n",
       "      <th>FIRE_SIZE</th>\n",
       "      <th>STATE</th>\n",
       "      <th>START_DATE</th>\n",
       "      <th>BURN_TIME</th>\n",
       "      <th>MONTH</th>\n",
       "      <th>DOW</th>\n",
       "      <th>ARSON</th>\n",
       "    </tr>\n",
       "  </thead>\n",
       "  <tbody>\n",
       "    <tr>\n",
       "      <th>0</th>\n",
       "      <td>33</td>\n",
       "      <td>0.10</td>\n",
       "      <td>CA</td>\n",
       "      <td>2005-02-02</td>\n",
       "      <td>0.0</td>\n",
       "      <td>February</td>\n",
       "      <td>Wednesday</td>\n",
       "      <td>0</td>\n",
       "    </tr>\n",
       "    <tr>\n",
       "      <th>1</th>\n",
       "      <td>133</td>\n",
       "      <td>0.25</td>\n",
       "      <td>CA</td>\n",
       "      <td>2004-05-12</td>\n",
       "      <td>0.0</td>\n",
       "      <td>May</td>\n",
       "      <td>Wednesday</td>\n",
       "      <td>0</td>\n",
       "    </tr>\n",
       "  </tbody>\n",
       "</table>\n",
       "</div>"
      ],
      "text/plain": [
       "   DISCOVERY_DOY  FIRE_SIZE STATE START_DATE  BURN_TIME     MONTH        DOW  \\\n",
       "0             33       0.10    CA 2005-02-02        0.0  February  Wednesday   \n",
       "1            133       0.25    CA 2004-05-12        0.0       May  Wednesday   \n",
       "\n",
       "   ARSON  \n",
       "0      0  \n",
       "1      0  "
      ]
     },
     "execution_count": 58,
     "metadata": {},
     "output_type": "execute_result"
    }
   ],
   "source": [
    "df_all.head(2)"
   ]
  },
  {
   "cell_type": "markdown",
   "metadata": {},
   "source": [
    "After much consideration I am going to drop the start date, keep the day-of-year, but transform it to be cyclic so the algorithms can see that 1 and 365 are actually closer than 60 and 365."
   ]
  },
  {
   "cell_type": "code",
   "execution_count": 59,
   "metadata": {},
   "outputs": [],
   "source": [
    "df_all.drop(['START_DATE'], axis=1, inplace=True)"
   ]
  },
  {
   "cell_type": "markdown",
   "metadata": {},
   "source": [
    "I need to encode my categorical values. I can use one-hot encoding or get dummies and drop one column. For month and day-of-week there are only 12 and 7 categories, respectively, so for them I'll get dummies. For the other 2 I'll use one-hot because there are so categories and I don't want to dataframe that big considering how much modeling I'm doing, the ram required would get too big."
   ]
  },
  {
   "cell_type": "markdown",
   "metadata": {},
   "source": [
    "Now I'm going to try impute data for BURN_TIME. I want to test to see if the data is missing at random. I'm going to check for a correlation between BURN_TIME and the other features."
   ]
  },
  {
   "cell_type": "code",
   "execution_count": 60,
   "metadata": {},
   "outputs": [
    {
     "data": {
      "text/html": [
       "<div>\n",
       "<style scoped>\n",
       "    .dataframe tbody tr th:only-of-type {\n",
       "        vertical-align: middle;\n",
       "    }\n",
       "\n",
       "    .dataframe tbody tr th {\n",
       "        vertical-align: top;\n",
       "    }\n",
       "\n",
       "    .dataframe thead th {\n",
       "        text-align: right;\n",
       "    }\n",
       "</style>\n",
       "<table border=\"1\" class=\"dataframe\">\n",
       "  <thead>\n",
       "    <tr style=\"text-align: right;\">\n",
       "      <th></th>\n",
       "      <th>DISCOVERY_DOY</th>\n",
       "      <th>FIRE_SIZE</th>\n",
       "      <th>STATE</th>\n",
       "      <th>BURN_TIME</th>\n",
       "      <th>MONTH</th>\n",
       "      <th>DOW</th>\n",
       "      <th>ARSON</th>\n",
       "    </tr>\n",
       "  </thead>\n",
       "  <tbody>\n",
       "    <tr>\n",
       "      <th>0</th>\n",
       "      <td>33</td>\n",
       "      <td>0.10</td>\n",
       "      <td>CA</td>\n",
       "      <td>0.0</td>\n",
       "      <td>February</td>\n",
       "      <td>Wednesday</td>\n",
       "      <td>0</td>\n",
       "    </tr>\n",
       "    <tr>\n",
       "      <th>1</th>\n",
       "      <td>133</td>\n",
       "      <td>0.25</td>\n",
       "      <td>CA</td>\n",
       "      <td>0.0</td>\n",
       "      <td>May</td>\n",
       "      <td>Wednesday</td>\n",
       "      <td>0</td>\n",
       "    </tr>\n",
       "  </tbody>\n",
       "</table>\n",
       "</div>"
      ],
      "text/plain": [
       "   DISCOVERY_DOY  FIRE_SIZE STATE  BURN_TIME     MONTH        DOW  ARSON\n",
       "0             33       0.10    CA        0.0  February  Wednesday      0\n",
       "1            133       0.25    CA        0.0       May  Wednesday      0"
      ]
     },
     "execution_count": 60,
     "metadata": {},
     "output_type": "execute_result"
    }
   ],
   "source": [
    "df_all.head(2)"
   ]
  },
  {
   "cell_type": "markdown",
   "metadata": {},
   "source": [
    "In this notebook I'm going to just drop the missing burn time values and then include it in my analysis. See what that gets me."
   ]
  },
  {
   "cell_type": "code",
   "execution_count": 61,
   "metadata": {},
   "outputs": [],
   "source": [
    "df_wburn = df_all.drop(df_all[df_all['BURN_TIME'].isnull() == True].index)"
   ]
  },
  {
   "cell_type": "code",
   "execution_count": 62,
   "metadata": {},
   "outputs": [
    {
     "data": {
      "text/html": [
       "<div>\n",
       "<style scoped>\n",
       "    .dataframe tbody tr th:only-of-type {\n",
       "        vertical-align: middle;\n",
       "    }\n",
       "\n",
       "    .dataframe tbody tr th {\n",
       "        vertical-align: top;\n",
       "    }\n",
       "\n",
       "    .dataframe thead th {\n",
       "        text-align: right;\n",
       "    }\n",
       "</style>\n",
       "<table border=\"1\" class=\"dataframe\">\n",
       "  <thead>\n",
       "    <tr style=\"text-align: right;\">\n",
       "      <th></th>\n",
       "      <th>DISCOVERY_DOY</th>\n",
       "      <th>FIRE_SIZE</th>\n",
       "      <th>STATE</th>\n",
       "      <th>BURN_TIME</th>\n",
       "      <th>MONTH</th>\n",
       "      <th>DOW</th>\n",
       "      <th>ARSON</th>\n",
       "    </tr>\n",
       "  </thead>\n",
       "  <tbody>\n",
       "    <tr>\n",
       "      <th>0</th>\n",
       "      <td>33</td>\n",
       "      <td>0.10</td>\n",
       "      <td>CA</td>\n",
       "      <td>0.0</td>\n",
       "      <td>February</td>\n",
       "      <td>Wednesday</td>\n",
       "      <td>0</td>\n",
       "    </tr>\n",
       "    <tr>\n",
       "      <th>1</th>\n",
       "      <td>133</td>\n",
       "      <td>0.25</td>\n",
       "      <td>CA</td>\n",
       "      <td>0.0</td>\n",
       "      <td>May</td>\n",
       "      <td>Wednesday</td>\n",
       "      <td>0</td>\n",
       "    </tr>\n",
       "    <tr>\n",
       "      <th>2</th>\n",
       "      <td>152</td>\n",
       "      <td>0.10</td>\n",
       "      <td>CA</td>\n",
       "      <td>0.0</td>\n",
       "      <td>May</td>\n",
       "      <td>Monday</td>\n",
       "      <td>0</td>\n",
       "    </tr>\n",
       "    <tr>\n",
       "      <th>3</th>\n",
       "      <td>180</td>\n",
       "      <td>0.10</td>\n",
       "      <td>CA</td>\n",
       "      <td>5.0</td>\n",
       "      <td>June</td>\n",
       "      <td>Monday</td>\n",
       "      <td>0</td>\n",
       "    </tr>\n",
       "    <tr>\n",
       "      <th>4</th>\n",
       "      <td>180</td>\n",
       "      <td>0.10</td>\n",
       "      <td>CA</td>\n",
       "      <td>5.0</td>\n",
       "      <td>June</td>\n",
       "      <td>Monday</td>\n",
       "      <td>0</td>\n",
       "    </tr>\n",
       "    <tr>\n",
       "      <th>5</th>\n",
       "      <td>182</td>\n",
       "      <td>0.10</td>\n",
       "      <td>CA</td>\n",
       "      <td>1.0</td>\n",
       "      <td>June</td>\n",
       "      <td>Wednesday</td>\n",
       "      <td>0</td>\n",
       "    </tr>\n",
       "    <tr>\n",
       "      <th>6</th>\n",
       "      <td>183</td>\n",
       "      <td>0.10</td>\n",
       "      <td>CA</td>\n",
       "      <td>1.0</td>\n",
       "      <td>July</td>\n",
       "      <td>Thursday</td>\n",
       "      <td>0</td>\n",
       "    </tr>\n",
       "    <tr>\n",
       "      <th>7</th>\n",
       "      <td>67</td>\n",
       "      <td>0.80</td>\n",
       "      <td>CA</td>\n",
       "      <td>0.0</td>\n",
       "      <td>March</td>\n",
       "      <td>Tuesday</td>\n",
       "      <td>0</td>\n",
       "    </tr>\n",
       "    <tr>\n",
       "      <th>8</th>\n",
       "      <td>74</td>\n",
       "      <td>1.00</td>\n",
       "      <td>CA</td>\n",
       "      <td>0.0</td>\n",
       "      <td>March</td>\n",
       "      <td>Tuesday</td>\n",
       "      <td>0</td>\n",
       "    </tr>\n",
       "    <tr>\n",
       "      <th>9</th>\n",
       "      <td>183</td>\n",
       "      <td>0.10</td>\n",
       "      <td>CA</td>\n",
       "      <td>1.0</td>\n",
       "      <td>July</td>\n",
       "      <td>Thursday</td>\n",
       "      <td>0</td>\n",
       "    </tr>\n",
       "    <tr>\n",
       "      <th>10</th>\n",
       "      <td>184</td>\n",
       "      <td>0.10</td>\n",
       "      <td>CA</td>\n",
       "      <td>1.0</td>\n",
       "      <td>July</td>\n",
       "      <td>Friday</td>\n",
       "      <td>0</td>\n",
       "    </tr>\n",
       "    <tr>\n",
       "      <th>11</th>\n",
       "      <td>184</td>\n",
       "      <td>0.10</td>\n",
       "      <td>CA</td>\n",
       "      <td>1.0</td>\n",
       "      <td>July</td>\n",
       "      <td>Friday</td>\n",
       "      <td>0</td>\n",
       "    </tr>\n",
       "    <tr>\n",
       "      <th>12</th>\n",
       "      <td>247</td>\n",
       "      <td>0.10</td>\n",
       "      <td>CA</td>\n",
       "      <td>0.0</td>\n",
       "      <td>September</td>\n",
       "      <td>Friday</td>\n",
       "      <td>0</td>\n",
       "    </tr>\n",
       "    <tr>\n",
       "      <th>13</th>\n",
       "      <td>272</td>\n",
       "      <td>6.00</td>\n",
       "      <td>CA</td>\n",
       "      <td>0.0</td>\n",
       "      <td>September</td>\n",
       "      <td>Tuesday</td>\n",
       "      <td>0</td>\n",
       "    </tr>\n",
       "    <tr>\n",
       "      <th>14</th>\n",
       "      <td>277</td>\n",
       "      <td>0.20</td>\n",
       "      <td>CA</td>\n",
       "      <td>0.0</td>\n",
       "      <td>October</td>\n",
       "      <td>Sunday</td>\n",
       "      <td>0</td>\n",
       "    </tr>\n",
       "    <tr>\n",
       "      <th>15</th>\n",
       "      <td>277</td>\n",
       "      <td>0.10</td>\n",
       "      <td>CA</td>\n",
       "      <td>0.0</td>\n",
       "      <td>October</td>\n",
       "      <td>Sunday</td>\n",
       "      <td>0</td>\n",
       "    </tr>\n",
       "    <tr>\n",
       "      <th>16</th>\n",
       "      <td>280</td>\n",
       "      <td>16823.00</td>\n",
       "      <td>CA</td>\n",
       "      <td>15.0</td>\n",
       "      <td>October</td>\n",
       "      <td>Wednesday</td>\n",
       "      <td>0</td>\n",
       "    </tr>\n",
       "    <tr>\n",
       "      <th>17</th>\n",
       "      <td>287</td>\n",
       "      <td>7700.00</td>\n",
       "      <td>CA</td>\n",
       "      <td>4.0</td>\n",
       "      <td>October</td>\n",
       "      <td>Wednesday</td>\n",
       "      <td>0</td>\n",
       "    </tr>\n",
       "    <tr>\n",
       "      <th>18</th>\n",
       "      <td>325</td>\n",
       "      <td>0.10</td>\n",
       "      <td>CA</td>\n",
       "      <td>1.0</td>\n",
       "      <td>November</td>\n",
       "      <td>Saturday</td>\n",
       "      <td>0</td>\n",
       "    </tr>\n",
       "    <tr>\n",
       "      <th>19</th>\n",
       "      <td>156</td>\n",
       "      <td>0.10</td>\n",
       "      <td>NM</td>\n",
       "      <td>0.0</td>\n",
       "      <td>June</td>\n",
       "      <td>Friday</td>\n",
       "      <td>0</td>\n",
       "    </tr>\n",
       "  </tbody>\n",
       "</table>\n",
       "</div>"
      ],
      "text/plain": [
       "    DISCOVERY_DOY  FIRE_SIZE STATE  BURN_TIME      MONTH        DOW  ARSON\n",
       "0              33       0.10    CA        0.0   February  Wednesday      0\n",
       "1             133       0.25    CA        0.0        May  Wednesday      0\n",
       "2             152       0.10    CA        0.0        May     Monday      0\n",
       "3             180       0.10    CA        5.0       June     Monday      0\n",
       "4             180       0.10    CA        5.0       June     Monday      0\n",
       "5             182       0.10    CA        1.0       June  Wednesday      0\n",
       "6             183       0.10    CA        1.0       July   Thursday      0\n",
       "7              67       0.80    CA        0.0      March    Tuesday      0\n",
       "8              74       1.00    CA        0.0      March    Tuesday      0\n",
       "9             183       0.10    CA        1.0       July   Thursday      0\n",
       "10            184       0.10    CA        1.0       July     Friday      0\n",
       "11            184       0.10    CA        1.0       July     Friday      0\n",
       "12            247       0.10    CA        0.0  September     Friday      0\n",
       "13            272       6.00    CA        0.0  September    Tuesday      0\n",
       "14            277       0.20    CA        0.0    October     Sunday      0\n",
       "15            277       0.10    CA        0.0    October     Sunday      0\n",
       "16            280   16823.00    CA       15.0    October  Wednesday      0\n",
       "17            287    7700.00    CA        4.0    October  Wednesday      0\n",
       "18            325       0.10    CA        1.0   November   Saturday      0\n",
       "19            156       0.10    NM        0.0       June     Friday      0"
      ]
     },
     "execution_count": 62,
     "metadata": {},
     "output_type": "execute_result"
    }
   ],
   "source": [
    "df_wburn.head(20)"
   ]
  },
  {
   "cell_type": "code",
   "execution_count": 63,
   "metadata": {},
   "outputs": [
    {
     "data": {
      "text/plain": [
       "(917383, 7)"
      ]
     },
     "execution_count": 63,
     "metadata": {},
     "output_type": "execute_result"
    }
   ],
   "source": [
    "df_wburn.shape"
   ]
  },
  {
   "cell_type": "code",
   "execution_count": 64,
   "metadata": {},
   "outputs": [
    {
     "data": {
      "text/plain": [
       "DISCOVERY_DOY    0\n",
       "FIRE_SIZE        0\n",
       "STATE            0\n",
       "BURN_TIME        0\n",
       "MONTH            0\n",
       "DOW              0\n",
       "ARSON            0\n",
       "dtype: int64"
      ]
     },
     "execution_count": 64,
     "metadata": {},
     "output_type": "execute_result"
    }
   ],
   "source": [
    "df_wburn.isnull().sum()"
   ]
  },
  {
   "cell_type": "code",
   "execution_count": 65,
   "metadata": {
    "scrolled": true
   },
   "outputs": [
    {
     "data": {
      "text/plain": [
       "DISCOVERY_DOY      int64\n",
       "FIRE_SIZE        float64\n",
       "STATE             object\n",
       "BURN_TIME        float64\n",
       "MONTH             object\n",
       "DOW               object\n",
       "ARSON              int64\n",
       "dtype: object"
      ]
     },
     "execution_count": 65,
     "metadata": {},
     "output_type": "execute_result"
    }
   ],
   "source": [
    "df_wburn.dtypes"
   ]
  },
  {
   "cell_type": "markdown",
   "metadata": {},
   "source": [
    "I want to make the DISCOVERED_DOY cyclic."
   ]
  },
  {
   "cell_type": "code",
   "execution_count": 66,
   "metadata": {},
   "outputs": [],
   "source": [
    "df_wburn['DOY_SIN'] = np.sin(df_wburn.DISCOVERY_DOY*(2.*np.pi/365))\n",
    "df_wburn['DOY_COS'] = np.cos(df_wburn.DISCOVERY_DOY*(2.*np.pi/365))"
   ]
  },
  {
   "cell_type": "code",
   "execution_count": 67,
   "metadata": {},
   "outputs": [
    {
     "data": {
      "text/html": [
       "<div>\n",
       "<style scoped>\n",
       "    .dataframe tbody tr th:only-of-type {\n",
       "        vertical-align: middle;\n",
       "    }\n",
       "\n",
       "    .dataframe tbody tr th {\n",
       "        vertical-align: top;\n",
       "    }\n",
       "\n",
       "    .dataframe thead th {\n",
       "        text-align: right;\n",
       "    }\n",
       "</style>\n",
       "<table border=\"1\" class=\"dataframe\">\n",
       "  <thead>\n",
       "    <tr style=\"text-align: right;\">\n",
       "      <th></th>\n",
       "      <th>DISCOVERY_DOY</th>\n",
       "      <th>FIRE_SIZE</th>\n",
       "      <th>STATE</th>\n",
       "      <th>BURN_TIME</th>\n",
       "      <th>MONTH</th>\n",
       "      <th>DOW</th>\n",
       "      <th>ARSON</th>\n",
       "      <th>DOY_SIN</th>\n",
       "      <th>DOY_COS</th>\n",
       "    </tr>\n",
       "  </thead>\n",
       "  <tbody>\n",
       "    <tr>\n",
       "      <th>0</th>\n",
       "      <td>33</td>\n",
       "      <td>0.10</td>\n",
       "      <td>CA</td>\n",
       "      <td>0.0</td>\n",
       "      <td>February</td>\n",
       "      <td>Wednesday</td>\n",
       "      <td>0</td>\n",
       "      <td>0.538005</td>\n",
       "      <td>0.842942</td>\n",
       "    </tr>\n",
       "    <tr>\n",
       "      <th>1</th>\n",
       "      <td>133</td>\n",
       "      <td>0.25</td>\n",
       "      <td>CA</td>\n",
       "      <td>0.0</td>\n",
       "      <td>May</td>\n",
       "      <td>Wednesday</td>\n",
       "      <td>0</td>\n",
       "      <td>0.752667</td>\n",
       "      <td>-0.658402</td>\n",
       "    </tr>\n",
       "  </tbody>\n",
       "</table>\n",
       "</div>"
      ],
      "text/plain": [
       "   DISCOVERY_DOY  FIRE_SIZE STATE  BURN_TIME     MONTH        DOW  ARSON  \\\n",
       "0             33       0.10    CA        0.0  February  Wednesday      0   \n",
       "1            133       0.25    CA        0.0       May  Wednesday      0   \n",
       "\n",
       "    DOY_SIN   DOY_COS  \n",
       "0  0.538005  0.842942  \n",
       "1  0.752667 -0.658402  "
      ]
     },
     "execution_count": 67,
     "metadata": {},
     "output_type": "execute_result"
    }
   ],
   "source": [
    "df_wburn.head(2)"
   ]
  },
  {
   "cell_type": "code",
   "execution_count": 68,
   "metadata": {},
   "outputs": [],
   "source": [
    "df_wburn = df_wburn.drop(['DISCOVERY_DOY'], axis=1)"
   ]
  },
  {
   "cell_type": "code",
   "execution_count": 69,
   "metadata": {},
   "outputs": [],
   "source": [
    "df_wburn['BURN_TIME'] = df_wburn['BURN_TIME'].astype(int)"
   ]
  },
  {
   "cell_type": "code",
   "execution_count": 70,
   "metadata": {},
   "outputs": [
    {
     "data": {
      "text/html": [
       "<div>\n",
       "<style scoped>\n",
       "    .dataframe tbody tr th:only-of-type {\n",
       "        vertical-align: middle;\n",
       "    }\n",
       "\n",
       "    .dataframe tbody tr th {\n",
       "        vertical-align: top;\n",
       "    }\n",
       "\n",
       "    .dataframe thead th {\n",
       "        text-align: right;\n",
       "    }\n",
       "</style>\n",
       "<table border=\"1\" class=\"dataframe\">\n",
       "  <thead>\n",
       "    <tr style=\"text-align: right;\">\n",
       "      <th></th>\n",
       "      <th>FIRE_SIZE</th>\n",
       "      <th>STATE</th>\n",
       "      <th>BURN_TIME</th>\n",
       "      <th>MONTH</th>\n",
       "      <th>DOW</th>\n",
       "      <th>ARSON</th>\n",
       "      <th>DOY_SIN</th>\n",
       "      <th>DOY_COS</th>\n",
       "    </tr>\n",
       "  </thead>\n",
       "  <tbody>\n",
       "    <tr>\n",
       "      <th>0</th>\n",
       "      <td>0.10</td>\n",
       "      <td>CA</td>\n",
       "      <td>0</td>\n",
       "      <td>February</td>\n",
       "      <td>Wednesday</td>\n",
       "      <td>0</td>\n",
       "      <td>0.538005</td>\n",
       "      <td>0.842942</td>\n",
       "    </tr>\n",
       "    <tr>\n",
       "      <th>1</th>\n",
       "      <td>0.25</td>\n",
       "      <td>CA</td>\n",
       "      <td>0</td>\n",
       "      <td>May</td>\n",
       "      <td>Wednesday</td>\n",
       "      <td>0</td>\n",
       "      <td>0.752667</td>\n",
       "      <td>-0.658402</td>\n",
       "    </tr>\n",
       "  </tbody>\n",
       "</table>\n",
       "</div>"
      ],
      "text/plain": [
       "   FIRE_SIZE STATE  BURN_TIME     MONTH        DOW  ARSON   DOY_SIN   DOY_COS\n",
       "0       0.10    CA          0  February  Wednesday      0  0.538005  0.842942\n",
       "1       0.25    CA          0       May  Wednesday      0  0.752667 -0.658402"
      ]
     },
     "execution_count": 70,
     "metadata": {},
     "output_type": "execute_result"
    }
   ],
   "source": [
    "df_wburn.head(2)"
   ]
  },
  {
   "cell_type": "markdown",
   "metadata": {},
   "source": [
    "I need to scale this. There are a ton of outliers so I'm going to use RobustScaler."
   ]
  },
  {
   "cell_type": "code",
   "execution_count": 71,
   "metadata": {},
   "outputs": [],
   "source": [
    "#robsca = RobustScaler()"
   ]
  },
  {
   "cell_type": "code",
   "execution_count": 72,
   "metadata": {},
   "outputs": [],
   "source": [
    "#df_wburn['BURN_TIME'] = robsca.fit_transform(df_wburn['BURN_TIME'].values.reshape(-1, 1))"
   ]
  },
  {
   "cell_type": "code",
   "execution_count": 73,
   "metadata": {
    "scrolled": true
   },
   "outputs": [],
   "source": [
    "#df_wburn.head(10)"
   ]
  },
  {
   "cell_type": "markdown",
   "metadata": {},
   "source": [
    "Turns out that with all the zeros in BURN_TIME it's a sparse matrix so robust scalar won't work. Sparse data often calls for MaxAbsScaler but that scales by the highest absolute value, and since there are outliers in both BURN_TIME and FIRE_SIZE I don't want to do that."
   ]
  },
  {
   "cell_type": "code",
   "execution_count": 74,
   "metadata": {},
   "outputs": [],
   "source": [
    "ss = StandardScaler()"
   ]
  },
  {
   "cell_type": "code",
   "execution_count": 75,
   "metadata": {},
   "outputs": [
    {
     "name": "stderr",
     "output_type": "stream",
     "text": [
      "/Users/ryanmetz/anaconda3/envs/ipykernel_py3/lib/python3.6/site-packages/sklearn/utils/validation.py:475: DataConversionWarning: Data with input dtype int64 was converted to float64 by StandardScaler.\n",
      "  warnings.warn(msg, DataConversionWarning)\n"
     ]
    }
   ],
   "source": [
    "df_wburn['BURN_TIME'] = ss.fit_transform(df_wburn['BURN_TIME'].values.reshape(-1, 1))"
   ]
  },
  {
   "cell_type": "code",
   "execution_count": 76,
   "metadata": {},
   "outputs": [
    {
     "data": {
      "text/html": [
       "<div>\n",
       "<style scoped>\n",
       "    .dataframe tbody tr th:only-of-type {\n",
       "        vertical-align: middle;\n",
       "    }\n",
       "\n",
       "    .dataframe tbody tr th {\n",
       "        vertical-align: top;\n",
       "    }\n",
       "\n",
       "    .dataframe thead th {\n",
       "        text-align: right;\n",
       "    }\n",
       "</style>\n",
       "<table border=\"1\" class=\"dataframe\">\n",
       "  <thead>\n",
       "    <tr style=\"text-align: right;\">\n",
       "      <th></th>\n",
       "      <th>FIRE_SIZE</th>\n",
       "      <th>STATE</th>\n",
       "      <th>BURN_TIME</th>\n",
       "      <th>MONTH</th>\n",
       "      <th>DOW</th>\n",
       "      <th>ARSON</th>\n",
       "      <th>DOY_SIN</th>\n",
       "      <th>DOY_COS</th>\n",
       "    </tr>\n",
       "  </thead>\n",
       "  <tbody>\n",
       "    <tr>\n",
       "      <th>0</th>\n",
       "      <td>0.10</td>\n",
       "      <td>CA</td>\n",
       "      <td>-0.081338</td>\n",
       "      <td>February</td>\n",
       "      <td>Wednesday</td>\n",
       "      <td>0</td>\n",
       "      <td>0.538005</td>\n",
       "      <td>0.842942</td>\n",
       "    </tr>\n",
       "    <tr>\n",
       "      <th>1</th>\n",
       "      <td>0.25</td>\n",
       "      <td>CA</td>\n",
       "      <td>-0.081338</td>\n",
       "      <td>May</td>\n",
       "      <td>Wednesday</td>\n",
       "      <td>0</td>\n",
       "      <td>0.752667</td>\n",
       "      <td>-0.658402</td>\n",
       "    </tr>\n",
       "    <tr>\n",
       "      <th>2</th>\n",
       "      <td>0.10</td>\n",
       "      <td>CA</td>\n",
       "      <td>-0.081338</td>\n",
       "      <td>May</td>\n",
       "      <td>Monday</td>\n",
       "      <td>0</td>\n",
       "      <td>0.501242</td>\n",
       "      <td>-0.865307</td>\n",
       "    </tr>\n",
       "  </tbody>\n",
       "</table>\n",
       "</div>"
      ],
      "text/plain": [
       "   FIRE_SIZE STATE  BURN_TIME     MONTH        DOW  ARSON   DOY_SIN   DOY_COS\n",
       "0       0.10    CA  -0.081338  February  Wednesday      0  0.538005  0.842942\n",
       "1       0.25    CA  -0.081338       May  Wednesday      0  0.752667 -0.658402\n",
       "2       0.10    CA  -0.081338       May     Monday      0  0.501242 -0.865307"
      ]
     },
     "execution_count": 76,
     "metadata": {},
     "output_type": "execute_result"
    }
   ],
   "source": [
    "df_wburn.head(3)"
   ]
  },
  {
   "cell_type": "code",
   "execution_count": 77,
   "metadata": {},
   "outputs": [
    {
     "data": {
      "text/plain": [
       "(array([9.17055e+05, 1.90000e+02, 6.60000e+01, 3.00000e+01, 1.80000e+01,\n",
       "        1.00000e+01, 4.00000e+00, 4.00000e+00, 4.00000e+00, 2.00000e+00]),\n",
       " array([1.00000000e-04, 6.06945001e+04, 1.21389000e+05, 1.82083500e+05,\n",
       "        2.42778000e+05, 3.03472500e+05, 3.64167000e+05, 4.24861500e+05,\n",
       "        4.85556000e+05, 5.46250500e+05, 6.06945000e+05]),\n",
       " <a list of 10 Patch objects>)"
      ]
     },
     "execution_count": 77,
     "metadata": {},
     "output_type": "execute_result"
    },
    {
     "data": {
      "image/png": "[encoded data removed]",
      "text/plain": [
       "<Figure size 432x288 with 1 Axes>"
      ]
     },
     "metadata": {},
     "output_type": "display_data"
    }
   ],
   "source": [
    "plt.hist(df_wburn.FIRE_SIZE)"
   ]
  },
  {
   "cell_type": "code",
   "execution_count": 78,
   "metadata": {},
   "outputs": [],
   "source": [
    "robsca = RobustScaler()"
   ]
  },
  {
   "cell_type": "code",
   "execution_count": 79,
   "metadata": {},
   "outputs": [],
   "source": [
    "df_wburn['FIRE_SIZE'] = robsca.fit_transform(df_wburn['FIRE_SIZE'].values.reshape(-1, 1))"
   ]
  },
  {
   "cell_type": "code",
   "execution_count": 80,
   "metadata": {},
   "outputs": [
    {
     "data": {
      "text/html": [
       "<div>\n",
       "<style scoped>\n",
       "    .dataframe tbody tr th:only-of-type {\n",
       "        vertical-align: middle;\n",
       "    }\n",
       "\n",
       "    .dataframe tbody tr th {\n",
       "        vertical-align: top;\n",
       "    }\n",
       "\n",
       "    .dataframe thead th {\n",
       "        text-align: right;\n",
       "    }\n",
       "</style>\n",
       "<table border=\"1\" class=\"dataframe\">\n",
       "  <thead>\n",
       "    <tr style=\"text-align: right;\">\n",
       "      <th></th>\n",
       "      <th>FIRE_SIZE</th>\n",
       "      <th>STATE</th>\n",
       "      <th>BURN_TIME</th>\n",
       "      <th>MONTH</th>\n",
       "      <th>DOW</th>\n",
       "      <th>ARSON</th>\n",
       "      <th>DOY_SIN</th>\n",
       "      <th>DOY_COS</th>\n",
       "    </tr>\n",
       "  </thead>\n",
       "  <tbody>\n",
       "    <tr>\n",
       "      <th>0</th>\n",
       "      <td>-0.142857</td>\n",
       "      <td>CA</td>\n",
       "      <td>-0.081338</td>\n",
       "      <td>February</td>\n",
       "      <td>Wednesday</td>\n",
       "      <td>0</td>\n",
       "      <td>0.538005</td>\n",
       "      <td>0.842942</td>\n",
       "    </tr>\n",
       "    <tr>\n",
       "      <th>1</th>\n",
       "      <td>-0.089286</td>\n",
       "      <td>CA</td>\n",
       "      <td>-0.081338</td>\n",
       "      <td>May</td>\n",
       "      <td>Wednesday</td>\n",
       "      <td>0</td>\n",
       "      <td>0.752667</td>\n",
       "      <td>-0.658402</td>\n",
       "    </tr>\n",
       "    <tr>\n",
       "      <th>2</th>\n",
       "      <td>-0.142857</td>\n",
       "      <td>CA</td>\n",
       "      <td>-0.081338</td>\n",
       "      <td>May</td>\n",
       "      <td>Monday</td>\n",
       "      <td>0</td>\n",
       "      <td>0.501242</td>\n",
       "      <td>-0.865307</td>\n",
       "    </tr>\n",
       "  </tbody>\n",
       "</table>\n",
       "</div>"
      ],
      "text/plain": [
       "   FIRE_SIZE STATE  BURN_TIME     MONTH        DOW  ARSON   DOY_SIN   DOY_COS\n",
       "0  -0.142857    CA  -0.081338  February  Wednesday      0  0.538005  0.842942\n",
       "1  -0.089286    CA  -0.081338       May  Wednesday      0  0.752667 -0.658402\n",
       "2  -0.142857    CA  -0.081338       May     Monday      0  0.501242 -0.865307"
      ]
     },
     "execution_count": 80,
     "metadata": {},
     "output_type": "execute_result"
    }
   ],
   "source": [
    "df_wburn.head(3)"
   ]
  },
  {
   "cell_type": "markdown",
   "metadata": {},
   "source": [
    "OKAY. Now everything that needed to be is scaled and normalized. Time to encode my categorical values."
   ]
  },
  {
   "cell_type": "markdown",
   "metadata": {},
   "source": [
    "THE BELOW WAS THE ORIGINAL PLAN BUT I SWITCHED TO ONE-HOT ENCODING EVERYTHING AND USING PCA TO REDUCE DIMENSIONALITY.\n",
    "\n",
    "I need to drop 1 dummy variable for each of the features I just got dummies from. I'm choosing Wednesday because it's the middle of the weekdays, of which there are 5 vs just 2 weekends (I believe that the ratio of causes that fires started on weekend days had will be different from weekdays. I am hoping this will help with interpretation.) I'm choosing January essentially at random, it's the first value which is what get_dummies has as a parameter."
   ]
  },
  {
   "cell_type": "code",
   "execution_count": 81,
   "metadata": {},
   "outputs": [],
   "source": [
    "# categorical_vars=['MONTH','DOW']\n",
    "# for var in categorical_vars:\n",
    "#     cat_list='var'+'_'+var\n",
    "#     cat_list = pd.get_dummies(df_all[var], prefix=var, drop_first=False)\n",
    "#     df_all1=df_all.join(cat_list)\n",
    "#     df_all=df_all1\n",
    "\n",
    "#DECIDED TO DO ONE-HOT ENCODING ON EVERYTHING AND THEN USE PCA TO DEAL WITH THE COLLINIERITY PROBLEM."
   ]
  },
  {
   "cell_type": "code",
   "execution_count": 82,
   "metadata": {},
   "outputs": [
    {
     "data": {
      "text/plain": [
       "(414961, 79)"
      ]
     },
     "execution_count": 82,
     "metadata": {},
     "output_type": "execute_result"
    }
   ],
   "source": [
    "lab_enc = LabelEncoder()\n",
    "oh_enc = OneHotEncoder()\n",
    "\n",
    "need_encoding = [df_wburn['STATE'], df_wburn['MONTH'], df_wburn['DOW']]\n",
    "\n",
    "for feat in need_encoding:\n",
    "    feat_int_encoded = lab_enc.fit_transform(feat)\n",
    "    feat_int_encoded_reshape = feat_int_encoded.reshape(len(feat_int_encoded), 1) \n",
    "    feat_onehot_encoded = oh_enc.fit_transform(feat_int_encoded_reshape)\n",
    "    df_feat = pd.DataFrame(feat_onehot_encoded.toarray())\n",
    "    df_wburn2 = pd.merge(df_wburn, df_feat, left_index=True, right_index=True)\n",
    "    df_wburn = df_wburn2\n",
    "\n",
    "df_wburn.shape"
   ]
  },
  {
   "cell_type": "code",
   "execution_count": 98,
   "metadata": {},
   "outputs": [],
   "source": [
    "df_wburn.drop(['STATE', 'MONTH', 'DOW'], axis=1, inplace=True)"
   ]
  },
  {
   "cell_type": "code",
   "execution_count": 99,
   "metadata": {},
   "outputs": [
    {
     "data": {
      "text/html": [
       "<div>\n",
       "<style scoped>\n",
       "    .dataframe tbody tr th:only-of-type {\n",
       "        vertical-align: middle;\n",
       "    }\n",
       "\n",
       "    .dataframe tbody tr th {\n",
       "        vertical-align: top;\n",
       "    }\n",
       "\n",
       "    .dataframe thead th {\n",
       "        text-align: right;\n",
       "    }\n",
       "</style>\n",
       "<table border=\"1\" class=\"dataframe\">\n",
       "  <thead>\n",
       "    <tr style=\"text-align: right;\">\n",
       "      <th></th>\n",
       "      <th>FIRE_SIZE</th>\n",
       "      <th>BURN_TIME</th>\n",
       "      <th>ARSON</th>\n",
       "      <th>DOY_SIN</th>\n",
       "      <th>DOY_COS</th>\n",
       "      <th>0_x</th>\n",
       "      <th>1_x</th>\n",
       "      <th>2_x</th>\n",
       "      <th>3_x</th>\n",
       "      <th>4_x</th>\n",
       "      <th>5_x</th>\n",
       "      <th>6_x</th>\n",
       "      <th>7_x</th>\n",
       "      <th>8_x</th>\n",
       "      <th>9_x</th>\n",
       "      <th>10_x</th>\n",
       "      <th>11_x</th>\n",
       "      <th>12</th>\n",
       "      <th>13</th>\n",
       "      <th>14</th>\n",
       "      <th>...</th>\n",
       "      <th>51</th>\n",
       "      <th>0_y</th>\n",
       "      <th>1_y</th>\n",
       "      <th>2_y</th>\n",
       "      <th>3_y</th>\n",
       "      <th>4_y</th>\n",
       "      <th>5_y</th>\n",
       "      <th>6_y</th>\n",
       "      <th>7_y</th>\n",
       "      <th>8_y</th>\n",
       "      <th>9_y</th>\n",
       "      <th>10_y</th>\n",
       "      <th>11_y</th>\n",
       "      <th>0</th>\n",
       "      <th>1</th>\n",
       "      <th>2</th>\n",
       "      <th>3</th>\n",
       "      <th>4</th>\n",
       "      <th>5</th>\n",
       "      <th>6</th>\n",
       "    </tr>\n",
       "  </thead>\n",
       "  <tbody>\n",
       "    <tr>\n",
       "      <th>0</th>\n",
       "      <td>-0.142857</td>\n",
       "      <td>-0.081338</td>\n",
       "      <td>0</td>\n",
       "      <td>0.538005</td>\n",
       "      <td>0.842942</td>\n",
       "      <td>0.0</td>\n",
       "      <td>0.0</td>\n",
       "      <td>0.0</td>\n",
       "      <td>0.0</td>\n",
       "      <td>1.0</td>\n",
       "      <td>0.0</td>\n",
       "      <td>0.0</td>\n",
       "      <td>0.0</td>\n",
       "      <td>0.0</td>\n",
       "      <td>0.0</td>\n",
       "      <td>0.0</td>\n",
       "      <td>0.0</td>\n",
       "      <td>0.0</td>\n",
       "      <td>0.0</td>\n",
       "      <td>0.0</td>\n",
       "      <td>...</td>\n",
       "      <td>0.0</td>\n",
       "      <td>0.0</td>\n",
       "      <td>0.0</td>\n",
       "      <td>0.0</td>\n",
       "      <td>1.0</td>\n",
       "      <td>0.0</td>\n",
       "      <td>0.0</td>\n",
       "      <td>0.0</td>\n",
       "      <td>0.0</td>\n",
       "      <td>0.0</td>\n",
       "      <td>0.0</td>\n",
       "      <td>0.0</td>\n",
       "      <td>0.0</td>\n",
       "      <td>0.0</td>\n",
       "      <td>0.0</td>\n",
       "      <td>0.0</td>\n",
       "      <td>0.0</td>\n",
       "      <td>0.0</td>\n",
       "      <td>0.0</td>\n",
       "      <td>1.0</td>\n",
       "    </tr>\n",
       "    <tr>\n",
       "      <th>1</th>\n",
       "      <td>-0.089286</td>\n",
       "      <td>-0.081338</td>\n",
       "      <td>0</td>\n",
       "      <td>0.752667</td>\n",
       "      <td>-0.658402</td>\n",
       "      <td>0.0</td>\n",
       "      <td>0.0</td>\n",
       "      <td>0.0</td>\n",
       "      <td>0.0</td>\n",
       "      <td>1.0</td>\n",
       "      <td>0.0</td>\n",
       "      <td>0.0</td>\n",
       "      <td>0.0</td>\n",
       "      <td>0.0</td>\n",
       "      <td>0.0</td>\n",
       "      <td>0.0</td>\n",
       "      <td>0.0</td>\n",
       "      <td>0.0</td>\n",
       "      <td>0.0</td>\n",
       "      <td>0.0</td>\n",
       "      <td>...</td>\n",
       "      <td>0.0</td>\n",
       "      <td>0.0</td>\n",
       "      <td>0.0</td>\n",
       "      <td>0.0</td>\n",
       "      <td>0.0</td>\n",
       "      <td>0.0</td>\n",
       "      <td>0.0</td>\n",
       "      <td>0.0</td>\n",
       "      <td>0.0</td>\n",
       "      <td>1.0</td>\n",
       "      <td>0.0</td>\n",
       "      <td>0.0</td>\n",
       "      <td>0.0</td>\n",
       "      <td>0.0</td>\n",
       "      <td>0.0</td>\n",
       "      <td>0.0</td>\n",
       "      <td>0.0</td>\n",
       "      <td>0.0</td>\n",
       "      <td>0.0</td>\n",
       "      <td>1.0</td>\n",
       "    </tr>\n",
       "    <tr>\n",
       "      <th>2</th>\n",
       "      <td>-0.142857</td>\n",
       "      <td>-0.081338</td>\n",
       "      <td>0</td>\n",
       "      <td>0.501242</td>\n",
       "      <td>-0.865307</td>\n",
       "      <td>0.0</td>\n",
       "      <td>0.0</td>\n",
       "      <td>0.0</td>\n",
       "      <td>0.0</td>\n",
       "      <td>1.0</td>\n",
       "      <td>0.0</td>\n",
       "      <td>0.0</td>\n",
       "      <td>0.0</td>\n",
       "      <td>0.0</td>\n",
       "      <td>0.0</td>\n",
       "      <td>0.0</td>\n",
       "      <td>0.0</td>\n",
       "      <td>0.0</td>\n",
       "      <td>0.0</td>\n",
       "      <td>0.0</td>\n",
       "      <td>...</td>\n",
       "      <td>0.0</td>\n",
       "      <td>0.0</td>\n",
       "      <td>0.0</td>\n",
       "      <td>0.0</td>\n",
       "      <td>0.0</td>\n",
       "      <td>0.0</td>\n",
       "      <td>0.0</td>\n",
       "      <td>0.0</td>\n",
       "      <td>0.0</td>\n",
       "      <td>1.0</td>\n",
       "      <td>0.0</td>\n",
       "      <td>0.0</td>\n",
       "      <td>0.0</td>\n",
       "      <td>0.0</td>\n",
       "      <td>1.0</td>\n",
       "      <td>0.0</td>\n",
       "      <td>0.0</td>\n",
       "      <td>0.0</td>\n",
       "      <td>0.0</td>\n",
       "      <td>0.0</td>\n",
       "    </tr>\n",
       "  </tbody>\n",
       "</table>\n",
       "<p>3 rows × 76 columns</p>\n",
       "</div>"
      ],
      "text/plain": [
       "   FIRE_SIZE  BURN_TIME  ARSON   DOY_SIN   DOY_COS  0_x  1_x  2_x  3_x  4_x  \\\n",
       "0  -0.142857  -0.081338      0  0.538005  0.842942  0.0  0.0  0.0  0.0  1.0   \n",
       "1  -0.089286  -0.081338      0  0.752667 -0.658402  0.0  0.0  0.0  0.0  1.0   \n",
       "2  -0.142857  -0.081338      0  0.501242 -0.865307  0.0  0.0  0.0  0.0  1.0   \n",
       "\n",
       "   5_x  6_x  7_x  8_x  9_x  10_x  11_x   12   13   14 ...    51  0_y  1_y  \\\n",
       "0  0.0  0.0  0.0  0.0  0.0   0.0   0.0  0.0  0.0  0.0 ...   0.0  0.0  0.0   \n",
       "1  0.0  0.0  0.0  0.0  0.0   0.0   0.0  0.0  0.0  0.0 ...   0.0  0.0  0.0   \n",
       "2  0.0  0.0  0.0  0.0  0.0   0.0   0.0  0.0  0.0  0.0 ...   0.0  0.0  0.0   \n",
       "\n",
       "   2_y  3_y  4_y  5_y  6_y  7_y  8_y  9_y  10_y  11_y    0    1    2    3  \\\n",
       "0  0.0  1.0  0.0  0.0  0.0  0.0  0.0  0.0   0.0   0.0  0.0  0.0  0.0  0.0   \n",
       "1  0.0  0.0  0.0  0.0  0.0  0.0  1.0  0.0   0.0   0.0  0.0  0.0  0.0  0.0   \n",
       "2  0.0  0.0  0.0  0.0  0.0  0.0  1.0  0.0   0.0   0.0  0.0  1.0  0.0  0.0   \n",
       "\n",
       "     4    5    6  \n",
       "0  0.0  0.0  1.0  \n",
       "1  0.0  0.0  1.0  \n",
       "2  0.0  0.0  0.0  \n",
       "\n",
       "[3 rows x 76 columns]"
      ]
     },
     "execution_count": 99,
     "metadata": {},
     "output_type": "execute_result"
    }
   ],
   "source": [
    "df_wburn.head(3)"
   ]
  },
  {
   "cell_type": "code",
   "execution_count": 260,
   "metadata": {},
   "outputs": [],
   "source": [
    "df_wburn['DOY_SIN'] = ss.fit_transform(df_wburn['DOY_SIN'].values.reshape(-1, 1))\n",
    "df_wburn['DOY_COS'] = ss.fit_transform(df_wburn['DOY_COS'].values.reshape(-1, 1))"
   ]
  },
  {
   "cell_type": "code",
   "execution_count": 261,
   "metadata": {},
   "outputs": [
    {
     "data": {
      "text/html": [
       "<div>\n",
       "<style scoped>\n",
       "    .dataframe tbody tr th:only-of-type {\n",
       "        vertical-align: middle;\n",
       "    }\n",
       "\n",
       "    .dataframe tbody tr th {\n",
       "        vertical-align: top;\n",
       "    }\n",
       "\n",
       "    .dataframe thead th {\n",
       "        text-align: right;\n",
       "    }\n",
       "</style>\n",
       "<table border=\"1\" class=\"dataframe\">\n",
       "  <thead>\n",
       "    <tr style=\"text-align: right;\">\n",
       "      <th></th>\n",
       "      <th>FIRE_SIZE</th>\n",
       "      <th>BURN_TIME</th>\n",
       "      <th>ARSON</th>\n",
       "      <th>DOY_SIN</th>\n",
       "      <th>DOY_COS</th>\n",
       "      <th>0_x</th>\n",
       "      <th>1_x</th>\n",
       "      <th>2_x</th>\n",
       "      <th>3_x</th>\n",
       "      <th>4_x</th>\n",
       "      <th>5_x</th>\n",
       "      <th>6_x</th>\n",
       "      <th>7_x</th>\n",
       "      <th>8_x</th>\n",
       "      <th>9_x</th>\n",
       "      <th>10_x</th>\n",
       "      <th>11_x</th>\n",
       "      <th>12</th>\n",
       "      <th>13</th>\n",
       "      <th>14</th>\n",
       "      <th>...</th>\n",
       "      <th>51</th>\n",
       "      <th>0_y</th>\n",
       "      <th>1_y</th>\n",
       "      <th>2_y</th>\n",
       "      <th>3_y</th>\n",
       "      <th>4_y</th>\n",
       "      <th>5_y</th>\n",
       "      <th>6_y</th>\n",
       "      <th>7_y</th>\n",
       "      <th>8_y</th>\n",
       "      <th>9_y</th>\n",
       "      <th>10_y</th>\n",
       "      <th>11_y</th>\n",
       "      <th>0</th>\n",
       "      <th>1</th>\n",
       "      <th>2</th>\n",
       "      <th>3</th>\n",
       "      <th>4</th>\n",
       "      <th>5</th>\n",
       "      <th>6</th>\n",
       "    </tr>\n",
       "  </thead>\n",
       "  <tbody>\n",
       "    <tr>\n",
       "      <th>0</th>\n",
       "      <td>-0.142857</td>\n",
       "      <td>-0.081338</td>\n",
       "      <td>0</td>\n",
       "      <td>0.951538</td>\n",
       "      <td>2.394220</td>\n",
       "      <td>0.0</td>\n",
       "      <td>0.0</td>\n",
       "      <td>0.0</td>\n",
       "      <td>0.0</td>\n",
       "      <td>1.0</td>\n",
       "      <td>0.0</td>\n",
       "      <td>0.0</td>\n",
       "      <td>0.0</td>\n",
       "      <td>0.0</td>\n",
       "      <td>0.0</td>\n",
       "      <td>0.0</td>\n",
       "      <td>0.0</td>\n",
       "      <td>0.0</td>\n",
       "      <td>0.0</td>\n",
       "      <td>0.0</td>\n",
       "      <td>...</td>\n",
       "      <td>0.0</td>\n",
       "      <td>0.0</td>\n",
       "      <td>0.0</td>\n",
       "      <td>0.0</td>\n",
       "      <td>1.0</td>\n",
       "      <td>0.0</td>\n",
       "      <td>0.0</td>\n",
       "      <td>0.0</td>\n",
       "      <td>0.0</td>\n",
       "      <td>0.0</td>\n",
       "      <td>0.0</td>\n",
       "      <td>0.0</td>\n",
       "      <td>0.0</td>\n",
       "      <td>0.0</td>\n",
       "      <td>0.0</td>\n",
       "      <td>0.0</td>\n",
       "      <td>0.0</td>\n",
       "      <td>0.0</td>\n",
       "      <td>0.0</td>\n",
       "      <td>1.0</td>\n",
       "    </tr>\n",
       "    <tr>\n",
       "      <th>1</th>\n",
       "      <td>-0.089286</td>\n",
       "      <td>-0.081338</td>\n",
       "      <td>0</td>\n",
       "      <td>1.274035</td>\n",
       "      <td>-0.305570</td>\n",
       "      <td>0.0</td>\n",
       "      <td>0.0</td>\n",
       "      <td>0.0</td>\n",
       "      <td>0.0</td>\n",
       "      <td>1.0</td>\n",
       "      <td>0.0</td>\n",
       "      <td>0.0</td>\n",
       "      <td>0.0</td>\n",
       "      <td>0.0</td>\n",
       "      <td>0.0</td>\n",
       "      <td>0.0</td>\n",
       "      <td>0.0</td>\n",
       "      <td>0.0</td>\n",
       "      <td>0.0</td>\n",
       "      <td>0.0</td>\n",
       "      <td>...</td>\n",
       "      <td>0.0</td>\n",
       "      <td>0.0</td>\n",
       "      <td>0.0</td>\n",
       "      <td>0.0</td>\n",
       "      <td>0.0</td>\n",
       "      <td>0.0</td>\n",
       "      <td>0.0</td>\n",
       "      <td>0.0</td>\n",
       "      <td>0.0</td>\n",
       "      <td>1.0</td>\n",
       "      <td>0.0</td>\n",
       "      <td>0.0</td>\n",
       "      <td>0.0</td>\n",
       "      <td>0.0</td>\n",
       "      <td>0.0</td>\n",
       "      <td>0.0</td>\n",
       "      <td>0.0</td>\n",
       "      <td>0.0</td>\n",
       "      <td>0.0</td>\n",
       "      <td>1.0</td>\n",
       "    </tr>\n",
       "    <tr>\n",
       "      <th>2</th>\n",
       "      <td>-0.142857</td>\n",
       "      <td>-0.081338</td>\n",
       "      <td>0</td>\n",
       "      <td>0.896307</td>\n",
       "      <td>-0.677639</td>\n",
       "      <td>0.0</td>\n",
       "      <td>0.0</td>\n",
       "      <td>0.0</td>\n",
       "      <td>0.0</td>\n",
       "      <td>1.0</td>\n",
       "      <td>0.0</td>\n",
       "      <td>0.0</td>\n",
       "      <td>0.0</td>\n",
       "      <td>0.0</td>\n",
       "      <td>0.0</td>\n",
       "      <td>0.0</td>\n",
       "      <td>0.0</td>\n",
       "      <td>0.0</td>\n",
       "      <td>0.0</td>\n",
       "      <td>0.0</td>\n",
       "      <td>...</td>\n",
       "      <td>0.0</td>\n",
       "      <td>0.0</td>\n",
       "      <td>0.0</td>\n",
       "      <td>0.0</td>\n",
       "      <td>0.0</td>\n",
       "      <td>0.0</td>\n",
       "      <td>0.0</td>\n",
       "      <td>0.0</td>\n",
       "      <td>0.0</td>\n",
       "      <td>1.0</td>\n",
       "      <td>0.0</td>\n",
       "      <td>0.0</td>\n",
       "      <td>0.0</td>\n",
       "      <td>0.0</td>\n",
       "      <td>1.0</td>\n",
       "      <td>0.0</td>\n",
       "      <td>0.0</td>\n",
       "      <td>0.0</td>\n",
       "      <td>0.0</td>\n",
       "      <td>0.0</td>\n",
       "    </tr>\n",
       "  </tbody>\n",
       "</table>\n",
       "<p>3 rows × 76 columns</p>\n",
       "</div>"
      ],
      "text/plain": [
       "   FIRE_SIZE  BURN_TIME  ARSON   DOY_SIN   DOY_COS  0_x  1_x  2_x  3_x  4_x  \\\n",
       "0  -0.142857  -0.081338      0  0.951538  2.394220  0.0  0.0  0.0  0.0  1.0   \n",
       "1  -0.089286  -0.081338      0  1.274035 -0.305570  0.0  0.0  0.0  0.0  1.0   \n",
       "2  -0.142857  -0.081338      0  0.896307 -0.677639  0.0  0.0  0.0  0.0  1.0   \n",
       "\n",
       "   5_x  6_x  7_x  8_x  9_x  10_x  11_x   12   13   14 ...    51  0_y  1_y  \\\n",
       "0  0.0  0.0  0.0  0.0  0.0   0.0   0.0  0.0  0.0  0.0 ...   0.0  0.0  0.0   \n",
       "1  0.0  0.0  0.0  0.0  0.0   0.0   0.0  0.0  0.0  0.0 ...   0.0  0.0  0.0   \n",
       "2  0.0  0.0  0.0  0.0  0.0   0.0   0.0  0.0  0.0  0.0 ...   0.0  0.0  0.0   \n",
       "\n",
       "   2_y  3_y  4_y  5_y  6_y  7_y  8_y  9_y  10_y  11_y    0    1    2    3  \\\n",
       "0  0.0  1.0  0.0  0.0  0.0  0.0  0.0  0.0   0.0   0.0  0.0  0.0  0.0  0.0   \n",
       "1  0.0  0.0  0.0  0.0  0.0  0.0  1.0  0.0   0.0   0.0  0.0  0.0  0.0  0.0   \n",
       "2  0.0  0.0  0.0  0.0  0.0  0.0  1.0  0.0   0.0   0.0  0.0  1.0  0.0  0.0   \n",
       "\n",
       "     4    5    6  \n",
       "0  0.0  0.0  1.0  \n",
       "1  0.0  0.0  1.0  \n",
       "2  0.0  0.0  0.0  \n",
       "\n",
       "[3 rows x 76 columns]"
      ]
     },
     "execution_count": 261,
     "metadata": {},
     "output_type": "execute_result"
    }
   ],
   "source": [
    "df_wburn.head(3)"
   ]
  },
  {
   "cell_type": "markdown",
   "metadata": {},
   "source": [
    "Now they are both scaled. Let's see what that does to the PCA features and my model outputs."
   ]
  },
  {
   "cell_type": "code",
   "execution_count": 143,
   "metadata": {},
   "outputs": [
    {
     "name": "stdout",
     "output_type": "stream",
     "text": [
      "[[1.         0.10817263]\n",
      " [0.10817263 1.        ]]\n"
     ]
    }
   ],
   "source": [
    "print(np.corrcoef(df_wburn['FIRE_SIZE'], df_wburn['BURN_TIME']))"
   ]
  },
  {
   "cell_type": "markdown",
   "metadata": {},
   "source": [
    "That's a nice looking dataframe for machine learning. To deal with the all that dimensionality and collinearity I'm going to use PCA."
   ]
  },
  {
   "cell_type": "code",
   "execution_count": 262,
   "metadata": {
    "scrolled": true
   },
   "outputs": [
    {
     "name": "stdout",
     "output_type": "stream",
     "text": [
      "-0.010100877386780513\n",
      "-0.023102169599927037\n",
      "1.0\n",
      "0.2172787229244325\n",
      "0.311548470027911\n",
      "0.018262222238848536\n",
      "0.039750388367940176\n",
      "0.09234319543058922\n",
      "-0.023448552170872477\n",
      "-0.028585804049148053\n",
      "-0.038358198490938356\n",
      "0.04414804261212062\n",
      "-0.0043735601674318204\n",
      "0.002089869300088419\n",
      "0.015387611751889086\n",
      "-0.007544983977943376\n",
      "-0.002833841770124099\n",
      "-0.006207201335102621\n",
      "-0.04573696186666396\n",
      "0.009041418452971026\n",
      "0.0008678580778531611\n",
      "0.0075746752028741865\n",
      "0.02302926050302347\n",
      "0.006669754393826193\n",
      "-0.0042819847460168325\n",
      "-0.003820122585716424\n",
      "-0.0008924848500804302\n",
      "-0.0014564729630694448\n",
      "0.006206584380532809\n",
      "0.029675375099844036\n",
      "0.014057449654639308\n",
      "-0.004405156951236721\n",
      "0.016052455924338804\n",
      "0.15458228132582866\n",
      "-0.016731038442698968\n",
      "-0.004215565954191046\n",
      "-0.004344067365684064\n",
      "-0.03536682058484418\n",
      "-0.051957535481826925\n",
      "0.08366511856913765\n",
      "-0.0056540067760405405\n",
      "0.08826292930378975\n",
      "-0.0678325984051731\n",
      "0.006721937734572639\n",
      "-0.003434609711863092\n",
      "0.011456247222251885\n",
      "0.007515007526637829\n",
      "-0.017913139184876536\n",
      "0.051766186941954416\n",
      "0.11449530408852433\n",
      "-0.05280661978934965\n",
      "0.004004852367407072\n",
      "-0.004757787482485665\n",
      "-0.04045463465925259\n",
      "-0.004994157980970034\n",
      "0.01097012793586998\n",
      "-0.0295793793116184\n",
      "0.057842760724418935\n",
      "-0.05927832725261143\n",
      "0.020847185194457028\n",
      "0.0479732268664202\n",
      "0.027308463231147554\n",
      "-0.04964274351795841\n",
      "-0.013235590306247411\n",
      "0.05153805858255825\n",
      "0.014370561477401326\n",
      "0.029871274468776444\n",
      "0.01358373360268026\n",
      "-0.020499393235334066\n",
      "-0.0016854763243586994\n",
      "-0.0011103656624290455\n",
      "0.005049199515135447\n",
      "0.0008321062761240338\n",
      "0.0006008275127299486\n",
      "0.0013672997187117912\n",
      "-0.005279015187669836\n"
     ]
    }
   ],
   "source": [
    "for i in df_wburn.columns:\n",
    "    print(np.corrcoef(df_wburn['ARSON'], df_wburn[i])[0,1])"
   ]
  },
  {
   "cell_type": "markdown",
   "metadata": {},
   "source": [
    "I went back to scale the DOY_SIN and DOY_COS columns to see if that would affect the PCA phenomenon. The below was an experiment to see if dropping one of the 2 of them (without any scaling) would affect the PCA thing. I commented it out when I decided to try scaling."
   ]
  },
  {
   "cell_type": "code",
   "execution_count": null,
   "metadata": {},
   "outputs": [],
   "source": [
    "#df_nosin = df_wburn.drop(['DOY_SIN'], axis=1)"
   ]
  },
  {
   "cell_type": "code",
   "execution_count": null,
   "metadata": {},
   "outputs": [],
   "source": [
    "#df_nosin.head(3)"
   ]
  },
  {
   "cell_type": "code",
   "execution_count": null,
   "metadata": {},
   "outputs": [],
   "source": [
    "#pca_nosin = PCA()\n",
    "#pca_nosin.fit(df_nosin.drop(['ARSON'], axis=1))"
   ]
  },
  {
   "cell_type": "code",
   "execution_count": null,
   "metadata": {},
   "outputs": [],
   "source": [
    "#var_exp_nosin = pca_nosin.explained_variance_ratio_\n",
    "#cum_var_exp_nosin = np.cumsum(var_exp_nosin)"
   ]
  },
  {
   "cell_type": "code",
   "execution_count": null,
   "metadata": {},
   "outputs": [],
   "source": [
    "#len(pca_nosin.components_)"
   ]
  },
  {
   "cell_type": "code",
   "execution_count": null,
   "metadata": {},
   "outputs": [],
   "source": [
    "# plt.figure(figsize=(15,10))\n",
    "\n",
    "# # HERE IS THE BASIC PLOT\n",
    "\n",
    "# # Plot the cumulative explained variance\n",
    "# component_number = list(range(1, 75))\n",
    "# plt.plot(component_number, cum_var_exp_nosin, lw=3)\n",
    "\n",
    "# # NOW MAKE IT LOOK PRETTY\n",
    "\n",
    "# # Add horizontal lines at y=0 and y=100\n",
    "# plt.axhline(y=0, linewidth=5, color='grey', ls='dashed')\n",
    "# plt.axhline(y=1, linewidth=3, color='grey', ls='dashed')\n",
    "\n",
    "# # Set the x and y axis limits\n",
    "# ax = plt.gca()\n",
    "# ax.set_xlim([1,74])\n",
    "# ax.set_ylim([-0.05,1.05])\n",
    "\n",
    "# # Label the axes\n",
    "# ax.set_ylabel('cumulative variance explained', fontsize=16)\n",
    "# ax.set_xlabel('component', fontsize=16)\n",
    "\n",
    "# # Make the tick labels bigger\n",
    "# for tick in ax.xaxis.get_major_ticks():\n",
    "#     tick.label.set_fontsize(12) \n",
    "# for tick in ax.yaxis.get_major_ticks():\n",
    "#     tick.label.set_fontsize(12) \n",
    "    \n",
    "# # Add title\n",
    "# ax.set_title('component vs cumulative variance explained\\n', fontsize=20)\n",
    "\n",
    "# plt.show()"
   ]
  },
  {
   "cell_type": "code",
   "execution_count": null,
   "metadata": {},
   "outputs": [],
   "source": [
    "#print(cum_var_exp_nosin)"
   ]
  },
  {
   "cell_type": "code",
   "execution_count": 263,
   "metadata": {},
   "outputs": [
    {
     "data": {
      "text/plain": [
       "PCA(copy=True, iterated_power='auto', n_components=None, random_state=None,\n",
       "  svd_solver='auto', tol=0.0, whiten=False)"
      ]
     },
     "execution_count": 263,
     "metadata": {},
     "output_type": "execute_result"
    }
   ],
   "source": [
    "pca_wburn = PCA()\n",
    "pca_wburn.fit(df_wburn.drop(['ARSON'], axis=1))"
   ]
  },
  {
   "cell_type": "markdown",
   "metadata": {},
   "source": [
    "The next few cells are from the PCA lesson."
   ]
  },
  {
   "cell_type": "code",
   "execution_count": 264,
   "metadata": {},
   "outputs": [],
   "source": [
    "var_exp_wburn = pca_wburn.explained_variance_ratio_\n",
    "cum_var_exp_wburn = np.cumsum(var_exp_wburn)"
   ]
  },
  {
   "cell_type": "code",
   "execution_count": 265,
   "metadata": {},
   "outputs": [
    {
     "data": {
      "text/plain": [
       "75"
      ]
     },
     "execution_count": 265,
     "metadata": {},
     "output_type": "execute_result"
    }
   ],
   "source": [
    "len(pca_wburn.components_)"
   ]
  },
  {
   "cell_type": "code",
   "execution_count": 266,
   "metadata": {},
   "outputs": [
    {
     "data": {
      "image/png": "[encoded data removed]",
      "text/plain": [
       "<Figure size 1080x720 with 1 Axes>"
      ]
     },
     "metadata": {},
     "output_type": "display_data"
    }
   ],
   "source": [
    "plt.figure(figsize=(15,10))\n",
    "\n",
    "# HERE IS THE BASIC PLOT\n",
    "\n",
    "# Plot the cumulative explained variance\n",
    "component_number = list(range(1, 76))\n",
    "plt.plot(component_number, cum_var_exp_wburn, lw=3)\n",
    "\n",
    "# NOW MAKE IT LOOK PRETTY\n",
    "\n",
    "# Add horizontal lines at y=0 and y=100\n",
    "plt.axhline(y=0, linewidth=5, color='grey', ls='dashed')\n",
    "plt.axhline(y=1, linewidth=3, color='grey', ls='dashed')\n",
    "\n",
    "# Set the x and y axis limits\n",
    "ax = plt.gca()\n",
    "ax.set_xlim([1,74])\n",
    "ax.set_ylim([-0.05,1.05])\n",
    "\n",
    "# Label the axes\n",
    "ax.set_ylabel('cumulative variance explained', fontsize=16)\n",
    "ax.set_xlabel('component', fontsize=16)\n",
    "\n",
    "# Make the tick labels bigger\n",
    "for tick in ax.xaxis.get_major_ticks():\n",
    "    tick.label.set_fontsize(12) \n",
    "for tick in ax.yaxis.get_major_ticks():\n",
    "    tick.label.set_fontsize(12) \n",
    "    \n",
    "# Add title\n",
    "ax.set_title('component vs cumulative variance explained\\n', fontsize=20)\n",
    "\n",
    "plt.show()"
   ]
  },
  {
   "cell_type": "markdown",
   "metadata": {},
   "source": [
    "I don't trust that result at all. But I have tried a bunch of different ways to catch something going wrong with it. I dropped one of my cyclical DOY columns - nothing. I scaled and normalized both my numeric columns: fire size and burn time - nothing. I checked the corrcoeffs of each feature against Arson: the biggest one is 0.3 - nothing there either. I checked to see what the correlation between BURN_TIME and FIRE_SIZE is, it's 0.1 - nothing. I have looked over the code, which is quite simple and would be hard to screw up in such a way that it would still run, several times and found no errors. I suppose it's possible that something extraordinarily improbable has occurred here."
   ]
  },
  {
   "cell_type": "code",
   "execution_count": 106,
   "metadata": {},
   "outputs": [
    {
     "name": "stdout",
     "output_type": "stream",
     "text": [
      "[0.99999786 0.99999842 0.99999864 0.99999878 0.99999888 0.99999895\n",
      " 0.99999902 0.99999909 0.99999916 0.99999922 0.99999929 0.99999935\n",
      " 0.99999941 0.99999947 0.99999951 0.99999955 0.99999959 0.99999962\n",
      " 0.99999965 0.99999968 0.99999971 0.99999973 0.99999975 0.99999977\n",
      " 0.99999979 0.99999981 0.99999982 0.99999984 0.99999985 0.99999987\n",
      " 0.99999988 0.99999989 0.9999999  0.99999991 0.99999991 0.99999992\n",
      " 0.99999993 0.99999994 0.99999994 0.99999995 0.99999995 0.99999996\n",
      " 0.99999996 0.99999997 0.99999997 0.99999998 0.99999998 0.99999998\n",
      " 0.99999999 0.99999999 0.99999999 0.99999999 0.99999999 0.99999999\n",
      " 0.99999999 1.         1.         1.         1.         1.\n",
      " 1.         1.         1.         1.         1.         1.\n",
      " 1.         1.         1.         1.         1.         1.\n",
      " 1.         1.         1.        ]\n"
     ]
    }
   ],
   "source": [
    "print(cum_var_exp_wburn)"
   ]
  },
  {
   "cell_type": "markdown",
   "metadata": {},
   "source": [
    "I'll keep 4 of my pca components for now. That keeps 99.999984% of my variance explained while dropping almost all of my variables. This solves the problems of multi-collinearity and the high dimensionality my data had after one-hot encoding. It also is going to make everything run much faster. After I've gotten to the point where I'm scoring models I'll try a few other numbers of PCA features to use, all low to keep my dimensionality down.\n",
    "\n",
    "**UPDATE:** Setled on 6 PCA features after looking at scores for a bunch of different numbers under 10."
   ]
  },
  {
   "cell_type": "markdown",
   "metadata": {},
   "source": [
    "Time to make my training and testing sets. Then I'll transform with PCA and use that."
   ]
  },
  {
   "cell_type": "code",
   "execution_count": 267,
   "metadata": {},
   "outputs": [],
   "source": [
    "X = df_wburn.drop(['ARSON'], axis=1)\n",
    "y = df_wburn['ARSON']"
   ]
  },
  {
   "cell_type": "code",
   "execution_count": 268,
   "metadata": {},
   "outputs": [],
   "source": [
    "X_train, X_test, y_train, y_test = train_test_split(X, y, test_size=0.2, random_state=42)"
   ]
  },
  {
   "cell_type": "code",
   "execution_count": 269,
   "metadata": {},
   "outputs": [],
   "source": [
    "pca_6 = PCA(n_components=6)\n",
    "pca_6.fit(X_train)\n",
    "Xt_train = pca_6.transform(X_train)\n",
    "Xt_test = pca_6.transform(X_test)"
   ]
  },
  {
   "cell_type": "markdown",
   "metadata": {},
   "source": [
    "About half of the code for these models came from : http://scikit-learn.org/stable/auto_examples/ensemble/plot_feature_transformation.html#sphx-glr-auto-examples-ensemble-plot-feature-transformation-py"
   ]
  },
  {
   "cell_type": "code",
   "execution_count": 270,
   "metadata": {},
   "outputs": [
    {
     "data": {
      "text/plain": [
       "LogisticRegression(C=1.0, class_weight=None, dual=False, fit_intercept=True,\n",
       "          intercept_scaling=1, max_iter=100, multi_class='ovr', n_jobs=1,\n",
       "          penalty='l2', random_state=None, solver='liblinear', tol=0.0001,\n",
       "          verbose=0, warm_start=False)"
      ]
     },
     "execution_count": 270,
     "metadata": {},
     "output_type": "execute_result"
    }
   ],
   "source": [
    "lr = LogisticRegression()\n",
    "lr.fit(Xt_train, y_train)"
   ]
  },
  {
   "cell_type": "code",
   "execution_count": 271,
   "metadata": {},
   "outputs": [
    {
     "data": {
      "text/plain": [
       "0.8548311303362934"
      ]
     },
     "execution_count": 271,
     "metadata": {},
     "output_type": "execute_result"
    }
   ],
   "source": [
    "lr.score(Xt_test, y_test)"
   ]
  },
  {
   "cell_type": "code",
   "execution_count": 272,
   "metadata": {},
   "outputs": [],
   "source": [
    "n_estimator = 10"
   ]
  },
  {
   "cell_type": "code",
   "execution_count": 273,
   "metadata": {},
   "outputs": [
    {
     "data": {
      "text/plain": [
       "Pipeline(memory=None,\n",
       "     steps=[('randomtreesembedding', RandomTreesEmbedding(max_depth=4, max_leaf_nodes=None,\n",
       "           min_impurity_decrease=0.0, min_impurity_split=None,\n",
       "           min_samples_leaf=1, min_samples_split=2,\n",
       "           min_weight_fraction_leaf=0.0, n_estimators=10, n_jobs=1,\n",
       "           random_state=42, sp...ty='l2', random_state=None, solver='liblinear', tol=0.0001,\n",
       "          verbose=0, warm_start=False))])"
      ]
     },
     "execution_count": 273,
     "metadata": {},
     "output_type": "execute_result"
    }
   ],
   "source": [
    "rt = RandomTreesEmbedding(max_depth=4, n_estimators=n_estimator,\n",
    "    random_state=42)\n",
    "\n",
    "rt_lm = LogisticRegression()\n",
    "pipeline = make_pipeline(rt, rt_lm)\n",
    "pipeline.fit(Xt_train, y_train)"
   ]
  },
  {
   "cell_type": "code",
   "execution_count": 274,
   "metadata": {},
   "outputs": [
    {
     "data": {
      "text/plain": [
       "0.856216789367778"
      ]
     },
     "execution_count": 274,
     "metadata": {},
     "output_type": "execute_result"
    }
   ],
   "source": [
    "pipeline.score(Xt_test, y_test)"
   ]
  },
  {
   "cell_type": "code",
   "execution_count": 275,
   "metadata": {},
   "outputs": [
    {
     "data": {
      "text/plain": [
       "RandomForestClassifier(bootstrap=True, class_weight=None, criterion='gini',\n",
       "            max_depth=4, max_features='auto', max_leaf_nodes=None,\n",
       "            min_impurity_decrease=0.0, min_impurity_split=None,\n",
       "            min_samples_leaf=1, min_samples_split=2,\n",
       "            min_weight_fraction_leaf=0.0, n_estimators=10, n_jobs=1,\n",
       "            oob_score=False, random_state=None, verbose=0,\n",
       "            warm_start=False)"
      ]
     },
     "execution_count": 275,
     "metadata": {},
     "output_type": "execute_result"
    }
   ],
   "source": [
    "rf = RandomForestClassifier(max_depth=4, n_estimators=n_estimator)\n",
    "rf.fit(Xt_train, y_train)"
   ]
  },
  {
   "cell_type": "code",
   "execution_count": 276,
   "metadata": {},
   "outputs": [
    {
     "data": {
      "text/plain": [
       "0.8558191654717868"
      ]
     },
     "execution_count": 276,
     "metadata": {},
     "output_type": "execute_result"
    }
   ],
   "source": [
    "rf.score(Xt_test, y_test)"
   ]
  },
  {
   "cell_type": "code",
   "execution_count": 277,
   "metadata": {},
   "outputs": [
    {
     "data": {
      "text/plain": [
       "GradientBoostingClassifier(criterion='friedman_mse', init=None,\n",
       "              learning_rate=0.1, loss='deviance', max_depth=3,\n",
       "              max_features=None, max_leaf_nodes=None,\n",
       "              min_impurity_decrease=0.0, min_impurity_split=None,\n",
       "              min_samples_leaf=1, min_samples_split=2,\n",
       "              min_weight_fraction_leaf=0.0, n_estimators=10,\n",
       "              presort='auto', random_state=None, subsample=1.0, verbose=0,\n",
       "              warm_start=False)"
      ]
     },
     "execution_count": 277,
     "metadata": {},
     "output_type": "execute_result"
    }
   ],
   "source": [
    "grd = GradientBoostingClassifier(n_estimators=n_estimator)\n",
    "grd.fit(Xt_train, y_train)"
   ]
  },
  {
   "cell_type": "code",
   "execution_count": 278,
   "metadata": {},
   "outputs": [
    {
     "data": {
      "text/plain": [
       "0.8558191654717868"
      ]
     },
     "execution_count": 278,
     "metadata": {},
     "output_type": "execute_result"
    }
   ],
   "source": [
    "grd.score(Xt_test, y_test)"
   ]
  },
  {
   "cell_type": "code",
   "execution_count": 279,
   "metadata": {},
   "outputs": [
    {
     "data": {
      "text/plain": [
       "XGBClassifier(base_score=0.5, booster='gbtree', colsample_bylevel=1,\n",
       "       colsample_bytree=1, gamma=0, learning_rate=0.1, max_delta_step=0,\n",
       "       max_depth=3, min_child_weight=1, missing=None, n_estimators=100,\n",
       "       n_jobs=1, nthread=None, objective='binary:logistic', random_state=0,\n",
       "       reg_alpha=0, reg_lambda=1, scale_pos_weight=1, seed=None,\n",
       "       silent=True, subsample=1)"
      ]
     },
     "execution_count": 279,
     "metadata": {},
     "output_type": "execute_result"
    }
   ],
   "source": [
    "xgb = XGBClassifier()\n",
    "xgb.fit(Xt_train, y_train)"
   ]
  },
  {
   "cell_type": "code",
   "execution_count": 280,
   "metadata": {},
   "outputs": [
    {
     "name": "stderr",
     "output_type": "stream",
     "text": [
      "/Users/ryanmetz/anaconda3/envs/ipykernel_py3/lib/python3.6/site-packages/sklearn/preprocessing/label.py:151: DeprecationWarning: The truth value of an empty array is ambiguous. Returning False, but in future this will result in an error. Use `array.size > 0` to check that an array is not empty.\n",
      "  if diff:\n"
     ]
    },
    {
     "data": {
      "text/plain": [
       "0.8624944272408517"
      ]
     },
     "execution_count": 280,
     "metadata": {},
     "output_type": "execute_result"
    }
   ],
   "source": [
    "xgb.score(Xt_test, y_test)"
   ]
  },
  {
   "cell_type": "markdown",
   "metadata": {},
   "source": [
    "I chose to use a Gaussian Naive Bayes over Bernoulli and multinomial. For all categorical features: multinomial. For all binary features: Bernoulli. For a mix, which is what I have, Gaussian."
   ]
  },
  {
   "cell_type": "code",
   "execution_count": 281,
   "metadata": {},
   "outputs": [
    {
     "data": {
      "text/plain": [
       "GaussianNB(priors=None)"
      ]
     },
     "execution_count": 281,
     "metadata": {},
     "output_type": "execute_result"
    }
   ],
   "source": [
    "gnb = GaussianNB()\n",
    "gnb.fit(Xt_train, y_train)"
   ]
  },
  {
   "cell_type": "code",
   "execution_count": 282,
   "metadata": {},
   "outputs": [
    {
     "data": {
      "text/plain": [
       "0.7531117082163556"
      ]
     },
     "execution_count": 282,
     "metadata": {},
     "output_type": "execute_result"
    }
   ],
   "source": [
    "gnb.score(Xt_test, y_test)"
   ]
  },
  {
   "cell_type": "code",
   "execution_count": 283,
   "metadata": {},
   "outputs": [],
   "source": [
    "pca2 = PCA(n_components=2)\n",
    "pca2.fit(X_train)\n",
    "Xt_train_svc = pca2.transform(X_train)\n",
    "Xt_test_svc = pca2.transform(X_test)"
   ]
  },
  {
   "cell_type": "code",
   "execution_count": 151,
   "metadata": {},
   "outputs": [
    {
     "data": {
      "text/plain": [
       "LinearSVC(C=1.0, class_weight=None, dual=True, fit_intercept=False,\n",
       "     intercept_scaling=1, loss='squared_hinge', max_iter=1000,\n",
       "     multi_class='ovr', penalty='l2', random_state=42, tol=0.0001,\n",
       "     verbose=0)"
      ]
     },
     "execution_count": 151,
     "metadata": {},
     "output_type": "execute_result"
    }
   ],
   "source": [
    "lsvc = LinearSVC(fit_intercept=False, random_state=42)\n",
    "lsvc.fit(Xt_train_svc, y_train)"
   ]
  },
  {
   "cell_type": "code",
   "execution_count": 154,
   "metadata": {},
   "outputs": [
    {
     "name": "stderr",
     "output_type": "stream",
     "text": [
      "/Users/ryanmetz/anaconda3/envs/ipykernel_py3/lib/python3.6/site-packages/sklearn/calibration.py:435: RuntimeWarning: overflow encountered in exp\n",
      "  E = np.exp(AB[0] * F + AB[1])\n",
      "/Users/ryanmetz/anaconda3/envs/ipykernel_py3/lib/python3.6/site-packages/sklearn/calibration.py:445: RuntimeWarning: overflow encountered in exp\n",
      "  E = np.exp(AB[0] * F + AB[1])\n",
      "/Users/ryanmetz/anaconda3/envs/ipykernel_py3/lib/python3.6/site-packages/sklearn/calibration.py:447: RuntimeWarning: invalid value encountered in multiply\n",
      "  TEP_minus_T1P = P * (T * E - T1)\n",
      "/Users/ryanmetz/anaconda3/envs/ipykernel_py3/lib/python3.6/site-packages/sklearn/calibration.py:435: RuntimeWarning: overflow encountered in exp\n",
      "  E = np.exp(AB[0] * F + AB[1])\n",
      "/Users/ryanmetz/anaconda3/envs/ipykernel_py3/lib/python3.6/site-packages/sklearn/calibration.py:435: RuntimeWarning: overflow encountered in exp\n",
      "  E = np.exp(AB[0] * F + AB[1])\n",
      "/Users/ryanmetz/anaconda3/envs/ipykernel_py3/lib/python3.6/site-packages/sklearn/calibration.py:445: RuntimeWarning: overflow encountered in exp\n",
      "  E = np.exp(AB[0] * F + AB[1])\n",
      "/Users/ryanmetz/anaconda3/envs/ipykernel_py3/lib/python3.6/site-packages/sklearn/calibration.py:447: RuntimeWarning: invalid value encountered in multiply\n",
      "  TEP_minus_T1P = P * (T * E - T1)\n",
      "/Users/ryanmetz/anaconda3/envs/ipykernel_py3/lib/python3.6/site-packages/sklearn/calibration.py:435: RuntimeWarning: overflow encountered in exp\n",
      "  E = np.exp(AB[0] * F + AB[1])\n"
     ]
    },
    {
     "data": {
      "text/plain": [
       "CalibratedClassifierCV(base_estimator=LinearSVC(C=1.0, class_weight=None, dual=True, fit_intercept=False,\n",
       "     intercept_scaling=1, loss='squared_hinge', max_iter=1000,\n",
       "     multi_class='ovr', penalty='l2', random_state=42, tol=0.0001,\n",
       "     verbose=0),\n",
       "            cv=2, method='sigmoid')"
      ]
     },
     "execution_count": 154,
     "metadata": {},
     "output_type": "execute_result"
    }
   ],
   "source": [
    "calclass_lsvc = CalibratedClassifierCV(lsvc, cv=2, method='sigmoid')\n",
    "calclass_lsvc.fit(Xt_train_svc, y_train)"
   ]
  },
  {
   "cell_type": "code",
   "execution_count": null,
   "metadata": {},
   "outputs": [],
   "source": [
    "lsvc_preds = lsvc.predict(Xt_test_svc)\n",
    "lsvc_pred_probas = lsvc.decision_function(Xt_test_svc) "
   ]
  },
  {
   "cell_type": "markdown",
   "metadata": {},
   "source": [
    "The below cell was run and an ROC curve was generated below. It was terrible so I commented this all out so it wouldn't be re-run if I end up restarting this kernel and going through everything again."
   ]
  },
  {
   "cell_type": "code",
   "execution_count": null,
   "metadata": {},
   "outputs": [],
   "source": [
    "# Xt_train_small, Xt_train_lr, y_train_small, y_train_lr = train_test_split(Xt_train,\n",
    "#                                                             y_train,\n",
    "#                                                             test_size=0.5)\n",
    "\n",
    "# grd_enc_lm = GradientBoostingClassifier(n_estimators=n_estimator)\n",
    "# grd_lm = LogisticRegression()\n",
    "# grd_enc = OneHotEncoder()\n",
    "\n",
    "# grd.fit(Xt_train_small, y_train_small)\n",
    "# grd_enc.fit(grd.apply(Xt_train_small)[:, :, 0])\n",
    "# grd_lm.fit(grd_enc.transform(grd.apply(Xt_train_lr)[:, :, 0]), y_train_lr)"
   ]
  },
  {
   "cell_type": "code",
   "execution_count": null,
   "metadata": {},
   "outputs": [],
   "source": [
    "# clf = SVC()\n",
    "# clf.fit(Xt_train, y_train) commented out because this takes waaaaay to long to run on my laptop."
   ]
  },
  {
   "cell_type": "code",
   "execution_count": null,
   "metadata": {},
   "outputs": [],
   "source": [
    "#clf.score(Xt_test, y_test)"
   ]
  },
  {
   "cell_type": "code",
   "execution_count": null,
   "metadata": {},
   "outputs": [],
   "source": [
    "# def roc(probas, true, step=0.01):\n",
    "    \n",
    "#     probas = probas[:,1]  \n",
    "#     true = true.values \n",
    "#     assert(len(probas) == len(true))\n",
    "    \n",
    "#     TPRs = [] # Setting up empty list of True Positive Rate\n",
    "#     FPRs = [] # Setting up empty list of False Positive Rate\n",
    "    \n",
    "#     for i in np.arange(0.0,1.0,step): # np.arange allows us to use step sizes that are decimals\n",
    "#         preds_class = probas > i # Numpy arrays have a feature called 'broadcasting.' Check the documentation: https://docs.scipy.org/doc/numpy-1.13.0/user/basics.broadcasting.html to see what this does.\n",
    "#         TP = 0 \n",
    "#         FP = 0\n",
    "#         TN = 0\n",
    "#         FN = 0\n",
    "#         for index in range(len(preds_class)): # We're comparing each prediction with each true value here\n",
    "\n",
    "#             if preds_class[index] == 1 and true[index] == 1:\n",
    "#                 TP += 1\n",
    "#             elif preds_class[index] == 1 and true[index] == 0:\n",
    "#                 FP += 1\n",
    "#             elif preds_class[index] == 0 and true[index] == 0:\n",
    "#                 TN += 1 \n",
    "#             elif preds_class[index] == 0 and true[index] == 1:\n",
    "#                 FN += 1\n",
    "                \n",
    "#         TPR = TP/(TP + FN) # Calculating TPR and FPR and appending to our lists\n",
    "#         FPR = FP/(FP + TN)\n",
    "        \n",
    "#         TPRs.append(TPR)\n",
    "#         FPRs.append(FPR)\n",
    "         \n",
    "#     plt.rcParams['font.size'] = 14\n",
    "#     plt.plot(FPRs, TPRs, color=\"orange\")\n",
    "#     plt.plot([0,1],[0,1], color='navy', lw=2, linestyle='--')\n",
    "#     plt.xlim([0.0, 1.0])\n",
    "#     plt.ylim([0.0, 1.0])\n",
    "#     plt.title('Receiver Operating Characteristic')\n",
    "#     plt.xlabel(\"False Positive Rate\")\n",
    "#     plt.ylabel(\"True Positive Rate\")\n",
    "#     plt.show();"
   ]
  },
  {
   "cell_type": "code",
   "execution_count": 233,
   "metadata": {},
   "outputs": [
    {
     "ename": "NameError",
     "evalue": "name 'roc' is not defined",
     "output_type": "error",
     "traceback": [
      "\u001b[0;31m---------------------------------------------------------------------------\u001b[0m",
      "\u001b[0;31mNameError\u001b[0m                                 Traceback (most recent call last)",
      "\u001b[0;32m<ipython-input-233-0a2d63011eaa>\u001b[0m in \u001b[0;36m<module>\u001b[0;34m()\u001b[0m\n\u001b[0;32m----> 1\u001b[0;31m \u001b[0mroc\u001b[0m\u001b[0;34m(\u001b[0m\u001b[0mlr\u001b[0m\u001b[0;34m.\u001b[0m\u001b[0mpredict_proba\u001b[0m\u001b[0;34m(\u001b[0m\u001b[0mXt_test\u001b[0m\u001b[0;34m)\u001b[0m\u001b[0;34m,\u001b[0m \u001b[0my_test\u001b[0m\u001b[0;34m)\u001b[0m\u001b[0;34m\u001b[0m\u001b[0m\n\u001b[0m",
      "\u001b[0;31mNameError\u001b[0m: name 'roc' is not defined"
     ]
    }
   ],
   "source": [
    "# roc(lr.predict_proba(Xt_test), y_test)"
   ]
  },
  {
   "cell_type": "code",
   "execution_count": null,
   "metadata": {
    "scrolled": true
   },
   "outputs": [],
   "source": [
    "#roc(pipeline.predict_proba(Xt_test), y_test)"
   ]
  },
  {
   "cell_type": "code",
   "execution_count": null,
   "metadata": {},
   "outputs": [],
   "source": [
    "#roc(rf.predict_proba(Xt_test), y_test)"
   ]
  },
  {
   "cell_type": "code",
   "execution_count": null,
   "metadata": {},
   "outputs": [],
   "source": [
    "#roc(grd.predict_proba(Xt_test), y_test)"
   ]
  },
  {
   "cell_type": "code",
   "execution_count": null,
   "metadata": {},
   "outputs": [],
   "source": [
    "#roc(xgb.predict_proba(Xt_test), y_test)"
   ]
  },
  {
   "cell_type": "markdown",
   "metadata": {},
   "source": [
    "Commented all the above out because I'm using roc2() as defined below from here on out"
   ]
  },
  {
   "cell_type": "code",
   "execution_count": null,
   "metadata": {},
   "outputs": [],
   "source": [
    "#roc(grd_lm.predict_proba(grd_enc.transform(grd.apply(X_test)[:, :, 0])), y_test)\n",
    "#commented this out so it can't be run again. This was terrible so I'm not going to use it, but if I go back and run\n",
    "#everything again I don't want to spend the few minutes this took to run, but I don't want to lose the graph."
   ]
  },
  {
   "cell_type": "markdown",
   "metadata": {},
   "source": [
    "The code in the next 2 cells also comes from a GA lesson."
   ]
  },
  {
   "cell_type": "code",
   "execution_count": 123,
   "metadata": {},
   "outputs": [],
   "source": [
    "def roc2(probas, true, step=0.01, plot=True):\n",
    "    \"\"\"\n",
    "    probas should be a numpy array of predict_probas\n",
    "    true is a pandas series of true labels\n",
    "    step is the step size for checking thresholds\n",
    "    plot is a boolean for whether we want to generate a plot\n",
    "    \"\"\"\n",
    "    \n",
    "    probas = probas[:,1]  # The output of predict_proba() is an array of the probabilities for every class, but we only want the probabilities for class 1\n",
    "    true = true.values    # We need to convert the class labels from a Pandas Series to a numpy array. We do this using the .values attribute\n",
    "    assert(len(probas) == len(true)) # We're making sure that our probabilities vector is the same length as our true class labesl vector\n",
    "    \n",
    "    TPRs = [] # Setting up empty list of True Positive Rate\n",
    "    FPRs = [] # Setting up empty list of False Positive Rate\n",
    "    \n",
    "    for i in np.arange(0.0,1.0,step): # np.arange allows us to use step sizes that are decimals\n",
    "        preds_class = probas > i # Numpy arrays have a feature called 'broadcasting.' Check the documentation: https://docs.scipy.org/doc/numpy-1.13.0/user/basics.broadcasting.html to see what this does.\n",
    "        TP = 0 \n",
    "        FP = 0\n",
    "        TN = 0\n",
    "        FN = 0\n",
    "        for index in range(len(preds_class)): # We're comparing each prediction with each true value here\n",
    "\n",
    "            if preds_class[index] == 1 and true[index] == 1:\n",
    "                TP += 1\n",
    "            elif preds_class[index] == 1 and true[index] == 0:\n",
    "                FP += 1\n",
    "            elif preds_class[index] == 0 and true[index] == 0:\n",
    "                TN += 1 \n",
    "            elif preds_class[index] == 0 and true[index] == 1:\n",
    "                FN += 1\n",
    "                \n",
    "        TPR = TP/(TP + FN) # Calculating TPR and FPR and appending to our lists\n",
    "        FPR = FP/(FP + TN)\n",
    "        \n",
    "        TPRs.append(TPR)\n",
    "        FPRs.append(FPR)\n",
    "        \n",
    "    if plot: # Only generate a plot if plot == True\n",
    "        \n",
    "        plt.rcParams['font.size'] = 14\n",
    "        plt.plot(FPRs, TPRs, color=\"orange\")\n",
    "        plt.plot([0,1],[0,1], color='navy', lw=2, linestyle='--')\n",
    "        plt.xlim([0.0, 1.0])\n",
    "        plt.ylim([0.0, 1.0])\n",
    "        plt.title('Receiver Operating Characteristic')\n",
    "        plt.xlabel(\"False Positive Rate\")\n",
    "        plt.ylabel(\"True Positive Rate\")\n",
    "        plt.show();\n",
    "        \n",
    "    return np.array(TPRs), np.array(FPRs) # We'll neet to have our TPRs and FPRs as arrays so we can use broadcasting in the next function.\n",
    "\n",
    "def sen_spec(probas, true, stat=\"sensitivity\", stat_val=0.5, step=0.01):\n",
    "    '''\n",
    "    This is the function that the assignment is asking for. We'll feed in our probas and true vectors as we do with the previous function, as well\n",
    "    as we are looking at, as well as the value of that stat that we want to find, and the step size for our roc function.\n",
    "    \n",
    "    '''\n",
    "    \n",
    "    stat = stat.lower() # turn the string into lowercase for ease of comparison\n",
    "    \n",
    "    assert(stat in [\"sensitivity\", \"specificity\"]) # Throw an error if the user did not write sensitivity or specificity\n",
    "    \n",
    "    TPRs, FPRs = roc2(probas, true, step=step, plot=False) # use our roc function to get vectors of TPR and FPR\n",
    "    \n",
    "    if stat == \"sensitivity\":\n",
    "        diffs = np.absolute(TPRs - stat_val) # We won't necessarily be able to find a threshold that gives the exact value we're looking for, but we can find the one that gets us the closest.\n",
    "        loc = np.argmin(diffs) # We want to find the index of the TPR that was closest to the value we specified\n",
    "        threshold = loc * step\n",
    "        sensitivity = TPRs[loc]\n",
    "        spec_corr = (1 - FPRs[loc])\n",
    "        \n",
    "        print(\"Sensitivity: {:.5f}%, Specificity: {:.5f}%, Threshold: {}%\".format(sensitivity*100, spec_corr*100, threshold*100))\n",
    "        return TPRs, FPRs\n",
    "    \n",
    "    elif stat == \"specificity\":\n",
    "        specificities = 1 - FPRs # FPR = 1 - specificity --> specificity = 1 - FPR\n",
    "        diffs = np.absolute(specificities - stat_val)\n",
    "        loc = np.argmin(diffs)\n",
    "        threshold = loc * step\n",
    "        specificity = specificities[loc]\n",
    "        sens_corr = (TPRs[loc])\n",
    "        \n",
    "        print(\"Specificity: {:.5f}%, Sensitivity: {:.5f}%, Threshold: {}%\".format(specificity*100, sens_corr*100, threshold*100))\n",
    "        return TPRs, FPRs"
   ]
  },
  {
   "cell_type": "code",
   "execution_count": 124,
   "metadata": {},
   "outputs": [],
   "source": [
    "def auc(y, x):\n",
    "    \n",
    "    auc = 0\n",
    "    for i in range(1,len(x)):\n",
    "        auc += ((y[i] + y[i-1])/2)*abs((x[i] - x[i-1]))\n",
    "        \n",
    "    return auc"
   ]
  },
  {
   "cell_type": "markdown",
   "metadata": {},
   "source": [
    "Going to re-run all the models for scoring with the above functions."
   ]
  },
  {
   "cell_type": "code",
   "execution_count": 284,
   "metadata": {
    "scrolled": true
   },
   "outputs": [
    {
     "data": {
      "image/png": "[encoded data removed]",
      "text/plain": [
       "<Figure size 432x288 with 1 Axes>"
      ]
     },
     "metadata": {},
     "output_type": "display_data"
    },
    {
     "data": {
      "text/plain": [
       "(array([1.        , 0.99941501, 0.9991643 , 0.99899716, 0.99824503,\n",
       "        0.9960722 , 0.94643156, 0.86369714, 0.8078723 , 0.77160287,\n",
       "        0.74611399, 0.72605716, 0.70683604, 0.68627779, 0.66872806,\n",
       "        0.6518469 , 0.63571787, 0.6188367 , 0.60270767, 0.58850075,\n",
       "        0.57421026, 0.55766338, 0.53819154, 0.5218118 , 0.50576634,\n",
       "        0.48863446, 0.472589  , 0.45704496, 0.44125021, 0.4225305 ,\n",
       "        0.40640147, 0.39085743, 0.37581481, 0.36035434, 0.34681598,\n",
       "        0.33285977, 0.32082567, 0.30829016, 0.29717533, 0.28146415,\n",
       "        0.26633796, 0.25062678, 0.23499916, 0.21920441, 0.20015043,\n",
       "        0.18201571, 0.16220959, 0.14073207, 0.12243022, 0.10362694,\n",
       "        0.08189871, 0.06092261, 0.03016881, 0.0106134 , 0.00108641,\n",
       "        0.        , 0.        , 0.        , 0.        , 0.        ,\n",
       "        0.        , 0.        , 0.        , 0.        , 0.        ,\n",
       "        0.        , 0.        , 0.        , 0.        , 0.        ,\n",
       "        0.        , 0.        , 0.        , 0.        , 0.        ,\n",
       "        0.        , 0.        , 0.        , 0.        , 0.        ,\n",
       "        0.        , 0.        , 0.        , 0.        , 0.        ,\n",
       "        0.        , 0.        , 0.        , 0.        , 0.        ,\n",
       "        0.        , 0.        , 0.        , 0.        , 0.        ,\n",
       "        0.        , 0.        , 0.        , 0.        , 0.        ]),\n",
       " array([1.00000000e+00, 9.94312022e-01, 9.90848551e-01, 9.87075338e-01,\n",
       "        9.82189871e-01, 9.53581033e-01, 7.48658961e-01, 5.18070593e-01,\n",
       "        4.16010813e-01, 3.61411857e-01, 3.27058724e-01, 3.00449125e-01,\n",
       "        2.77838005e-01, 2.59042336e-01, 2.43808692e-01, 2.29785856e-01,\n",
       "        2.17058302e-01, 2.05893533e-01, 1.95334169e-01, 1.85591395e-01,\n",
       "        1.76468104e-01, 1.68330353e-01, 1.60023653e-01, 1.51604319e-01,\n",
       "        1.44381714e-01, 1.35948301e-01, 1.28303321e-01, 1.21587565e-01,\n",
       "        1.14773255e-01, 1.08029341e-01, 1.02116097e-01, 9.56819238e-02,\n",
       "        9.06134287e-02, 8.55026962e-02, 8.03356470e-02, 7.59851887e-02,\n",
       "        7.21275008e-02, 6.79882298e-02, 6.40883044e-02, 6.01602208e-02,\n",
       "        5.60068706e-02, 5.22054993e-02, 4.83055739e-02, 4.41803821e-02,\n",
       "        4.07028313e-02, 3.68592225e-02, 3.22975770e-02, 2.77359314e-02,\n",
       "        2.34558689e-02, 1.91054106e-02, 1.49520605e-02, 1.06156814e-02,\n",
       "        5.18112830e-03, 1.49239022e-03, 1.54870683e-04, 0.00000000e+00,\n",
       "        0.00000000e+00, 0.00000000e+00, 0.00000000e+00, 0.00000000e+00,\n",
       "        0.00000000e+00, 0.00000000e+00, 0.00000000e+00, 0.00000000e+00,\n",
       "        0.00000000e+00, 0.00000000e+00, 0.00000000e+00, 0.00000000e+00,\n",
       "        0.00000000e+00, 0.00000000e+00, 0.00000000e+00, 0.00000000e+00,\n",
       "        0.00000000e+00, 0.00000000e+00, 0.00000000e+00, 0.00000000e+00,\n",
       "        0.00000000e+00, 0.00000000e+00, 0.00000000e+00, 0.00000000e+00,\n",
       "        0.00000000e+00, 0.00000000e+00, 0.00000000e+00, 0.00000000e+00,\n",
       "        0.00000000e+00, 0.00000000e+00, 0.00000000e+00, 0.00000000e+00,\n",
       "        0.00000000e+00, 0.00000000e+00, 0.00000000e+00, 0.00000000e+00,\n",
       "        0.00000000e+00, 0.00000000e+00, 0.00000000e+00, 0.00000000e+00,\n",
       "        0.00000000e+00, 0.00000000e+00, 0.00000000e+00, 0.00000000e+00]))"
      ]
     },
     "execution_count": 284,
     "metadata": {},
     "output_type": "execute_result"
    }
   ],
   "source": [
    "roc2(lr.predict_proba(Xt_test), y_test)"
   ]
  },
  {
   "cell_type": "code",
   "execution_count": null,
   "metadata": {},
   "outputs": [],
   "source": [
    "#TPRs_lr, FPRs_lr = sen_spec(probas=lr.predict_proba(Xt_test), true=y_test, stat=\"specificity\", stat_val = 0.99, step=0.01)\n",
    "#this was with 5 pca feats\n"
   ]
  },
  {
   "cell_type": "code",
   "execution_count": null,
   "metadata": {},
   "outputs": [],
   "source": [
    "#TPRs_lr, FPRs_lr = sen_spec(probas=lr.predict_proba(Xt_test), true=y_test, stat=\"specificity\", stat_val = 0.99, step=0.01)\n",
    "# 7 PCA feats"
   ]
  },
  {
   "cell_type": "code",
   "execution_count": null,
   "metadata": {},
   "outputs": [],
   "source": [
    "#TPRs_lr, FPRs_lr = sen_spec(probas=lr.predict_proba(Xt_test), true=y_test, stat=\"specificity\", stat_val = 0.99, step=0.01)\n",
    "# 8 pca feats"
   ]
  },
  {
   "cell_type": "markdown",
   "metadata": {},
   "source": [
    "A \"by-hand gridsearch\" shows that 6 PCA features gives the best sensitivity. Could be a local maxima but I'm not willing to make the data array even bigger than 8 given how many rows I have."
   ]
  },
  {
   "cell_type": "code",
   "execution_count": 285,
   "metadata": {},
   "outputs": [
    {
     "name": "stdout",
     "output_type": "stream",
     "text": [
      "Specificity: 98.93843%, Sensitivity: 6.09226%, Threshold: 51.0%\n"
     ]
    }
   ],
   "source": [
    "TPRs_lr, FPRs_lr = sen_spec(probas=lr.predict_proba(Xt_test), true=y_test, stat=\"specificity\", stat_val = 0.99, step=0.01)\n",
    "#with 6 pca feats"
   ]
  },
  {
   "cell_type": "code",
   "execution_count": 286,
   "metadata": {},
   "outputs": [
    {
     "data": {
      "text/plain": [
       "0.22990660135103722"
      ]
     },
     "execution_count": 286,
     "metadata": {},
     "output_type": "execute_result"
    }
   ],
   "source": [
    "auc(TPRs_lr, FPRs_lr)"
   ]
  },
  {
   "cell_type": "markdown",
   "metadata": {},
   "source": [
    "This \"pipeline\" was a random trees embedding with a logistic regression performed on that output."
   ]
  },
  {
   "cell_type": "code",
   "execution_count": 287,
   "metadata": {
    "scrolled": true
   },
   "outputs": [
    {
     "data": {
      "image/png": "[encoded data removed]",
      "text/plain": [
       "<Figure size 432x288 with 1 Axes>"
      ]
     },
     "metadata": {},
     "output_type": "display_data"
    },
    {
     "data": {
      "text/plain": [
       "(array([1.00000000e+00, 9.99916430e-01, 9.99164299e-01, 9.89386595e-01,\n",
       "        9.82115995e-01, 9.77101788e-01, 9.34397459e-01, 8.50660204e-01,\n",
       "        8.29182684e-01, 7.96005348e-01, 7.38258399e-01, 7.26725723e-01,\n",
       "        7.24469330e-01, 7.07504596e-01, 7.01988969e-01, 6.78004346e-01,\n",
       "        6.59284640e-01, 6.56443256e-01, 6.39060672e-01, 6.28112987e-01,\n",
       "        6.18418853e-01, 6.03125522e-01, 5.98947017e-01, 5.98194886e-01,\n",
       "        5.97359184e-01, 5.64766839e-01, 5.07939161e-01, 4.82617416e-01,\n",
       "        4.67407655e-01, 4.66989804e-01, 4.61724887e-01, 4.60137055e-01,\n",
       "        4.46515126e-01, 4.36068862e-01, 4.27544710e-01, 4.07655023e-01,\n",
       "        2.06501755e-01, 1.89954872e-01, 1.85191376e-01, 1.31539362e-01,\n",
       "        1.16413171e-01, 1.12652515e-01, 1.04880495e-01, 8.62443590e-02,\n",
       "        8.47400969e-02, 8.08123015e-02, 7.74694969e-02, 2.79959886e-02,\n",
       "        2.72438576e-02, 1.96389771e-02, 1.83854254e-02, 1.83854254e-02,\n",
       "        1.83854254e-02, 1.83018553e-02, 1.67140231e-03, 5.84990807e-04,\n",
       "        5.84990807e-04, 5.84990807e-04, 5.84990807e-04, 0.00000000e+00,\n",
       "        0.00000000e+00, 0.00000000e+00, 0.00000000e+00, 0.00000000e+00,\n",
       "        0.00000000e+00, 0.00000000e+00, 0.00000000e+00, 0.00000000e+00,\n",
       "        0.00000000e+00, 0.00000000e+00, 0.00000000e+00, 0.00000000e+00,\n",
       "        0.00000000e+00, 0.00000000e+00, 0.00000000e+00, 0.00000000e+00,\n",
       "        0.00000000e+00, 0.00000000e+00, 0.00000000e+00, 0.00000000e+00,\n",
       "        0.00000000e+00, 0.00000000e+00, 0.00000000e+00, 0.00000000e+00,\n",
       "        0.00000000e+00, 0.00000000e+00, 0.00000000e+00, 0.00000000e+00,\n",
       "        0.00000000e+00, 0.00000000e+00, 0.00000000e+00, 0.00000000e+00,\n",
       "        0.00000000e+00, 0.00000000e+00, 0.00000000e+00, 0.00000000e+00,\n",
       "        0.00000000e+00, 0.00000000e+00, 0.00000000e+00, 0.00000000e+00]),\n",
       " array([1.00000000e+00, 9.98915905e-01, 9.89215369e-01, 9.13934138e-01,\n",
       "        8.86972560e-01, 8.66698579e-01, 7.40422656e-01, 5.11903924e-01,\n",
       "        4.65597590e-01, 4.10562181e-01, 3.22694187e-01, 3.10149661e-01,\n",
       "        3.06137103e-01, 2.84244020e-01, 2.78654596e-01, 2.57535867e-01,\n",
       "        2.41893928e-01, 2.38909147e-01, 2.23844454e-01, 2.16664085e-01,\n",
       "        2.08075802e-01, 1.98938432e-01, 1.96770242e-01, 1.96122601e-01,\n",
       "        1.95390485e-01, 1.77087586e-01, 1.45676996e-01, 1.33583004e-01,\n",
       "        1.26163290e-01, 1.25980261e-01, 1.24262604e-01, 1.23586805e-01,\n",
       "        1.19320822e-01, 1.15843271e-01, 1.12562828e-01, 1.06156814e-01,\n",
       "        5.15719374e-02, 4.57713264e-02, 4.46168359e-02, 2.79611979e-02,\n",
       "        2.30194152e-02, 2.19916370e-02, 2.01613471e-02, 1.62191843e-02,\n",
       "        1.55152266e-02, 1.44029735e-02, 1.34737494e-02, 4.06887522e-03,\n",
       "        3.92808369e-03, 2.78767229e-03, 2.63280161e-03, 2.56240585e-03,\n",
       "        2.56240585e-03, 2.53424754e-03, 3.66057978e-04, 1.12633224e-04,\n",
       "        1.12633224e-04, 1.12633224e-04, 1.12633224e-04, 1.40791530e-05,\n",
       "        1.40791530e-05, 1.40791530e-05, 1.40791530e-05, 1.40791530e-05,\n",
       "        0.00000000e+00, 0.00000000e+00, 0.00000000e+00, 0.00000000e+00,\n",
       "        0.00000000e+00, 0.00000000e+00, 0.00000000e+00, 0.00000000e+00,\n",
       "        0.00000000e+00, 0.00000000e+00, 0.00000000e+00, 0.00000000e+00,\n",
       "        0.00000000e+00, 0.00000000e+00, 0.00000000e+00, 0.00000000e+00,\n",
       "        0.00000000e+00, 0.00000000e+00, 0.00000000e+00, 0.00000000e+00,\n",
       "        0.00000000e+00, 0.00000000e+00, 0.00000000e+00, 0.00000000e+00,\n",
       "        0.00000000e+00, 0.00000000e+00, 0.00000000e+00, 0.00000000e+00,\n",
       "        0.00000000e+00, 0.00000000e+00, 0.00000000e+00, 0.00000000e+00,\n",
       "        0.00000000e+00, 0.00000000e+00, 0.00000000e+00, 0.00000000e+00]))"
      ]
     },
     "execution_count": 287,
     "metadata": {},
     "output_type": "execute_result"
    }
   ],
   "source": [
    "roc2(pipeline.predict_proba(Xt_test), y_test)"
   ]
  },
  {
   "cell_type": "code",
   "execution_count": 288,
   "metadata": {},
   "outputs": [
    {
     "name": "stdout",
     "output_type": "stream",
     "text": [
      "Specificity: 98.65263%, Sensitivity: 7.74695%, Threshold: 46.0%\n"
     ]
    }
   ],
   "source": [
    "TPRs_rt, FPRs_rt = sen_spec(probas=pipeline.predict_proba(Xt_test), true=y_test, stat=\"specificity\", stat_val = 0.99, step=0.01)\n"
   ]
  },
  {
   "cell_type": "code",
   "execution_count": 289,
   "metadata": {},
   "outputs": [
    {
     "data": {
      "text/plain": [
       "0.2375812722518948"
      ]
     },
     "execution_count": 289,
     "metadata": {},
     "output_type": "execute_result"
    }
   ],
   "source": [
    "auc(TPRs_rt, FPRs_rt)"
   ]
  },
  {
   "cell_type": "markdown",
   "metadata": {},
   "source": [
    "Now for the random forest."
   ]
  },
  {
   "cell_type": "code",
   "execution_count": 290,
   "metadata": {
    "scrolled": true
   },
   "outputs": [
    {
     "data": {
      "image/png": "[encoded data removed]",
      "text/plain": [
       "<Figure size 432x288 with 1 Axes>"
      ]
     },
     "metadata": {},
     "output_type": "display_data"
    },
    {
     "data": {
      "text/plain": [
       "(array([1.        , 1.        , 1.        , 1.        , 0.98855089,\n",
       "        0.96272773, 0.94567943, 0.90105298, 0.88684606, 0.85943507,\n",
       "        0.82675915, 0.81104797, 0.78923617, 0.76416513, 0.73641986,\n",
       "        0.70574962, 0.69229484, 0.67340799, 0.66363029, 0.64123349,\n",
       "        0.61064683, 0.57897376, 0.56217617, 0.5427879 , 0.52540532,\n",
       "        0.51738258, 0.51228481, 0.49807789, 0.49080729, 0.47359184,\n",
       "        0.46406485, 0.44902223, 0.43423032, 0.40999499, 0.37848905,\n",
       "        0.36620425, 0.34380745, 0.3288484 , 0.30745445, 0.27912419,\n",
       "        0.25789738, 0.24995821, 0.22990139, 0.22480361, 0.21594518,\n",
       "        0.19664048, 0.1711516 , 0.10270767, 0.04320575, 0.00877486,\n",
       "        0.        , 0.        , 0.        , 0.        , 0.        ,\n",
       "        0.        , 0.        , 0.        , 0.        , 0.        ,\n",
       "        0.        , 0.        , 0.        , 0.        , 0.        ,\n",
       "        0.        , 0.        , 0.        , 0.        , 0.        ,\n",
       "        0.        , 0.        , 0.        , 0.        , 0.        ,\n",
       "        0.        , 0.        , 0.        , 0.        , 0.        ,\n",
       "        0.        , 0.        , 0.        , 0.        , 0.        ,\n",
       "        0.        , 0.        , 0.        , 0.        , 0.        ,\n",
       "        0.        , 0.        , 0.        , 0.        , 0.        ,\n",
       "        0.        , 0.        , 0.        , 0.        , 0.        ]),\n",
       " array([1.00000000e+00, 1.00000000e+00, 1.00000000e+00, 1.00000000e+00,\n",
       "        8.67149112e-01, 7.51657820e-01, 6.75024990e-01, 5.57886438e-01,\n",
       "        5.05976600e-01, 4.37016909e-01, 3.80714376e-01, 3.58314444e-01,\n",
       "        3.29536655e-01, 2.99252397e-01, 2.74543483e-01, 2.52228026e-01,\n",
       "        2.39232968e-01, 2.26801076e-01, 2.18395821e-01, 2.01880975e-01,\n",
       "        1.77383249e-01, 1.55419770e-01, 1.45141988e-01, 1.35202106e-01,\n",
       "        1.26501190e-01, 1.22643502e-01, 1.19574246e-01, 1.12774016e-01,\n",
       "        1.08874090e-01, 9.99338280e-02, 9.63858814e-02, 9.03459248e-02,\n",
       "        8.53196672e-02, 7.76746871e-02, 6.82557337e-02, 6.51020035e-02,\n",
       "        5.96956087e-02, 5.48383009e-02, 4.88828192e-02, 4.24064088e-02,\n",
       "        3.81967421e-02, 3.65776395e-02, 3.34239092e-02, 3.24524477e-02,\n",
       "        3.09459783e-02, 2.77359314e-02, 2.35121855e-02, 1.39524406e-02,\n",
       "        5.02625762e-03, 8.44749180e-04, 0.00000000e+00, 0.00000000e+00,\n",
       "        0.00000000e+00, 0.00000000e+00, 0.00000000e+00, 0.00000000e+00,\n",
       "        0.00000000e+00, 0.00000000e+00, 0.00000000e+00, 0.00000000e+00,\n",
       "        0.00000000e+00, 0.00000000e+00, 0.00000000e+00, 0.00000000e+00,\n",
       "        0.00000000e+00, 0.00000000e+00, 0.00000000e+00, 0.00000000e+00,\n",
       "        0.00000000e+00, 0.00000000e+00, 0.00000000e+00, 0.00000000e+00,\n",
       "        0.00000000e+00, 0.00000000e+00, 0.00000000e+00, 0.00000000e+00,\n",
       "        0.00000000e+00, 0.00000000e+00, 0.00000000e+00, 0.00000000e+00,\n",
       "        0.00000000e+00, 0.00000000e+00, 0.00000000e+00, 0.00000000e+00,\n",
       "        0.00000000e+00, 0.00000000e+00, 0.00000000e+00, 0.00000000e+00,\n",
       "        0.00000000e+00, 0.00000000e+00, 0.00000000e+00, 0.00000000e+00,\n",
       "        0.00000000e+00, 0.00000000e+00, 0.00000000e+00, 0.00000000e+00,\n",
       "        0.00000000e+00, 0.00000000e+00, 0.00000000e+00, 0.00000000e+00]))"
      ]
     },
     "execution_count": 290,
     "metadata": {},
     "output_type": "execute_result"
    }
   ],
   "source": [
    "roc2(rf.predict_proba(Xt_test), y_test)"
   ]
  },
  {
   "cell_type": "code",
   "execution_count": 291,
   "metadata": {},
   "outputs": [
    {
     "name": "stdout",
     "output_type": "stream",
     "text": [
      "Specificity: 98.60476%, Sensitivity: 10.27077%, Threshold: 47.0%\n"
     ]
    }
   ],
   "source": [
    "TPRs_rf, FPRs_rf = sen_spec(probas=rf.predict_proba(Xt_test), true=y_test, stat=\"specificity\", stat_val = 0.99, step=0.01)\n"
   ]
  },
  {
   "cell_type": "code",
   "execution_count": 292,
   "metadata": {},
   "outputs": [
    {
     "data": {
      "text/plain": [
       "0.20024093118233088"
      ]
     },
     "execution_count": 292,
     "metadata": {},
     "output_type": "execute_result"
    }
   ],
   "source": [
    "auc(TPRs_rf, FPRs_rf)"
   ]
  },
  {
   "cell_type": "markdown",
   "metadata": {},
   "source": [
    "Next is Gradient Boosted Trees Classifier"
   ]
  },
  {
   "cell_type": "code",
   "execution_count": 293,
   "metadata": {
    "scrolled": true
   },
   "outputs": [
    {
     "data": {
      "image/png": "[encoded data removed]",
      "text/plain": [
       "<Figure size 432x288 with 1 Axes>"
      ]
     },
     "metadata": {},
     "output_type": "display_data"
    },
    {
     "data": {
      "text/plain": [
       "(array([1.        , 1.        , 1.        , 1.        , 1.        ,\n",
       "        1.        , 1.        , 0.99615577, 0.97133545, 0.92662544,\n",
       "        0.86252716, 0.81890356, 0.80887515, 0.77995989, 0.72889855,\n",
       "        0.71485877, 0.65811466, 0.62535517, 0.59384924, 0.57529667,\n",
       "        0.56284473, 0.5508942 , 0.50033428, 0.47375898, 0.46147418,\n",
       "        0.46088919, 0.45938492, 0.43406318, 0.43397961, 0.30093599,\n",
       "        0.30068527, 0.30035099, 0.27444426, 0.27202073, 0.26809293,\n",
       "        0.26541869, 0.26525155, 0.25981949, 0.25781381, 0.21444092,\n",
       "        0.        , 0.        , 0.        , 0.        , 0.        ,\n",
       "        0.        , 0.        , 0.        , 0.        , 0.        ,\n",
       "        0.        , 0.        , 0.        , 0.        , 0.        ,\n",
       "        0.        , 0.        , 0.        , 0.        , 0.        ,\n",
       "        0.        , 0.        , 0.        , 0.        , 0.        ,\n",
       "        0.        , 0.        , 0.        , 0.        , 0.        ,\n",
       "        0.        , 0.        , 0.        , 0.        , 0.        ,\n",
       "        0.        , 0.        , 0.        , 0.        , 0.        ,\n",
       "        0.        , 0.        , 0.        , 0.        , 0.        ,\n",
       "        0.        , 0.        , 0.        , 0.        , 0.        ,\n",
       "        0.        , 0.        , 0.        , 0.        , 0.        ,\n",
       "        0.        , 0.        , 0.        , 0.        , 0.        ]),\n",
       " array([1.        , 1.        , 1.        , 1.        , 1.        ,\n",
       "        1.        , 1.        , 0.92837935, 0.78460304, 0.61097892,\n",
       "        0.43545412, 0.36932434, 0.35316147, 0.31462683, 0.26275923,\n",
       "        0.24810283, 0.20228927, 0.17708759, 0.15564504, 0.14463514,\n",
       "        0.13862334, 0.13282273, 0.11205598, 0.10013094, 0.09613246,\n",
       "        0.09525955, 0.09490757, 0.08589691, 0.08589691, 0.04765793,\n",
       "        0.04757346, 0.0475453 , 0.04143495, 0.04087178, 0.04033677,\n",
       "        0.03961874, 0.03959058, 0.0382249 , 0.037887  , 0.03038281,\n",
       "        0.        , 0.        , 0.        , 0.        , 0.        ,\n",
       "        0.        , 0.        , 0.        , 0.        , 0.        ,\n",
       "        0.        , 0.        , 0.        , 0.        , 0.        ,\n",
       "        0.        , 0.        , 0.        , 0.        , 0.        ,\n",
       "        0.        , 0.        , 0.        , 0.        , 0.        ,\n",
       "        0.        , 0.        , 0.        , 0.        , 0.        ,\n",
       "        0.        , 0.        , 0.        , 0.        , 0.        ,\n",
       "        0.        , 0.        , 0.        , 0.        , 0.        ,\n",
       "        0.        , 0.        , 0.        , 0.        , 0.        ,\n",
       "        0.        , 0.        , 0.        , 0.        , 0.        ,\n",
       "        0.        , 0.        , 0.        , 0.        , 0.        ,\n",
       "        0.        , 0.        , 0.        , 0.        , 0.        ]))"
      ]
     },
     "execution_count": 293,
     "metadata": {},
     "output_type": "execute_result"
    }
   ],
   "source": [
    "roc2(grd.predict_proba(Xt_test), y_test)"
   ]
  },
  {
   "cell_type": "code",
   "execution_count": 294,
   "metadata": {},
   "outputs": [
    {
     "name": "stdout",
     "output_type": "stream",
     "text": [
      "Specificity: 100.00000%, Sensitivity: 0.00000%, Threshold: 40.0%\n"
     ]
    }
   ],
   "source": [
    "TPRs_grd, FPRs_grd = sen_spec(probas=grd.predict_proba(Xt_test), true=y_test, stat=\"specificity\", stat_val = 0.99, step=0.01)\n"
   ]
  },
  {
   "cell_type": "code",
   "execution_count": 295,
   "metadata": {},
   "outputs": [
    {
     "data": {
      "text/plain": [
       "0.1974381019733591"
      ]
     },
     "execution_count": 295,
     "metadata": {},
     "output_type": "execute_result"
    }
   ],
   "source": [
    "auc(TPRs_grd, FPRs_grd)"
   ]
  },
  {
   "cell_type": "markdown",
   "metadata": {},
   "source": [
    "Now for XGBoost"
   ]
  },
  {
   "cell_type": "code",
   "execution_count": 296,
   "metadata": {
    "scrolled": true
   },
   "outputs": [
    {
     "data": {
      "image/png": "[encoded data removed]",
      "text/plain": [
       "<Figure size 432x288 with 1 Axes>"
      ]
     },
     "metadata": {},
     "output_type": "display_data"
    },
    {
     "data": {
      "text/plain": [
       "(array([1.00000000e+00, 9.99582149e-01, 9.95152933e-01, 9.87213772e-01,\n",
       "        9.66154103e-01, 9.32976768e-01, 9.08657864e-01, 8.87681765e-01,\n",
       "        8.67039947e-01, 8.47735250e-01, 8.27594852e-01, 8.07705165e-01,\n",
       "        7.90991142e-01, 7.75447100e-01, 7.56058833e-01, 7.23800769e-01,\n",
       "        7.01403978e-01, 6.88032759e-01, 6.71151596e-01, 6.46247702e-01,\n",
       "        6.28363697e-01, 6.09059001e-01, 5.92762828e-01, 5.77469497e-01,\n",
       "        5.67775364e-01, 5.55490557e-01, 5.32843055e-01, 5.20140398e-01,\n",
       "        5.08607722e-01, 5.01671402e-01, 4.90974428e-01, 4.76182517e-01,\n",
       "        4.57295671e-01, 4.40999499e-01, 4.25037607e-01, 4.13337790e-01,\n",
       "        3.93782383e-01, 3.71051312e-01, 3.42804613e-01, 3.28179843e-01,\n",
       "        3.21828514e-01, 3.12385091e-01, 2.99181013e-01, 2.93331105e-01,\n",
       "        2.88233328e-01, 2.78789905e-01, 2.64582985e-01, 2.52047468e-01,\n",
       "        2.36586996e-01, 2.21377236e-01, 2.04328932e-01, 1.92211265e-01,\n",
       "        1.75747953e-01, 1.59869631e-01, 1.46916263e-01, 1.24435902e-01,\n",
       "        9.47685108e-02, 7.21210095e-02, 5.73290991e-02, 4.14507772e-02,\n",
       "        2.85809794e-02, 1.58783219e-02, 9.27628280e-03, 3.42637473e-03,\n",
       "        8.35701153e-05, 0.00000000e+00, 0.00000000e+00, 0.00000000e+00,\n",
       "        0.00000000e+00, 0.00000000e+00, 0.00000000e+00, 0.00000000e+00,\n",
       "        0.00000000e+00, 0.00000000e+00, 0.00000000e+00, 0.00000000e+00,\n",
       "        0.00000000e+00, 0.00000000e+00, 0.00000000e+00, 0.00000000e+00,\n",
       "        0.00000000e+00, 0.00000000e+00, 0.00000000e+00, 0.00000000e+00,\n",
       "        0.00000000e+00, 0.00000000e+00, 0.00000000e+00, 0.00000000e+00,\n",
       "        0.00000000e+00, 0.00000000e+00, 0.00000000e+00, 0.00000000e+00,\n",
       "        0.00000000e+00, 0.00000000e+00, 0.00000000e+00, 0.00000000e+00,\n",
       "        0.00000000e+00, 0.00000000e+00, 0.00000000e+00, 0.00000000e+00]),\n",
       " array([1.00000000e+00, 9.87877849e-01, 9.12469906e-01, 8.41342025e-01,\n",
       "        7.28568009e-01, 5.99588889e-01, 5.28728512e-01, 4.76846833e-01,\n",
       "        4.34679770e-01, 4.00551903e-01, 3.71872668e-01, 3.43714362e-01,\n",
       "        3.22849057e-01, 3.01997832e-01, 2.80203303e-01, 2.47793093e-01,\n",
       "        2.25365002e-01, 2.14608529e-01, 2.00332268e-01, 1.81255016e-01,\n",
       "        1.68541541e-01, 1.58010334e-01, 1.49900742e-01, 1.43030115e-01,\n",
       "        1.37778591e-01, 1.31837189e-01, 1.21052557e-01, 1.15786954e-01,\n",
       "        1.10605826e-01, 1.07254988e-01, 1.02834133e-01, 9.68082560e-02,\n",
       "        8.93181466e-02, 8.32218734e-02, 7.82096949e-02, 7.46195109e-02,\n",
       "        6.88470582e-02, 6.23143312e-02, 5.64010869e-02, 5.26278739e-02,\n",
       "        5.04737635e-02, 4.83900489e-02, 4.53771101e-02, 4.41240655e-02,\n",
       "        4.32933955e-02, 4.13082349e-02, 3.84642460e-02, 3.57188112e-02,\n",
       "        3.26073183e-02, 2.97351711e-02, 2.66236783e-02, 2.45962803e-02,\n",
       "        2.25688823e-02, 2.00205556e-02, 1.77115745e-02, 1.48675856e-02,\n",
       "        1.12914807e-02, 8.05327551e-03, 6.18074817e-03, 4.26598336e-03,\n",
       "        2.91438467e-03, 1.53462768e-03, 8.16590874e-04, 2.67503907e-04,\n",
       "        1.40791530e-05, 0.00000000e+00, 0.00000000e+00, 0.00000000e+00,\n",
       "        0.00000000e+00, 0.00000000e+00, 0.00000000e+00, 0.00000000e+00,\n",
       "        0.00000000e+00, 0.00000000e+00, 0.00000000e+00, 0.00000000e+00,\n",
       "        0.00000000e+00, 0.00000000e+00, 0.00000000e+00, 0.00000000e+00,\n",
       "        0.00000000e+00, 0.00000000e+00, 0.00000000e+00, 0.00000000e+00,\n",
       "        0.00000000e+00, 0.00000000e+00, 0.00000000e+00, 0.00000000e+00,\n",
       "        0.00000000e+00, 0.00000000e+00, 0.00000000e+00, 0.00000000e+00,\n",
       "        0.00000000e+00, 0.00000000e+00, 0.00000000e+00, 0.00000000e+00,\n",
       "        0.00000000e+00, 0.00000000e+00, 0.00000000e+00, 0.00000000e+00]))"
      ]
     },
     "execution_count": 296,
     "metadata": {},
     "output_type": "execute_result"
    }
   ],
   "source": [
    "roc2(xgb.predict_proba(Xt_test), y_test)"
   ]
  },
  {
   "cell_type": "code",
   "execution_count": 297,
   "metadata": {},
   "outputs": [
    {
     "name": "stdout",
     "output_type": "stream",
     "text": [
      "Specificity: 98.87085%, Sensitivity: 9.47685%, Threshold: 56.00000000000001%\n"
     ]
    }
   ],
   "source": [
    "TPRs_xgb, FPRs_xgb = sen_spec(probas=xgb.predict_proba(Xt_test), true=y_test, stat=\"specificity\", stat_val = 0.99, step=0.01)\n"
   ]
  },
  {
   "cell_type": "code",
   "execution_count": 298,
   "metadata": {},
   "outputs": [
    {
     "data": {
      "text/plain": [
       "0.1889891070725139"
      ]
     },
     "execution_count": 298,
     "metadata": {},
     "output_type": "execute_result"
    }
   ],
   "source": [
    "auc(TPRs_xgb, FPRs_xgb)"
   ]
  },
  {
   "cell_type": "markdown",
   "metadata": {},
   "source": [
    "Now Gaussian Naive Bayes Classifier."
   ]
  },
  {
   "cell_type": "code",
   "execution_count": 299,
   "metadata": {
    "scrolled": true
   },
   "outputs": [
    {
     "data": {
      "image/png": "[encoded data removed]",
      "text/plain": [
       "<Figure size 432x288 with 1 Axes>"
      ]
     },
     "metadata": {},
     "output_type": "display_data"
    },
    {
     "data": {
      "text/plain": [
       "(array([0.99974929, 0.99682434, 0.99674077, 0.99649006, 0.99640649,\n",
       "        0.99590506, 0.99582149, 0.99557078, 0.99557078, 0.99548721,\n",
       "        0.99515293, 0.99481865, 0.99423366, 0.99181013, 0.98704663,\n",
       "        0.97442754, 0.95996991, 0.945763  , 0.93464817, 0.92712686,\n",
       "        0.91977269, 0.91124854, 0.90172154, 0.88734748, 0.86236002,\n",
       "        0.84522815, 0.83093766, 0.81689788, 0.80561591, 0.79399967,\n",
       "        0.78413839, 0.77486211, 0.76683938, 0.75856594, 0.75104463,\n",
       "        0.74343975, 0.73541701, 0.72898212, 0.72388434, 0.71753301,\n",
       "        0.71243523, 0.7060839 , 0.70098613, 0.69279626, 0.68778205,\n",
       "        0.68126358, 0.67466154, 0.66822664, 0.66179174, 0.65485542,\n",
       "        0.64783553, 0.6398128 , 0.63296005, 0.62477018, 0.61607889,\n",
       "        0.60880829, 0.60137055, 0.59568778, 0.5889186 , 0.57989303,\n",
       "        0.57337456, 0.56501755, 0.55590841, 0.54596356, 0.53560087,\n",
       "        0.52649173, 0.51746615, 0.50818987, 0.49908073, 0.4893866 ,\n",
       "        0.48019388, 0.46949691, 0.45896707, 0.44843724, 0.4345646 ,\n",
       "        0.42161123, 0.40899214, 0.39503594, 0.38099616, 0.36737423,\n",
       "        0.35258232, 0.33636971, 0.3224135 , 0.30695303, 0.29074043,\n",
       "        0.27227144, 0.25188033, 0.22580645, 0.19689119, 0.17357513,\n",
       "        0.14908909, 0.12844727, 0.10354337, 0.07362527, 0.02314892,\n",
       "        0.        , 0.        , 0.        , 0.        , 0.        ]),\n",
       " array([0.99946499, 0.98240106, 0.98096499, 0.97951483, 0.97844482,\n",
       "        0.97719177, 0.97603728, 0.97444634, 0.97282723, 0.97098287,\n",
       "        0.96936376, 0.96666057, 0.9614372 , 0.94499275, 0.91546877,\n",
       "        0.85415405, 0.79983668, 0.76310417, 0.73246793, 0.70749152,\n",
       "        0.68523238, 0.66038267, 0.62576203, 0.58061019, 0.52518057,\n",
       "        0.48750475, 0.45948724, 0.43397581, 0.41295564, 0.39504695,\n",
       "        0.37923607, 0.36459375, 0.35248567, 0.34158841, 0.33159221,\n",
       "        0.32253932, 0.31466907, 0.30685514, 0.29943543, 0.29217058,\n",
       "        0.28631366, 0.27999212, 0.27421966, 0.2679826 , 0.26236502,\n",
       "        0.25647993, 0.25042589, 0.24513213, 0.23935968, 0.23408   ,\n",
       "        0.22915229, 0.22391485, 0.21893083, 0.21396089, 0.20876568,\n",
       "        0.20406324, 0.19952976, 0.1948414 , 0.19012488, 0.18611232,\n",
       "        0.18145212, 0.17708759, 0.17211765, 0.16787982, 0.16285356,\n",
       "        0.15896772, 0.15456094, 0.14973179, 0.14477593, 0.14015797,\n",
       "        0.13504724, 0.12992242, 0.12521999, 0.11982767, 0.11461838,\n",
       "        0.10945134, 0.10442508, 0.09949737, 0.09390795, 0.08872682,\n",
       "        0.08367241, 0.07877286, 0.07353542, 0.06831205, 0.06334211,\n",
       "        0.05797795, 0.05252932, 0.04667239, 0.04022414, 0.03477551,\n",
       "        0.0298478 , 0.02531432, 0.0205978 , 0.01405099, 0.00360426,\n",
       "        0.        , 0.        , 0.        , 0.        , 0.        ]))"
      ]
     },
     "execution_count": 299,
     "metadata": {},
     "output_type": "execute_result"
    }
   ],
   "source": [
    "roc2(gnb.predict_proba(Xt_test), y_test)"
   ]
  },
  {
   "cell_type": "code",
   "execution_count": 300,
   "metadata": {},
   "outputs": [
    {
     "name": "stdout",
     "output_type": "stream",
     "text": [
      "Specificity: 98.59490%, Sensitivity: 7.36253%, Threshold: 93.0%\n"
     ]
    }
   ],
   "source": [
    "TPRs_gnb, FPRs_gnb = sen_spec(probas=gnb.predict_proba(Xt_test), true=y_test, stat=\"specificity\", stat_val = 0.99, step=0.01)\n"
   ]
  },
  {
   "cell_type": "code",
   "execution_count": 301,
   "metadata": {},
   "outputs": [
    {
     "data": {
      "text/plain": [
       "0.23176407120685416"
      ]
     },
     "execution_count": 301,
     "metadata": {},
     "output_type": "execute_result"
    }
   ],
   "source": [
    "auc(TPRs_gnb, FPRs_gnb)"
   ]
  },
  {
   "cell_type": "code",
   "execution_count": null,
   "metadata": {},
   "outputs": [],
   "source": [
    "# pca_1 = PCA(n_components=1)\n",
    "# pca_1.fit(X_train)\n",
    "# Xt_train_svm = pca_1.transform(X_train)\n",
    "# Xt_test_svm = pca_1.transform(X_test)"
   ]
  },
  {
   "cell_type": "code",
   "execution_count": null,
   "metadata": {},
   "outputs": [],
   "source": [
    "# clf = SVC(probability=True)\n",
    "# clf.fit(Xt_train_svm, y_train)"
   ]
  },
  {
   "cell_type": "code",
   "execution_count": null,
   "metadata": {},
   "outputs": [],
   "source": [
    "# roc2(clf.predict_proba(Xt_test), y_test)"
   ]
  },
  {
   "cell_type": "code",
   "execution_count": null,
   "metadata": {},
   "outputs": [],
   "source": [
    "# TPRs_svc, FPRs_svc = sen_spec(probas=svc.predict_proba(Xt_test), true=y_test, stat=\"specificity\", stat_val = 0.99, step=0.01)\n"
   ]
  },
  {
   "cell_type": "code",
   "execution_count": null,
   "metadata": {},
   "outputs": [],
   "source": [
    "# auc(TPRs_svc, FPRs_svc)"
   ]
  },
  {
   "cell_type": "markdown",
   "metadata": {},
   "source": [
    "SVC is too computationally demanding for this laptop without CUDA compiling and running it on my GPU. Going to have to do that in the cloud."
   ]
  },
  {
   "cell_type": "code",
   "execution_count": 155,
   "metadata": {
    "scrolled": true
   },
   "outputs": [
    {
     "data": {
      "image/png": "[encoded data removed]",
      "text/plain": [
       "<Figure size 432x288 with 1 Axes>"
      ]
     },
     "metadata": {},
     "output_type": "display_data"
    },
    {
     "data": {
      "text/plain": [
       "(array([1.00000000e+00, 9.99832860e-01, 9.99832860e-01, 9.99832860e-01,\n",
       "        9.99832860e-01, 9.99832860e-01, 9.99665720e-01, 9.99582149e-01,\n",
       "        9.99331439e-01, 9.99331439e-01, 9.99164299e-01, 9.99080729e-01,\n",
       "        9.98830018e-01, 9.97910747e-01, 9.94567943e-01, 8.35701153e-05,\n",
       "        0.00000000e+00, 0.00000000e+00, 0.00000000e+00, 0.00000000e+00,\n",
       "        0.00000000e+00, 0.00000000e+00, 0.00000000e+00, 0.00000000e+00,\n",
       "        0.00000000e+00, 0.00000000e+00, 0.00000000e+00, 0.00000000e+00,\n",
       "        0.00000000e+00, 0.00000000e+00, 0.00000000e+00, 0.00000000e+00,\n",
       "        0.00000000e+00, 0.00000000e+00, 0.00000000e+00, 0.00000000e+00,\n",
       "        0.00000000e+00, 0.00000000e+00, 0.00000000e+00, 0.00000000e+00,\n",
       "        0.00000000e+00, 0.00000000e+00, 0.00000000e+00, 0.00000000e+00,\n",
       "        0.00000000e+00, 0.00000000e+00, 0.00000000e+00, 0.00000000e+00,\n",
       "        0.00000000e+00, 0.00000000e+00, 0.00000000e+00, 0.00000000e+00,\n",
       "        0.00000000e+00, 0.00000000e+00, 0.00000000e+00, 0.00000000e+00,\n",
       "        0.00000000e+00, 0.00000000e+00, 0.00000000e+00, 0.00000000e+00,\n",
       "        0.00000000e+00, 0.00000000e+00, 0.00000000e+00, 0.00000000e+00,\n",
       "        0.00000000e+00, 0.00000000e+00, 0.00000000e+00, 0.00000000e+00,\n",
       "        0.00000000e+00, 0.00000000e+00, 0.00000000e+00, 0.00000000e+00,\n",
       "        0.00000000e+00, 0.00000000e+00, 0.00000000e+00, 0.00000000e+00,\n",
       "        0.00000000e+00, 0.00000000e+00, 0.00000000e+00, 0.00000000e+00,\n",
       "        0.00000000e+00, 0.00000000e+00, 0.00000000e+00, 0.00000000e+00,\n",
       "        0.00000000e+00, 0.00000000e+00, 0.00000000e+00, 0.00000000e+00,\n",
       "        0.00000000e+00, 0.00000000e+00, 0.00000000e+00, 0.00000000e+00,\n",
       "        0.00000000e+00, 0.00000000e+00, 0.00000000e+00, 0.00000000e+00,\n",
       "        0.00000000e+00, 0.00000000e+00, 0.00000000e+00, 0.00000000e+00]),\n",
       " array([1.00000000e+00, 9.99859208e-01, 9.99648021e-01, 9.99493150e-01,\n",
       "        9.99324201e-01, 9.99155251e-01, 9.98929984e-01, 9.98634322e-01,\n",
       "        9.98366818e-01, 9.98085235e-01, 9.97648781e-01, 9.96972982e-01,\n",
       "        9.95874808e-01, 9.93960043e-01, 9.88173511e-01, 1.40791530e-05,\n",
       "        0.00000000e+00, 0.00000000e+00, 0.00000000e+00, 0.00000000e+00,\n",
       "        0.00000000e+00, 0.00000000e+00, 0.00000000e+00, 0.00000000e+00,\n",
       "        0.00000000e+00, 0.00000000e+00, 0.00000000e+00, 0.00000000e+00,\n",
       "        0.00000000e+00, 0.00000000e+00, 0.00000000e+00, 0.00000000e+00,\n",
       "        0.00000000e+00, 0.00000000e+00, 0.00000000e+00, 0.00000000e+00,\n",
       "        0.00000000e+00, 0.00000000e+00, 0.00000000e+00, 0.00000000e+00,\n",
       "        0.00000000e+00, 0.00000000e+00, 0.00000000e+00, 0.00000000e+00,\n",
       "        0.00000000e+00, 0.00000000e+00, 0.00000000e+00, 0.00000000e+00,\n",
       "        0.00000000e+00, 0.00000000e+00, 0.00000000e+00, 0.00000000e+00,\n",
       "        0.00000000e+00, 0.00000000e+00, 0.00000000e+00, 0.00000000e+00,\n",
       "        0.00000000e+00, 0.00000000e+00, 0.00000000e+00, 0.00000000e+00,\n",
       "        0.00000000e+00, 0.00000000e+00, 0.00000000e+00, 0.00000000e+00,\n",
       "        0.00000000e+00, 0.00000000e+00, 0.00000000e+00, 0.00000000e+00,\n",
       "        0.00000000e+00, 0.00000000e+00, 0.00000000e+00, 0.00000000e+00,\n",
       "        0.00000000e+00, 0.00000000e+00, 0.00000000e+00, 0.00000000e+00,\n",
       "        0.00000000e+00, 0.00000000e+00, 0.00000000e+00, 0.00000000e+00,\n",
       "        0.00000000e+00, 0.00000000e+00, 0.00000000e+00, 0.00000000e+00,\n",
       "        0.00000000e+00, 0.00000000e+00, 0.00000000e+00, 0.00000000e+00,\n",
       "        0.00000000e+00, 0.00000000e+00, 0.00000000e+00, 0.00000000e+00,\n",
       "        0.00000000e+00, 0.00000000e+00, 0.00000000e+00, 0.00000000e+00,\n",
       "        0.00000000e+00, 0.00000000e+00, 0.00000000e+00, 0.00000000e+00]))"
      ]
     },
     "execution_count": 155,
     "metadata": {},
     "output_type": "execute_result"
    }
   ],
   "source": [
    "roc2(calclass_lsvc.predict_proba(Xt_test_svc), y_test)"
   ]
  },
  {
   "cell_type": "markdown",
   "metadata": {},
   "source": [
    "I screwed up by calibrating and training on the same data set, which is fatal to this technique. I'll have to go fix that."
   ]
  },
  {
   "cell_type": "code",
   "execution_count": null,
   "metadata": {},
   "outputs": [],
   "source": [
    "TPRs_calcla_lsvc, FPRs_gnb = sen_spec(probas=calclass_lsvc.predict_proba(Xt_test_svc), true=y_test, stat=\"specificity\", stat_val = 0.99, step=0.01)\n"
   ]
  },
  {
   "cell_type": "code",
   "execution_count": null,
   "metadata": {},
   "outputs": [],
   "source": []
  },
  {
   "cell_type": "markdown",
   "metadata": {},
   "source": [
    "It would appear that having my classes unbalanced, cases of Arson make up only 16% of the instances in my sample. Has truly come back to haunt me. I will now deal with that in various ways."
   ]
  },
  {
   "cell_type": "code",
   "execution_count": 157,
   "metadata": {},
   "outputs": [
    {
     "data": {
      "text/plain": [
       "0    355013\n",
       "1     59948\n",
       "Name: ARSON, dtype: int64"
      ]
     },
     "execution_count": 157,
     "metadata": {},
     "output_type": "execute_result"
    }
   ],
   "source": [
    "df_wburn.ARSON.value_counts()"
   ]
  },
  {
   "cell_type": "code",
   "execution_count": 221,
   "metadata": {},
   "outputs": [],
   "source": [
    "def PrettyMatrix(y_true, y_pred):\n",
    "    columns = ['Predicted No', 'Predicted Yes']\n",
    "    rows = ['Actual No', 'Actual Yes']\n",
    "    conf_matrix = confusion_matrix(y_true, y_pred)\n",
    "    return pd.DataFrame(conf_matrix, columns=columns, index=rows)"
   ]
  },
  {
   "cell_type": "code",
   "execution_count": 222,
   "metadata": {},
   "outputs": [],
   "source": [
    "# Method 1: change threshold\n",
    "\n",
    "def threshold_predict(probas, threshold):\n",
    "    return probas[:,1] > threshold"
   ]
  },
  {
   "cell_type": "code",
   "execution_count": 239,
   "metadata": {},
   "outputs": [
    {
     "data": {
      "text/html": [
       "<div>\n",
       "<style scoped>\n",
       "    .dataframe tbody tr th:only-of-type {\n",
       "        vertical-align: middle;\n",
       "    }\n",
       "\n",
       "    .dataframe tbody tr th {\n",
       "        vertical-align: top;\n",
       "    }\n",
       "\n",
       "    .dataframe thead th {\n",
       "        text-align: right;\n",
       "    }\n",
       "</style>\n",
       "<table border=\"1\" class=\"dataframe\">\n",
       "  <thead>\n",
       "    <tr style=\"text-align: right;\">\n",
       "      <th></th>\n",
       "      <th>Predicted No</th>\n",
       "      <th>Predicted Yes</th>\n",
       "    </tr>\n",
       "  </thead>\n",
       "  <tbody>\n",
       "    <tr>\n",
       "      <th>Actual No</th>\n",
       "      <td>58545</td>\n",
       "      <td>12482</td>\n",
       "    </tr>\n",
       "    <tr>\n",
       "      <th>Actual Yes</th>\n",
       "      <td>5090</td>\n",
       "      <td>6876</td>\n",
       "    </tr>\n",
       "  </tbody>\n",
       "</table>\n",
       "</div>"
      ],
      "text/plain": [
       "            Predicted No  Predicted Yes\n",
       "Actual No          58545          12482\n",
       "Actual Yes          5090           6876"
      ]
     },
     "execution_count": 239,
     "metadata": {},
     "output_type": "execute_result"
    }
   ],
   "source": [
    "threshold_lr_preds = threshold_predict(lr.predict_proba(Xt_test), 0.2)\n",
    "\n",
    "PrettyMatrix(y_test, threshold_lr_preds)"
   ]
  },
  {
   "cell_type": "code",
   "execution_count": 232,
   "metadata": {
    "scrolled": true
   },
   "outputs": [
    {
     "data": {
      "image/png": "[encoded data removed]",
      "text/plain": [
       "<Figure size 432x288 with 1 Axes>"
      ]
     },
     "metadata": {},
     "output_type": "display_data"
    },
    {
     "data": {
      "text/plain": [
       "(array([1.00000000e+00, 9.99498579e-01, 9.99247869e-01, 9.98913589e-01,\n",
       "        9.98245028e-01, 9.94484372e-01, 9.41500919e-01, 8.71636303e-01,\n",
       "        8.13471503e-01, 7.72605716e-01, 7.47200401e-01, 7.24385760e-01,\n",
       "        7.05582484e-01, 6.87113488e-01, 6.69062343e-01, 6.51763329e-01,\n",
       "        6.33712185e-01, 6.17666722e-01, 6.01537690e-01, 5.88584322e-01,\n",
       "        5.74628113e-01, 5.58582651e-01, 5.38943674e-01, 5.22313221e-01,\n",
       "        5.06936320e-01, 4.91559418e-01, 4.75096106e-01, 4.59050643e-01,\n",
       "        4.43590172e-01, 4.28547551e-01, 4.13003510e-01, 3.96707337e-01,\n",
       "        3.79575464e-01, 3.65619255e-01, 3.49155942e-01, 3.36620425e-01,\n",
       "        3.22664215e-01, 3.09794418e-01, 2.96673909e-01, 2.82299850e-01,\n",
       "        2.68092930e-01, 2.52131038e-01, 2.36085576e-01, 2.20207254e-01,\n",
       "        2.00735417e-01, 1.81180010e-01, 1.62293164e-01, 1.42487047e-01,\n",
       "        1.24686612e-01, 1.06719037e-01, 8.85007521e-02, 7.25388601e-02,\n",
       "        4.98913589e-02, 2.82466990e-02, 1.46247702e-02, 5.18134715e-03,\n",
       "        4.17850577e-04, 0.00000000e+00, 0.00000000e+00, 0.00000000e+00,\n",
       "        0.00000000e+00, 0.00000000e+00, 0.00000000e+00, 0.00000000e+00,\n",
       "        0.00000000e+00, 0.00000000e+00, 0.00000000e+00, 0.00000000e+00,\n",
       "        0.00000000e+00, 0.00000000e+00, 0.00000000e+00, 0.00000000e+00,\n",
       "        0.00000000e+00, 0.00000000e+00, 0.00000000e+00, 0.00000000e+00,\n",
       "        0.00000000e+00, 0.00000000e+00, 0.00000000e+00, 0.00000000e+00,\n",
       "        0.00000000e+00, 0.00000000e+00, 0.00000000e+00, 0.00000000e+00,\n",
       "        0.00000000e+00, 0.00000000e+00, 0.00000000e+00, 0.00000000e+00,\n",
       "        0.00000000e+00, 0.00000000e+00, 0.00000000e+00, 0.00000000e+00,\n",
       "        0.00000000e+00, 0.00000000e+00, 0.00000000e+00, 0.00000000e+00,\n",
       "        0.00000000e+00, 0.00000000e+00, 0.00000000e+00, 0.00000000e+00]),\n",
       " array([1.00000000e+00, 9.94551368e-01, 9.91059738e-01, 9.87314683e-01,\n",
       "        9.82006842e-01, 9.41120982e-01, 7.29581708e-01, 5.25701494e-01,\n",
       "        4.17292016e-01, 3.61524491e-01, 3.25453701e-01, 2.97971194e-01,\n",
       "        2.76331536e-01, 2.58000479e-01, 2.42682360e-01, 2.28589128e-01,\n",
       "        2.15734861e-01, 2.04626410e-01, 1.94475340e-01, 1.85042308e-01,\n",
       "        1.75735988e-01, 1.68034691e-01, 1.60431948e-01, 1.52899602e-01,\n",
       "        1.44677376e-01, 1.36891605e-01, 1.29317020e-01, 1.21995861e-01,\n",
       "        1.15209709e-01, 1.08845932e-01, 1.02960846e-01, 9.72587889e-02,\n",
       "        9.18664733e-02, 8.61221789e-02, 8.15886916e-02, 7.70833627e-02,\n",
       "        7.22260549e-02, 6.77066468e-02, 6.36518507e-02, 5.91606009e-02,\n",
       "        5.53592296e-02, 5.15578583e-02, 4.75593788e-02, 4.36594534e-02,\n",
       "        3.95201825e-02, 3.50852493e-02, 3.05658412e-02, 2.61309080e-02,\n",
       "        2.26111197e-02, 1.88519859e-02, 1.49098230e-02, 1.09254227e-02,\n",
       "        7.30708041e-03, 3.75913385e-03, 1.49239022e-03, 2.95662213e-04,\n",
       "        1.40791530e-05, 0.00000000e+00, 0.00000000e+00, 0.00000000e+00,\n",
       "        0.00000000e+00, 0.00000000e+00, 0.00000000e+00, 0.00000000e+00,\n",
       "        0.00000000e+00, 0.00000000e+00, 0.00000000e+00, 0.00000000e+00,\n",
       "        0.00000000e+00, 0.00000000e+00, 0.00000000e+00, 0.00000000e+00,\n",
       "        0.00000000e+00, 0.00000000e+00, 0.00000000e+00, 0.00000000e+00,\n",
       "        0.00000000e+00, 0.00000000e+00, 0.00000000e+00, 0.00000000e+00,\n",
       "        0.00000000e+00, 0.00000000e+00, 0.00000000e+00, 0.00000000e+00,\n",
       "        0.00000000e+00, 0.00000000e+00, 0.00000000e+00, 0.00000000e+00,\n",
       "        0.00000000e+00, 0.00000000e+00, 0.00000000e+00, 0.00000000e+00,\n",
       "        0.00000000e+00, 0.00000000e+00, 0.00000000e+00, 0.00000000e+00,\n",
       "        0.00000000e+00, 0.00000000e+00, 0.00000000e+00, 0.00000000e+00]))"
      ]
     },
     "execution_count": 232,
     "metadata": {},
     "output_type": "execute_result"
    }
   ],
   "source": [
    "roc2(lr.predict_proba(Xt_test), y_test, step=0.01)"
   ]
  },
  {
   "cell_type": "code",
   "execution_count": null,
   "metadata": {},
   "outputs": [],
   "source": []
  },
  {
   "cell_type": "code",
   "execution_count": null,
   "metadata": {},
   "outputs": [],
   "source": []
  },
  {
   "cell_type": "code",
   "execution_count": 302,
   "metadata": {},
   "outputs": [
    {
     "data": {
      "text/plain": [
       "1    59948\n",
       "0    59948\n",
       "Name: ARSON, dtype: int64"
      ]
     },
     "execution_count": 302,
     "metadata": {},
     "output_type": "execute_result"
    }
   ],
   "source": [
    "# Method 2: downsample majority class\n",
    "\n",
    "df_minority = df_wburn[df_wburn['ARSON']==1]\n",
    "df_majority = df_wburn[df_wburn['ARSON']==0]\n",
    " \n",
    "df_majority_downsampled = resample(df_majority, \n",
    "                                 replace=False,    # sample without replacement\n",
    "                                 n_samples=59948,     # to match minority class\n",
    "                                 random_state=42) # reproducible results\n",
    " \n",
    "# Combine minority class with downsampled majority class\n",
    "df_downsampled = pd.concat([df_majority_downsampled, df_minority])\n",
    " \n",
    "# Display new class counts\n",
    "df_downsampled.ARSON.value_counts()"
   ]
  },
  {
   "cell_type": "code",
   "execution_count": 303,
   "metadata": {},
   "outputs": [],
   "source": [
    "Xd = df_downsampled.drop(['ARSON'], axis=1)\n",
    "yd = df_downsampled['ARSON']"
   ]
  },
  {
   "cell_type": "code",
   "execution_count": 304,
   "metadata": {},
   "outputs": [],
   "source": [
    "X_train_down, X_test_down, y_train_down, y_test_down = train_test_split(Xd, yd, test_size=0.2, random_state=42)"
   ]
  },
  {
   "cell_type": "code",
   "execution_count": 305,
   "metadata": {},
   "outputs": [],
   "source": [
    "pca_6_down = PCA(n_components=6)\n",
    "pca_6_down.fit(X_train_down)\n",
    "Xdt_train = pca_6_down.transform(X_train_down)\n",
    "Xdt_test = pca_6_down.transform(X_test_down)"
   ]
  },
  {
   "cell_type": "code",
   "execution_count": 306,
   "metadata": {},
   "outputs": [
    {
     "data": {
      "text/plain": [
       "LogisticRegression(C=1.0, class_weight=None, dual=False, fit_intercept=True,\n",
       "          intercept_scaling=1, max_iter=100, multi_class='ovr', n_jobs=1,\n",
       "          penalty='l2', random_state=None, solver='liblinear', tol=0.0001,\n",
       "          verbose=0, warm_start=False)"
      ]
     },
     "execution_count": 306,
     "metadata": {},
     "output_type": "execute_result"
    }
   ],
   "source": [
    "lr_down = LogisticRegression()\n",
    "lr_down.fit(Xdt_train, y_train_down)"
   ]
  },
  {
   "cell_type": "code",
   "execution_count": 346,
   "metadata": {},
   "outputs": [
    {
     "data": {
      "text/plain": [
       "0.27430024218910026"
      ]
     },
     "execution_count": 346,
     "metadata": {},
     "output_type": "execute_result"
    }
   ],
   "source": [
    "lr_down.score(Xt_test, y_test)"
   ]
  },
  {
   "cell_type": "code",
   "execution_count": 308,
   "metadata": {},
   "outputs": [
    {
     "data": {
      "text/plain": [
       "Pipeline(memory=None,\n",
       "     steps=[('randomtreesembedding', RandomTreesEmbedding(max_depth=4, max_leaf_nodes=None,\n",
       "           min_impurity_decrease=0.0, min_impurity_split=None,\n",
       "           min_samples_leaf=1, min_samples_split=2,\n",
       "           min_weight_fraction_leaf=0.0, n_estimators=10, n_jobs=1,\n",
       "           random_state=42, sp...ty='l2', random_state=None, solver='liblinear', tol=0.0001,\n",
       "          verbose=0, warm_start=False))])"
      ]
     },
     "execution_count": 308,
     "metadata": {},
     "output_type": "execute_result"
    }
   ],
   "source": [
    "rt_down = RandomTreesEmbedding(max_depth=4, n_estimators=n_estimator,\n",
    "    random_state=42)\n",
    "\n",
    "rt_lm_down = LogisticRegression()\n",
    "pipeline_down = make_pipeline(rt_down, rt_lm_down)\n",
    "pipeline_down.fit(Xdt_train, y_train_down)"
   ]
  },
  {
   "cell_type": "code",
   "execution_count": 309,
   "metadata": {},
   "outputs": [
    {
     "data": {
      "text/plain": [
       "RandomForestClassifier(bootstrap=True, class_weight=None, criterion='gini',\n",
       "            max_depth=4, max_features='auto', max_leaf_nodes=None,\n",
       "            min_impurity_decrease=0.0, min_impurity_split=None,\n",
       "            min_samples_leaf=1, min_samples_split=2,\n",
       "            min_weight_fraction_leaf=0.0, n_estimators=10, n_jobs=1,\n",
       "            oob_score=False, random_state=None, verbose=0,\n",
       "            warm_start=False)"
      ]
     },
     "execution_count": 309,
     "metadata": {},
     "output_type": "execute_result"
    }
   ],
   "source": [
    "rf_down = RandomForestClassifier(max_depth=4, n_estimators=n_estimator)\n",
    "rf_down.fit(Xdt_train, y_train_down)"
   ]
  },
  {
   "cell_type": "code",
   "execution_count": 310,
   "metadata": {},
   "outputs": [
    {
     "data": {
      "text/plain": [
       "GradientBoostingClassifier(criterion='friedman_mse', init=None,\n",
       "              learning_rate=0.1, loss='deviance', max_depth=3,\n",
       "              max_features=None, max_leaf_nodes=None,\n",
       "              min_impurity_decrease=0.0, min_impurity_split=None,\n",
       "              min_samples_leaf=1, min_samples_split=2,\n",
       "              min_weight_fraction_leaf=0.0, n_estimators=10,\n",
       "              presort='auto', random_state=None, subsample=1.0, verbose=0,\n",
       "              warm_start=False)"
      ]
     },
     "execution_count": 310,
     "metadata": {},
     "output_type": "execute_result"
    }
   ],
   "source": [
    "grd_down = GradientBoostingClassifier(n_estimators=n_estimator)\n",
    "grd_down.fit(Xdt_train, y_train_down)"
   ]
  },
  {
   "cell_type": "code",
   "execution_count": 311,
   "metadata": {},
   "outputs": [
    {
     "data": {
      "text/plain": [
       "XGBClassifier(base_score=0.5, booster='gbtree', colsample_bylevel=1,\n",
       "       colsample_bytree=1, gamma=0, learning_rate=0.1, max_delta_step=0,\n",
       "       max_depth=3, min_child_weight=1, missing=None, n_estimators=100,\n",
       "       n_jobs=1, nthread=None, objective='binary:logistic', random_state=0,\n",
       "       reg_alpha=0, reg_lambda=1, scale_pos_weight=1, seed=None,\n",
       "       silent=True, subsample=1)"
      ]
     },
     "execution_count": 311,
     "metadata": {},
     "output_type": "execute_result"
    }
   ],
   "source": [
    "xgb_down = XGBClassifier()\n",
    "xgb_down.fit(Xdt_train, y_train_down)"
   ]
  },
  {
   "cell_type": "code",
   "execution_count": 312,
   "metadata": {},
   "outputs": [
    {
     "data": {
      "text/plain": [
       "GaussianNB(priors=None)"
      ]
     },
     "execution_count": 312,
     "metadata": {},
     "output_type": "execute_result"
    }
   ],
   "source": [
    "gnb_down = GaussianNB()\n",
    "gnb.fit(Xdt_train, y_train_down)"
   ]
  },
  {
   "cell_type": "code",
   "execution_count": 313,
   "metadata": {},
   "outputs": [
    {
     "data": {
      "text/plain": [
       "LinearSVC(C=1.0, class_weight=None, dual=True, fit_intercept=False,\n",
       "     intercept_scaling=1, loss='squared_hinge', max_iter=1000,\n",
       "     multi_class='ovr', penalty='l2', random_state=42, tol=0.0001,\n",
       "     verbose=0)"
      ]
     },
     "execution_count": 313,
     "metadata": {},
     "output_type": "execute_result"
    }
   ],
   "source": [
    "lsvc_down = LinearSVC(fit_intercept=False, random_state=42)\n",
    "lsvc_down.fit(Xdt_train, y_train_down)"
   ]
  },
  {
   "cell_type": "code",
   "execution_count": 347,
   "metadata": {
    "scrolled": true
   },
   "outputs": [
    {
     "data": {
      "image/png": "[encoded data removed]",
      "text/plain": [
       "<Figure size 432x288 with 1 Axes>"
      ]
     },
     "metadata": {},
     "output_type": "display_data"
    },
    {
     "data": {
      "text/plain": [
       "(array([1.00000000e+00, 9.99498579e-01, 9.99331439e-01, 9.99331439e-01,\n",
       "        9.99164299e-01, 9.99080729e-01, 9.98997159e-01, 9.98997159e-01,\n",
       "        9.98997159e-01, 9.98913589e-01, 9.98746448e-01, 9.98495738e-01,\n",
       "        9.98495738e-01, 9.98412168e-01, 9.98412168e-01, 9.98412168e-01,\n",
       "        9.98328598e-01, 9.98161457e-01, 9.97994317e-01, 9.97910747e-01,\n",
       "        9.97827177e-01, 9.97660037e-01, 9.97576467e-01, 9.97409326e-01,\n",
       "        9.97158616e-01, 9.97075046e-01, 9.96740766e-01, 9.96490055e-01,\n",
       "        9.96155775e-01, 9.96072205e-01, 9.95821494e-01, 9.95236503e-01,\n",
       "        9.94902223e-01, 9.94317232e-01, 9.93397961e-01, 9.92395120e-01,\n",
       "        9.89637306e-01, 9.79608892e-01, 9.58382083e-01, 9.05732910e-01,\n",
       "        8.28681264e-01, 7.64750125e-01, 7.09593849e-01, 6.61708173e-01,\n",
       "        6.18585994e-01, 5.74126692e-01, 5.26491727e-01, 4.82617416e-01,\n",
       "        4.46431556e-01, 4.04980779e-01, 3.70048471e-01, 3.42804613e-01,\n",
       "        3.12134381e-01, 2.81129868e-01, 2.46364700e-01, 2.10680261e-01,\n",
       "        1.65803109e-01, 1.17750292e-01, 6.42654187e-02, 2.29817817e-02,\n",
       "        5.18134715e-03, 3.34280461e-04, 8.35701153e-05, 8.35701153e-05,\n",
       "        8.35701153e-05, 8.35701153e-05, 8.35701153e-05, 8.35701153e-05,\n",
       "        8.35701153e-05, 8.35701153e-05, 8.35701153e-05, 8.35701153e-05,\n",
       "        8.35701153e-05, 8.35701153e-05, 8.35701153e-05, 8.35701153e-05,\n",
       "        8.35701153e-05, 8.35701153e-05, 8.35701153e-05, 8.35701153e-05,\n",
       "        8.35701153e-05, 8.35701153e-05, 8.35701153e-05, 8.35701153e-05,\n",
       "        8.35701153e-05, 0.00000000e+00, 0.00000000e+00, 0.00000000e+00,\n",
       "        0.00000000e+00, 0.00000000e+00, 0.00000000e+00, 0.00000000e+00,\n",
       "        0.00000000e+00, 0.00000000e+00, 0.00000000e+00, 0.00000000e+00,\n",
       "        0.00000000e+00, 0.00000000e+00, 0.00000000e+00, 0.00000000e+00]),\n",
       " array([1.00000000e+00, 9.97381278e-01, 9.96029679e-01, 9.95128613e-01,\n",
       "        9.94283864e-01, 9.93720698e-01, 9.93382798e-01, 9.92974503e-01,\n",
       "        9.92678840e-01, 9.92256466e-01, 9.91960804e-01, 9.91453954e-01,\n",
       "        9.91087896e-01, 9.90749996e-01, 9.90341701e-01, 9.89947485e-01,\n",
       "        9.89539189e-01, 9.89116815e-01, 9.88581807e-01, 9.88145353e-01,\n",
       "        9.87751137e-01, 9.87314683e-01, 9.87019021e-01, 9.86526251e-01,\n",
       "        9.86132034e-01, 9.85737818e-01, 9.85357681e-01, 9.84780436e-01,\n",
       "        9.84358061e-01, 9.83780816e-01, 9.83245808e-01, 9.82598167e-01,\n",
       "        9.82063159e-01, 9.81429597e-01, 9.80486294e-01, 9.79655624e-01,\n",
       "        9.78374421e-01, 9.75544511e-01, 9.69560871e-01, 9.59226773e-01,\n",
       "        9.42726006e-01, 9.27126304e-01, 9.11568840e-01, 8.96884283e-01,\n",
       "        8.80397595e-01, 8.62488913e-01, 8.40680305e-01, 8.18576034e-01,\n",
       "        7.94514762e-01, 7.68721754e-01, 7.41830571e-01, 7.11377364e-01,\n",
       "        6.76559618e-01, 6.30337759e-01, 5.71529137e-01, 4.88673321e-01,\n",
       "        3.77884466e-01, 2.62533966e-01, 1.44944880e-01, 5.40639475e-02,\n",
       "        1.01510693e-02, 5.63166120e-04, 1.54870683e-04, 1.12633224e-04,\n",
       "        9.85540710e-05, 8.44749180e-05, 8.44749180e-05, 7.03957650e-05,\n",
       "        7.03957650e-05, 7.03957650e-05, 4.22374590e-05, 4.22374590e-05,\n",
       "        2.81583060e-05, 2.81583060e-05, 2.81583060e-05, 2.81583060e-05,\n",
       "        2.81583060e-05, 2.81583060e-05, 2.81583060e-05, 2.81583060e-05,\n",
       "        1.40791530e-05, 1.40791530e-05, 0.00000000e+00, 0.00000000e+00,\n",
       "        0.00000000e+00, 0.00000000e+00, 0.00000000e+00, 0.00000000e+00,\n",
       "        0.00000000e+00, 0.00000000e+00, 0.00000000e+00, 0.00000000e+00,\n",
       "        0.00000000e+00, 0.00000000e+00, 0.00000000e+00, 0.00000000e+00,\n",
       "        0.00000000e+00, 0.00000000e+00, 0.00000000e+00, 0.00000000e+00]))"
      ]
     },
     "execution_count": 347,
     "metadata": {},
     "output_type": "execute_result"
    }
   ],
   "source": [
    "roc2(lr_down.predict_proba(Xt_test), y_test)"
   ]
  },
  {
   "cell_type": "code",
   "execution_count": 348,
   "metadata": {},
   "outputs": [
    {
     "name": "stdout",
     "output_type": "stream",
     "text": [
      "Specificity: 98.98489%, Sensitivity: 0.51813%, Threshold: 60.0%\n"
     ]
    }
   ],
   "source": [
    "TPRs_lr_down, FPRs_lr_down = sen_spec(probas=lr_down.predict_proba(Xt_test), true=y_test, stat=\"specificity\", stat_val = 0.99, step=0.01)\n"
   ]
  },
  {
   "cell_type": "code",
   "execution_count": 349,
   "metadata": {},
   "outputs": [
    {
     "data": {
      "text/plain": [
       "0.7120431565172991"
      ]
     },
     "execution_count": 349,
     "metadata": {},
     "output_type": "execute_result"
    }
   ],
   "source": [
    "auc(TPRs_lr_down, FPRs_lr_down)"
   ]
  },
  {
   "cell_type": "code",
   "execution_count": 350,
   "metadata": {},
   "outputs": [],
   "source": [
    "lr_down_preds = lr_down.predict(Xt_test)"
   ]
  },
  {
   "cell_type": "markdown",
   "metadata": {},
   "source": [
    "Not exactly the sensitivity score I was looking for. AUC-ROC score is at 76.6%, not really a change."
   ]
  },
  {
   "cell_type": "code",
   "execution_count": 351,
   "metadata": {},
   "outputs": [
    {
     "name": "stdout",
     "output_type": "stream",
     "text": [
      "             precision    recall  f1-score   support\n",
      "\n",
      "          0       0.71      0.26      0.38     71027\n",
      "          1       0.08      0.37      0.13     11966\n",
      "\n",
      "avg / total       0.62      0.27      0.34     82993\n",
      "\n"
     ]
    }
   ],
   "source": [
    "print(classification_report(y_test, lr_down_preds))"
   ]
  },
  {
   "cell_type": "markdown",
   "metadata": {},
   "source": [
    "AAAAAAYYYYY. That's what I'm talkin about. woo woo"
   ]
  },
  {
   "cell_type": "code",
   "execution_count": 352,
   "metadata": {
    "scrolled": true
   },
   "outputs": [
    {
     "data": {
      "image/png": "[encoded data removed]",
      "text/plain": [
       "<Figure size 432x288 with 1 Axes>"
      ]
     },
     "metadata": {},
     "output_type": "display_data"
    },
    {
     "data": {
      "text/plain": [
       "(array([1.        , 1.        , 1.        , 0.99857931, 0.99247869,\n",
       "        0.98855089, 0.97158616, 0.96540197, 0.92955039, 0.87907404,\n",
       "        0.87899047, 0.87882333, 0.87873976, 0.87656694, 0.8763998 ,\n",
       "        0.87439412, 0.87431055, 0.87046632, 0.85651011, 0.82675915,\n",
       "        0.81322079, 0.79817817, 0.76617082, 0.70307538, 0.68945345,\n",
       "        0.66287815, 0.62727729, 0.62585659, 0.56485041, 0.51604546,\n",
       "        0.49849574, 0.49849574, 0.48821661, 0.48587665, 0.46565268,\n",
       "        0.46439913, 0.41342136, 0.36553568, 0.35442086, 0.35417015,\n",
       "        0.35391944, 0.33143908, 0.3296841 , 0.32951696, 0.32876483,\n",
       "        0.28129701, 0.27753635, 0.2527996 , 0.2245529 , 0.19037272,\n",
       "        0.16981447, 0.13137222, 0.13053652, 0.1261073 , 0.09351496,\n",
       "        0.07128531, 0.07128531, 0.07053318, 0.0693632 , 0.04537857,\n",
       "        0.00584991, 0.00543206, 0.0047635 , 0.00376066, 0.00208925,\n",
       "        0.        , 0.        , 0.        , 0.        , 0.        ,\n",
       "        0.        , 0.        , 0.        , 0.        , 0.        ,\n",
       "        0.        , 0.        , 0.        , 0.        , 0.        ,\n",
       "        0.        , 0.        , 0.        , 0.        , 0.        ,\n",
       "        0.        , 0.        , 0.        , 0.        , 0.        ,\n",
       "        0.        , 0.        , 0.        , 0.        , 0.        ,\n",
       "        0.        , 0.        , 0.        , 0.        , 0.        ]),\n",
       " array([1.00000000e+00, 1.00000000e+00, 1.00000000e+00, 9.99450913e-01,\n",
       "        9.97676940e-01, 9.96874428e-01, 9.91580667e-01, 9.89961564e-01,\n",
       "        9.79852732e-01, 9.64112239e-01, 9.64098160e-01, 9.64041843e-01,\n",
       "        9.63281569e-01, 9.62718403e-01, 9.62648007e-01, 9.61620229e-01,\n",
       "        9.61535754e-01, 9.59846256e-01, 9.22804004e-01, 9.10597378e-01,\n",
       "        9.07781548e-01, 9.00108409e-01, 8.86719135e-01, 8.72851169e-01,\n",
       "        8.57533051e-01, 8.40286088e-01, 7.96330973e-01, 7.93641855e-01,\n",
       "        7.82082870e-01, 7.70580202e-01, 7.48630802e-01, 7.48560407e-01,\n",
       "        7.37958804e-01, 7.34551649e-01, 6.94397905e-01, 6.90849958e-01,\n",
       "        6.41812269e-01, 5.15930562e-01, 4.90785194e-01, 4.89335042e-01,\n",
       "        4.87532910e-01, 4.53390964e-01, 4.52320948e-01, 4.52067524e-01,\n",
       "        4.50701846e-01, 4.01861264e-01, 3.95300379e-01, 3.52133696e-01,\n",
       "        2.95873400e-01, 2.61449871e-01, 2.19592549e-01, 1.73103186e-01,\n",
       "        1.71765667e-01, 1.67387050e-01, 1.31414814e-01, 8.71077196e-02,\n",
       "        8.70654821e-02, 8.53900629e-02, 8.50380841e-02, 7.08040604e-02,\n",
       "        9.48934912e-03, 8.86986639e-03, 7.91248398e-03, 7.09589311e-03,\n",
       "        2.67503907e-03, 8.44749180e-05, 5.63166120e-05, 5.63166120e-05,\n",
       "        5.63166120e-05, 5.63166120e-05, 5.63166120e-05, 5.63166120e-05,\n",
       "        5.63166120e-05, 5.63166120e-05, 4.22374590e-05, 4.22374590e-05,\n",
       "        4.22374590e-05, 2.81583060e-05, 2.81583060e-05, 2.81583060e-05,\n",
       "        2.81583060e-05, 2.81583060e-05, 2.81583060e-05, 2.81583060e-05,\n",
       "        2.81583060e-05, 2.81583060e-05, 2.81583060e-05, 0.00000000e+00,\n",
       "        0.00000000e+00, 0.00000000e+00, 0.00000000e+00, 0.00000000e+00,\n",
       "        0.00000000e+00, 0.00000000e+00, 0.00000000e+00, 0.00000000e+00,\n",
       "        0.00000000e+00, 0.00000000e+00, 0.00000000e+00, 0.00000000e+00]))"
      ]
     },
     "execution_count": 352,
     "metadata": {},
     "output_type": "execute_result"
    }
   ],
   "source": [
    "roc2(pipeline_down.predict_proba(Xt_test), y_test)"
   ]
  },
  {
   "cell_type": "code",
   "execution_count": 353,
   "metadata": {},
   "outputs": [
    {
     "name": "stdout",
     "output_type": "stream",
     "text": [
      "Sensitivity: 98.85509%, Specificity: 0.31256%, Threshold: 5.0%\n"
     ]
    }
   ],
   "source": [
    "TPRs_pipeline_down, FPRs_pipeline_down = sen_spec(probas=pipeline_down.predict_proba(Xt_test), true=y_test, stat=\"sensitivity\", stat_val = 0.99, step=0.01)\n"
   ]
  },
  {
   "cell_type": "code",
   "execution_count": 354,
   "metadata": {},
   "outputs": [
    {
     "data": {
      "text/plain": [
       "0.6193729713550702"
      ]
     },
     "execution_count": 354,
     "metadata": {},
     "output_type": "execute_result"
    }
   ],
   "source": [
    "auc(TPRs_pipeline_down, FPRs_pipeline_down)"
   ]
  },
  {
   "cell_type": "markdown",
   "metadata": {},
   "source": [
    "That actually got worse. Something is wrong."
   ]
  },
  {
   "cell_type": "code",
   "execution_count": 355,
   "metadata": {},
   "outputs": [],
   "source": [
    "pipeline_down_preds = pipeline_down.predict(Xt_test)"
   ]
  },
  {
   "cell_type": "code",
   "execution_count": 356,
   "metadata": {},
   "outputs": [
    {
     "name": "stdout",
     "output_type": "stream",
     "text": [
      "             precision    recall  f1-score   support\n",
      "\n",
      "          0       0.85      0.78      0.81     71027\n",
      "          1       0.12      0.17      0.14     11966\n",
      "\n",
      "avg / total       0.74      0.69      0.72     82993\n",
      "\n"
     ]
    }
   ],
   "source": [
    "print(classification_report(y_test, pipeline_down_preds))"
   ]
  },
  {
   "cell_type": "code",
   "execution_count": 357,
   "metadata": {},
   "outputs": [
    {
     "name": "stdout",
     "output_type": "stream",
     "text": [
      "(95916, 6)\n",
      "(23980, 6)\n",
      "1    48089\n",
      "0    47827\n",
      "Name: ARSON, dtype: int64\n",
      "0    12121\n",
      "1    11859\n",
      "Name: ARSON, dtype: int64\n"
     ]
    }
   ],
   "source": [
    "print((Xdt_train).shape)\n",
    "print((Xdt_test).shape)\n",
    "print((y_train_down).value_counts())\n",
    "print((y_test_down).value_counts())"
   ]
  },
  {
   "cell_type": "markdown",
   "metadata": {},
   "source": [
    "The sizes and value counts are right. I'm not sure what's going on here. I can't find a mistake."
   ]
  },
  {
   "cell_type": "code",
   "execution_count": 358,
   "metadata": {
    "scrolled": true
   },
   "outputs": [
    {
     "data": {
      "image/png": "[encoded data removed]",
      "text/plain": [
       "<Figure size 432x288 with 1 Axes>"
      ]
     },
     "metadata": {},
     "output_type": "display_data"
    },
    {
     "data": {
      "text/plain": [
       "(array([1.00000000e+00, 1.00000000e+00, 1.00000000e+00, 1.00000000e+00,\n",
       "        1.00000000e+00, 1.00000000e+00, 1.00000000e+00, 1.00000000e+00,\n",
       "        1.00000000e+00, 1.00000000e+00, 1.00000000e+00, 1.00000000e+00,\n",
       "        9.99916430e-01, 9.99916430e-01, 9.99832860e-01, 9.99665720e-01,\n",
       "        9.99331439e-01, 9.99247869e-01, 9.99247869e-01, 9.98913589e-01,\n",
       "        9.98579308e-01, 9.98328598e-01, 9.98161457e-01, 9.97827177e-01,\n",
       "        9.97660037e-01, 9.97158616e-01, 9.96907906e-01, 9.95905064e-01,\n",
       "        9.95236503e-01, 9.95069363e-01, 9.94735083e-01, 9.94317232e-01,\n",
       "        9.94233662e-01, 9.93982952e-01, 9.93899382e-01, 9.93481531e-01,\n",
       "        9.93314391e-01, 9.93230821e-01, 9.81196724e-01, 8.33277620e-01,\n",
       "        7.77452783e-01, 7.76449942e-01, 7.72438576e-01, 7.30820659e-01,\n",
       "        7.30737088e-01, 7.24385760e-01, 7.22129367e-01, 6.87698479e-01,\n",
       "        6.46247702e-01, 5.70282467e-01, 5.10696975e-01, 4.90723717e-01,\n",
       "        4.67073375e-01, 4.63062009e-01, 4.32224636e-01, 2.56225974e-01,\n",
       "        2.40765502e-01, 1.15744610e-01, 1.09727561e-01, 8.84171820e-02,\n",
       "        8.02273107e-02, 7.31238509e-02, 6.76917934e-02, 5.65769681e-02,\n",
       "        3.23416346e-02, 2.50710346e-02, 2.40681932e-02, 2.08925288e-02,\n",
       "        1.74661541e-02, 4.09493565e-03, 3.59351496e-03, 1.75497242e-03,\n",
       "        1.67140231e-04, 0.00000000e+00, 0.00000000e+00, 0.00000000e+00,\n",
       "        0.00000000e+00, 0.00000000e+00, 0.00000000e+00, 0.00000000e+00,\n",
       "        0.00000000e+00, 0.00000000e+00, 0.00000000e+00, 0.00000000e+00,\n",
       "        0.00000000e+00, 0.00000000e+00, 0.00000000e+00, 0.00000000e+00,\n",
       "        0.00000000e+00, 0.00000000e+00, 0.00000000e+00, 0.00000000e+00,\n",
       "        0.00000000e+00, 0.00000000e+00, 0.00000000e+00, 0.00000000e+00,\n",
       "        0.00000000e+00, 0.00000000e+00, 0.00000000e+00, 0.00000000e+00]),\n",
       " array([1.00000000e+00, 1.00000000e+00, 1.00000000e+00, 1.00000000e+00,\n",
       "        1.00000000e+00, 1.00000000e+00, 1.00000000e+00, 1.00000000e+00,\n",
       "        1.00000000e+00, 1.00000000e+00, 1.00000000e+00, 1.00000000e+00,\n",
       "        9.99732496e-01, 9.99690259e-01, 9.99436834e-01, 9.99324201e-01,\n",
       "        9.98929984e-01, 9.98423135e-01, 9.98211948e-01, 9.96015600e-01,\n",
       "        9.92777395e-01, 9.92171991e-01, 9.91524350e-01, 9.89243527e-01,\n",
       "        9.85695581e-01, 9.84414378e-01, 9.80964985e-01, 9.72489335e-01,\n",
       "        9.71039182e-01, 9.70715362e-01, 9.70307066e-01, 9.68603489e-01,\n",
       "        9.65224492e-01, 9.64633168e-01, 9.63985527e-01, 9.63746181e-01,\n",
       "        9.62802878e-01, 9.62648007e-01, 9.36151041e-01, 5.03653540e-01,\n",
       "        3.95849466e-01, 3.93188506e-01, 3.84755093e-01, 3.34492517e-01,\n",
       "        3.33690005e-01, 3.28677827e-01, 3.26988328e-01, 3.04250496e-01,\n",
       "        2.78274459e-01, 2.18508455e-01, 1.83310572e-01, 1.63993974e-01,\n",
       "        1.52294198e-01, 1.50548383e-01, 1.41453250e-01, 9.03318456e-02,\n",
       "        8.64741577e-02, 5.27405071e-02, 5.09946922e-02, 4.46309150e-02,\n",
       "        3.89429372e-02, 3.61130274e-02, 2.48497050e-02, 1.84577696e-02,\n",
       "        1.08972644e-02, 8.50380841e-03, 8.10959213e-03, 6.37785631e-03,\n",
       "        4.95586186e-03, 2.71727653e-03, 2.26674363e-03, 1.37975699e-03,\n",
       "        9.85540710e-05, 7.03957650e-05, 4.22374590e-05, 4.22374590e-05,\n",
       "        4.22374590e-05, 4.22374590e-05, 4.22374590e-05, 4.22374590e-05,\n",
       "        1.40791530e-05, 1.40791530e-05, 1.40791530e-05, 0.00000000e+00,\n",
       "        0.00000000e+00, 0.00000000e+00, 0.00000000e+00, 0.00000000e+00,\n",
       "        0.00000000e+00, 0.00000000e+00, 0.00000000e+00, 0.00000000e+00,\n",
       "        0.00000000e+00, 0.00000000e+00, 0.00000000e+00, 0.00000000e+00,\n",
       "        0.00000000e+00, 0.00000000e+00, 0.00000000e+00, 0.00000000e+00]))"
      ]
     },
     "execution_count": 358,
     "metadata": {},
     "output_type": "execute_result"
    }
   ],
   "source": [
    "roc2(rf_down.predict_proba(Xt_test), y_test)"
   ]
  },
  {
   "cell_type": "code",
   "execution_count": 359,
   "metadata": {},
   "outputs": [
    {
     "name": "stdout",
     "output_type": "stream",
     "text": [
      "Sensitivity: 99.32308%, Specificity: 3.73520%, Threshold: 37.0%\n"
     ]
    }
   ],
   "source": [
    "TPRs_rf_down, FPRs_rf_down = sen_spec(probas=rf_down.predict_proba(Xt_test), true=y_test, stat=\"sensitivity\", stat_val = 0.99, step=0.01)\n"
   ]
  },
  {
   "cell_type": "code",
   "execution_count": 360,
   "metadata": {},
   "outputs": [
    {
     "data": {
      "text/plain": [
       "0.26889538285931625"
      ]
     },
     "execution_count": 360,
     "metadata": {},
     "output_type": "execute_result"
    }
   ],
   "source": [
    "auc(TPRs_rf_down, FPRs_rf_down)"
   ]
  },
  {
   "cell_type": "markdown",
   "metadata": {},
   "source": [
    "Interesting the downsampled data provided an rf with 1% higher sensitivity."
   ]
  },
  {
   "cell_type": "code",
   "execution_count": 361,
   "metadata": {},
   "outputs": [],
   "source": [
    "rf_down_preds = rf_down.predict(Xt_test)"
   ]
  },
  {
   "cell_type": "code",
   "execution_count": 362,
   "metadata": {},
   "outputs": [
    {
     "name": "stdout",
     "output_type": "stream",
     "text": [
      "             precision    recall  f1-score   support\n",
      "\n",
      "          0       0.91      0.82      0.86     71027\n",
      "          1       0.32      0.51      0.39     11966\n",
      "\n",
      "avg / total       0.82      0.77      0.79     82993\n",
      "\n"
     ]
    }
   ],
   "source": [
    "print(classification_report(y_test, rf_down_preds))"
   ]
  },
  {
   "cell_type": "code",
   "execution_count": 363,
   "metadata": {
    "scrolled": true
   },
   "outputs": [
    {
     "data": {
      "image/png": "[encoded data removed]",
      "text/plain": [
       "<Figure size 432x288 with 1 Axes>"
      ]
     },
     "metadata": {},
     "output_type": "display_data"
    },
    {
     "data": {
      "text/plain": [
       "(array([1.00000000e+00, 1.00000000e+00, 1.00000000e+00, 1.00000000e+00,\n",
       "        1.00000000e+00, 1.00000000e+00, 1.00000000e+00, 1.00000000e+00,\n",
       "        1.00000000e+00, 1.00000000e+00, 1.00000000e+00, 1.00000000e+00,\n",
       "        1.00000000e+00, 1.00000000e+00, 1.00000000e+00, 1.00000000e+00,\n",
       "        1.00000000e+00, 1.00000000e+00, 1.00000000e+00, 1.00000000e+00,\n",
       "        1.00000000e+00, 1.00000000e+00, 1.00000000e+00, 1.00000000e+00,\n",
       "        1.00000000e+00, 1.00000000e+00, 1.00000000e+00, 1.00000000e+00,\n",
       "        9.99498579e-01, 9.99080729e-01, 9.98495738e-01, 9.98245028e-01,\n",
       "        9.97576467e-01, 9.97409326e-01, 9.97242186e-01, 9.97075046e-01,\n",
       "        9.96991476e-01, 9.96490055e-01, 9.95570784e-01, 9.93565101e-01,\n",
       "        9.93314391e-01, 9.92896540e-01, 9.92729400e-01, 9.92645830e-01,\n",
       "        8.58933645e-01, 5.67691793e-01, 5.61507605e-01, 5.61507605e-01,\n",
       "        2.38676249e-01, 2.38091259e-01, 2.36921277e-01, 8.46565268e-02,\n",
       "        8.43222464e-02, 8.40715360e-02, 8.40715360e-02, 8.35701153e-02,\n",
       "        8.28179843e-02, 8.28179843e-02, 8.26508441e-02, 8.22329935e-02,\n",
       "        8.18987130e-02, 7.98094601e-02, 7.11181681e-02, 6.47668394e-02,\n",
       "        5.65769681e-02, 5.40698646e-02, 5.23984623e-02, 3.39294668e-02,\n",
       "        3.35951864e-02, 2.50710346e-04, 1.67140231e-04, 1.67140231e-04,\n",
       "        1.67140231e-04, 0.00000000e+00, 0.00000000e+00, 0.00000000e+00,\n",
       "        0.00000000e+00, 0.00000000e+00, 0.00000000e+00, 0.00000000e+00,\n",
       "        0.00000000e+00, 0.00000000e+00, 0.00000000e+00, 0.00000000e+00,\n",
       "        0.00000000e+00, 0.00000000e+00, 0.00000000e+00, 0.00000000e+00,\n",
       "        0.00000000e+00, 0.00000000e+00, 0.00000000e+00, 0.00000000e+00,\n",
       "        0.00000000e+00, 0.00000000e+00, 0.00000000e+00, 0.00000000e+00,\n",
       "        0.00000000e+00, 0.00000000e+00, 0.00000000e+00, 0.00000000e+00]),\n",
       " array([1.00000000e+00, 1.00000000e+00, 1.00000000e+00, 1.00000000e+00,\n",
       "        1.00000000e+00, 1.00000000e+00, 1.00000000e+00, 1.00000000e+00,\n",
       "        1.00000000e+00, 1.00000000e+00, 1.00000000e+00, 1.00000000e+00,\n",
       "        1.00000000e+00, 1.00000000e+00, 1.00000000e+00, 1.00000000e+00,\n",
       "        1.00000000e+00, 1.00000000e+00, 1.00000000e+00, 1.00000000e+00,\n",
       "        1.00000000e+00, 1.00000000e+00, 1.00000000e+00, 1.00000000e+00,\n",
       "        1.00000000e+00, 1.00000000e+00, 1.00000000e+00, 9.99985921e-01,\n",
       "        9.99113013e-01, 9.97789573e-01, 9.91594746e-01, 9.91439875e-01,\n",
       "        9.88581807e-01, 9.86751517e-01, 9.85568868e-01, 9.84639644e-01,\n",
       "        9.83640024e-01, 9.80063919e-01, 9.76530052e-01, 9.67632027e-01,\n",
       "        9.62774719e-01, 9.62084841e-01, 9.58494657e-01, 9.58452420e-01,\n",
       "        5.26884143e-01, 2.03992848e-01, 2.00064764e-01, 2.00036606e-01,\n",
       "        8.32641108e-02, 8.10959213e-02, 8.06876258e-02, 5.06004759e-02,\n",
       "        4.94741436e-02, 4.91362440e-02, 4.77564870e-02, 4.73341124e-02,\n",
       "        4.51518437e-02, 4.48280231e-02, 4.46027567e-02, 4.42226196e-02,\n",
       "        4.38987990e-02, 4.06324356e-02, 2.39767976e-02, 2.05133259e-02,\n",
       "        1.47267940e-02, 1.35723035e-02, 1.23896546e-02, 7.41971363e-03,\n",
       "        7.10997226e-03, 3.51978825e-04, 3.09741366e-04, 2.67503907e-04,\n",
       "        1.68949836e-04, 0.00000000e+00, 0.00000000e+00, 0.00000000e+00,\n",
       "        0.00000000e+00, 0.00000000e+00, 0.00000000e+00, 0.00000000e+00,\n",
       "        0.00000000e+00, 0.00000000e+00, 0.00000000e+00, 0.00000000e+00,\n",
       "        0.00000000e+00, 0.00000000e+00, 0.00000000e+00, 0.00000000e+00,\n",
       "        0.00000000e+00, 0.00000000e+00, 0.00000000e+00, 0.00000000e+00,\n",
       "        0.00000000e+00, 0.00000000e+00, 0.00000000e+00, 0.00000000e+00,\n",
       "        0.00000000e+00, 0.00000000e+00, 0.00000000e+00, 0.00000000e+00]))"
      ]
     },
     "execution_count": 363,
     "metadata": {},
     "output_type": "execute_result"
    }
   ],
   "source": [
    "roc2(grd_down.predict_proba(Xt_test), y_test)"
   ]
  },
  {
   "cell_type": "code",
   "execution_count": 364,
   "metadata": {},
   "outputs": [
    {
     "name": "stdout",
     "output_type": "stream",
     "text": [
      "Sensitivity: 99.26458%, Specificity: 4.15476%, Threshold: 43.0%\n"
     ]
    }
   ],
   "source": [
    "TPRs_grd_down, FPRs_grd_down = sen_spec(probas=grd_down.predict_proba(Xt_test), true=y_test, stat=\"sensitivity\", stat_val = 0.99, step=0.01)\n"
   ]
  },
  {
   "cell_type": "code",
   "execution_count": 365,
   "metadata": {},
   "outputs": [
    {
     "data": {
      "text/plain": [
       "0.27121506627222985"
      ]
     },
     "execution_count": 365,
     "metadata": {},
     "output_type": "execute_result"
    }
   ],
   "source": [
    "auc(TPRs_grd_down, FPRs_grd_down)"
   ]
  },
  {
   "cell_type": "code",
   "execution_count": 366,
   "metadata": {},
   "outputs": [],
   "source": [
    "grd_down_preds = grd_down.predict(Xt_test)"
   ]
  },
  {
   "cell_type": "code",
   "execution_count": 367,
   "metadata": {},
   "outputs": [
    {
     "name": "stdout",
     "output_type": "stream",
     "text": [
      "             precision    recall  f1-score   support\n",
      "\n",
      "          0       0.88      0.92      0.90     71027\n",
      "          1       0.33      0.24      0.28     11966\n",
      "\n",
      "avg / total       0.80      0.82      0.81     82993\n",
      "\n"
     ]
    }
   ],
   "source": [
    "print(classification_report(y_test, grd_down_preds))"
   ]
  },
  {
   "cell_type": "code",
   "execution_count": 368,
   "metadata": {
    "scrolled": true
   },
   "outputs": [
    {
     "data": {
      "image/png": "[encoded data removed]",
      "text/plain": [
       "<Figure size 432x288 with 1 Axes>"
      ]
     },
     "metadata": {},
     "output_type": "display_data"
    },
    {
     "data": {
      "text/plain": [
       "(array([1.00000000e+00, 1.00000000e+00, 1.00000000e+00, 1.00000000e+00,\n",
       "        9.99916430e-01, 9.99582149e-01, 9.99164299e-01, 9.98830018e-01,\n",
       "        9.98662878e-01, 9.98412168e-01, 9.98412168e-01, 9.98412168e-01,\n",
       "        9.98077887e-01, 9.98077887e-01, 9.97910747e-01, 9.97910747e-01,\n",
       "        9.97827177e-01, 9.97743607e-01, 9.97660037e-01, 9.97660037e-01,\n",
       "        9.97492897e-01, 9.97325756e-01, 9.95570784e-01, 9.90055156e-01,\n",
       "        9.81029584e-01, 9.74928965e-01, 9.61056326e-01, 9.34982450e-01,\n",
       "        9.12919940e-01, 8.73725556e-01, 8.45311717e-01, 8.24168477e-01,\n",
       "        7.85726224e-01, 7.02239679e-01, 6.76667224e-01, 6.36971419e-01,\n",
       "        5.02256393e-01, 4.71836871e-01, 4.38325255e-01, 3.75062678e-01,\n",
       "        2.92829684e-01, 2.42269764e-01, 2.18034431e-01, 2.01403978e-01,\n",
       "        1.91709845e-01, 1.87280628e-01, 1.80093599e-01, 1.76165803e-01,\n",
       "        1.70399465e-01, 1.66805950e-01, 1.61791743e-01, 1.55273274e-01,\n",
       "        1.51345479e-01, 1.44492729e-01, 1.41317065e-01, 1.31455791e-01,\n",
       "        1.22346649e-01, 1.06886178e-01, 9.81948855e-02, 9.66070533e-02,\n",
       "        8.98378740e-02, 7.88066188e-02, 7.65502256e-02, 6.57696808e-02,\n",
       "        6.13404646e-02, 5.82483704e-02, 5.44041451e-02, 4.83870968e-02,\n",
       "        4.32057496e-02, 3.80244025e-02, 3.40130369e-02, 2.80795587e-02,\n",
       "        2.17282300e-02, 1.40397794e-02, 9.27628280e-03, 7.35417015e-03,\n",
       "        5.59919773e-03, 4.17850577e-03, 2.92495404e-03, 1.08641150e-03,\n",
       "        5.01420692e-04, 0.00000000e+00, 0.00000000e+00, 0.00000000e+00,\n",
       "        0.00000000e+00, 0.00000000e+00, 0.00000000e+00, 0.00000000e+00,\n",
       "        0.00000000e+00, 0.00000000e+00, 0.00000000e+00, 0.00000000e+00,\n",
       "        0.00000000e+00, 0.00000000e+00, 0.00000000e+00, 0.00000000e+00,\n",
       "        0.00000000e+00, 0.00000000e+00, 0.00000000e+00, 0.00000000e+00]),\n",
       " array([1.00000000e+00, 1.00000000e+00, 1.00000000e+00, 1.00000000e+00,\n",
       "        9.99774734e-01, 9.99239726e-01, 9.98465372e-01, 9.97789573e-01,\n",
       "        9.96916665e-01, 9.96339420e-01, 9.95818492e-01, 9.95480592e-01,\n",
       "        9.95142692e-01, 9.94706238e-01, 9.94480972e-01, 9.94185310e-01,\n",
       "        9.93593985e-01, 9.93002661e-01, 9.92298703e-01, 9.90890788e-01,\n",
       "        9.89708139e-01, 9.88356540e-01, 9.77248089e-01, 9.55157898e-01,\n",
       "        9.35630112e-01, 9.25112985e-01, 9.04979796e-01, 8.66290284e-01,\n",
       "        8.38638827e-01, 8.05904797e-01, 7.83828685e-01, 7.62864826e-01,\n",
       "        7.37803934e-01, 6.63170344e-01, 6.22551987e-01, 5.61561096e-01,\n",
       "        4.84407338e-01, 4.55263491e-01, 4.34229237e-01, 4.08816366e-01,\n",
       "        2.30320864e-01, 1.60614977e-01, 1.33414054e-01, 1.17997381e-01,\n",
       "        1.10746617e-01, 1.07606966e-01, 1.04242049e-01, 1.01243189e-01,\n",
       "        9.83428837e-02, 9.54566573e-02, 9.22043730e-02, 8.78398356e-02,\n",
       "        8.48691343e-02, 8.19125121e-02, 7.96176102e-02, 7.17332845e-02,\n",
       "        6.36940882e-02, 5.20083912e-02, 4.81788616e-02, 4.64612049e-02,\n",
       "        4.29836541e-02, 3.90837287e-02, 3.73660721e-02, 3.42686584e-02,\n",
       "        3.20582314e-02, 2.97492503e-02, 2.77359314e-02, 2.51735256e-02,\n",
       "        2.20057161e-02, 1.96544976e-02, 1.65711631e-02, 1.36004618e-02,\n",
       "        1.13055599e-02, 9.19368691e-03, 6.58904360e-03, 4.53348727e-03,\n",
       "        2.98478044e-03, 1.64726090e-03, 8.02511721e-04, 2.81583060e-04,\n",
       "        1.68949836e-04, 0.00000000e+00, 0.00000000e+00, 0.00000000e+00,\n",
       "        0.00000000e+00, 0.00000000e+00, 0.00000000e+00, 0.00000000e+00,\n",
       "        0.00000000e+00, 0.00000000e+00, 0.00000000e+00, 0.00000000e+00,\n",
       "        0.00000000e+00, 0.00000000e+00, 0.00000000e+00, 0.00000000e+00,\n",
       "        0.00000000e+00, 0.00000000e+00, 0.00000000e+00, 0.00000000e+00]))"
      ]
     },
     "execution_count": 368,
     "metadata": {},
     "output_type": "execute_result"
    }
   ],
   "source": [
    "roc2(xgb_down.predict_proba(Xt_test), y_test)"
   ]
  },
  {
   "cell_type": "code",
   "execution_count": 369,
   "metadata": {},
   "outputs": [
    {
     "name": "stdout",
     "output_type": "stream",
     "text": [
      "Sensitivity: 99.00552%, Specificity: 4.48421%, Threshold: 23.0%\n"
     ]
    }
   ],
   "source": [
    "TPRs_xgb_down, FPRs_xgb_down = sen_spec(probas=xgb_down.predict_proba(Xt_test), true=y_test, stat=\"sensitivity\", stat_val = 0.99, step=0.01)\n"
   ]
  },
  {
   "cell_type": "code",
   "execution_count": 370,
   "metadata": {},
   "outputs": [
    {
     "data": {
      "text/plain": [
       "0.45610877470303346"
      ]
     },
     "execution_count": 370,
     "metadata": {},
     "output_type": "execute_result"
    }
   ],
   "source": [
    "auc(TPRs_xgb_down, FPRs_xgb_down)"
   ]
  },
  {
   "cell_type": "code",
   "execution_count": 371,
   "metadata": {},
   "outputs": [
    {
     "name": "stderr",
     "output_type": "stream",
     "text": [
      "/Users/ryanmetz/anaconda3/envs/ipykernel_py3/lib/python3.6/site-packages/sklearn/preprocessing/label.py:151: DeprecationWarning: The truth value of an empty array is ambiguous. Returning False, but in future this will result in an error. Use `array.size > 0` to check that an array is not empty.\n",
      "  if diff:\n"
     ]
    }
   ],
   "source": [
    "xgb_down_preds = xgb_down.predict(Xt_test)"
   ]
  },
  {
   "cell_type": "code",
   "execution_count": 372,
   "metadata": {},
   "outputs": [
    {
     "name": "stdout",
     "output_type": "stream",
     "text": [
      "             precision    recall  f1-score   support\n",
      "\n",
      "          0       0.87      0.91      0.89     71027\n",
      "          1       0.23      0.16      0.19     11966\n",
      "\n",
      "avg / total       0.77      0.80      0.79     82993\n",
      "\n"
     ]
    }
   ],
   "source": [
    "print(classification_report(y_test, xgb_down_preds))"
   ]
  },
  {
   "cell_type": "code",
   "execution_count": 338,
   "metadata": {},
   "outputs": [
    {
     "data": {
      "text/plain": [
       "SVC(C=1.0, cache_size=200, class_weight=None, coef0=0.0,\n",
       "  decision_function_shape='ovr', degree=3, gamma='auto', kernel='rbf',\n",
       "  max_iter=-1, probability=True, random_state=42, shrinking=True,\n",
       "  tol=0.001, verbose=False)"
      ]
     },
     "execution_count": 338,
     "metadata": {},
     "output_type": "execute_result"
    }
   ],
   "source": [
    "svc_down = SVC(probability=True, random_state=42)\n",
    "svc_down.fit(Xdt_train, y_train_down)"
   ]
  },
  {
   "cell_type": "code",
   "execution_count": 341,
   "metadata": {
    "scrolled": true
   },
   "outputs": [
    {
     "data": {
      "image/png": "[encoded data removed]",
      "text/plain": [
       "<Figure size 432x288 with 1 Axes>"
      ]
     },
     "metadata": {},
     "output_type": "display_data"
    },
    {
     "data": {
      "text/plain": [
       "(array([1.00000000e+00, 1.00000000e+00, 1.00000000e+00, 1.00000000e+00,\n",
       "        9.99915676e-01, 9.99915676e-01, 9.99915676e-01, 9.99831352e-01,\n",
       "        9.99831352e-01, 9.99831352e-01, 9.99831352e-01, 9.99831352e-01,\n",
       "        9.99747028e-01, 9.99747028e-01, 9.99578379e-01, 9.99325407e-01,\n",
       "        9.99072434e-01, 9.98566490e-01, 9.97891896e-01, 9.97217303e-01,\n",
       "        9.96121089e-01, 9.94856227e-01, 9.91736234e-01, 9.81364365e-01,\n",
       "        9.47297411e-01, 8.80597015e-01, 8.58672738e-01, 8.42313854e-01,\n",
       "        8.30677123e-01, 8.20473902e-01, 8.12884729e-01, 8.04452315e-01,\n",
       "        7.96863142e-01, 7.93068556e-01, 7.86744245e-01, 7.80841555e-01,\n",
       "        7.76119403e-01, 7.70806982e-01, 7.65325913e-01, 7.61109706e-01,\n",
       "        7.54279450e-01, 7.49641622e-01, 7.45594064e-01, 7.41040560e-01,\n",
       "        7.35981111e-01, 7.31511932e-01, 7.27548697e-01, 7.23922759e-01,\n",
       "        7.19622228e-01, 7.15406021e-01, 7.09166034e-01, 7.07226579e-01,\n",
       "        7.04022262e-01, 7.00649296e-01, 6.96854710e-01, 6.93144447e-01,\n",
       "        6.89265537e-01, 6.85386626e-01, 6.81254743e-01, 6.77375833e-01,\n",
       "        6.73243950e-01, 6.67847205e-01, 6.61944515e-01, 6.56210473e-01,\n",
       "        6.51488321e-01, 6.42971583e-01, 6.38586727e-01, 6.33189982e-01,\n",
       "        6.27624589e-01, 6.20878658e-01, 6.12277595e-01, 6.02833291e-01,\n",
       "        5.92630070e-01, 5.82679821e-01, 5.69778228e-01, 5.53672316e-01,\n",
       "        5.33518846e-01, 3.66810018e-01, 1.17885151e-01, 6.03760857e-02,\n",
       "        3.53318155e-02, 1.82140147e-02, 9.44430390e-03, 5.05944852e-03,\n",
       "        2.27675183e-03, 8.43241420e-05, 0.00000000e+00, 0.00000000e+00,\n",
       "        0.00000000e+00, 0.00000000e+00, 0.00000000e+00, 0.00000000e+00,\n",
       "        0.00000000e+00, 0.00000000e+00, 0.00000000e+00, 0.00000000e+00,\n",
       "        0.00000000e+00, 0.00000000e+00, 0.00000000e+00, 0.00000000e+00]),\n",
       " array([1.00000000e+00, 1.00000000e+00, 1.00000000e+00, 1.00000000e+00,\n",
       "        1.00000000e+00, 1.00000000e+00, 9.99834997e-01, 9.99587493e-01,\n",
       "        9.99257487e-01, 9.98762478e-01, 9.98679977e-01, 9.98267470e-01,\n",
       "        9.96782444e-01, 9.95544922e-01, 9.93647389e-01, 9.91832357e-01,\n",
       "        9.89109809e-01, 9.85397244e-01, 9.81189671e-01, 9.75497071e-01,\n",
       "        9.67576933e-01, 9.57264252e-01, 9.32926326e-01, 8.70720238e-01,\n",
       "        7.49608118e-01, 5.14726508e-01, 4.74135797e-01, 4.47570332e-01,\n",
       "        4.27769986e-01, 4.12259715e-01, 3.98646976e-01, 3.87261777e-01,\n",
       "        3.76206584e-01, 3.70596485e-01, 3.59871298e-01, 3.50136127e-01,\n",
       "        3.42876000e-01, 3.35615873e-01, 3.26623216e-01, 3.19693095e-01,\n",
       "        3.08472898e-01, 3.03605313e-01, 2.99232737e-01, 2.93952644e-01,\n",
       "        2.88920056e-01, 2.84134972e-01, 2.79019883e-01, 2.74812309e-01,\n",
       "        2.70852240e-01, 2.67304678e-01, 2.62354591e-01, 2.59549542e-01,\n",
       "        2.55506971e-01, 2.51546902e-01, 2.48246844e-01, 2.45441795e-01,\n",
       "        2.41729230e-01, 2.38181668e-01, 2.33974095e-01, 2.30756538e-01,\n",
       "        2.27208976e-01, 2.23413910e-01, 2.20113852e-01, 2.15741275e-01,\n",
       "        2.11946209e-01, 2.07408630e-01, 2.04026070e-01, 1.99570992e-01,\n",
       "        1.96353436e-01, 1.91898358e-01, 1.86288260e-01, 1.80925666e-01,\n",
       "        1.74573055e-01, 1.69540467e-01, 1.63435360e-01, 1.55185216e-01,\n",
       "        1.42892501e-01, 8.54714958e-02, 3.44856035e-02, 1.69952974e-02,\n",
       "        9.90017325e-03, 4.62008085e-03, 2.14503754e-03, 1.15502021e-03,\n",
       "        6.60011550e-04, 0.00000000e+00, 0.00000000e+00, 0.00000000e+00,\n",
       "        0.00000000e+00, 0.00000000e+00, 0.00000000e+00, 0.00000000e+00,\n",
       "        0.00000000e+00, 0.00000000e+00, 0.00000000e+00, 0.00000000e+00,\n",
       "        0.00000000e+00, 0.00000000e+00, 0.00000000e+00, 0.00000000e+00]))"
      ]
     },
     "execution_count": 341,
     "metadata": {},
     "output_type": "execute_result"
    }
   ],
   "source": [
    "roc2(svc_down.predict_proba(Xdt_test), y_test_down)"
   ]
  },
  {
   "cell_type": "code",
   "execution_count": 342,
   "metadata": {},
   "outputs": [
    {
     "name": "stdout",
     "output_type": "stream",
     "text": [
      "Specificity: 99.00998%, Sensitivity: 3.53318%, Threshold: 80.0%\n"
     ]
    }
   ],
   "source": [
    "TPRs_svc_down, FPRs_svc_down = sen_spec(probas=svc_down.predict_proba(Xdt_test), true=y_test_down, stat=\"specificity\", stat_val = 0.99, step=0.01)\n"
   ]
  },
  {
   "cell_type": "code",
   "execution_count": 343,
   "metadata": {},
   "outputs": [
    {
     "data": {
      "text/plain": [
       "0.22182116716007874"
      ]
     },
     "execution_count": 343,
     "metadata": {},
     "output_type": "execute_result"
    }
   ],
   "source": [
    "auc(TPRs_svc_down, FPRs_svc_down)"
   ]
  },
  {
   "cell_type": "code",
   "execution_count": 344,
   "metadata": {},
   "outputs": [],
   "source": [
    "svc_down_preds = svc_down.predict(Xdt_test)"
   ]
  },
  {
   "cell_type": "code",
   "execution_count": 345,
   "metadata": {},
   "outputs": [
    {
     "name": "stdout",
     "output_type": "stream",
     "text": [
      "             precision    recall  f1-score   support\n",
      "\n",
      "          0       0.72      0.74      0.73     12121\n",
      "          1       0.73      0.71      0.72     11859\n",
      "\n",
      "avg / total       0.72      0.72      0.72     23980\n",
      "\n"
     ]
    }
   ],
   "source": [
    "print(classification_report(y_test_down, svc_down_preds))"
   ]
  },
  {
   "cell_type": "code",
   "execution_count": null,
   "metadata": {},
   "outputs": [],
   "source": []
  }
 ],
 "metadata": {
  "kernelspec": {
   "display_name": "Python [conda env:ipykernel_py3]",
   "language": "python",
   "name": "conda-env-ipykernel_py3-py"
  },
  "language_info": {
   "codemirror_mode": {
    "name": "ipython",
    "version": 3
   },
   "file_extension": ".py",
   "mimetype": "text/x-python",
   "name": "python",
   "nbconvert_exporter": "python",
   "pygments_lexer": "ipython3",
   "version": "3.6.4"
  }
 },
 "nbformat": 4,
 "nbformat_minor": 2
}
