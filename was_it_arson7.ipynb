{
 "cells": [
  {
   "cell_type": "markdown",
   "metadata": {},
   "source": [
    "The cell below removes the annoying app bar thing at the bottom of a notebook."
   ]
  },
  {
   "cell_type": "code",
   "execution_count": 1,
   "metadata": {},
   "outputs": [
    {
     "data": {
      "application/javascript": [
       "$('.nbp-app-bar').toggle()"
      ],
      "text/plain": [
       "<IPython.core.display.Javascript object>"
      ]
     },
     "metadata": {},
     "output_type": "display_data"
    }
   ],
   "source": [
    "%%javascript\n",
    "$('.nbp-app-bar').toggle()"
   ]
  },
  {
   "cell_type": "code",
   "execution_count": 26,
   "metadata": {},
   "outputs": [],
   "source": [
    "import numpy as np\n",
    "import pandas as pd\n",
    "import geopandas as gpd\n",
    "import matplotlib.pyplot as plt\n",
    "from datetime import datetime\n",
    "import calendar\n",
    "import sqlite3\n",
    "import seaborn as sns\n",
    "#import pysal as ps\n",
    "#from pysal.contrib.viz import mapping as maps\n",
    "from sklearn.linear_model import LogisticRegression, Lasso\n",
    "from sklearn.naive_bayes import GaussianNB\n",
    "from sklearn.ensemble import RandomTreesEmbedding, RandomForestClassifier, AdaBoostClassifier, GradientBoostingClassifier, BaggingClassifier\n",
    "from xgboost import XGBClassifier\n",
    "from sklearn.svm import SVC, LinearSVC\n",
    "from sklearn.pipeline import Pipeline\n",
    "from sklearn.model_selection import train_test_split, cross_val_score, GridSearchCV, cross_val_predict\n",
    "from sklearn.preprocessing import LabelEncoder, OneHotEncoder, RobustScaler, StandardScaler, PolynomialFeatures\n",
    "from sklearn.decomposition import PCA\n",
    "from sklearn.calibration import CalibratedClassifierCV\n",
    "from sklearn.metrics import confusion_matrix, auc, roc_curve, classification_report, f1_score\n",
    "from sklearn.multiclass import OneVsRestClassifier\n",
    "from sklearn.utils import resample\n",
    "\n",
    "\n",
    "%matplotlib inline"
   ]
  },
  {
   "cell_type": "markdown",
   "metadata": {},
   "source": [
    "**These are the imports for AWS**\n",
    "\n",
    "import numpy as np\n",
    "import pandas as pd\n",
    "from sklearn.linear_model import LogisticRegression, Lasso\n",
    "from sklearn.naive_bayes import GaussianNB\n",
    "from sklearn.ensemble import RandomTreesEmbedding, RandomForestClassifier, GradientBoostingClassifier, BaggingClassifier\n",
    "from xgboost import XGBClassifier\n",
    "from sklearn.svm import SVC, LinearSVC\n",
    "from sklearn.pipeline import make_pipeline\n",
    "from sklearn.model_selection import train_test_split, cross_val_score, GridSearchCV, cross_val_predict\n",
    "from sklearn.decomposition import PCA\n",
    "from sklearn.calibration import CalibratedClassifierCV\n",
    "from sklearn.metrics import confusion_matrix, auc, roc_curve, f1_score"
   ]
  },
  {
   "cell_type": "markdown",
   "metadata": {},
   "source": [
    "The cell below makes it so pandas will show me all the columns."
   ]
  },
  {
   "cell_type": "code",
   "execution_count": 3,
   "metadata": {},
   "outputs": [],
   "source": [
    "pd.set_option('display.max_columns', 40)"
   ]
  },
  {
   "cell_type": "markdown",
   "metadata": {},
   "source": [
    "The below cell loads the spatialite extention to sqlite. I got the code from the spatialite mailing list\n",
    "https://groups.google.com/d/msg/spatialite-users/o0jUwMUqx_g/OEat2JTUAAAJ\n",
    "I can get it to work without geopandas. With geopandas imported it kills the ipython kernel within seconds. Ironic! Without one, the other is useless."
   ]
  },
  {
   "cell_type": "code",
   "execution_count": null,
   "metadata": {},
   "outputs": [],
   "source": [
    "#conn = sqlite3.connect(':memory:') \n",
    "#conn.enable_load_extension(True) \n",
    "#conn.execute(\"SELECT load_extension('mod_spatialite')\") "
   ]
  },
  {
   "cell_type": "markdown",
   "metadata": {},
   "source": [
    "The below code for importing all the sql data came from: https://www.dataquest.io/blog/python-pandas-databases/"
   ]
  },
  {
   "cell_type": "code",
   "execution_count": null,
   "metadata": {},
   "outputs": [],
   "source": [
    "conn = sqlite3.connect(\"./FPA_FOD_20170508.sqlite\")"
   ]
  },
  {
   "cell_type": "code",
   "execution_count": null,
   "metadata": {},
   "outputs": [],
   "source": [
    "#this is if you want to read the data in as tuples\n",
    "\n",
    "#cur = conn.cursor()\n",
    "#cur.execute(\"SELECT * FROM fires;\")\n",
    "#results = cur.fetchall()"
   ]
  },
  {
   "cell_type": "code",
   "execution_count": null,
   "metadata": {},
   "outputs": [],
   "source": [
    "df_all = pd.read_sql_query(\"SELECT * FROM fires;\", conn)\n",
    "#this grabs the whole db and puts it into a df using the sqlite3.Connection"
   ]
  },
  {
   "cell_type": "code",
   "execution_count": null,
   "metadata": {},
   "outputs": [],
   "source": [
    "df_all.shape"
   ]
  },
  {
   "cell_type": "code",
   "execution_count": null,
   "metadata": {},
   "outputs": [],
   "source": [
    "df_all.head(2)"
   ]
  },
  {
   "cell_type": "markdown",
   "metadata": {},
   "source": [
    "Since pandas can't handle the geometry information the Shape column is useless anyway, I'm going to drop it. It lives on in the original sqlite db."
   ]
  },
  {
   "cell_type": "code",
   "execution_count": null,
   "metadata": {},
   "outputs": [],
   "source": [
    "df_all.drop(['Shape'], axis=1, inplace=True)"
   ]
  },
  {
   "cell_type": "code",
   "execution_count": null,
   "metadata": {
    "scrolled": true
   },
   "outputs": [],
   "source": [
    "df_all.columns"
   ]
  },
  {
   "cell_type": "code",
   "execution_count": null,
   "metadata": {},
   "outputs": [],
   "source": [
    "df_all.STAT_CAUSE_DESCR.unique()"
   ]
  },
  {
   "cell_type": "markdown",
   "metadata": {},
   "source": [
    "There are entries in my target column that I can't use so I am dropping them."
   ]
  },
  {
   "cell_type": "code",
   "execution_count": null,
   "metadata": {},
   "outputs": [],
   "source": [
    "df_all.drop(df_all[df_all['STAT_CAUSE_DESCR'] == 'Missing/Undefined'].index, inplace=True)"
   ]
  },
  {
   "cell_type": "code",
   "execution_count": null,
   "metadata": {},
   "outputs": [],
   "source": [
    "df_all.shape"
   ]
  },
  {
   "cell_type": "code",
   "execution_count": null,
   "metadata": {
    "scrolled": true
   },
   "outputs": [],
   "source": [
    "df_all.dtypes"
   ]
  },
  {
   "cell_type": "code",
   "execution_count": null,
   "metadata": {
    "scrolled": true
   },
   "outputs": [],
   "source": [
    "df_all.isnull().sum()"
   ]
  },
  {
   "cell_type": "markdown",
   "metadata": {},
   "source": [
    "I'm going to create a new df, df_pred, by dropping columns from the FPA_FOD data. I'm going to read that into a csv so I have it for later, and then stop using the full set. I will keep the full set on my SSD, of course. I am making these decisions based on the data atlas located here: https://www.kaggle.com/davideanastasia/contour-map-of-us-wildfire-dataset/data"
   ]
  },
  {
   "cell_type": "code",
   "execution_count": null,
   "metadata": {
    "scrolled": true
   },
   "outputs": [],
   "source": [
    "df_all['FIRE_CODE'].value_counts()"
   ]
  },
  {
   "cell_type": "markdown",
   "metadata": {},
   "source": [
    "I'm going to drop features that I don't care about and then do feature engineering."
   ]
  },
  {
   "cell_type": "code",
   "execution_count": null,
   "metadata": {},
   "outputs": [],
   "source": [
    "df_all = df_all.drop(['OBJECTID', 'FPA_ID', 'SOURCE_SYSTEM_TYPE', 'SOURCE_SYSTEM',\n",
    "                  'NWCG_REPORTING_AGENCY', 'NWCG_REPORTING_UNIT_ID',\n",
    "                  'NWCG_REPORTING_UNIT_NAME', 'SOURCE_REPORTING_UNIT',\n",
    "                  'SOURCE_REPORTING_UNIT_NAME', 'LOCAL_FIRE_REPORT_ID',\n",
    "                  'LOCAL_INCIDENT_ID', 'FIRE_NAME',\n",
    "                  'ICS_209_INCIDENT_NUMBER', 'ICS_209_NAME', 'MTBS_ID', 'MTBS_FIRE_NAME',\n",
    "                  'COMPLEX_NAME', 'FIRE_YEAR', 'DISCOVERY_TIME', \n",
    "                  'STAT_CAUSE_CODE', 'CONT_TIME', \n",
    "                  'FIRE_SIZE_CLASS', 'LATITUDE', 'LONGITUDE', 'OWNER_CODE', \n",
    "                  'OWNER_DESCR', 'COUNTY', 'FIPS_NAME'], axis=1)\n",
    "\n",
    "#at some point redo this. Instead of doing a drop just include all feats I want to keep. Much more readable, shorter"
   ]
  },
  {
   "cell_type": "code",
   "execution_count": null,
   "metadata": {},
   "outputs": [],
   "source": [
    "df_all.shape"
   ]
  },
  {
   "cell_type": "code",
   "execution_count": null,
   "metadata": {},
   "outputs": [],
   "source": [
    "df_all.head(20)"
   ]
  },
  {
   "cell_type": "markdown",
   "metadata": {},
   "source": [
    "Time for feature engineering."
   ]
  },
  {
   "cell_type": "markdown",
   "metadata": {},
   "source": [
    "The 2 columns with the dates for discovery and containment are in the Julian format so I will have to convert them into gregorian timestamps and then engineer a duration. I do think day of year discovered will have some predictive power and will keep that column. I will also engineer month and a day-of-week discovered features."
   ]
  },
  {
   "cell_type": "code",
   "execution_count": null,
   "metadata": {},
   "outputs": [],
   "source": [
    "df_all['START_DATE'] = pd.to_datetime(df_all['DISCOVERY_DATE'], unit='D', infer_datetime_format=True, origin='julian')"
   ]
  },
  {
   "cell_type": "code",
   "execution_count": null,
   "metadata": {},
   "outputs": [],
   "source": [
    "df_all['END_DATE'] = pd.to_datetime(df_all['CONT_DATE'], unit='D', infer_datetime_format=True, origin='julian')"
   ]
  },
  {
   "cell_type": "code",
   "execution_count": null,
   "metadata": {},
   "outputs": [],
   "source": [
    "df_all.head(2)"
   ]
  },
  {
   "cell_type": "code",
   "execution_count": null,
   "metadata": {},
   "outputs": [],
   "source": [
    "df_all = df_all.drop(['DISCOVERY_DATE', 'CONT_DATE'], axis=1)"
   ]
  },
  {
   "cell_type": "code",
   "execution_count": null,
   "metadata": {},
   "outputs": [],
   "source": [
    "df_all.head(3)"
   ]
  },
  {
   "cell_type": "code",
   "execution_count": null,
   "metadata": {},
   "outputs": [],
   "source": [
    "df_all['BURN_TIME'] = (df_all['END_DATE'] - df_all['START_DATE']).astype('timedelta64[D]')"
   ]
  },
  {
   "cell_type": "code",
   "execution_count": null,
   "metadata": {},
   "outputs": [],
   "source": [
    "df_all['MONTH'] = pd.DatetimeIndex(df_all['START_DATE']).month"
   ]
  },
  {
   "cell_type": "code",
   "execution_count": null,
   "metadata": {},
   "outputs": [],
   "source": [
    "df_all['DOW'] = pd.DatetimeIndex(df_all['START_DATE']).weekday_name"
   ]
  },
  {
   "cell_type": "code",
   "execution_count": null,
   "metadata": {},
   "outputs": [],
   "source": [
    "df_all.head(3)"
   ]
  },
  {
   "cell_type": "code",
   "execution_count": null,
   "metadata": {},
   "outputs": [],
   "source": [
    "df_all = df_all.drop(['CONT_DOY'], axis=1)"
   ]
  },
  {
   "cell_type": "code",
   "execution_count": null,
   "metadata": {},
   "outputs": [],
   "source": [
    "df_all = df_all.drop(['END_DATE'], axis=1)"
   ]
  },
  {
   "cell_type": "code",
   "execution_count": null,
   "metadata": {},
   "outputs": [],
   "source": [
    "df_all.head(3)"
   ]
  },
  {
   "cell_type": "code",
   "execution_count": null,
   "metadata": {},
   "outputs": [],
   "source": [
    "df_all = df_all.drop(['FOD_ID'], axis=1)"
   ]
  },
  {
   "cell_type": "code",
   "execution_count": null,
   "metadata": {},
   "outputs": [],
   "source": [
    "df_all.head()"
   ]
  },
  {
   "cell_type": "code",
   "execution_count": null,
   "metadata": {},
   "outputs": [],
   "source": [
    "df_all['BURN_TIME'].isnull().sum()"
   ]
  },
  {
   "cell_type": "code",
   "execution_count": null,
   "metadata": {},
   "outputs": [],
   "source": [
    "fig, ax = plt.subplots(figsize=(40,5))\n",
    "sns.countplot(x=df_all['BURN_TIME'].value_counts(), data=df_all)"
   ]
  },
  {
   "cell_type": "markdown",
   "metadata": {},
   "source": [
    "I'm going to make a new column to use as my target, \"Arson\". If the cause was arson the value will be 1, else 0."
   ]
  },
  {
   "cell_type": "code",
   "execution_count": null,
   "metadata": {},
   "outputs": [],
   "source": [
    "# the below works but it isn't vectorized and it takes a hot minute. Going to try to do something faster for practice.\n",
    "\n",
    "# def make_arson(dataframe):\n",
    "#     if dataframe['STAT_CAUSE_DESCR'] == 'Arson':\n",
    "#         val = 1\n",
    "#     else:\n",
    "#         val = 0\n",
    "#     return val\n",
    "#\n",
    "#\n",
    "# df_all['ARSON'] = df_all.apply(make_arson, axis=1)"
   ]
  },
  {
   "cell_type": "code",
   "execution_count": null,
   "metadata": {
    "scrolled": true
   },
   "outputs": [],
   "source": [
    "#humbug. df_all['ARSON'] = [x for x in df_all['STAT_CAUSE_DESCR'] if x =='Arson' x = 1 else 0]"
   ]
  },
  {
   "cell_type": "code",
   "execution_count": null,
   "metadata": {},
   "outputs": [],
   "source": [
    "df_all.loc[df_all['STAT_CAUSE_DESCR'] != 'Arson', 'ARSON'] = 0\n",
    "df_all.loc[df_all['STAT_CAUSE_DESCR'] == 'Arson', 'ARSON'] = 1\n",
    "\n",
    "df_all.head(3)"
   ]
  },
  {
   "cell_type": "markdown",
   "metadata": {},
   "source": [
    "Wow that was a lot faster."
   ]
  },
  {
   "cell_type": "code",
   "execution_count": null,
   "metadata": {
    "scrolled": true
   },
   "outputs": [],
   "source": [
    "df_all['ARSON'] = df_all['ARSON'].astype(int)"
   ]
  },
  {
   "cell_type": "markdown",
   "metadata": {},
   "source": [
    "Now That I've made the target column for arson I can drop the original column."
   ]
  },
  {
   "cell_type": "code",
   "execution_count": null,
   "metadata": {},
   "outputs": [],
   "source": [
    "df_all.shape"
   ]
  },
  {
   "cell_type": "code",
   "execution_count": null,
   "metadata": {},
   "outputs": [],
   "source": [
    "df_all.head()"
   ]
  },
  {
   "cell_type": "code",
   "execution_count": null,
   "metadata": {},
   "outputs": [],
   "source": [
    "df_all.drop(['STAT_CAUSE_DESCR'], axis=1, inplace=True)"
   ]
  },
  {
   "cell_type": "code",
   "execution_count": null,
   "metadata": {},
   "outputs": [],
   "source": [
    "df_all.ARSON.value_counts()"
   ]
  },
  {
   "cell_type": "code",
   "execution_count": null,
   "metadata": {},
   "outputs": [],
   "source": [
    "281455/1713742"
   ]
  },
  {
   "cell_type": "markdown",
   "metadata": {},
   "source": [
    "16.42% of these fires were started by arsonists! Crazy. Also: that's a pretty unbalanced class. Hopefully that won't cause problems. Famous last words."
   ]
  },
  {
   "cell_type": "markdown",
   "metadata": {},
   "source": [
    "Over half of all the FIRE_CODE entries are nulls. DROPPED."
   ]
  },
  {
   "cell_type": "code",
   "execution_count": null,
   "metadata": {},
   "outputs": [],
   "source": [
    "df_all.drop(['FIRE_CODE'], axis=1, inplace=True)"
   ]
  },
  {
   "cell_type": "code",
   "execution_count": null,
   "metadata": {},
   "outputs": [],
   "source": [
    "df_all.isnull().sum()"
   ]
  },
  {
   "cell_type": "markdown",
   "metadata": {},
   "source": [
    "I'm going to drop FIPS, because I think State will cover location and going all the way down to county risks overfitting on historic data. A county may have an arsonist in it for a time who may have been arrested, moved or died; using a coefficient for that county that was affected while the arsonist was acitive will decrease accuracy. This is also true in a state but given the differences in population between states and differenes in weather conditions I think it will be predictive and have a lower risk of over fitting."
   ]
  },
  {
   "cell_type": "code",
   "execution_count": null,
   "metadata": {},
   "outputs": [],
   "source": [
    "df_all.drop(['FIPS_CODE'], axis=1, inplace=True)"
   ]
  },
  {
   "cell_type": "code",
   "execution_count": null,
   "metadata": {},
   "outputs": [],
   "source": [
    "df_all.head(3)"
   ]
  },
  {
   "cell_type": "code",
   "execution_count": null,
   "metadata": {},
   "outputs": [],
   "source": [
    "df_all.dtypes"
   ]
  },
  {
   "cell_type": "markdown",
   "metadata": {},
   "source": [
    "I don't really need to do this because I'm going to label encode and then one-hot encode it later but that will make just doing one loop for all the things that need encoding simpler, if a little more time consuming to run. Worth it."
   ]
  },
  {
   "cell_type": "code",
   "execution_count": null,
   "metadata": {},
   "outputs": [],
   "source": [
    "df_all['MONTH'] = df_all['MONTH'].apply(lambda x: calendar.month_name[x])"
   ]
  },
  {
   "cell_type": "markdown",
   "metadata": {},
   "source": [
    "Whoops, ran it twice."
   ]
  },
  {
   "cell_type": "code",
   "execution_count": null,
   "metadata": {},
   "outputs": [],
   "source": [
    "df_all.head(2)"
   ]
  },
  {
   "cell_type": "markdown",
   "metadata": {},
   "source": [
    "After much consideration I am going to drop the start date, keep the day-of-year, but transform it to be cyclic so the algorithms can see that 1 and 365 are actually closer than 60 and 365."
   ]
  },
  {
   "cell_type": "code",
   "execution_count": null,
   "metadata": {},
   "outputs": [],
   "source": [
    "df_all.drop(['START_DATE'], axis=1, inplace=True)"
   ]
  },
  {
   "cell_type": "markdown",
   "metadata": {},
   "source": [
    "I need to encode my categorical values. I can use one-hot encoding or get dummies and drop one column. For month and day-of-week there are only 12 and 7 categories, respectively, so for them I'll get dummies. For the other 2 I'll use one-hot because there are so categories and I don't want to dataframe that big considering how much modeling I'm doing, the ram required would get too big."
   ]
  },
  {
   "cell_type": "markdown",
   "metadata": {},
   "source": [
    "Now I'm going to try impute data for BURN_TIME. I want to test to see if the data is missing at random. I'm going to check for a correlation between BURN_TIME and the other features."
   ]
  },
  {
   "cell_type": "code",
   "execution_count": null,
   "metadata": {},
   "outputs": [],
   "source": [
    "df_all.head(2)"
   ]
  },
  {
   "cell_type": "markdown",
   "metadata": {},
   "source": [
    "In this notebook I'm going to just drop the missing burn time values and then include it in my analysis. See what that gets me."
   ]
  },
  {
   "cell_type": "code",
   "execution_count": null,
   "metadata": {},
   "outputs": [],
   "source": [
    "df_wburn = df_all.drop(df_all[df_all['BURN_TIME'].isnull() == True].index)"
   ]
  },
  {
   "cell_type": "code",
   "execution_count": null,
   "metadata": {},
   "outputs": [],
   "source": [
    "df_wburn.shape"
   ]
  },
  {
   "cell_type": "code",
   "execution_count": null,
   "metadata": {},
   "outputs": [],
   "source": [
    "df_wburn.STATE.nunique()"
   ]
  },
  {
   "cell_type": "code",
   "execution_count": null,
   "metadata": {},
   "outputs": [],
   "source": [
    "df_wburn.head(20)"
   ]
  },
  {
   "cell_type": "code",
   "execution_count": null,
   "metadata": {},
   "outputs": [],
   "source": [
    "df_wburn.isnull().sum()"
   ]
  },
  {
   "cell_type": "code",
   "execution_count": null,
   "metadata": {
    "scrolled": true
   },
   "outputs": [],
   "source": [
    "df_wburn.dtypes"
   ]
  },
  {
   "cell_type": "markdown",
   "metadata": {},
   "source": [
    "I want to make the DISCOVERED_DOY cyclic."
   ]
  },
  {
   "cell_type": "code",
   "execution_count": null,
   "metadata": {},
   "outputs": [],
   "source": [
    "df_wburn.shape"
   ]
  },
  {
   "cell_type": "code",
   "execution_count": null,
   "metadata": {},
   "outputs": [],
   "source": [
    "df_wburn['DOY_SIN'] = np.sin(df_wburn.DISCOVERY_DOY*(2.*np.pi/365))\n",
    "df_wburn['DOY_COS'] = np.cos(df_wburn.DISCOVERY_DOY*(2.*np.pi/365))"
   ]
  },
  {
   "cell_type": "code",
   "execution_count": null,
   "metadata": {},
   "outputs": [],
   "source": [
    "df_wburn.shape"
   ]
  },
  {
   "cell_type": "code",
   "execution_count": null,
   "metadata": {},
   "outputs": [],
   "source": [
    "df_wburn.head(2)"
   ]
  },
  {
   "cell_type": "code",
   "execution_count": null,
   "metadata": {},
   "outputs": [],
   "source": [
    "df_wburn = df_wburn.drop(['DISCOVERY_DOY'], axis=1)"
   ]
  },
  {
   "cell_type": "code",
   "execution_count": null,
   "metadata": {},
   "outputs": [],
   "source": [
    "df_wburn.shape"
   ]
  },
  {
   "cell_type": "code",
   "execution_count": null,
   "metadata": {},
   "outputs": [],
   "source": [
    "df_wburn.head(2)"
   ]
  },
  {
   "cell_type": "markdown",
   "metadata": {},
   "source": [
    "I need to scale this. There are a ton of outliers so I'm going to use RobustScaler."
   ]
  },
  {
   "cell_type": "code",
   "execution_count": null,
   "metadata": {},
   "outputs": [],
   "source": [
    "#robsca = RobustScaler()"
   ]
  },
  {
   "cell_type": "code",
   "execution_count": null,
   "metadata": {},
   "outputs": [],
   "source": [
    "#df_wburn['BURN_TIME'] = robsca.fit_transform(df_wburn['BURN_TIME'].values.reshape(-1, 1))"
   ]
  },
  {
   "cell_type": "code",
   "execution_count": null,
   "metadata": {
    "scrolled": true
   },
   "outputs": [],
   "source": [
    "#df_wburn.head(10)"
   ]
  },
  {
   "cell_type": "markdown",
   "metadata": {},
   "source": [
    "Turns out that with all the zeros in BURN_TIME it's a sparse matrix so robust scalar won't work. Sparse data often calls for MaxAbsScaler but that scales by the highest absolute value, and since there are outliers in both BURN_TIME and FIRE_SIZE I don't want to do that."
   ]
  },
  {
   "cell_type": "code",
   "execution_count": null,
   "metadata": {},
   "outputs": [],
   "source": [
    "ss = StandardScaler()"
   ]
  },
  {
   "cell_type": "code",
   "execution_count": null,
   "metadata": {},
   "outputs": [],
   "source": [
    "df_wburn['BURN_TIME'] = ss.fit_transform(df_wburn['BURN_TIME'].values.reshape(-1, 1))"
   ]
  },
  {
   "cell_type": "code",
   "execution_count": null,
   "metadata": {},
   "outputs": [],
   "source": [
    "df_wburn.shape"
   ]
  },
  {
   "cell_type": "code",
   "execution_count": null,
   "metadata": {},
   "outputs": [],
   "source": [
    "df_wburn.head(3)"
   ]
  },
  {
   "cell_type": "code",
   "execution_count": null,
   "metadata": {},
   "outputs": [],
   "source": [
    "plt.hist(df_wburn.FIRE_SIZE)"
   ]
  },
  {
   "cell_type": "code",
   "execution_count": null,
   "metadata": {},
   "outputs": [],
   "source": [
    "df_wburn.shape"
   ]
  },
  {
   "cell_type": "code",
   "execution_count": null,
   "metadata": {},
   "outputs": [],
   "source": [
    "robsca = RobustScaler()"
   ]
  },
  {
   "cell_type": "code",
   "execution_count": null,
   "metadata": {},
   "outputs": [],
   "source": [
    "df_wburn['FIRE_SIZE'] = robsca.fit_transform(df_wburn['FIRE_SIZE'].values.reshape(-1, 1))"
   ]
  },
  {
   "cell_type": "code",
   "execution_count": null,
   "metadata": {
    "scrolled": true
   },
   "outputs": [],
   "source": [
    "df_wburn.head(30)"
   ]
  },
  {
   "cell_type": "code",
   "execution_count": null,
   "metadata": {},
   "outputs": [],
   "source": [
    "df_wburn.shape"
   ]
  },
  {
   "cell_type": "code",
   "execution_count": null,
   "metadata": {},
   "outputs": [],
   "source": [
    "df_wburn.to_csv('./data_to_encode.csv', index=False)"
   ]
  },
  {
   "cell_type": "code",
   "execution_count": null,
   "metadata": {},
   "outputs": [],
   "source": [
    "df_wburn = pd.read_csv('./data_to_encode.csv')\n",
    "print(df_wburn.shape)"
   ]
  },
  {
   "cell_type": "markdown",
   "metadata": {},
   "source": [
    "OKAY. Now everything that needed to be is scaled and normalized. Time to encode my categorical values."
   ]
  },
  {
   "cell_type": "markdown",
   "metadata": {},
   "source": [
    "THE BELOW WAS THE ORIGINAL PLAN BUT I SWITCHED TO ONE-HOT ENCODING EVERYTHING AND USING PCA TO REDUCE DIMENSIONALITY.\n",
    "\n",
    "I need to drop 1 dummy variable for each of the features I just got dummies from. I'm choosing Wednesday because it's the middle of the weekdays, of which there are 5 vs just 2 weekends (I believe that the ratio of causes that fires started on weekend days had will be different from weekdays. I am hoping this will help with interpretation.) I'm choosing January essentially at random, it's the first value which is what get_dummies has as a parameter."
   ]
  },
  {
   "cell_type": "code",
   "execution_count": null,
   "metadata": {},
   "outputs": [],
   "source": [
    "# categorical_vars=['MONTH','DOW']\n",
    "# for var in categorical_vars:\n",
    "#     cat_list='var'+'_'+var\n",
    "#     cat_list = pd.get_dummies(df_all[var], prefix=var, drop_first=False)\n",
    "#     df_all1=df_all.join(cat_list)\n",
    "#     df_all=df_all1\n",
    "\n",
    "#DECIDED TO DO ONE-HOT ENCODING ON EVERYTHING AND THEN USE PCA TO DEAL WITH THE COLLINIERITY PROBLEM."
   ]
  },
  {
   "cell_type": "code",
   "execution_count": null,
   "metadata": {},
   "outputs": [],
   "source": [
    "lab_enc = LabelEncoder()\n",
    "oh_enc = OneHotEncoder()\n",
    "\n",
    "need_encoding = [df_wburn['STATE'], df_wburn['MONTH'], df_wburn['DOW']]\n",
    "\n",
    "for feat in need_encoding:\n",
    "    feat_int_encoded = lab_enc.fit_transform(feat)\n",
    "    feat_int_encoded_reshape = feat_int_encoded.reshape(len(feat_int_encoded), 1) \n",
    "    feat_onehot_encoded = oh_enc.fit_transform(feat_int_encoded_reshape)\n",
    "    df_feat = pd.DataFrame(feat_onehot_encoded.toarray())\n",
    "    df_wburn2 = pd.merge(df_wburn, df_feat, left_index=True, right_index=True)\n",
    "    df_wburn = df_wburn2\n",
    "\n",
    "df_wburn.shape"
   ]
  },
  {
   "cell_type": "code",
   "execution_count": null,
   "metadata": {},
   "outputs": [],
   "source": [
    "df_wburn.head()"
   ]
  },
  {
   "cell_type": "code",
   "execution_count": null,
   "metadata": {},
   "outputs": [],
   "source": [
    "df_wburn.columns"
   ]
  },
  {
   "cell_type": "code",
   "execution_count": null,
   "metadata": {},
   "outputs": [],
   "source": [
    "df_wburn.head(3)"
   ]
  },
  {
   "cell_type": "code",
   "execution_count": null,
   "metadata": {},
   "outputs": [],
   "source": [
    "df_wburn.tail(3)"
   ]
  },
  {
   "cell_type": "code",
   "execution_count": null,
   "metadata": {},
   "outputs": [],
   "source": [
    "df_wburn.STATE.nunique()"
   ]
  },
  {
   "cell_type": "code",
   "execution_count": null,
   "metadata": {},
   "outputs": [],
   "source": [
    "df_wburn.DOW.nunique()"
   ]
  },
  {
   "cell_type": "code",
   "execution_count": null,
   "metadata": {},
   "outputs": [],
   "source": [
    "df_wburn.MONTH.nunique()"
   ]
  },
  {
   "cell_type": "code",
   "execution_count": null,
   "metadata": {},
   "outputs": [],
   "source": [
    "df_wburn.drop(['STATE', 'MONTH', 'DOW'], axis=1, inplace=True)"
   ]
  },
  {
   "cell_type": "code",
   "execution_count": null,
   "metadata": {},
   "outputs": [],
   "source": [
    "df_wburn.shape"
   ]
  },
  {
   "cell_type": "code",
   "execution_count": null,
   "metadata": {},
   "outputs": [],
   "source": [
    "df_wburn.isnull().sum().sum()"
   ]
  },
  {
   "cell_type": "markdown",
   "metadata": {},
   "source": [
    "I wrote the dataframe to .csv as this is what I'm going to perform PCA on and I wanted it as a file."
   ]
  },
  {
   "cell_type": "code",
   "execution_count": null,
   "metadata": {},
   "outputs": [],
   "source": [
    "df_wburn.to_csv('./final_df.csv', index=False)"
   ]
  },
  {
   "cell_type": "code",
   "execution_count": 4,
   "metadata": {},
   "outputs": [],
   "source": [
    "df_wburn = pd.read_csv('./final_df.csv')"
   ]
  },
  {
   "cell_type": "markdown",
   "metadata": {},
   "source": [
    "Futher down you can see there's a strange phenomenon where the first PCA feature after transformation accounts for over 99.99% of the variation. In the next cells I tried to discover why that might be."
   ]
  },
  {
   "cell_type": "code",
   "execution_count": null,
   "metadata": {},
   "outputs": [],
   "source": [
    "print(np.corrcoef(df_wburn['FIRE_SIZE'], df_wburn['BURN_TIME']))"
   ]
  },
  {
   "cell_type": "markdown",
   "metadata": {},
   "source": [
    "That's a nice looking dataframe for machine learning. To deal with the all that dimensionality and collinearity I'm going to use PCA."
   ]
  },
  {
   "cell_type": "code",
   "execution_count": null,
   "metadata": {
    "scrolled": true
   },
   "outputs": [],
   "source": [
    "for i in df_wburn.columns:\n",
    "    print(np.corrcoef(df_wburn['ARSON'], df_wburn[i])[0,1])"
   ]
  },
  {
   "cell_type": "markdown",
   "metadata": {},
   "source": [
    "I was thinking that one un-transformed feature might account for nearly all the variation so I checked corrcoeffs above. It's actually nicely distributed. The largest one is 0.3, which is not strong."
   ]
  },
  {
   "cell_type": "markdown",
   "metadata": {},
   "source": [
    "Below I looked to see if having both DOY_SIN and DOY_COS in the data was causing the weirdness. It was not."
   ]
  },
  {
   "cell_type": "code",
   "execution_count": null,
   "metadata": {},
   "outputs": [],
   "source": [
    "df_nosin = df_wburn.drop(['DOY_SIN'], axis=1)"
   ]
  },
  {
   "cell_type": "code",
   "execution_count": null,
   "metadata": {},
   "outputs": [],
   "source": [
    "df_nosin.head(3)"
   ]
  },
  {
   "cell_type": "code",
   "execution_count": null,
   "metadata": {},
   "outputs": [],
   "source": [
    "pca_nosin = PCA()\n",
    "pca_nosin.fit(df_nosin.drop(['ARSON'], axis=1))"
   ]
  },
  {
   "cell_type": "code",
   "execution_count": null,
   "metadata": {},
   "outputs": [],
   "source": [
    "var_exp_nosin = pca_nosin.explained_variance_ratio_\n",
    "cum_var_exp_nosin = np.cumsum(var_exp_nosin)"
   ]
  },
  {
   "cell_type": "code",
   "execution_count": null,
   "metadata": {},
   "outputs": [],
   "source": [
    "len(pca_nosin.components_)"
   ]
  },
  {
   "cell_type": "code",
   "execution_count": null,
   "metadata": {},
   "outputs": [],
   "source": [
    "plt.figure(figsize=(15,10))\n",
    "\n",
    "# HERE IS THE BASIC PLOT\n",
    "\n",
    "# Plot the cumulative explained variance\n",
    "component_number = list(range(1, 75))\n",
    "plt.plot(component_number, cum_var_exp_nosin, lw=3)\n",
    "\n",
    "# NOW MAKE IT LOOK PRETTY\n",
    "\n",
    "# Add horizontal lines at y=0 and y=100\n",
    "plt.axhline(y=0, linewidth=5, color='grey', ls='dashed')\n",
    "plt.axhline(y=1, linewidth=3, color='grey', ls='dashed')\n",
    "\n",
    "# Set the x and y axis limits\n",
    "ax = plt.gca()\n",
    "ax.set_xlim([1,74])\n",
    "ax.set_ylim([-0.05,1.05])\n",
    "\n",
    "# Label the axes\n",
    "ax.set_ylabel('cumulative variance explained', fontsize=16)\n",
    "ax.set_xlabel('component', fontsize=16)\n",
    "\n",
    "# Make the tick labels bigger\n",
    "for tick in ax.xaxis.get_major_ticks():\n",
    "    tick.label.set_fontsize(12) \n",
    "for tick in ax.yaxis.get_major_ticks():\n",
    "    tick.label.set_fontsize(12) \n",
    "    \n",
    "# Add title\n",
    "ax.set_title('component vs cumulative variance explained\\n', fontsize=20)\n",
    "\n",
    "plt.show()"
   ]
  },
  {
   "cell_type": "code",
   "execution_count": null,
   "metadata": {},
   "outputs": [],
   "source": [
    "print(cum_var_exp_nosin)"
   ]
  },
  {
   "cell_type": "markdown",
   "metadata": {},
   "source": [
    "Taking out DOY_SIN actually increased the percentage of variation accounted for by the first PCA feature. So I went back to using the full dataframe. At this point, all the categorical data has been one-hot encoded, the PCA transformation has taken care of the collinearity that encoding causes, the numerical data has all been scaled, no correlation coefficients were very strong, and taking out one of the DOY columns basically did nothing. I conclude that something **extremely** improbable has occured, and because I have a good grasp on statistics I know that happens. I am moving on to do a PCA transformation on the entire data set."
   ]
  },
  {
   "cell_type": "code",
   "execution_count": null,
   "metadata": {},
   "outputs": [],
   "source": [
    "pca_wburn = PCA()\n",
    "pca_wburn.fit(df_wburn.drop(['ARSON'], axis=1))"
   ]
  },
  {
   "cell_type": "markdown",
   "metadata": {},
   "source": [
    "The next few cells are from the PCA lesson."
   ]
  },
  {
   "cell_type": "code",
   "execution_count": null,
   "metadata": {},
   "outputs": [],
   "source": [
    "var_exp_wburn = pca_wburn.explained_variance_ratio_\n",
    "cum_var_exp_wburn = np.cumsum(var_exp_wburn)"
   ]
  },
  {
   "cell_type": "code",
   "execution_count": null,
   "metadata": {},
   "outputs": [],
   "source": [
    "len(pca_wburn.components_)"
   ]
  },
  {
   "cell_type": "code",
   "execution_count": null,
   "metadata": {},
   "outputs": [],
   "source": [
    "plt.figure(figsize=(15,10))\n",
    "\n",
    "# HERE IS THE BASIC PLOT\n",
    "\n",
    "# Plot the cumulative explained variance\n",
    "component_number = list(range(1, 76))\n",
    "plt.plot(component_number, cum_var_exp_wburn, lw=3)\n",
    "\n",
    "# NOW MAKE IT LOOK PRETTY\n",
    "\n",
    "# Add horizontal lines at y=0 and y=100\n",
    "plt.axhline(y=0, linewidth=5, color='grey', ls='dashed')\n",
    "plt.axhline(y=1, linewidth=3, color='grey', ls='dashed')\n",
    "\n",
    "# Set the x and y axis limits\n",
    "ax = plt.gca()\n",
    "ax.set_xlim([1,74])\n",
    "ax.set_ylim([-0.05,1.05])\n",
    "\n",
    "# Label the axes\n",
    "ax.set_ylabel('cumulative variance explained', fontsize=16)\n",
    "ax.set_xlabel('component', fontsize=16)\n",
    "\n",
    "# Make the tick labels bigger\n",
    "for tick in ax.xaxis.get_major_ticks():\n",
    "    tick.label.set_fontsize(12) \n",
    "for tick in ax.yaxis.get_major_ticks():\n",
    "    tick.label.set_fontsize(12) \n",
    "    \n",
    "# Add title\n",
    "ax.set_title('component vs cumulative variance explained\\n', fontsize=20)\n",
    "\n",
    "plt.show()"
   ]
  },
  {
   "cell_type": "markdown",
   "metadata": {},
   "source": [
    "I don't trust that result at all. But I have tried a bunch of different ways to catch something going wrong with it. I dropped one of my cyclical DOY columns - nothing. I scaled and normalized both my numeric columns: fire size and burn time - nothing. I checked the corrcoeffs of each feature against Arson: the biggest one is 0.3 - nothing there either. I checked to see what the correlation between BURN_TIME and FIRE_SIZE is, it's 0.1 - nothing. I have looked over the code, which is quite simple and would be hard to screw up in such a way that it would still run, several times and found no errors. I suppose it's possible that something extraordinarily improbable has occurred here."
   ]
  },
  {
   "cell_type": "code",
   "execution_count": null,
   "metadata": {},
   "outputs": [],
   "source": [
    "print(cum_var_exp_wburn)"
   ]
  },
  {
   "cell_type": "markdown",
   "metadata": {},
   "source": [
    "I'll keep 4 of my pca components for now. That keeps 99.999984% of my variance explained while dropping almost all of my variables. This solves the high dimensionality my data had after one-hot encoding. It also is going to make everything run much faster than if I had needed to keep a large number of features. After I've gotten to the point where I'm scoring models I'll try a few other numbers of PCA features to use, all low to keep my dimensionality down.\n",
    "\n",
    "**UPDATE:** Setled on 6 PCA features after looking at scores for several different numbers of kept features on a logistic regression."
   ]
  },
  {
   "cell_type": "markdown",
   "metadata": {},
   "source": [
    "Time to make my training and testing sets. Then I'll transform with PCA and use that."
   ]
  },
  {
   "cell_type": "code",
   "execution_count": 5,
   "metadata": {},
   "outputs": [],
   "source": [
    "X = df_wburn.drop(['ARSON'], axis=1)\n",
    "y = df_wburn['ARSON']"
   ]
  },
  {
   "cell_type": "code",
   "execution_count": 6,
   "metadata": {},
   "outputs": [],
   "source": [
    "X_train, X_test, y_train, y_test = train_test_split(X, y, test_size=0.2, random_state=42)"
   ]
  },
  {
   "cell_type": "code",
   "execution_count": 7,
   "metadata": {},
   "outputs": [],
   "source": [
    "pca_6 = PCA(n_components=6)\n",
    "pca_6.fit(X_train)\n",
    "Xt_train = pca_6.transform(X_train)\n",
    "Xt_test = pca_6.transform(X_test)"
   ]
  },
  {
   "cell_type": "markdown",
   "metadata": {},
   "source": [
    "About half of the code for these models came from : http://scikit-learn.org/stable/auto_examples/ensemble/plot_feature_transformation.html#sphx-glr-auto-examples-ensemble-plot-feature-transformation-py"
   ]
  },
  {
   "cell_type": "markdown",
   "metadata": {},
   "source": [
    "**Logistic regression.**"
   ]
  },
  {
   "cell_type": "code",
   "execution_count": 8,
   "metadata": {},
   "outputs": [
    {
     "data": {
      "text/plain": [
       "LogisticRegression(C=1.0, class_weight=None, dual=False, fit_intercept=True,\n",
       "          intercept_scaling=1, max_iter=100, multi_class='ovr', n_jobs=1,\n",
       "          penalty='l2', random_state=None, solver='liblinear', tol=0.0001,\n",
       "          verbose=0, warm_start=False)"
      ]
     },
     "execution_count": 8,
     "metadata": {},
     "output_type": "execute_result"
    }
   ],
   "source": [
    "lr = LogisticRegression()\n",
    "lr.fit(Xt_train, y_train)"
   ]
  },
  {
   "cell_type": "code",
   "execution_count": 9,
   "metadata": {},
   "outputs": [
    {
     "data": {
      "text/plain": [
       "0.839936340794759"
      ]
     },
     "execution_count": 9,
     "metadata": {},
     "output_type": "execute_result"
    }
   ],
   "source": [
    "lr.score(Xt_test, y_test)"
   ]
  },
  {
   "cell_type": "markdown",
   "metadata": {},
   "source": [
    "**Number of estimators for Random Trees, Random Forest, and Gradient Boosting Classifier.** 10 is a common choice so I went with that. This will be tuned later."
   ]
  },
  {
   "cell_type": "code",
   "execution_count": 10,
   "metadata": {},
   "outputs": [],
   "source": [
    "n_estimator = 50"
   ]
  },
  {
   "cell_type": "markdown",
   "metadata": {},
   "source": [
    "**Random Trees Embedding piped to Logistic Regression.** This was not part of my original plan but I found it online and it looked cool."
   ]
  },
  {
   "cell_type": "code",
   "execution_count": 11,
   "metadata": {},
   "outputs": [
    {
     "data": {
      "text/plain": [
       "Pipeline(memory=None,\n",
       "     steps=[('randomtreesembedding', RandomTreesEmbedding(max_depth=4, max_leaf_nodes=None,\n",
       "           min_impurity_decrease=0.0, min_impurity_split=None,\n",
       "           min_samples_leaf=1, min_samples_split=2,\n",
       "           min_weight_fraction_leaf=0.0, n_estimators=10, n_jobs=1,\n",
       "           random_state=42, sp...ty='l2', random_state=None, solver='liblinear', tol=0.0001,\n",
       "          verbose=0, warm_start=False))])"
      ]
     },
     "execution_count": 11,
     "metadata": {},
     "output_type": "execute_result"
    }
   ],
   "source": [
    "rt = RandomTreesEmbedding(max_depth=4, n_estimators=n_estimator,\n",
    "    random_state=42)\n",
    "\n",
    "rt_lr = LogisticRegression()\n",
    "rt_lr_pipeline = make_pipeline(rt, rt_lr)\n",
    "rt_lr_pipeline.fit(Xt_train, y_train)"
   ]
  },
  {
   "cell_type": "code",
   "execution_count": 12,
   "metadata": {},
   "outputs": [
    {
     "data": {
      "text/plain": [
       "0.839936340794759"
      ]
     },
     "execution_count": 12,
     "metadata": {},
     "output_type": "execute_result"
    }
   ],
   "source": [
    "rt_lr_pipeline.score(Xt_test, y_test)"
   ]
  },
  {
   "cell_type": "markdown",
   "metadata": {},
   "source": [
    "**Random Forest.**"
   ]
  },
  {
   "cell_type": "code",
   "execution_count": 13,
   "metadata": {},
   "outputs": [
    {
     "data": {
      "text/plain": [
       "RandomForestClassifier(bootstrap=True, class_weight=None, criterion='gini',\n",
       "            max_depth=4, max_features='auto', max_leaf_nodes=None,\n",
       "            min_impurity_decrease=0.0, min_impurity_split=None,\n",
       "            min_samples_leaf=1, min_samples_split=2,\n",
       "            min_weight_fraction_leaf=0.0, n_estimators=10, n_jobs=1,\n",
       "            oob_score=False, random_state=None, verbose=0,\n",
       "            warm_start=False)"
      ]
     },
     "execution_count": 13,
     "metadata": {},
     "output_type": "execute_result"
    }
   ],
   "source": [
    "rf = RandomForestClassifier(max_depth=4, n_estimators=n_estimator)\n",
    "rf.fit(Xt_train, y_train)"
   ]
  },
  {
   "cell_type": "code",
   "execution_count": 14,
   "metadata": {},
   "outputs": [
    {
     "data": {
      "text/plain": [
       "0.839936340794759"
      ]
     },
     "execution_count": 14,
     "metadata": {},
     "output_type": "execute_result"
    }
   ],
   "source": [
    "rf.score(Xt_test, y_test)"
   ]
  },
  {
   "cell_type": "markdown",
   "metadata": {},
   "source": [
    "**Gradient Boosting Classifier**"
   ]
  },
  {
   "cell_type": "code",
   "execution_count": 15,
   "metadata": {},
   "outputs": [
    {
     "data": {
      "text/plain": [
       "GradientBoostingClassifier(criterion='friedman_mse', init=None,\n",
       "              learning_rate=0.1, loss='deviance', max_depth=3,\n",
       "              max_features=None, max_leaf_nodes=None,\n",
       "              min_impurity_decrease=0.0, min_impurity_split=None,\n",
       "              min_samples_leaf=1, min_samples_split=2,\n",
       "              min_weight_fraction_leaf=0.0, n_estimators=10,\n",
       "              presort='auto', random_state=None, subsample=1.0, verbose=0,\n",
       "              warm_start=False)"
      ]
     },
     "execution_count": 15,
     "metadata": {},
     "output_type": "execute_result"
    }
   ],
   "source": [
    "grd = GradientBoostingClassifier(n_estimators=n_estimator)\n",
    "grd.fit(Xt_train, y_train)"
   ]
  },
  {
   "cell_type": "code",
   "execution_count": 16,
   "metadata": {},
   "outputs": [
    {
     "data": {
      "text/plain": [
       "0.839936340794759"
      ]
     },
     "execution_count": 16,
     "metadata": {},
     "output_type": "execute_result"
    }
   ],
   "source": [
    "grd.score(Xt_test, y_test)"
   ]
  },
  {
   "cell_type": "markdown",
   "metadata": {},
   "source": [
    "**XGBoost.**"
   ]
  },
  {
   "cell_type": "code",
   "execution_count": 17,
   "metadata": {},
   "outputs": [
    {
     "data": {
      "text/plain": [
       "XGBClassifier(base_score=0.5, booster='gbtree', colsample_bylevel=1,\n",
       "       colsample_bytree=1, gamma=0, learning_rate=0.1, max_delta_step=0,\n",
       "       max_depth=3, min_child_weight=1, missing=None, n_estimators=100,\n",
       "       n_jobs=1, nthread=None, objective='binary:logistic', random_state=0,\n",
       "       reg_alpha=0, reg_lambda=1, scale_pos_weight=1, seed=None,\n",
       "       silent=True, subsample=1)"
      ]
     },
     "execution_count": 17,
     "metadata": {},
     "output_type": "execute_result"
    }
   ],
   "source": [
    "xgb = XGBClassifier()\n",
    "xgb.fit(Xt_train, y_train)"
   ]
  },
  {
   "cell_type": "code",
   "execution_count": 18,
   "metadata": {},
   "outputs": [
    {
     "name": "stderr",
     "output_type": "stream",
     "text": [
      "/Users/ryanmetz/anaconda3/envs/ipykernel_py3/lib/python3.6/site-packages/sklearn/preprocessing/label.py:151: DeprecationWarning: The truth value of an empty array is ambiguous. Returning False, but in future this will result in an error. Use `array.size > 0` to check that an array is not empty.\n",
      "  if diff:\n"
     ]
    },
    {
     "data": {
      "text/plain": [
       "0.8402579069856168"
      ]
     },
     "execution_count": 18,
     "metadata": {},
     "output_type": "execute_result"
    }
   ],
   "source": [
    "xgb.score(Xt_test, y_test)"
   ]
  },
  {
   "cell_type": "markdown",
   "metadata": {},
   "source": [
    "**Gaussian Naive Bayes.** For all binary features a Bernoulli kernel is used, for categorical data, a multinomial. My data is neither so I went with a Gaussian kernel."
   ]
  },
  {
   "cell_type": "code",
   "execution_count": 19,
   "metadata": {},
   "outputs": [
    {
     "data": {
      "text/plain": [
       "GaussianNB(priors=None)"
      ]
     },
     "execution_count": 19,
     "metadata": {},
     "output_type": "execute_result"
    }
   ],
   "source": [
    "gnb = GaussianNB()\n",
    "gnb.fit(Xt_train, y_train)"
   ]
  },
  {
   "cell_type": "code",
   "execution_count": 20,
   "metadata": {},
   "outputs": [
    {
     "data": {
      "text/plain": [
       "0.6170746197071022"
      ]
     },
     "execution_count": 20,
     "metadata": {},
     "output_type": "execute_result"
    }
   ],
   "source": [
    "gnb.score(Xt_test, y_test)"
   ]
  },
  {
   "cell_type": "markdown",
   "metadata": {},
   "source": [
    "**Calibrated Classifier with LinearSVC.** LinearSVC doesn't have a predict_probas method. Calibrated Classifer not only improves it's performance, it has a predict_probas method, so I use it here. It requires an extra split. This model's computational demands increase dramatically with dimensionality so I went down to using only 2 PCA features for it."
   ]
  },
  {
   "cell_type": "code",
   "execution_count": 21,
   "metadata": {},
   "outputs": [],
   "source": [
    "X_train_svc, X_test_svc, y_train_svc, y_test_svc = train_test_split(X, y, test_size=0.8, random_state=42)"
   ]
  },
  {
   "cell_type": "code",
   "execution_count": 22,
   "metadata": {},
   "outputs": [],
   "source": [
    "pca2 = PCA(n_components=2)\n",
    "pca2.fit(X_train_svc)\n",
    "Xt_train_svc = pca2.transform(X_train_svc)\n",
    "Xt_test_svc = pca2.transform(X_test_svc)"
   ]
  },
  {
   "cell_type": "code",
   "execution_count": 23,
   "metadata": {},
   "outputs": [],
   "source": [
    "lsvc = LinearSVC(random_state=0)"
   ]
  },
  {
   "cell_type": "code",
   "execution_count": 24,
   "metadata": {},
   "outputs": [
    {
     "name": "stderr",
     "output_type": "stream",
     "text": [
      "/Users/ryanmetz/anaconda3/envs/ipykernel_py3/lib/python3.6/site-packages/sklearn/calibration.py:435: RuntimeWarning: overflow encountered in exp\n",
      "  E = np.exp(AB[0] * F + AB[1])\n",
      "/Users/ryanmetz/anaconda3/envs/ipykernel_py3/lib/python3.6/site-packages/sklearn/calibration.py:445: RuntimeWarning: overflow encountered in exp\n",
      "  E = np.exp(AB[0] * F + AB[1])\n",
      "/Users/ryanmetz/anaconda3/envs/ipykernel_py3/lib/python3.6/site-packages/sklearn/calibration.py:447: RuntimeWarning: invalid value encountered in multiply\n",
      "  TEP_minus_T1P = P * (T * E - T1)\n",
      "/Users/ryanmetz/anaconda3/envs/ipykernel_py3/lib/python3.6/site-packages/sklearn/calibration.py:435: RuntimeWarning: overflow encountered in exp\n",
      "  E = np.exp(AB[0] * F + AB[1])\n",
      "/Users/ryanmetz/anaconda3/envs/ipykernel_py3/lib/python3.6/site-packages/sklearn/calibration.py:435: RuntimeWarning: overflow encountered in exp\n",
      "  E = np.exp(AB[0] * F + AB[1])\n",
      "/Users/ryanmetz/anaconda3/envs/ipykernel_py3/lib/python3.6/site-packages/sklearn/calibration.py:445: RuntimeWarning: overflow encountered in exp\n",
      "  E = np.exp(AB[0] * F + AB[1])\n",
      "/Users/ryanmetz/anaconda3/envs/ipykernel_py3/lib/python3.6/site-packages/sklearn/calibration.py:447: RuntimeWarning: invalid value encountered in multiply\n",
      "  TEP_minus_T1P = P * (T * E - T1)\n",
      "/Users/ryanmetz/anaconda3/envs/ipykernel_py3/lib/python3.6/site-packages/sklearn/calibration.py:435: RuntimeWarning: overflow encountered in exp\n",
      "  E = np.exp(AB[0] * F + AB[1])\n"
     ]
    },
    {
     "data": {
      "text/plain": [
       "CalibratedClassifierCV(base_estimator=LinearSVC(C=1.0, class_weight=None, dual=True, fit_intercept=True,\n",
       "     intercept_scaling=1, loss='squared_hinge', max_iter=1000,\n",
       "     multi_class='ovr', penalty='l2', random_state=0, tol=0.0001,\n",
       "     verbose=0),\n",
       "            cv=2, method='sigmoid')"
      ]
     },
     "execution_count": 24,
     "metadata": {},
     "output_type": "execute_result"
    }
   ],
   "source": [
    "cal_class_lsvc = CalibratedClassifierCV(lsvc, cv=2, method='sigmoid')\n",
    "cal_class_lsvc.fit(Xt_train_svc, y_train_svc)"
   ]
  },
  {
   "cell_type": "code",
   "execution_count": 25,
   "metadata": {},
   "outputs": [
    {
     "data": {
      "text/plain": [
       "0.8409444248385695"
      ]
     },
     "execution_count": 25,
     "metadata": {},
     "output_type": "execute_result"
    }
   ],
   "source": [
    "cal_class_lsvc.score(Xt_test_svc, y_test_svc)"
   ]
  },
  {
   "cell_type": "markdown",
   "metadata": {},
   "source": [
    "The below cell was run and an ROC curve was generated below. It was terrible so I commented this all out so it wouldn't be re-run if I end up restarting this kernel and going through everything again."
   ]
  },
  {
   "cell_type": "markdown",
   "metadata": {},
   "source": [
    "Wow definitely don't use that one. I'm going to comment grd_lm out above."
   ]
  },
  {
   "cell_type": "markdown",
   "metadata": {},
   "source": [
    "The code in the next 2 cells also comes from a GA lesson."
   ]
  },
  {
   "cell_type": "code",
   "execution_count": 26,
   "metadata": {},
   "outputs": [],
   "source": [
    "def roc2(probas, true, step=0.01, plot=True):\n",
    "    \"\"\"\n",
    "    probas should be a numpy array of predict_probas\n",
    "    true is a pandas series of true labels\n",
    "    step is the step size for checking thresholds\n",
    "    plot is a boolean for whether we want to generate a plot\n",
    "    \"\"\"\n",
    "    \n",
    "    probas = probas[:,1]  # The output of predict_proba() is an array of the probabilities for every class, but we only want the probabilities for class 1\n",
    "    true = true.values    # We need to convert the class labels from a Pandas Series to a numpy array. We do this using the .values attribute\n",
    "    assert(len(probas) == len(true)) # We're making sure that our probabilities vector is the same length as our true class labesl vector\n",
    "    \n",
    "    TPRs = [] # Setting up empty list of True Positive Rate\n",
    "    FPRs = [] # Setting up empty list of False Positive Rate\n",
    "    \n",
    "    for i in np.arange(0.0,1.0,step): # np.arange allows us to use step sizes that are decimals\n",
    "        preds_class = probas > i # Numpy arrays have a feature called 'broadcasting.' Check the documentation: https://docs.scipy.org/doc/numpy-1.13.0/user/basics.broadcasting.html to see what this does.\n",
    "        TP = 0 \n",
    "        FP = 0\n",
    "        TN = 0\n",
    "        FN = 0\n",
    "        for index in range(len(preds_class)): # We're comparing each prediction with each true value here\n",
    "\n",
    "            if preds_class[index] == 1 and true[index] == 1:\n",
    "                TP += 1\n",
    "            elif preds_class[index] == 1 and true[index] == 0:\n",
    "                FP += 1\n",
    "            elif preds_class[index] == 0 and true[index] == 0:\n",
    "                TN += 1 \n",
    "            elif preds_class[index] == 0 and true[index] == 1:\n",
    "                FN += 1\n",
    "                \n",
    "        TPR = TP/(TP + FN) # Calculating TPR and FPR and appending to our lists\n",
    "        FPR = FP/(FP + TN)\n",
    "        \n",
    "        TPRs.append(TPR)\n",
    "        FPRs.append(FPR)\n",
    "        \n",
    "    if plot: # Only generate a plot if plot == True\n",
    "        \n",
    "        plt.rcParams['font.size'] = 14\n",
    "        plt.plot(FPRs, TPRs, color=\"orange\")\n",
    "        plt.plot([0,1],[0,1], color='navy', lw=2, linestyle='--')\n",
    "        plt.xlim([0.0, 1.0])\n",
    "        plt.ylim([0.0, 1.0])\n",
    "        plt.title('Receiver Operating Characteristic')\n",
    "        plt.xlabel(\"False Positive Rate\")\n",
    "        plt.ylabel(\"True Positive Rate\")\n",
    "        plt.show();\n",
    "        \n",
    "    return np.array(TPRs), np.array(FPRs) # We'll neet to have our TPRs and FPRs as arrays so we can use broadcasting in the next function.\n",
    "\n",
    "def sen_spec(probas, true, stat=\"sensitivity\", stat_val=0.5, step=0.01):\n",
    "    '''\n",
    "    This is the function that the assignment is asking for. We'll feed in our probas and true vectors as we do with the previous function, as well\n",
    "    as we are looking at, as well as the value of that stat that we want to find, and the step size for our roc function.\n",
    "    \n",
    "    '''\n",
    "    \n",
    "    stat = stat.lower() # turn the string into lowercase for ease of comparison\n",
    "    \n",
    "    assert(stat in [\"sensitivity\", \"specificity\"]) # Throw an error if the user did not write sensitivity or specificity\n",
    "    \n",
    "    TPRs, FPRs = roc2(probas, true, step=step, plot=False) # use our roc function to get vectors of TPR and FPR\n",
    "    \n",
    "    if stat == \"sensitivity\":\n",
    "        diffs = np.absolute(TPRs - stat_val) # We won't necessarily be able to find a threshold that gives the exact value we're looking for, but we can find the one that gets us the closest.\n",
    "        loc = np.argmin(diffs) # We want to find the index of the TPR that was closest to the value we specified\n",
    "        threshold = loc * step\n",
    "        sensitivity = TPRs[loc]\n",
    "        spec_corr = (1 - FPRs[loc])\n",
    "        \n",
    "        print(\"Sensitivity: {:.5f}%, Specificity: {:.5f}%, Threshold: {}%\".format(sensitivity*100, spec_corr*100, threshold*100))\n",
    "        return TPRs, FPRs\n",
    "    \n",
    "    elif stat == \"specificity\":\n",
    "        specificities = 1 - FPRs # FPR = 1 - specificity --> specificity = 1 - FPR\n",
    "        diffs = np.absolute(specificities - stat_val)\n",
    "        loc = np.argmin(diffs)\n",
    "        threshold = loc * step\n",
    "        specificity = specificities[loc]\n",
    "        sens_corr = (TPRs[loc])\n",
    "        \n",
    "        print(\"Specificity: {:.5f}%, Sensitivity: {:.5f}%, Threshold: {}%\".format(specificity*100, sens_corr*100, threshold*100))\n",
    "        return TPRs, FPRs"
   ]
  },
  {
   "cell_type": "code",
   "execution_count": 27,
   "metadata": {},
   "outputs": [],
   "source": [
    "def auc(y, x):\n",
    "    \n",
    "    auc = 0\n",
    "    for i in range(1,len(x)):\n",
    "        auc += ((y[i] + y[i-1])/2)*abs((x[i] - x[i-1]))\n",
    "        \n",
    "    return auc"
   ]
  },
  {
   "cell_type": "markdown",
   "metadata": {},
   "source": [
    "Going to re-run all the models for scoring with the above functions."
   ]
  },
  {
   "cell_type": "code",
   "execution_count": 28,
   "metadata": {
    "scrolled": true
   },
   "outputs": [
    {
     "data": {
      "image/png": "[encoded data removed]",
      "text/plain": [
       "<Figure size 432x288 with 1 Axes>"
      ]
     },
     "metadata": {},
     "output_type": "display_data"
    },
    {
     "data": {
      "text/plain": [
       "(array([1.        , 0.9999319 , 0.99982975, 0.99965949, 0.99918278,\n",
       "        0.99897848, 0.99850177, 0.99775266, 0.9360869 , 0.86972215,\n",
       "        0.83097249, 0.79395941, 0.7652547 , 0.73668619, 0.70508717,\n",
       "        0.67253473, 0.64257014, 0.62179924, 0.59319668, 0.55900981,\n",
       "        0.52131572, 0.47664124, 0.43714247, 0.39961863, 0.37544266,\n",
       "        0.34929175, 0.32232362, 0.28977118, 0.25538001, 0.21720921,\n",
       "        0.16960637, 0.11546581, 0.05696677, 0.02557205, 0.00769545,\n",
       "        0.0023495 , 0.        , 0.        , 0.        , 0.        ,\n",
       "        0.        , 0.        , 0.        , 0.        , 0.        ,\n",
       "        0.        , 0.        , 0.        , 0.        , 0.        ,\n",
       "        0.        , 0.        , 0.        , 0.        , 0.        ,\n",
       "        0.        , 0.        , 0.        , 0.        , 0.        ,\n",
       "        0.        , 0.        , 0.        , 0.        , 0.        ,\n",
       "        0.        , 0.        , 0.        , 0.        , 0.        ,\n",
       "        0.        , 0.        , 0.        , 0.        , 0.        ,\n",
       "        0.        , 0.        , 0.        , 0.        , 0.        ,\n",
       "        0.        , 0.        , 0.        , 0.        , 0.        ,\n",
       "        0.        , 0.        , 0.        , 0.        , 0.        ,\n",
       "        0.        , 0.        , 0.        , 0.        , 0.        ,\n",
       "        0.        , 0.        , 0.        , 0.        , 0.        ]),\n",
       " array([1.        , 0.99978587, 0.99951333, 0.99862435, 0.99659332,\n",
       "        0.99447145, 0.99156441, 0.98399834, 0.76341421, 0.63668572,\n",
       "        0.57250388, 0.517705  , 0.47886885, 0.44775451, 0.41749022,\n",
       "        0.38856913, 0.3650014 , 0.34882453, 0.3281833 , 0.30550455,\n",
       "        0.27847173, 0.25143243, 0.22761163, 0.20791777, 0.19485559,\n",
       "        0.17895775, 0.16311831, 0.14511158, 0.12659222, 0.10671667,\n",
       "        0.08324627, 0.05603826, 0.02977114, 0.01368512, 0.00336775,\n",
       "        0.00138863, 0.        , 0.        , 0.        , 0.        ,\n",
       "        0.        , 0.        , 0.        , 0.        , 0.        ,\n",
       "        0.        , 0.        , 0.        , 0.        , 0.        ,\n",
       "        0.        , 0.        , 0.        , 0.        , 0.        ,\n",
       "        0.        , 0.        , 0.        , 0.        , 0.        ,\n",
       "        0.        , 0.        , 0.        , 0.        , 0.        ,\n",
       "        0.        , 0.        , 0.        , 0.        , 0.        ,\n",
       "        0.        , 0.        , 0.        , 0.        , 0.        ,\n",
       "        0.        , 0.        , 0.        , 0.        , 0.        ,\n",
       "        0.        , 0.        , 0.        , 0.        , 0.        ,\n",
       "        0.        , 0.        , 0.        , 0.        , 0.        ,\n",
       "        0.        , 0.        , 0.        , 0.        , 0.        ,\n",
       "        0.        , 0.        , 0.        , 0.        , 0.        ]))"
      ]
     },
     "execution_count": 28,
     "metadata": {},
     "output_type": "execute_result"
    }
   ],
   "source": [
    "roc2(lr.predict_proba(Xt_test), y_test)"
   ]
  },
  {
   "cell_type": "code",
   "execution_count": null,
   "metadata": {},
   "outputs": [],
   "source": [
    "#TPRs_lr, FPRs_lr = sen_spec(probas=lr.predict_proba(Xt_test), true=y_test, stat=\"specificity\", stat_val = 0.99, step=0.01)\n",
    "#this was with 5 pca feats\n"
   ]
  },
  {
   "cell_type": "code",
   "execution_count": null,
   "metadata": {},
   "outputs": [],
   "source": [
    "#TPRs_lr, FPRs_lr = sen_spec(probas=lr.predict_proba(Xt_test), true=y_test, stat=\"specificity\", stat_val = 0.99, step=0.01)\n",
    "# 7 PCA feats"
   ]
  },
  {
   "cell_type": "code",
   "execution_count": null,
   "metadata": {},
   "outputs": [],
   "source": [
    "#TPRs_lr, FPRs_lr = sen_spec(probas=lr.predict_proba(Xt_test), true=y_test, stat=\"specificity\", stat_val = 0.99, step=0.01)\n",
    "# 8 pca feats"
   ]
  },
  {
   "cell_type": "markdown",
   "metadata": {},
   "source": [
    "A \"by-hand gridsearch\" shows that 6 PCA features gives the best sensitivity. Could be a local maxima but I'm not willing to make the data array even bigger than 8 given how many rows I have."
   ]
  },
  {
   "cell_type": "code",
   "execution_count": 29,
   "metadata": {},
   "outputs": [
    {
     "name": "stdout",
     "output_type": "stream",
     "text": [
      "Specificity: 98.63149%, Sensitivity: 2.55721%, Threshold: 33.0%\n"
     ]
    }
   ],
   "source": [
    "TPRs_lr, FPRs_lr = sen_spec(probas=lr.predict_proba(Xt_test), true=y_test, stat=\"specificity\", stat_val = 0.99, step=0.01)\n",
    "#with 6 pca feats"
   ]
  },
  {
   "cell_type": "code",
   "execution_count": 30,
   "metadata": {},
   "outputs": [
    {
     "data": {
      "text/plain": [
       "0.6796437396453459"
      ]
     },
     "execution_count": 30,
     "metadata": {},
     "output_type": "execute_result"
    }
   ],
   "source": [
    "auc(TPRs_lr, FPRs_lr)"
   ]
  },
  {
   "cell_type": "code",
   "execution_count": 31,
   "metadata": {},
   "outputs": [],
   "source": [
    "lr_preds = lr.predict(Xt_test)"
   ]
  },
  {
   "cell_type": "code",
   "execution_count": 32,
   "metadata": {},
   "outputs": [
    {
     "name": "stdout",
     "output_type": "stream",
     "text": [
      "             precision    recall  f1-score   support\n",
      "\n",
      "          0       0.84      1.00      0.91    154109\n",
      "          1       0.00      0.00      0.00     29368\n",
      "\n",
      "avg / total       0.71      0.84      0.77    183477\n",
      "\n"
     ]
    },
    {
     "name": "stderr",
     "output_type": "stream",
     "text": [
      "/Users/ryanmetz/anaconda3/envs/ipykernel_py3/lib/python3.6/site-packages/sklearn/metrics/classification.py:1135: UndefinedMetricWarning: Precision and F-score are ill-defined and being set to 0.0 in labels with no predicted samples.\n",
      "  'precision', 'predicted', average, warn_for)\n"
     ]
    }
   ],
   "source": [
    "print(classification_report(y_test, lr_preds))\n"
   ]
  },
  {
   "cell_type": "markdown",
   "metadata": {},
   "source": [
    "Bad bad bad. Gotta balance. No way around it."
   ]
  },
  {
   "cell_type": "markdown",
   "metadata": {},
   "source": [
    "This \"pipeline\" was a random trees embedding with a logistic regression performed on that output."
   ]
  },
  {
   "cell_type": "code",
   "execution_count": 33,
   "metadata": {
    "scrolled": true
   },
   "outputs": [
    {
     "data": {
      "image/png": "[encoded data removed]",
      "text/plain": [
       "<Figure size 432x288 with 1 Axes>"
      ]
     },
     "metadata": {},
     "output_type": "display_data"
    },
    {
     "data": {
      "text/plain": [
       "(array([1.        , 0.99996595, 0.9999319 , 0.99965949, 0.99897848,\n",
       "        0.99683329, 0.967073  , 0.9235903 , 0.91664397, 0.88119722,\n",
       "        0.85926859, 0.84037047, 0.80560474, 0.75514165, 0.739921  ,\n",
       "        0.68322664, 0.66807409, 0.65731408, 0.59949605, 0.58808908,\n",
       "        0.57760147, 0.57440071, 0.56966767, 0.53776219, 0.5078657 ,\n",
       "        0.43795968, 0.43795968, 0.0867611 , 0.05339145, 0.04035004,\n",
       "        0.04035004, 0.03462953, 0.01508445, 0.        , 0.        ,\n",
       "        0.        , 0.        , 0.        , 0.        , 0.        ,\n",
       "        0.        , 0.        , 0.        , 0.        , 0.        ,\n",
       "        0.        , 0.        , 0.        , 0.        , 0.        ,\n",
       "        0.        , 0.        , 0.        , 0.        , 0.        ,\n",
       "        0.        , 0.        , 0.        , 0.        , 0.        ,\n",
       "        0.        , 0.        , 0.        , 0.        , 0.        ,\n",
       "        0.        , 0.        , 0.        , 0.        , 0.        ,\n",
       "        0.        , 0.        , 0.        , 0.        , 0.        ,\n",
       "        0.        , 0.        , 0.        , 0.        , 0.        ,\n",
       "        0.        , 0.        , 0.        , 0.        , 0.        ,\n",
       "        0.        , 0.        , 0.        , 0.        , 0.        ,\n",
       "        0.        , 0.        , 0.        , 0.        , 0.        ,\n",
       "        0.        , 0.        , 0.        , 0.        , 0.        ]),\n",
       " array([1.00000000e+00, 9.99961067e-01, 9.99857244e-01, 9.98851462e-01,\n",
       "        9.93939355e-01, 9.86269459e-01, 9.01102466e-01, 7.80901829e-01,\n",
       "        7.66976620e-01, 6.83756302e-01, 6.43375792e-01, 6.07414233e-01,\n",
       "        5.55275811e-01, 4.79855167e-01, 4.63217593e-01, 4.00288108e-01,\n",
       "        3.86116320e-01, 3.76947485e-01, 3.31726246e-01, 3.22784523e-01,\n",
       "        3.16496765e-01, 3.13271775e-01, 3.10656743e-01, 2.89710530e-01,\n",
       "        2.74202026e-01, 2.31829419e-01, 2.31829419e-01, 4.12630022e-02,\n",
       "        2.14588376e-02, 1.53917033e-02, 1.53917033e-02, 1.26793374e-02,\n",
       "        5.23006443e-03, 6.48891369e-06, 6.48891369e-06, 0.00000000e+00,\n",
       "        0.00000000e+00, 0.00000000e+00, 0.00000000e+00, 0.00000000e+00,\n",
       "        0.00000000e+00, 0.00000000e+00, 0.00000000e+00, 0.00000000e+00,\n",
       "        0.00000000e+00, 0.00000000e+00, 0.00000000e+00, 0.00000000e+00,\n",
       "        0.00000000e+00, 0.00000000e+00, 0.00000000e+00, 0.00000000e+00,\n",
       "        0.00000000e+00, 0.00000000e+00, 0.00000000e+00, 0.00000000e+00,\n",
       "        0.00000000e+00, 0.00000000e+00, 0.00000000e+00, 0.00000000e+00,\n",
       "        0.00000000e+00, 0.00000000e+00, 0.00000000e+00, 0.00000000e+00,\n",
       "        0.00000000e+00, 0.00000000e+00, 0.00000000e+00, 0.00000000e+00,\n",
       "        0.00000000e+00, 0.00000000e+00, 0.00000000e+00, 0.00000000e+00,\n",
       "        0.00000000e+00, 0.00000000e+00, 0.00000000e+00, 0.00000000e+00,\n",
       "        0.00000000e+00, 0.00000000e+00, 0.00000000e+00, 0.00000000e+00,\n",
       "        0.00000000e+00, 0.00000000e+00, 0.00000000e+00, 0.00000000e+00,\n",
       "        0.00000000e+00, 0.00000000e+00, 0.00000000e+00, 0.00000000e+00,\n",
       "        0.00000000e+00, 0.00000000e+00, 0.00000000e+00, 0.00000000e+00,\n",
       "        0.00000000e+00, 0.00000000e+00, 0.00000000e+00, 0.00000000e+00,\n",
       "        0.00000000e+00, 0.00000000e+00, 0.00000000e+00, 0.00000000e+00]))"
      ]
     },
     "execution_count": 33,
     "metadata": {},
     "output_type": "execute_result"
    }
   ],
   "source": [
    "roc2(rt_lr_pipeline.predict_proba(Xt_test), y_test)"
   ]
  },
  {
   "cell_type": "code",
   "execution_count": 34,
   "metadata": {},
   "outputs": [
    {
     "name": "stdout",
     "output_type": "stream",
     "text": [
      "Specificity: 98.73207%, Sensitivity: 3.46295%, Threshold: 31.0%\n"
     ]
    }
   ],
   "source": [
    "TPRs_rt, FPRs_rt = sen_spec(probas=rt_lr_pipeline.predict_proba(Xt_test), true=y_test, stat=\"specificity\", stat_val = 0.99, step=0.01)\n"
   ]
  },
  {
   "cell_type": "code",
   "execution_count": 35,
   "metadata": {},
   "outputs": [
    {
     "data": {
      "text/plain": [
       "0.6714112630429396"
      ]
     },
     "execution_count": 35,
     "metadata": {},
     "output_type": "execute_result"
    }
   ],
   "source": [
    "auc(TPRs_rt, FPRs_rt)"
   ]
  },
  {
   "cell_type": "markdown",
   "metadata": {},
   "source": [
    "Now for the random forest."
   ]
  },
  {
   "cell_type": "code",
   "execution_count": 36,
   "metadata": {
    "scrolled": true
   },
   "outputs": [
    {
     "data": {
      "image/png": "[encoded data removed]",
      "text/plain": [
       "<Figure size 432x288 with 1 Axes>"
      ]
     },
     "metadata": {},
     "output_type": "display_data"
    },
    {
     "data": {
      "text/plain": [
       "(array([1.00000000e+00, 1.00000000e+00, 1.00000000e+00, 1.00000000e+00,\n",
       "        1.00000000e+00, 9.88014165e-01, 9.75074911e-01, 9.56006538e-01,\n",
       "        9.16609916e-01, 8.93489512e-01, 8.72548352e-01, 8.62912013e-01,\n",
       "        8.49461999e-01, 8.19940071e-01, 7.92495233e-01, 7.63926723e-01,\n",
       "        7.46560883e-01, 7.27424408e-01, 6.96131844e-01, 6.61944974e-01,\n",
       "        6.31129120e-01, 5.73345138e-01, 5.12530646e-01, 4.71567693e-01,\n",
       "        3.88211659e-01, 3.42958322e-01, 2.84970035e-01, 2.69408880e-01,\n",
       "        2.61543176e-01, 2.49659493e-01, 1.82307273e-01, 9.61590847e-02,\n",
       "        5.61836012e-02, 1.68550804e-02, 4.90329610e-03, 2.38354672e-04,\n",
       "        1.36202670e-04, 0.00000000e+00, 0.00000000e+00, 0.00000000e+00,\n",
       "        0.00000000e+00, 0.00000000e+00, 0.00000000e+00, 0.00000000e+00,\n",
       "        0.00000000e+00, 0.00000000e+00, 0.00000000e+00, 0.00000000e+00,\n",
       "        0.00000000e+00, 0.00000000e+00, 0.00000000e+00, 0.00000000e+00,\n",
       "        0.00000000e+00, 0.00000000e+00, 0.00000000e+00, 0.00000000e+00,\n",
       "        0.00000000e+00, 0.00000000e+00, 0.00000000e+00, 0.00000000e+00,\n",
       "        0.00000000e+00, 0.00000000e+00, 0.00000000e+00, 0.00000000e+00,\n",
       "        0.00000000e+00, 0.00000000e+00, 0.00000000e+00, 0.00000000e+00,\n",
       "        0.00000000e+00, 0.00000000e+00, 0.00000000e+00, 0.00000000e+00,\n",
       "        0.00000000e+00, 0.00000000e+00, 0.00000000e+00, 0.00000000e+00,\n",
       "        0.00000000e+00, 0.00000000e+00, 0.00000000e+00, 0.00000000e+00,\n",
       "        0.00000000e+00, 0.00000000e+00, 0.00000000e+00, 0.00000000e+00,\n",
       "        0.00000000e+00, 0.00000000e+00, 0.00000000e+00, 0.00000000e+00,\n",
       "        0.00000000e+00, 0.00000000e+00, 0.00000000e+00, 0.00000000e+00,\n",
       "        0.00000000e+00, 0.00000000e+00, 0.00000000e+00, 0.00000000e+00,\n",
       "        0.00000000e+00, 0.00000000e+00, 0.00000000e+00, 0.00000000e+00]),\n",
       " array([1.00000000e+00, 1.00000000e+00, 1.00000000e+00, 1.00000000e+00,\n",
       "        1.00000000e+00, 9.02231537e-01, 8.53344062e-01, 7.82128234e-01,\n",
       "        6.64484229e-01, 6.24519009e-01, 5.82477337e-01, 5.66456210e-01,\n",
       "        5.45146617e-01, 5.09827460e-01, 4.80270458e-01, 4.51524570e-01,\n",
       "        4.34925929e-01, 4.17821153e-01, 3.87446548e-01, 3.59686975e-01,\n",
       "        3.34529456e-01, 2.87368032e-01, 2.35930413e-01, 2.07697149e-01,\n",
       "        1.52567339e-01, 1.23166071e-01, 9.56725435e-02, 8.87294058e-02,\n",
       "        8.45440565e-02, 7.93464366e-02, 5.44938972e-02, 2.46124496e-02,\n",
       "        1.25884926e-02, 2.88107768e-03, 9.34403571e-04, 1.94667411e-05,\n",
       "        6.48891369e-06, 0.00000000e+00, 0.00000000e+00, 0.00000000e+00,\n",
       "        0.00000000e+00, 0.00000000e+00, 0.00000000e+00, 0.00000000e+00,\n",
       "        0.00000000e+00, 0.00000000e+00, 0.00000000e+00, 0.00000000e+00,\n",
       "        0.00000000e+00, 0.00000000e+00, 0.00000000e+00, 0.00000000e+00,\n",
       "        0.00000000e+00, 0.00000000e+00, 0.00000000e+00, 0.00000000e+00,\n",
       "        0.00000000e+00, 0.00000000e+00, 0.00000000e+00, 0.00000000e+00,\n",
       "        0.00000000e+00, 0.00000000e+00, 0.00000000e+00, 0.00000000e+00,\n",
       "        0.00000000e+00, 0.00000000e+00, 0.00000000e+00, 0.00000000e+00,\n",
       "        0.00000000e+00, 0.00000000e+00, 0.00000000e+00, 0.00000000e+00,\n",
       "        0.00000000e+00, 0.00000000e+00, 0.00000000e+00, 0.00000000e+00,\n",
       "        0.00000000e+00, 0.00000000e+00, 0.00000000e+00, 0.00000000e+00,\n",
       "        0.00000000e+00, 0.00000000e+00, 0.00000000e+00, 0.00000000e+00,\n",
       "        0.00000000e+00, 0.00000000e+00, 0.00000000e+00, 0.00000000e+00,\n",
       "        0.00000000e+00, 0.00000000e+00, 0.00000000e+00, 0.00000000e+00,\n",
       "        0.00000000e+00, 0.00000000e+00, 0.00000000e+00, 0.00000000e+00,\n",
       "        0.00000000e+00, 0.00000000e+00, 0.00000000e+00, 0.00000000e+00]))"
      ]
     },
     "execution_count": 36,
     "metadata": {},
     "output_type": "execute_result"
    }
   ],
   "source": [
    "roc2(rf.predict_proba(Xt_test), y_test)"
   ]
  },
  {
   "cell_type": "code",
   "execution_count": 37,
   "metadata": {},
   "outputs": [
    {
     "name": "stdout",
     "output_type": "stream",
     "text": [
      "Specificity: 98.74115%, Sensitivity: 5.61836%, Threshold: 32.0%\n"
     ]
    }
   ],
   "source": [
    "TPRs_rf, FPRs_rf = sen_spec(probas=rf.predict_proba(Xt_test), true=y_test, stat=\"specificity\", stat_val = 0.99, step=0.01)\n"
   ]
  },
  {
   "cell_type": "code",
   "execution_count": 38,
   "metadata": {},
   "outputs": [
    {
     "data": {
      "text/plain": [
       "0.7155682523253207"
      ]
     },
     "execution_count": 38,
     "metadata": {},
     "output_type": "execute_result"
    }
   ],
   "source": [
    "auc(TPRs_rf, FPRs_rf)"
   ]
  },
  {
   "cell_type": "markdown",
   "metadata": {},
   "source": [
    "Next is Gradient Boosted Trees Classifier"
   ]
  },
  {
   "cell_type": "code",
   "execution_count": 39,
   "metadata": {
    "scrolled": true
   },
   "outputs": [
    {
     "data": {
      "image/png": "[encoded data removed]",
      "text/plain": [
       "<Figure size 432x288 with 1 Axes>"
      ]
     },
     "metadata": {},
     "output_type": "display_data"
    },
    {
     "data": {
      "text/plain": [
       "(array([1.        , 1.        , 1.        , 1.        , 1.        ,\n",
       "        1.        , 1.        , 1.        , 1.        , 0.98944429,\n",
       "        0.95362299, 0.89985699, 0.87183329, 0.85290112, 0.83890629,\n",
       "        0.77407382, 0.63524925, 0.61117543, 0.532927  , 0.51903432,\n",
       "        0.49390493, 0.44797058, 0.35565922, 0.30328929, 0.29229093,\n",
       "        0.28469763, 0.24594797, 0.21271452, 0.20113729, 0.14120812,\n",
       "        0.13964179, 0.        , 0.        , 0.        , 0.        ,\n",
       "        0.        , 0.        , 0.        , 0.        , 0.        ,\n",
       "        0.        , 0.        , 0.        , 0.        , 0.        ,\n",
       "        0.        , 0.        , 0.        , 0.        , 0.        ,\n",
       "        0.        , 0.        , 0.        , 0.        , 0.        ,\n",
       "        0.        , 0.        , 0.        , 0.        , 0.        ,\n",
       "        0.        , 0.        , 0.        , 0.        , 0.        ,\n",
       "        0.        , 0.        , 0.        , 0.        , 0.        ,\n",
       "        0.        , 0.        , 0.        , 0.        , 0.        ,\n",
       "        0.        , 0.        , 0.        , 0.        , 0.        ,\n",
       "        0.        , 0.        , 0.        , 0.        , 0.        ,\n",
       "        0.        , 0.        , 0.        , 0.        , 0.        ,\n",
       "        0.        , 0.        , 0.        , 0.        , 0.        ,\n",
       "        0.        , 0.        , 0.        , 0.        , 0.        ]),\n",
       " array([1.        , 1.        , 1.        , 1.        , 1.        ,\n",
       "        1.        , 1.        , 1.        , 1.        , 0.9119714 ,\n",
       "        0.77484118, 0.62527172, 0.57968062, 0.54957855, 0.53303182,\n",
       "        0.45927233, 0.3302922 , 0.30910589, 0.24654628, 0.23596286,\n",
       "        0.22040893, 0.18956064, 0.13766879, 0.10934468, 0.10469862,\n",
       "        0.0992674 , 0.08175382, 0.06671901, 0.06092441, 0.0395694 ,\n",
       "        0.03906975, 0.        , 0.        , 0.        , 0.        ,\n",
       "        0.        , 0.        , 0.        , 0.        , 0.        ,\n",
       "        0.        , 0.        , 0.        , 0.        , 0.        ,\n",
       "        0.        , 0.        , 0.        , 0.        , 0.        ,\n",
       "        0.        , 0.        , 0.        , 0.        , 0.        ,\n",
       "        0.        , 0.        , 0.        , 0.        , 0.        ,\n",
       "        0.        , 0.        , 0.        , 0.        , 0.        ,\n",
       "        0.        , 0.        , 0.        , 0.        , 0.        ,\n",
       "        0.        , 0.        , 0.        , 0.        , 0.        ,\n",
       "        0.        , 0.        , 0.        , 0.        , 0.        ,\n",
       "        0.        , 0.        , 0.        , 0.        , 0.        ,\n",
       "        0.        , 0.        , 0.        , 0.        , 0.        ,\n",
       "        0.        , 0.        , 0.        , 0.        , 0.        ,\n",
       "        0.        , 0.        , 0.        , 0.        , 0.        ]))"
      ]
     },
     "execution_count": 39,
     "metadata": {},
     "output_type": "execute_result"
    }
   ],
   "source": [
    "roc2(grd.predict_proba(Xt_test), y_test)"
   ]
  },
  {
   "cell_type": "code",
   "execution_count": 40,
   "metadata": {},
   "outputs": [
    {
     "name": "stdout",
     "output_type": "stream",
     "text": [
      "Specificity: 100.00000%, Sensitivity: 0.00000%, Threshold: 31.0%\n"
     ]
    }
   ],
   "source": [
    "TPRs_grd, FPRs_grd = sen_spec(probas=grd.predict_proba(Xt_test), true=y_test, stat=\"specificity\", stat_val = 0.99, step=0.01)\n"
   ]
  },
  {
   "cell_type": "code",
   "execution_count": 41,
   "metadata": {},
   "outputs": [
    {
     "data": {
      "text/plain": [
       "0.7159622564115757"
      ]
     },
     "execution_count": 41,
     "metadata": {},
     "output_type": "execute_result"
    }
   ],
   "source": [
    "auc(TPRs_grd, FPRs_grd)"
   ]
  },
  {
   "cell_type": "markdown",
   "metadata": {},
   "source": [
    "Now for XGBoost"
   ]
  },
  {
   "cell_type": "code",
   "execution_count": 42,
   "metadata": {
    "scrolled": true
   },
   "outputs": [
    {
     "data": {
      "image/png": "[encoded data removed]",
      "text/plain": [
       "<Figure size 432x288 with 1 Axes>"
      ]
     },
     "metadata": {},
     "output_type": "display_data"
    },
    {
     "data": {
      "text/plain": [
       "(array([1.00000000e+00, 1.00000000e+00, 9.98944429e-01, 9.96050123e-01,\n",
       "        9.90159357e-01, 9.78071370e-01, 9.56857804e-01, 9.36972215e-01,\n",
       "        9.15826750e-01, 8.97303187e-01, 8.81401525e-01, 8.64682648e-01,\n",
       "        8.43673386e-01, 8.27873876e-01, 8.01144102e-01, 7.57627349e-01,\n",
       "        7.05495778e-01, 6.70695996e-01, 6.31265323e-01, 5.96056933e-01,\n",
       "        5.56558159e-01, 5.15799510e-01, 4.88661128e-01, 4.67924271e-01,\n",
       "        4.48413239e-01, 4.17563334e-01, 3.85249251e-01, 3.54807954e-01,\n",
       "        3.29576410e-01, 3.10746391e-01, 2.87762190e-01, 2.67638246e-01,\n",
       "        2.43598475e-01, 2.22487061e-01, 2.00728684e-01, 1.83396895e-01,\n",
       "        1.67290929e-01, 1.52887497e-01, 1.33580768e-01, 1.15840370e-01,\n",
       "        9.11876873e-02, 6.46622174e-02, 5.28466358e-02, 4.12694089e-02,\n",
       "        3.21097794e-02, 2.35630618e-02, 1.81490057e-02, 1.42331790e-02,\n",
       "        9.36393353e-03, 7.11658949e-03, 5.78861346e-03, 4.90329610e-03,\n",
       "        4.52873876e-03, 2.72405339e-03, 1.46417870e-03, 1.02152002e-03,\n",
       "        8.17216017e-04, 3.06456007e-04, 6.81013348e-05, 0.00000000e+00,\n",
       "        0.00000000e+00, 0.00000000e+00, 0.00000000e+00, 0.00000000e+00,\n",
       "        0.00000000e+00, 0.00000000e+00, 0.00000000e+00, 0.00000000e+00,\n",
       "        0.00000000e+00, 0.00000000e+00, 0.00000000e+00, 0.00000000e+00,\n",
       "        0.00000000e+00, 0.00000000e+00, 0.00000000e+00, 0.00000000e+00,\n",
       "        0.00000000e+00, 0.00000000e+00, 0.00000000e+00, 0.00000000e+00,\n",
       "        0.00000000e+00, 0.00000000e+00, 0.00000000e+00, 0.00000000e+00,\n",
       "        0.00000000e+00, 0.00000000e+00, 0.00000000e+00, 0.00000000e+00,\n",
       "        0.00000000e+00, 0.00000000e+00, 0.00000000e+00, 0.00000000e+00,\n",
       "        0.00000000e+00, 0.00000000e+00, 0.00000000e+00, 0.00000000e+00,\n",
       "        0.00000000e+00, 0.00000000e+00, 0.00000000e+00, 0.00000000e+00]),\n",
       " array([1.00000000e+00, 1.00000000e+00, 9.73869145e-01, 9.38790077e-01,\n",
       "        8.96586183e-01, 8.34785769e-01, 7.50942515e-01, 6.96474573e-01,\n",
       "        6.47749320e-01, 6.10950691e-01, 5.82542227e-01, 5.57040796e-01,\n",
       "        5.29021666e-01, 5.10586663e-01, 4.77953916e-01, 4.30318800e-01,\n",
       "        3.76915041e-01, 3.43425757e-01, 3.09112381e-01, 2.82209345e-01,\n",
       "        2.50939270e-01, 2.20674977e-01, 2.03706468e-01, 1.88853344e-01,\n",
       "        1.75492671e-01, 1.57661136e-01, 1.38402040e-01, 1.22257623e-01,\n",
       "        1.09831353e-01, 1.01324387e-01, 9.05917240e-02, 8.21366695e-02,\n",
       "        7.28899675e-02, 6.40910005e-02, 5.56164792e-02, 4.97375234e-02,\n",
       "        4.44231031e-02, 3.94915287e-02, 3.27949698e-02, 2.77920173e-02,\n",
       "        2.11343919e-02, 1.32828063e-02, 1.00383495e-02, 7.09887158e-03,\n",
       "        5.14570856e-03, 3.43912426e-03, 2.55014308e-03, 1.88178497e-03,\n",
       "        1.15502664e-03, 8.82492262e-04, 7.20269420e-04, 5.84002232e-04,\n",
       "        5.19113095e-04, 3.04978943e-04, 1.94667411e-04, 1.23289360e-04,\n",
       "        1.16800446e-04, 5.19113095e-05, 0.00000000e+00, 0.00000000e+00,\n",
       "        0.00000000e+00, 0.00000000e+00, 0.00000000e+00, 0.00000000e+00,\n",
       "        0.00000000e+00, 0.00000000e+00, 0.00000000e+00, 0.00000000e+00,\n",
       "        0.00000000e+00, 0.00000000e+00, 0.00000000e+00, 0.00000000e+00,\n",
       "        0.00000000e+00, 0.00000000e+00, 0.00000000e+00, 0.00000000e+00,\n",
       "        0.00000000e+00, 0.00000000e+00, 0.00000000e+00, 0.00000000e+00,\n",
       "        0.00000000e+00, 0.00000000e+00, 0.00000000e+00, 0.00000000e+00,\n",
       "        0.00000000e+00, 0.00000000e+00, 0.00000000e+00, 0.00000000e+00,\n",
       "        0.00000000e+00, 0.00000000e+00, 0.00000000e+00, 0.00000000e+00,\n",
       "        0.00000000e+00, 0.00000000e+00, 0.00000000e+00, 0.00000000e+00,\n",
       "        0.00000000e+00, 0.00000000e+00, 0.00000000e+00, 0.00000000e+00]))"
      ]
     },
     "execution_count": 42,
     "metadata": {},
     "output_type": "execute_result"
    }
   ],
   "source": [
    "roc2(xgb.predict_proba(Xt_test), y_test)"
   ]
  },
  {
   "cell_type": "code",
   "execution_count": 43,
   "metadata": {},
   "outputs": [
    {
     "name": "stdout",
     "output_type": "stream",
     "text": [
      "Specificity: 98.99617%, Sensitivity: 5.28466%, Threshold: 42.0%\n"
     ]
    }
   ],
   "source": [
    "TPRs_xgb, FPRs_xgb = sen_spec(probas=xgb.predict_proba(Xt_test), true=y_test, stat=\"specificity\", stat_val = 0.99, step=0.01)\n"
   ]
  },
  {
   "cell_type": "code",
   "execution_count": 44,
   "metadata": {},
   "outputs": [
    {
     "data": {
      "text/plain": [
       "0.7289559548747685"
      ]
     },
     "execution_count": 44,
     "metadata": {},
     "output_type": "execute_result"
    }
   ],
   "source": [
    "auc(TPRs_xgb, FPRs_xgb)"
   ]
  },
  {
   "cell_type": "markdown",
   "metadata": {},
   "source": [
    "Now Gaussian Naive Bayes Classifier."
   ]
  },
  {
   "cell_type": "code",
   "execution_count": 45,
   "metadata": {
    "scrolled": true
   },
   "outputs": [
    {
     "data": {
      "image/png": "[encoded data removed]",
      "text/plain": [
       "<Figure size 432x288 with 1 Axes>"
      ]
     },
     "metadata": {},
     "output_type": "display_data"
    },
    {
     "data": {
      "text/plain": [
       "(array([0.99972759, 0.99673114, 0.99656088, 0.99632253, 0.99611822,\n",
       "        0.99608417, 0.99591392, 0.99577772, 0.99567557, 0.99550531,\n",
       "        0.99533506, 0.99523291, 0.99519886, 0.99506265, 0.99485835,\n",
       "        0.99417734, 0.99267911, 0.98913784, 0.98593707, 0.98433669,\n",
       "        0.98348543, 0.98307682, 0.98099973, 0.97807137, 0.97582403,\n",
       "        0.97034187, 0.95971806, 0.94957096, 0.93959412, 0.92944702,\n",
       "        0.9183465 , 0.90353446, 0.8902547 , 0.87700899, 0.8649891 ,\n",
       "        0.85644239, 0.84554617, 0.83345819, 0.81997412, 0.80580904,\n",
       "        0.79293789, 0.78173522, 0.77032825, 0.76093026, 0.75173658,\n",
       "        0.74162354, 0.73137428, 0.72064832, 0.70859439, 0.69442931,\n",
       "        0.67754018, 0.66099156, 0.64662217, 0.63126532, 0.61767911,\n",
       "        0.60518251, 0.5869654 , 0.55938436, 0.53061155, 0.4997957 ,\n",
       "        0.46901389, 0.44194361, 0.41637156, 0.3926042 , 0.37632798,\n",
       "        0.35007491, 0.3213021 , 0.28912422, 0.25071506, 0.21400844,\n",
       "        0.17971942, 0.14526015, 0.12043721, 0.09425225, 0.06309589,\n",
       "        0.02478889, 0.0052438 , 0.        , 0.        , 0.        ,\n",
       "        0.        , 0.        , 0.        , 0.        , 0.        ,\n",
       "        0.        , 0.        , 0.        , 0.        , 0.        ,\n",
       "        0.        , 0.        , 0.        , 0.        , 0.        ,\n",
       "        0.        , 0.        , 0.        , 0.        , 0.        ]),\n",
       " array([0.99934462, 0.98689239, 0.98590608, 0.98527017, 0.98469914,\n",
       "        0.98405025, 0.98355709, 0.98305745, 0.98259673, 0.98202571,\n",
       "        0.98154553, 0.98095504, 0.98040348, 0.97967672, 0.97898241,\n",
       "        0.97698382, 0.96964486, 0.9619555 , 0.95586241, 0.95129421,\n",
       "        0.94949678, 0.94576566, 0.93707052, 0.92901777, 0.91833053,\n",
       "        0.8897858 , 0.85840541, 0.83573964, 0.81421591, 0.7912776 ,\n",
       "        0.75779481, 0.71880293, 0.68619613, 0.65891674, 0.64062449,\n",
       "        0.62601795, 0.60463049, 0.58078373, 0.55804658, 0.53734045,\n",
       "        0.51997612, 0.50551233, 0.49200241, 0.4796021 , 0.46907059,\n",
       "        0.45957731, 0.44879274, 0.4364054 , 0.42279166, 0.40855498,\n",
       "        0.39444809, 0.38184662, 0.37073759, 0.35864226, 0.34724773,\n",
       "        0.33733916, 0.32360861, 0.30610153, 0.28751728, 0.26738867,\n",
       "        0.24936246, 0.23397076, 0.21939666, 0.20715857, 0.19756147,\n",
       "        0.18276674, 0.16687539, 0.1492515 , 0.13100468, 0.11310825,\n",
       "        0.09613975, 0.07976822, 0.06562238, 0.04964019, 0.03229532,\n",
       "        0.01396414, 0.00464606, 0.        , 0.        , 0.        ,\n",
       "        0.        , 0.        , 0.        , 0.        , 0.        ,\n",
       "        0.        , 0.        , 0.        , 0.        , 0.        ,\n",
       "        0.        , 0.        , 0.        , 0.        , 0.        ,\n",
       "        0.        , 0.        , 0.        , 0.        , 0.        ]))"
      ]
     },
     "execution_count": 45,
     "metadata": {},
     "output_type": "execute_result"
    }
   ],
   "source": [
    "roc2(gnb.predict_proba(Xt_test), y_test)"
   ]
  },
  {
   "cell_type": "code",
   "execution_count": 46,
   "metadata": {},
   "outputs": [
    {
     "name": "stdout",
     "output_type": "stream",
     "text": [
      "Specificity: 98.60359%, Sensitivity: 2.47889%, Threshold: 75.0%\n"
     ]
    }
   ],
   "source": [
    "TPRs_gnb, FPRs_gnb = sen_spec(probas=gnb.predict_proba(Xt_test), true=y_test, stat=\"specificity\", stat_val = 0.99, step=0.01)\n"
   ]
  },
  {
   "cell_type": "code",
   "execution_count": 47,
   "metadata": {},
   "outputs": [
    {
     "data": {
      "text/plain": [
       "0.6733207200219891"
      ]
     },
     "execution_count": 47,
     "metadata": {},
     "output_type": "execute_result"
    }
   ],
   "source": [
    "auc(TPRs_gnb, FPRs_gnb)"
   ]
  },
  {
   "cell_type": "code",
   "execution_count": 51,
   "metadata": {
    "scrolled": true
   },
   "outputs": [
    {
     "data": {
      "image/png": "[encoded data removed]",
      "text/plain": [
       "<Figure size 432x288 with 1 Axes>"
      ]
     },
     "metadata": {},
     "output_type": "display_data"
    },
    {
     "data": {
      "text/plain": [
       "(array([1.00000000e+00, 9.99965733e-01, 9.99948600e-01, 9.99940034e-01,\n",
       "        9.99914334e-01, 9.99888634e-01, 9.99862934e-01, 9.99837234e-01,\n",
       "        9.99828667e-01, 9.99802967e-01, 9.99768701e-01, 9.99734434e-01,\n",
       "        9.99631635e-01, 9.99520269e-01, 9.99297536e-01, 9.98637906e-01,\n",
       "        9.87724017e-01, 2.56998938e-05, 8.56663126e-06, 0.00000000e+00,\n",
       "        0.00000000e+00, 0.00000000e+00, 0.00000000e+00, 0.00000000e+00,\n",
       "        0.00000000e+00, 0.00000000e+00, 0.00000000e+00, 0.00000000e+00,\n",
       "        0.00000000e+00, 0.00000000e+00, 0.00000000e+00, 0.00000000e+00,\n",
       "        0.00000000e+00, 0.00000000e+00, 0.00000000e+00, 0.00000000e+00,\n",
       "        0.00000000e+00, 0.00000000e+00, 0.00000000e+00, 0.00000000e+00,\n",
       "        0.00000000e+00, 0.00000000e+00, 0.00000000e+00, 0.00000000e+00,\n",
       "        0.00000000e+00, 0.00000000e+00, 0.00000000e+00, 0.00000000e+00,\n",
       "        0.00000000e+00, 0.00000000e+00, 0.00000000e+00, 0.00000000e+00,\n",
       "        0.00000000e+00, 0.00000000e+00, 0.00000000e+00, 0.00000000e+00,\n",
       "        0.00000000e+00, 0.00000000e+00, 0.00000000e+00, 0.00000000e+00,\n",
       "        0.00000000e+00, 0.00000000e+00, 0.00000000e+00, 0.00000000e+00,\n",
       "        0.00000000e+00, 0.00000000e+00, 0.00000000e+00, 0.00000000e+00,\n",
       "        0.00000000e+00, 0.00000000e+00, 0.00000000e+00, 0.00000000e+00,\n",
       "        0.00000000e+00, 0.00000000e+00, 0.00000000e+00, 0.00000000e+00,\n",
       "        0.00000000e+00, 0.00000000e+00, 0.00000000e+00, 0.00000000e+00,\n",
       "        0.00000000e+00, 0.00000000e+00, 0.00000000e+00, 0.00000000e+00,\n",
       "        0.00000000e+00, 0.00000000e+00, 0.00000000e+00, 0.00000000e+00,\n",
       "        0.00000000e+00, 0.00000000e+00, 0.00000000e+00, 0.00000000e+00,\n",
       "        0.00000000e+00, 0.00000000e+00, 0.00000000e+00, 0.00000000e+00,\n",
       "        0.00000000e+00, 0.00000000e+00, 0.00000000e+00, 0.00000000e+00]),\n",
       " array([1.00000000e+00, 9.99826629e-01, 9.99756957e-01, 9.99692146e-01,\n",
       "        9.99599789e-01, 9.99509053e-01, 9.99395633e-01, 9.99306518e-01,\n",
       "        9.99168793e-01, 9.99006765e-01, 9.98789646e-01, 9.98559566e-01,\n",
       "        9.98196622e-01, 9.97729979e-01, 9.96955483e-01, 9.95166687e-01,\n",
       "        9.83622149e-01, 3.56462916e-05, 2.75448617e-05, 1.78231458e-05,\n",
       "        1.62028598e-05, 1.62028598e-05, 1.29622878e-05, 1.29622878e-05,\n",
       "        9.72171588e-06, 1.62028598e-06, 0.00000000e+00, 0.00000000e+00,\n",
       "        0.00000000e+00, 0.00000000e+00, 0.00000000e+00, 0.00000000e+00,\n",
       "        0.00000000e+00, 0.00000000e+00, 0.00000000e+00, 0.00000000e+00,\n",
       "        0.00000000e+00, 0.00000000e+00, 0.00000000e+00, 0.00000000e+00,\n",
       "        0.00000000e+00, 0.00000000e+00, 0.00000000e+00, 0.00000000e+00,\n",
       "        0.00000000e+00, 0.00000000e+00, 0.00000000e+00, 0.00000000e+00,\n",
       "        0.00000000e+00, 0.00000000e+00, 0.00000000e+00, 0.00000000e+00,\n",
       "        0.00000000e+00, 0.00000000e+00, 0.00000000e+00, 0.00000000e+00,\n",
       "        0.00000000e+00, 0.00000000e+00, 0.00000000e+00, 0.00000000e+00,\n",
       "        0.00000000e+00, 0.00000000e+00, 0.00000000e+00, 0.00000000e+00,\n",
       "        0.00000000e+00, 0.00000000e+00, 0.00000000e+00, 0.00000000e+00,\n",
       "        0.00000000e+00, 0.00000000e+00, 0.00000000e+00, 0.00000000e+00,\n",
       "        0.00000000e+00, 0.00000000e+00, 0.00000000e+00, 0.00000000e+00,\n",
       "        0.00000000e+00, 0.00000000e+00, 0.00000000e+00, 0.00000000e+00,\n",
       "        0.00000000e+00, 0.00000000e+00, 0.00000000e+00, 0.00000000e+00,\n",
       "        0.00000000e+00, 0.00000000e+00, 0.00000000e+00, 0.00000000e+00,\n",
       "        0.00000000e+00, 0.00000000e+00, 0.00000000e+00, 0.00000000e+00,\n",
       "        0.00000000e+00, 0.00000000e+00, 0.00000000e+00, 0.00000000e+00,\n",
       "        0.00000000e+00, 0.00000000e+00, 0.00000000e+00, 0.00000000e+00]))"
      ]
     },
     "execution_count": 51,
     "metadata": {},
     "output_type": "execute_result"
    }
   ],
   "source": [
    "roc2(cal_class_lsvc.predict_proba(Xt_test_svc), y_test_svc)"
   ]
  },
  {
   "cell_type": "markdown",
   "metadata": {},
   "source": [
    "I screwed up by calibrating and training on the same data set, which is fatal to this technique. I'll have to go fix that."
   ]
  },
  {
   "cell_type": "code",
   "execution_count": 52,
   "metadata": {},
   "outputs": [
    {
     "name": "stdout",
     "output_type": "stream",
     "text": [
      "Specificity: 99.99644%, Sensitivity: 0.00257%, Threshold: 17.0%\n"
     ]
    }
   ],
   "source": [
    "TPRs_calclass_lsvc, FPRs_calclass_lsvc = sen_spec(probas=cal_class_lsvc.predict_proba(Xt_test_svc), true=y_test_svc, stat=\"specificity\", stat_val = 0.99, step=0.01)\n"
   ]
  },
  {
   "cell_type": "code",
   "execution_count": 53,
   "metadata": {},
   "outputs": [
    {
     "data": {
      "text/plain": [
       "0.5020649469298946"
      ]
     },
     "execution_count": 53,
     "metadata": {},
     "output_type": "execute_result"
    }
   ],
   "source": [
    "auc(TPRs_calclass_lsvc, FPRs_calclass_lsvc)"
   ]
  },
  {
   "cell_type": "markdown",
   "metadata": {},
   "source": [
    "It would appear that having my classes unbalanced, cases of Arson make up only 16% of the instances in my sample. Has truly come back to haunt me. I will now deal with that in various ways."
   ]
  },
  {
   "cell_type": "code",
   "execution_count": 54,
   "metadata": {
    "scrolled": true
   },
   "outputs": [
    {
     "data": {
      "text/plain": [
       "0    771131\n",
       "1    146252\n",
       "Name: ARSON, dtype: int64"
      ]
     },
     "execution_count": 54,
     "metadata": {},
     "output_type": "execute_result"
    }
   ],
   "source": [
    "df_wburn.ARSON.value_counts()"
   ]
  },
  {
   "cell_type": "code",
   "execution_count": 56,
   "metadata": {},
   "outputs": [
    {
     "data": {
      "text/plain": [
       "1    146252\n",
       "0    146252\n",
       "Name: ARSON, dtype: int64"
      ]
     },
     "execution_count": 56,
     "metadata": {},
     "output_type": "execute_result"
    }
   ],
   "source": [
    "# Method 1: downsample majority class\n",
    "\n",
    "df_minority = df_wburn[df_wburn['ARSON']==1]\n",
    "df_majority = df_wburn[df_wburn['ARSON']==0]\n",
    " \n",
    "df_majority_downsampled = resample(df_majority, \n",
    "                                 replace=False,    # sample without replacement\n",
    "                                 n_samples=146252,     # to match minority class\n",
    "                                 random_state=42) # reproducible results\n",
    " \n",
    "# Combine minority class with downsampled majority class\n",
    "df_downsampled = pd.concat([df_majority_downsampled, df_minority])\n",
    " \n",
    "# Display new class counts\n",
    "df_downsampled.ARSON.value_counts()"
   ]
  },
  {
   "cell_type": "code",
   "execution_count": 126,
   "metadata": {},
   "outputs": [],
   "source": [
    "df_downsampled.to_csv('./df_down.csv', index=False)"
   ]
  },
  {
   "cell_type": "code",
   "execution_count": 129,
   "metadata": {},
   "outputs": [
    {
     "data": {
      "text/plain": [
       "(292504, 76)"
      ]
     },
     "execution_count": 129,
     "metadata": {},
     "output_type": "execute_result"
    }
   ],
   "source": [
    "df_downsampled.shape"
   ]
  },
  {
   "cell_type": "code",
   "execution_count": 130,
   "metadata": {},
   "outputs": [],
   "source": [
    "Xd = df_downsampled.drop(['ARSON'], axis=1)\n",
    "yd = df_downsampled['ARSON']"
   ]
  },
  {
   "cell_type": "code",
   "execution_count": 58,
   "metadata": {},
   "outputs": [],
   "source": [
    "Xd_train, Xd_test, y_train_down, y_test_down = train_test_split(Xd, yd, test_size=0.2, random_state=42)"
   ]
  },
  {
   "cell_type": "code",
   "execution_count": 59,
   "metadata": {},
   "outputs": [],
   "source": [
    "pca_6_down = PCA(n_components=6)\n",
    "pca_6_down.fit(Xd_train)\n",
    "Xt_train_down = pca_6_down.transform(Xd_train)\n",
    "Xt_test_down = pca_6_down.transform(Xd_test)"
   ]
  },
  {
   "cell_type": "markdown",
   "metadata": {},
   "source": [
    "Initially I tested on down-sampled data. This is wrong. I need to train on my downsampled data and then test against the full data set. Rather and doubling the number of cells below this I went back and re-did it the proper way."
   ]
  },
  {
   "cell_type": "code",
   "execution_count": 60,
   "metadata": {},
   "outputs": [
    {
     "data": {
      "text/plain": [
       "LogisticRegression(C=1.0, class_weight=None, dual=False, fit_intercept=True,\n",
       "          intercept_scaling=1, max_iter=100, multi_class='ovr', n_jobs=1,\n",
       "          penalty='l2', random_state=None, solver='liblinear', tol=0.0001,\n",
       "          verbose=0, warm_start=False)"
      ]
     },
     "execution_count": 60,
     "metadata": {},
     "output_type": "execute_result"
    }
   ],
   "source": [
    "lr_down = LogisticRegression()\n",
    "lr_down.fit(Xt_train_down, y_train_down)"
   ]
  },
  {
   "cell_type": "code",
   "execution_count": 61,
   "metadata": {},
   "outputs": [
    {
     "data": {
      "text/plain": [
       "0.6410317772345772"
      ]
     },
     "execution_count": 61,
     "metadata": {},
     "output_type": "execute_result"
    }
   ],
   "source": [
    "lr_down.score(Xt_test_down, y_test_down)"
   ]
  },
  {
   "cell_type": "code",
   "execution_count": 62,
   "metadata": {},
   "outputs": [
    {
     "data": {
      "text/plain": [
       "Pipeline(memory=None,\n",
       "     steps=[('randomtreesembedding', RandomTreesEmbedding(max_depth=4, max_leaf_nodes=None,\n",
       "           min_impurity_decrease=0.0, min_impurity_split=None,\n",
       "           min_samples_leaf=1, min_samples_split=2,\n",
       "           min_weight_fraction_leaf=0.0, n_estimators=10, n_jobs=1,\n",
       "           random_state=42, sp...ty='l2', random_state=None, solver='liblinear', tol=0.0001,\n",
       "          verbose=0, warm_start=False))])"
      ]
     },
     "execution_count": 62,
     "metadata": {},
     "output_type": "execute_result"
    }
   ],
   "source": [
    "rt_down = RandomTreesEmbedding(max_depth=4, n_estimators=n_estimator,\n",
    "    random_state=42)\n",
    "\n",
    "rt_lr_down = LogisticRegression()\n",
    "rt_lr_pipeline_down = make_pipeline(rt_down, rt_lm_down)\n",
    "rt_lr_pipeline_down.fit(Xt_train_down, y_train_down)"
   ]
  },
  {
   "cell_type": "code",
   "execution_count": 63,
   "metadata": {},
   "outputs": [
    {
     "data": {
      "text/plain": [
       "RandomForestClassifier(bootstrap=True, class_weight=None, criterion='gini',\n",
       "            max_depth=4, max_features='auto', max_leaf_nodes=None,\n",
       "            min_impurity_decrease=0.0, min_impurity_split=None,\n",
       "            min_samples_leaf=1, min_samples_split=2,\n",
       "            min_weight_fraction_leaf=0.0, n_estimators=10, n_jobs=1,\n",
       "            oob_score=False, random_state=None, verbose=0,\n",
       "            warm_start=False)"
      ]
     },
     "execution_count": 63,
     "metadata": {},
     "output_type": "execute_result"
    }
   ],
   "source": [
    "rf_down = RandomForestClassifier(max_depth=4, n_estimators=n_estimator)\n",
    "rf_down.fit(Xt_train_down, y_train_down)"
   ]
  },
  {
   "cell_type": "code",
   "execution_count": 64,
   "metadata": {},
   "outputs": [
    {
     "data": {
      "text/plain": [
       "GradientBoostingClassifier(criterion='friedman_mse', init=None,\n",
       "              learning_rate=0.1, loss='deviance', max_depth=3,\n",
       "              max_features=None, max_leaf_nodes=None,\n",
       "              min_impurity_decrease=0.0, min_impurity_split=None,\n",
       "              min_samples_leaf=1, min_samples_split=2,\n",
       "              min_weight_fraction_leaf=0.0, n_estimators=10,\n",
       "              presort='auto', random_state=None, subsample=1.0, verbose=0,\n",
       "              warm_start=False)"
      ]
     },
     "execution_count": 64,
     "metadata": {},
     "output_type": "execute_result"
    }
   ],
   "source": [
    "grd_down = GradientBoostingClassifier(n_estimators=n_estimator)\n",
    "grd_down.fit(Xt_train_down, y_train_down)"
   ]
  },
  {
   "cell_type": "code",
   "execution_count": 65,
   "metadata": {},
   "outputs": [
    {
     "data": {
      "text/plain": [
       "XGBClassifier(base_score=0.5, booster='gbtree', colsample_bylevel=1,\n",
       "       colsample_bytree=1, gamma=0, learning_rate=0.1, max_delta_step=0,\n",
       "       max_depth=3, min_child_weight=1, missing=None, n_estimators=100,\n",
       "       n_jobs=1, nthread=None, objective='binary:logistic', random_state=0,\n",
       "       reg_alpha=0, reg_lambda=1, scale_pos_weight=1, seed=None,\n",
       "       silent=True, subsample=1)"
      ]
     },
     "execution_count": 65,
     "metadata": {},
     "output_type": "execute_result"
    }
   ],
   "source": [
    "xgb_down = XGBClassifier()\n",
    "xgb_down.fit(Xt_train_down, y_train_down)"
   ]
  },
  {
   "cell_type": "code",
   "execution_count": 99,
   "metadata": {},
   "outputs": [
    {
     "data": {
      "text/plain": [
       "GaussianNB(priors=None)"
      ]
     },
     "execution_count": 99,
     "metadata": {},
     "output_type": "execute_result"
    }
   ],
   "source": [
    "gnb_down = GaussianNB()\n",
    "gnb_down.fit(Xt_train_down, y_train_down)"
   ]
  },
  {
   "cell_type": "code",
   "execution_count": 67,
   "metadata": {
    "scrolled": true
   },
   "outputs": [
    {
     "name": "stderr",
     "output_type": "stream",
     "text": [
      "/Users/ryanmetz/anaconda3/envs/ipykernel_py3/lib/python3.6/site-packages/sklearn/calibration.py:435: RuntimeWarning: overflow encountered in exp\n",
      "  E = np.exp(AB[0] * F + AB[1])\n",
      "/Users/ryanmetz/anaconda3/envs/ipykernel_py3/lib/python3.6/site-packages/sklearn/calibration.py:445: RuntimeWarning: overflow encountered in exp\n",
      "  E = np.exp(AB[0] * F + AB[1])\n",
      "/Users/ryanmetz/anaconda3/envs/ipykernel_py3/lib/python3.6/site-packages/sklearn/calibration.py:447: RuntimeWarning: invalid value encountered in multiply\n",
      "  TEP_minus_T1P = P * (T * E - T1)\n",
      "/Users/ryanmetz/anaconda3/envs/ipykernel_py3/lib/python3.6/site-packages/sklearn/calibration.py:435: RuntimeWarning: overflow encountered in exp\n",
      "  E = np.exp(AB[0] * F + AB[1])\n",
      "/Users/ryanmetz/anaconda3/envs/ipykernel_py3/lib/python3.6/site-packages/sklearn/calibration.py:445: RuntimeWarning: overflow encountered in exp\n",
      "  E = np.exp(AB[0] * F + AB[1])\n",
      "/Users/ryanmetz/anaconda3/envs/ipykernel_py3/lib/python3.6/site-packages/sklearn/calibration.py:447: RuntimeWarning: invalid value encountered in multiply\n",
      "  TEP_minus_T1P = P * (T * E - T1)\n",
      "/Users/ryanmetz/anaconda3/envs/ipykernel_py3/lib/python3.6/site-packages/sklearn/calibration.py:435: RuntimeWarning: overflow encountered in exp\n",
      "  E = np.exp(AB[0] * F + AB[1])\n",
      "/Users/ryanmetz/anaconda3/envs/ipykernel_py3/lib/python3.6/site-packages/sklearn/calibration.py:445: RuntimeWarning: overflow encountered in exp\n",
      "  E = np.exp(AB[0] * F + AB[1])\n",
      "/Users/ryanmetz/anaconda3/envs/ipykernel_py3/lib/python3.6/site-packages/sklearn/calibration.py:447: RuntimeWarning: invalid value encountered in multiply\n",
      "  TEP_minus_T1P = P * (T * E - T1)\n",
      "/Users/ryanmetz/anaconda3/envs/ipykernel_py3/lib/python3.6/site-packages/sklearn/calibration.py:435: RuntimeWarning: overflow encountered in exp\n",
      "  E = np.exp(AB[0] * F + AB[1])\n"
     ]
    },
    {
     "data": {
      "text/plain": [
       "CalibratedClassifierCV(base_estimator=LinearSVC(C=1.0, class_weight=None, dual=True, fit_intercept=True,\n",
       "     intercept_scaling=1, loss='squared_hinge', max_iter=1000,\n",
       "     multi_class='ovr', penalty='l2', random_state=0, tol=0.0001,\n",
       "     verbose=0),\n",
       "            cv=2, method='sigmoid')"
      ]
     },
     "execution_count": 67,
     "metadata": {},
     "output_type": "execute_result"
    }
   ],
   "source": [
    "cal_class_lsvc_down = CalibratedClassifierCV(lsvc, cv=2, method='sigmoid')\n",
    "cal_class_lsvc_down.fit(Xt_train_down, y_train_down)"
   ]
  },
  {
   "cell_type": "code",
   "execution_count": 68,
   "metadata": {
    "scrolled": true
   },
   "outputs": [
    {
     "data": {
      "image/png": "[encoded data removed]",
      "text/plain": [
       "<Figure size 432x288 with 1 Axes>"
      ]
     },
     "metadata": {},
     "output_type": "display_data"
    },
    {
     "data": {
      "text/plain": [
       "(array([1.        , 1.        , 1.        , 0.99982951, 0.99979541,\n",
       "        0.99979541, 0.99979541, 0.99979541, 0.99979541, 0.99979541,\n",
       "        0.99972721, 0.99969312, 0.99955672, 0.99948853, 0.99942033,\n",
       "        0.99942033, 0.99935213, 0.99935213, 0.99924984, 0.99911344,\n",
       "        0.99907935, 0.99904525, 0.99890886, 0.99880656, 0.99877246,\n",
       "        0.99863607, 0.99843148, 0.99819279, 0.99764722, 0.98786102,\n",
       "        0.96218502, 0.93657722, 0.90970778, 0.88819177, 0.87005149,\n",
       "        0.85252498, 0.8382719 , 0.82289358, 0.80840181, 0.79445562,\n",
       "        0.78194156, 0.76837044, 0.75606097, 0.74341051, 0.73212398,\n",
       "        0.71831418, 0.70580012, 0.6902854 , 0.67429331, 0.65772155,\n",
       "        0.64445733, 0.63269342, 0.6192587 , 0.60432366, 0.58519453,\n",
       "        0.56657687, 0.54352644, 0.51802094, 0.48927609, 0.46121322,\n",
       "        0.43420739, 0.40863368, 0.38875439, 0.37262591, 0.3589184 ,\n",
       "        0.34176697, 0.3214103 , 0.29460906, 0.26392062, 0.23094759,\n",
       "        0.18910901, 0.14147373, 0.07648242, 0.02942681, 0.00927473,\n",
       "        0.00112524, 0.        , 0.        , 0.        , 0.        ,\n",
       "        0.        , 0.        , 0.        , 0.        , 0.        ,\n",
       "        0.        , 0.        , 0.        , 0.        , 0.        ,\n",
       "        0.        , 0.        , 0.        , 0.        , 0.        ,\n",
       "        0.        , 0.        , 0.        , 0.        , 0.        ]),\n",
       " array([1.00000000e+00, 1.00000000e+00, 1.00000000e+00, 9.99965723e-01,\n",
       "        9.99965723e-01, 9.99931446e-01, 9.99897169e-01, 9.99897169e-01,\n",
       "        9.99897169e-01, 9.99828615e-01, 9.99760060e-01, 9.99657229e-01,\n",
       "        9.99520121e-01, 9.99280181e-01, 9.99040241e-01, 9.98663193e-01,\n",
       "        9.98149037e-01, 9.97566326e-01, 9.97017893e-01, 9.96538013e-01,\n",
       "        9.95681086e-01, 9.95132652e-01, 9.94412833e-01, 9.93864400e-01,\n",
       "        9.93041750e-01, 9.92219099e-01, 9.91053678e-01, 9.89031329e-01,\n",
       "        9.84815246e-01, 9.46939055e-01, 8.62171797e-01, 7.74559539e-01,\n",
       "        7.15671488e-01, 6.71316926e-01, 6.37074107e-01, 6.08898334e-01,\n",
       "        5.82504970e-01, 5.54706245e-01, 5.31397820e-01, 5.13710838e-01,\n",
       "        4.98971687e-01, 4.81524645e-01, 4.67231096e-01, 4.54617125e-01,\n",
       "        4.40152190e-01, 4.25721533e-01, 4.11667923e-01, 3.97957085e-01,\n",
       "        3.84863234e-01, 3.71940769e-01, 3.62411736e-01, 3.54425173e-01,\n",
       "        3.45513128e-01, 3.33173374e-01, 3.20216631e-01, 3.07808322e-01,\n",
       "        2.91252485e-01, 2.73394118e-01, 2.57695208e-01, 2.40213889e-01,\n",
       "        2.25337629e-01, 2.10255707e-01, 2.01309385e-01, 1.93288545e-01,\n",
       "        1.84136560e-01, 1.71865360e-01, 1.59559882e-01, 1.44615068e-01,\n",
       "        1.29258929e-01, 1.12223212e-01, 8.98745458e-02, 6.51950367e-02,\n",
       "        3.52025776e-02, 1.28881881e-02, 3.39343251e-03, 3.42770960e-04,\n",
       "        0.00000000e+00, 0.00000000e+00, 0.00000000e+00, 0.00000000e+00,\n",
       "        0.00000000e+00, 0.00000000e+00, 0.00000000e+00, 0.00000000e+00,\n",
       "        0.00000000e+00, 0.00000000e+00, 0.00000000e+00, 0.00000000e+00,\n",
       "        0.00000000e+00, 0.00000000e+00, 0.00000000e+00, 0.00000000e+00,\n",
       "        0.00000000e+00, 0.00000000e+00, 0.00000000e+00, 0.00000000e+00,\n",
       "        0.00000000e+00, 0.00000000e+00, 0.00000000e+00, 0.00000000e+00]))"
      ]
     },
     "execution_count": 68,
     "metadata": {},
     "output_type": "execute_result"
    }
   ],
   "source": [
    "roc2(lr_down.predict_proba(Xt_test_down), y_test_down)"
   ]
  },
  {
   "cell_type": "code",
   "execution_count": 69,
   "metadata": {},
   "outputs": [
    {
     "name": "stdout",
     "output_type": "stream",
     "text": [
      "Specificity: 98.71118%, Sensitivity: 2.94268%, Threshold: 73.0%\n"
     ]
    }
   ],
   "source": [
    "TPRs_lr_down, FPRs_lr_down = sen_spec(probas=lr_down.predict_proba(Xt_test_down), true=y_test_down, stat=\"specificity\", stat_val = 0.99, step=0.01)\n"
   ]
  },
  {
   "cell_type": "code",
   "execution_count": 70,
   "metadata": {},
   "outputs": [
    {
     "data": {
      "text/plain": [
       "0.6815962112783676"
      ]
     },
     "execution_count": 70,
     "metadata": {},
     "output_type": "execute_result"
    }
   ],
   "source": [
    "auc(TPRs_lr_down, FPRs_lr_down)"
   ]
  },
  {
   "cell_type": "markdown",
   "metadata": {},
   "source": [
    "Not exactly the sensitivity score I was looking for. AUC-ROC score is at 68.15%, not much of a change."
   ]
  },
  {
   "cell_type": "code",
   "execution_count": 71,
   "metadata": {},
   "outputs": [],
   "source": [
    "lr_down_preds = lr_down.predict(Xt_test_down)"
   ]
  },
  {
   "cell_type": "code",
   "execution_count": 72,
   "metadata": {
    "scrolled": true
   },
   "outputs": [
    {
     "data": {
      "image/png": "[encoded data removed]",
      "text/plain": [
       "<Figure size 432x288 with 1 Axes>"
      ]
     },
     "metadata": {},
     "output_type": "display_data"
    },
    {
     "data": {
      "text/plain": [
       "(array([1.00000000e+00, 1.00000000e+00, 1.00000000e+00, 1.00000000e+00,\n",
       "        1.00000000e+00, 1.00000000e+00, 1.00000000e+00, 1.00000000e+00,\n",
       "        9.99931803e-01, 9.99897705e-01, 9.99829509e-01, 9.99829509e-01,\n",
       "        9.99829509e-01, 9.99522624e-01, 9.99249838e-01, 9.99249838e-01,\n",
       "        9.98636069e-01, 9.98363283e-01, 9.98158693e-01, 9.97817711e-01,\n",
       "        9.97238040e-01, 9.97033450e-01, 9.96965254e-01, 9.96862959e-01,\n",
       "        9.95021652e-01, 9.77631534e-01, 9.62832884e-01, 9.62798786e-01,\n",
       "        9.60411907e-01, 9.48818495e-01, 9.21062502e-01, 9.16084155e-01,\n",
       "        9.10355645e-01, 9.03842875e-01, 8.83179323e-01, 8.76598356e-01,\n",
       "        8.73256726e-01, 8.60299383e-01, 8.45364340e-01, 8.38476489e-01,\n",
       "        8.31247656e-01, 8.09527057e-01, 7.92307430e-01, 7.22167286e-01,\n",
       "        7.11017151e-01, 6.94513588e-01, 6.89364749e-01, 6.86398200e-01,\n",
       "        6.80294609e-01, 6.76611996e-01, 6.71122174e-01, 6.68053330e-01,\n",
       "        6.63927439e-01, 6.46366829e-01, 6.27749173e-01, 6.24441641e-01,\n",
       "        6.21236403e-01, 5.98936134e-01, 5.98936134e-01, 5.81341426e-01,\n",
       "        5.73328332e-01, 5.69304736e-01, 4.34855253e-01, 3.30616838e-01,\n",
       "        3.14931633e-01, 2.34357418e-01, 1.65649402e-01, 1.08875780e-01,\n",
       "        1.04579398e-01, 1.04545300e-01, 8.99171412e-02, 5.51369046e-02,\n",
       "        4.62372558e-02, 5.11474068e-04, 1.70491356e-04, 3.40982712e-05,\n",
       "        3.40982712e-05, 0.00000000e+00, 0.00000000e+00, 0.00000000e+00,\n",
       "        0.00000000e+00, 0.00000000e+00, 0.00000000e+00, 0.00000000e+00,\n",
       "        0.00000000e+00, 0.00000000e+00, 0.00000000e+00, 0.00000000e+00,\n",
       "        0.00000000e+00, 0.00000000e+00, 0.00000000e+00, 0.00000000e+00,\n",
       "        0.00000000e+00, 0.00000000e+00, 0.00000000e+00, 0.00000000e+00,\n",
       "        0.00000000e+00, 0.00000000e+00, 0.00000000e+00, 0.00000000e+00]),\n",
       " array([1.00000000e+00, 1.00000000e+00, 1.00000000e+00, 1.00000000e+00,\n",
       "        1.00000000e+00, 1.00000000e+00, 9.99931446e-01, 9.99897169e-01,\n",
       "        9.99588675e-01, 9.99383012e-01, 9.98766025e-01, 9.98663193e-01,\n",
       "        9.98011928e-01, 9.96538013e-01, 9.94001508e-01, 9.93384520e-01,\n",
       "        9.87865908e-01, 9.86700487e-01, 9.85569343e-01, 9.83478440e-01,\n",
       "        9.82278741e-01, 9.81318983e-01, 9.80701995e-01, 9.80324947e-01,\n",
       "        9.75286214e-01, 9.26098581e-01, 8.78761911e-01, 8.78453417e-01,\n",
       "        8.71632275e-01, 8.35367108e-01, 7.69383698e-01, 7.57489545e-01,\n",
       "        7.39596901e-01, 7.29450881e-01, 6.99492699e-01, 6.84753548e-01,\n",
       "        6.77829574e-01, 6.51881813e-01, 6.27613629e-01, 6.21649414e-01,\n",
       "        6.08829780e-01, 5.78768767e-01, 5.50010283e-01, 4.48104477e-01,\n",
       "        4.32954000e-01, 4.07451841e-01, 3.99225338e-01, 3.95866182e-01,\n",
       "        3.91855762e-01, 3.87742510e-01, 3.82429561e-01, 3.81024200e-01,\n",
       "        3.77733598e-01, 3.65188181e-01, 3.53191198e-01, 3.50449030e-01,\n",
       "        3.47466923e-01, 3.33858915e-01, 3.33858915e-01, 3.20627956e-01,\n",
       "        3.16686090e-01, 3.12915610e-01, 2.28696785e-01, 1.73373552e-01,\n",
       "        1.60759580e-01, 1.18393090e-01, 8.22993076e-02, 5.08672105e-02,\n",
       "        4.82621512e-02, 4.81935970e-02, 4.12353465e-02, 2.63590869e-02,\n",
       "        2.28628231e-02, 1.37108384e-04, 3.42770960e-05, 0.00000000e+00,\n",
       "        0.00000000e+00, 0.00000000e+00, 0.00000000e+00, 0.00000000e+00,\n",
       "        0.00000000e+00, 0.00000000e+00, 0.00000000e+00, 0.00000000e+00,\n",
       "        0.00000000e+00, 0.00000000e+00, 0.00000000e+00, 0.00000000e+00,\n",
       "        0.00000000e+00, 0.00000000e+00, 0.00000000e+00, 0.00000000e+00,\n",
       "        0.00000000e+00, 0.00000000e+00, 0.00000000e+00, 0.00000000e+00,\n",
       "        0.00000000e+00, 0.00000000e+00, 0.00000000e+00, 0.00000000e+00]))"
      ]
     },
     "execution_count": 72,
     "metadata": {},
     "output_type": "execute_result"
    }
   ],
   "source": [
    "roc2(rt_lr_pipeline_down.predict_proba(Xt_test_down), y_test_down)"
   ]
  },
  {
   "cell_type": "code",
   "execution_count": 73,
   "metadata": {},
   "outputs": [
    {
     "name": "stdout",
     "output_type": "stream",
     "text": [
      "Sensitivity: 99.50217%, Specificity: 2.47138%, Threshold: 24.0%\n"
     ]
    }
   ],
   "source": [
    "TPRs_pipeline_down, FPRs_pipeline_down = sen_spec(probas=rt_lr_pipeline_down.predict_proba(Xt_test_down), true=y_test_down, stat=\"sensitivity\", stat_val = 0.99, step=0.01)\n"
   ]
  },
  {
   "cell_type": "code",
   "execution_count": 74,
   "metadata": {},
   "outputs": [
    {
     "data": {
      "text/plain": [
       "0.6707642199825037"
      ]
     },
     "execution_count": 74,
     "metadata": {},
     "output_type": "execute_result"
    }
   ],
   "source": [
    "auc(TPRs_pipeline_down, FPRs_pipeline_down)"
   ]
  },
  {
   "cell_type": "markdown",
   "metadata": {},
   "source": [
    "That actually got worse."
   ]
  },
  {
   "cell_type": "code",
   "execution_count": 75,
   "metadata": {},
   "outputs": [],
   "source": [
    "rt_lr_pipeline_down_preds = rt_lr_pipeline_down.predict(Xt_test_down)"
   ]
  },
  {
   "cell_type": "code",
   "execution_count": 76,
   "metadata": {
    "scrolled": true
   },
   "outputs": [
    {
     "data": {
      "image/png": "[encoded data removed]",
      "text/plain": [
       "<Figure size 432x288 with 1 Axes>"
      ]
     },
     "metadata": {},
     "output_type": "display_data"
    },
    {
     "data": {
      "text/plain": [
       "(array([1.        , 1.        , 1.        , 1.        , 1.        ,\n",
       "        1.        , 1.        , 1.        , 1.        , 1.        ,\n",
       "        1.        , 1.        , 1.        , 1.        , 1.        ,\n",
       "        1.        , 1.        , 1.        , 0.99911344, 0.99716984,\n",
       "        0.99590821, 0.99546493, 0.99488526, 0.98390562, 0.97374433,\n",
       "        0.96331026, 0.94915948, 0.93623623, 0.93180346, 0.92361987,\n",
       "        0.91748218, 0.90905991, 0.9013878 , 0.89838715, 0.88918062,\n",
       "        0.88086064, 0.87806458, 0.87445017, 0.87052886, 0.86722133,\n",
       "        0.85862857, 0.8520817 , 0.84553483, 0.83663518, 0.83066799,\n",
       "        0.82736045, 0.81508508, 0.78460122, 0.77096191, 0.76250554,\n",
       "        0.7356361 , 0.72305384, 0.68329526, 0.64404815, 0.62450984,\n",
       "        0.59989089, 0.56333754, 0.54424251, 0.53462679, 0.51256521,\n",
       "        0.48477512, 0.46864664, 0.44958571, 0.42302315, 0.40082518,\n",
       "        0.38606063, 0.34657483, 0.30889624, 0.27438879, 0.20847683,\n",
       "        0.08824633, 0.02987009, 0.01302554, 0.00368261, 0.        ,\n",
       "        0.        , 0.        , 0.        , 0.        , 0.        ,\n",
       "        0.        , 0.        , 0.        , 0.        , 0.        ,\n",
       "        0.        , 0.        , 0.        , 0.        , 0.        ,\n",
       "        0.        , 0.        , 0.        , 0.        , 0.        ,\n",
       "        0.        , 0.        , 0.        , 0.        , 0.        ]),\n",
       " array([1.00000000e+00, 1.00000000e+00, 1.00000000e+00, 1.00000000e+00,\n",
       "        1.00000000e+00, 1.00000000e+00, 1.00000000e+00, 1.00000000e+00,\n",
       "        1.00000000e+00, 1.00000000e+00, 1.00000000e+00, 1.00000000e+00,\n",
       "        1.00000000e+00, 1.00000000e+00, 1.00000000e+00, 1.00000000e+00,\n",
       "        9.99965723e-01, 9.99965723e-01, 9.75354768e-01, 9.51600740e-01,\n",
       "        9.43991225e-01, 9.40974841e-01, 9.38369781e-01, 8.83320765e-01,\n",
       "        8.38280661e-01, 8.08973744e-01, 7.71063276e-01, 7.33084253e-01,\n",
       "        7.24377871e-01, 7.08233358e-01, 6.92225955e-01, 6.77109755e-01,\n",
       "        6.62953315e-01, 6.55892233e-01, 6.37211215e-01, 6.10509358e-01,\n",
       "        6.04408035e-01, 5.92890930e-01, 5.83053404e-01, 5.76095153e-01,\n",
       "        5.58990882e-01, 5.46068417e-01, 5.36573661e-01, 5.23068486e-01,\n",
       "        5.12991019e-01, 5.08740659e-01, 4.93521629e-01, 4.59347364e-01,\n",
       "        4.46184959e-01, 4.37032975e-01, 4.13827381e-01, 4.03064372e-01,\n",
       "        3.64399808e-01, 3.31288133e-01, 3.13086995e-01, 2.93206280e-01,\n",
       "        2.68938096e-01, 2.55055872e-01, 2.48714609e-01, 2.30342085e-01,\n",
       "        2.09707274e-01, 1.98978543e-01, 1.88592582e-01, 1.76938370e-01,\n",
       "        1.67854939e-01, 1.61308014e-01, 1.37896757e-01, 1.19387126e-01,\n",
       "        1.02042915e-01, 6.70459999e-02, 2.38568588e-02, 6.20415438e-03,\n",
       "        1.88524028e-03, 3.42770960e-04, 0.00000000e+00, 0.00000000e+00,\n",
       "        0.00000000e+00, 0.00000000e+00, 0.00000000e+00, 0.00000000e+00,\n",
       "        0.00000000e+00, 0.00000000e+00, 0.00000000e+00, 0.00000000e+00,\n",
       "        0.00000000e+00, 0.00000000e+00, 0.00000000e+00, 0.00000000e+00,\n",
       "        0.00000000e+00, 0.00000000e+00, 0.00000000e+00, 0.00000000e+00,\n",
       "        0.00000000e+00, 0.00000000e+00, 0.00000000e+00, 0.00000000e+00,\n",
       "        0.00000000e+00, 0.00000000e+00, 0.00000000e+00, 0.00000000e+00]))"
      ]
     },
     "execution_count": 76,
     "metadata": {},
     "output_type": "execute_result"
    }
   ],
   "source": [
    "roc2(rf_down.predict_proba(Xt_test_down), y_test_down)"
   ]
  },
  {
   "cell_type": "code",
   "execution_count": 77,
   "metadata": {},
   "outputs": [
    {
     "name": "stdout",
     "output_type": "stream",
     "text": [
      "Sensitivity: 99.48853%, Specificity: 6.16302%, Threshold: 22.0%\n"
     ]
    }
   ],
   "source": [
    "TPRs_rf_down, FPRs_rf_down = sen_spec(probas=rf_down.predict_proba(Xt_test_down), true=y_test_down, stat=\"sensitivity\", stat_val = 0.99, step=0.01)\n"
   ]
  },
  {
   "cell_type": "code",
   "execution_count": 78,
   "metadata": {},
   "outputs": [
    {
     "data": {
      "text/plain": [
       "0.7162265120690428"
      ]
     },
     "execution_count": 78,
     "metadata": {},
     "output_type": "execute_result"
    }
   ],
   "source": [
    "auc(TPRs_rf_down, FPRs_rf_down)"
   ]
  },
  {
   "cell_type": "code",
   "execution_count": 79,
   "metadata": {},
   "outputs": [],
   "source": [
    "rf_down_preds = rf_down.predict(Xt_test_down)"
   ]
  },
  {
   "cell_type": "code",
   "execution_count": 80,
   "metadata": {
    "scrolled": true
   },
   "outputs": [
    {
     "data": {
      "image/png": "[encoded data removed]",
      "text/plain": [
       "<Figure size 432x288 with 1 Axes>"
      ]
     },
     "metadata": {},
     "output_type": "display_data"
    },
    {
     "data": {
      "text/plain": [
       "(array([1.        , 1.        , 1.        , 1.        , 1.        ,\n",
       "        1.        , 1.        , 1.        , 1.        , 1.        ,\n",
       "        1.        , 1.        , 1.        , 1.        , 1.        ,\n",
       "        1.        , 1.        , 1.        , 1.        , 1.        ,\n",
       "        1.        , 1.        , 1.        , 1.        , 1.        ,\n",
       "        1.        , 1.        , 1.        , 1.        , 0.99618099,\n",
       "        0.99590821, 0.99495346, 0.97551744, 0.97507416, 0.96109387,\n",
       "        0.94922767, 0.94711358, 0.91969857, 0.90418386, 0.89644355,\n",
       "        0.8934429 , 0.86889215, 0.86435708, 0.85985611, 0.85753742,\n",
       "        0.8520135 , 0.83486207, 0.82381423, 0.79312579, 0.77355338,\n",
       "        0.73000989, 0.61717871, 0.60176629, 0.57864766, 0.52681829,\n",
       "        0.51249702, 0.50376786, 0.47376138, 0.41988611, 0.36601084,\n",
       "        0.3510758 , 0.28451598, 0.2563167 , 0.23214103, 0.19098442,\n",
       "        0.09653221, 0.        , 0.        , 0.        , 0.        ,\n",
       "        0.        , 0.        , 0.        , 0.        , 0.        ,\n",
       "        0.        , 0.        , 0.        , 0.        , 0.        ,\n",
       "        0.        , 0.        , 0.        , 0.        , 0.        ,\n",
       "        0.        , 0.        , 0.        , 0.        , 0.        ,\n",
       "        0.        , 0.        , 0.        , 0.        , 0.        ,\n",
       "        0.        , 0.        , 0.        , 0.        , 0.        ]),\n",
       " array([1.        , 1.        , 1.        , 1.        , 1.        ,\n",
       "        1.        , 1.        , 1.        , 1.        , 1.        ,\n",
       "        1.        , 1.        , 1.        , 1.        , 1.        ,\n",
       "        1.        , 1.        , 1.        , 1.        , 1.        ,\n",
       "        1.        , 1.        , 1.        , 1.        , 1.        ,\n",
       "        1.        , 1.        , 1.        , 1.        , 0.94779598,\n",
       "        0.94618496, 0.94035785, 0.84832385, 0.84695277, 0.80438061,\n",
       "        0.77048056, 0.76492768, 0.67399054, 0.6411188 , 0.62764791,\n",
       "        0.62092959, 0.57561527, 0.5695825 , 0.56276136, 0.55977926,\n",
       "        0.55076438, 0.52519367, 0.51429355, 0.48310139, 0.45972441,\n",
       "        0.41197642, 0.31140742, 0.29889628, 0.28230616, 0.24113937,\n",
       "        0.23613491, 0.22965654, 0.20466854, 0.1701515 , 0.14375814,\n",
       "        0.13666278, 0.10317406, 0.08939467, 0.07770618, 0.06156166,\n",
       "        0.02701035, 0.        , 0.        , 0.        , 0.        ,\n",
       "        0.        , 0.        , 0.        , 0.        , 0.        ,\n",
       "        0.        , 0.        , 0.        , 0.        , 0.        ,\n",
       "        0.        , 0.        , 0.        , 0.        , 0.        ,\n",
       "        0.        , 0.        , 0.        , 0.        , 0.        ,\n",
       "        0.        , 0.        , 0.        , 0.        , 0.        ,\n",
       "        0.        , 0.        , 0.        , 0.        , 0.        ]))"
      ]
     },
     "execution_count": 80,
     "metadata": {},
     "output_type": "execute_result"
    }
   ],
   "source": [
    "roc2(grd_down.predict_proba(Xt_test_down), y_test_down)"
   ]
  },
  {
   "cell_type": "code",
   "execution_count": 81,
   "metadata": {},
   "outputs": [
    {
     "name": "stdout",
     "output_type": "stream",
     "text": [
      "Specificity: 100.00000%, Sensitivity: 0.00000%, Threshold: 66.0%\n"
     ]
    }
   ],
   "source": [
    "TPRs_grd_down, FPRs_grd_down = sen_spec(probas=grd_down.predict_proba(Xt_test_down), true=y_test_down, stat=\"specificity\", stat_val = 0.99, step=0.01)\n"
   ]
  },
  {
   "cell_type": "code",
   "execution_count": 82,
   "metadata": {},
   "outputs": [
    {
     "data": {
      "text/plain": [
       "0.7159846158427446"
      ]
     },
     "execution_count": 82,
     "metadata": {},
     "output_type": "execute_result"
    }
   ],
   "source": [
    "auc(TPRs_grd_down, FPRs_grd_down)"
   ]
  },
  {
   "cell_type": "code",
   "execution_count": 83,
   "metadata": {},
   "outputs": [],
   "source": [
    "grd_down_preds = grd_down.predict(Xt_test_down)"
   ]
  },
  {
   "cell_type": "code",
   "execution_count": 84,
   "metadata": {
    "scrolled": true
   },
   "outputs": [
    {
     "data": {
      "image/png": "[encoded data removed]",
      "text/plain": [
       "<Figure size 432x288 with 1 Axes>"
      ]
     },
     "metadata": {},
     "output_type": "display_data"
    },
    {
     "data": {
      "text/plain": [
       "(array([1.00000000e+00, 1.00000000e+00, 1.00000000e+00, 1.00000000e+00,\n",
       "        1.00000000e+00, 1.00000000e+00, 1.00000000e+00, 9.99931803e-01,\n",
       "        9.99352133e-01, 9.98738364e-01, 9.98567873e-01, 9.98226890e-01,\n",
       "        9.97238040e-01, 9.96317387e-01, 9.95055751e-01, 9.94305589e-01,\n",
       "        9.93316739e-01, 9.90793467e-01, 9.87485934e-01, 9.83666928e-01,\n",
       "        9.76710881e-01, 9.73573840e-01, 9.69482047e-01, 9.67061070e-01,\n",
       "        9.63548948e-01, 9.58331913e-01, 9.49193576e-01, 9.42953592e-01,\n",
       "        9.38554915e-01, 9.32996897e-01, 9.27063798e-01, 9.20789716e-01,\n",
       "        9.16732022e-01, 9.10696628e-01, 9.04490742e-01, 8.97875678e-01,\n",
       "        8.88089474e-01, 8.79121629e-01, 8.71483616e-01, 8.65209534e-01,\n",
       "        8.59310533e-01, 8.50513179e-01, 8.41408941e-01, 8.32031916e-01,\n",
       "        8.23507348e-01, 8.11982133e-01, 7.96501517e-01, 7.80679920e-01,\n",
       "        7.61653084e-01, 7.33692502e-01, 7.12585672e-01, 6.93831623e-01,\n",
       "        6.74463805e-01, 6.48480922e-01, 6.27374092e-01, 6.09063320e-01,\n",
       "        5.78136188e-01, 5.55972312e-01, 5.39502847e-01, 5.17952740e-01,\n",
       "        5.03085894e-01, 4.87093804e-01, 4.66873530e-01, 4.39526716e-01,\n",
       "        4.19170048e-01, 3.93630443e-01, 3.70477717e-01, 3.42551233e-01,\n",
       "        3.18614246e-01, 2.94881849e-01, 2.66341596e-01, 2.42847888e-01,\n",
       "        2.17546970e-01, 1.95485389e-01, 1.67422512e-01, 1.38779964e-01,\n",
       "        1.19991816e-01, 1.00385310e-01, 8.08129028e-02, 6.06608245e-02,\n",
       "        4.10884168e-02, 2.69035360e-02, 1.83448699e-02, 1.17639036e-02,\n",
       "        5.45572339e-03, 3.30753231e-03, 1.94360146e-03, 1.05704641e-03,\n",
       "        4.43277526e-04, 2.04589627e-04, 0.00000000e+00, 0.00000000e+00,\n",
       "        0.00000000e+00, 0.00000000e+00, 0.00000000e+00, 0.00000000e+00,\n",
       "        0.00000000e+00, 0.00000000e+00, 0.00000000e+00, 0.00000000e+00]),\n",
       " array([1.00000000e+00, 1.00000000e+00, 1.00000000e+00, 1.00000000e+00,\n",
       "        1.00000000e+00, 9.99897169e-01, 9.99862892e-01, 9.96298074e-01,\n",
       "        9.80633441e-01, 9.65003085e-01, 9.62158086e-01, 9.56570919e-01,\n",
       "        9.49029958e-01, 9.39946528e-01, 9.30965929e-01, 9.24213341e-01,\n",
       "        9.17563584e-01, 9.04846781e-01, 8.87056969e-01, 8.62651676e-01,\n",
       "        8.26078015e-01, 8.11784466e-01, 7.97182423e-01, 7.87379173e-01,\n",
       "        7.72160143e-01, 7.52827860e-01, 7.29690821e-01, 7.16151368e-01,\n",
       "        7.04531432e-01, 6.89997943e-01, 6.74916021e-01, 6.61685062e-01,\n",
       "        6.51881813e-01, 6.39679166e-01, 6.25934051e-01, 6.12326044e-01,\n",
       "        5.94056352e-01, 5.79420032e-01, 5.67594433e-01, 5.57722630e-01,\n",
       "        5.49050524e-01, 5.34105711e-01, 5.21080414e-01, 5.08055118e-01,\n",
       "        4.95921026e-01, 4.81010489e-01, 4.63049290e-01, 4.43888394e-01,\n",
       "        4.23664907e-01, 3.94769315e-01, 3.75197093e-01, 3.56995955e-01,\n",
       "        3.38177830e-01, 3.17714403e-01, 3.00747241e-01, 2.85185439e-01,\n",
       "        2.61602797e-01, 2.46383766e-01, 2.33118530e-01, 2.17522451e-01,\n",
       "        2.09330226e-01, 1.96373483e-01, 1.81497224e-01, 1.64804278e-01,\n",
       "        1.51778981e-01, 1.37793926e-01, 1.26756701e-01, 1.13902790e-01,\n",
       "        1.02762734e-01, 9.11427984e-02, 7.82546103e-02, 6.89997943e-02,\n",
       "        5.92650991e-02, 5.15184754e-02, 4.10982382e-02, 3.19805306e-02,\n",
       "        2.60848701e-02, 2.10461370e-02, 1.50133681e-02, 1.01460204e-02,\n",
       "        5.99849181e-03, 3.59909508e-03, 2.19373415e-03, 1.23397546e-03,\n",
       "        5.82710633e-04, 3.42770960e-04, 2.05662576e-04, 1.37108384e-04,\n",
       "        3.42770960e-05, 0.00000000e+00, 0.00000000e+00, 0.00000000e+00,\n",
       "        0.00000000e+00, 0.00000000e+00, 0.00000000e+00, 0.00000000e+00,\n",
       "        0.00000000e+00, 0.00000000e+00, 0.00000000e+00, 0.00000000e+00]))"
      ]
     },
     "execution_count": 84,
     "metadata": {},
     "output_type": "execute_result"
    }
   ],
   "source": [
    "roc2(xgb_down.predict_proba(Xt_test_down), y_test_down)"
   ]
  },
  {
   "cell_type": "code",
   "execution_count": 85,
   "metadata": {},
   "outputs": [
    {
     "name": "stdout",
     "output_type": "stream",
     "text": [
      "Sensitivity: 99.07935%, Specificity: 9.51532%, Threshold: 17.0%\n"
     ]
    }
   ],
   "source": [
    "TPRs_xgb_down, FPRs_xgb_down = sen_spec(probas=xgb_down.predict_proba(Xt_test_down), true=y_test_down, stat=\"sensitivity\", stat_val = 0.99, step=0.01)\n"
   ]
  },
  {
   "cell_type": "code",
   "execution_count": 86,
   "metadata": {},
   "outputs": [
    {
     "data": {
      "text/plain": [
       "0.7333127631797414"
      ]
     },
     "execution_count": 86,
     "metadata": {},
     "output_type": "execute_result"
    }
   ],
   "source": [
    "auc(TPRs_xgb_down, FPRs_xgb_down)"
   ]
  },
  {
   "cell_type": "code",
   "execution_count": 87,
   "metadata": {},
   "outputs": [
    {
     "name": "stderr",
     "output_type": "stream",
     "text": [
      "/Users/ryanmetz/anaconda3/envs/ipykernel_py3/lib/python3.6/site-packages/sklearn/preprocessing/label.py:151: DeprecationWarning: The truth value of an empty array is ambiguous. Returning False, but in future this will result in an error. Use `array.size > 0` to check that an array is not empty.\n",
      "  if diff:\n"
     ]
    }
   ],
   "source": [
    "xgb_down_preds = xgb_down.predict(Xt_test_down)"
   ]
  },
  {
   "cell_type": "code",
   "execution_count": 112,
   "metadata": {
    "scrolled": true
   },
   "outputs": [
    {
     "data": {
      "image/png": "[encoded data removed]",
      "text/plain": [
       "<Figure size 432x288 with 1 Axes>"
      ]
     },
     "metadata": {},
     "output_type": "display_data"
    },
    {
     "data": {
      "text/plain": [
       "(array([1.        , 0.9999318 , 0.99982951, 0.99982951, 0.99976131,\n",
       "        0.99976131, 0.99976131, 0.99969312, 0.99965902, 0.99962492,\n",
       "        0.99962492, 0.99955672, 0.99952262, 0.99948853, 0.99948853,\n",
       "        0.99942033, 0.99938623, 0.99928394, 0.99911344, 0.99894295,\n",
       "        0.99887476, 0.99860197, 0.99849968, 0.99836328, 0.9981246 ,\n",
       "        0.9980223 , 0.99788591, 0.99778361, 0.99764722, 0.99744263,\n",
       "        0.99723804, 0.99703345, 0.99662427, 0.99641968, 0.99624919,\n",
       "        0.9960105 , 0.99590821, 0.99543083, 0.99508985, 0.99451018,\n",
       "        0.9941351 , 0.99358953, 0.99270297, 0.99154363, 0.99028199,\n",
       "        0.98878167, 0.9861902 , 0.95331947, 0.87134722, 0.81944965,\n",
       "        0.76867733, 0.72642957, 0.67477069, 0.61557609, 0.55849558,\n",
       "        0.46438436, 0.37027313, 0.31268115, 0.2110001 , 0.05118151,\n",
       "        0.        , 0.        , 0.        , 0.        , 0.        ,\n",
       "        0.        , 0.        , 0.        , 0.        , 0.        ,\n",
       "        0.        , 0.        , 0.        , 0.        , 0.        ,\n",
       "        0.        , 0.        , 0.        , 0.        , 0.        ,\n",
       "        0.        , 0.        , 0.        , 0.        , 0.        ,\n",
       "        0.        , 0.        , 0.        , 0.        , 0.        ,\n",
       "        0.        , 0.        , 0.        , 0.        , 0.        ,\n",
       "        0.        , 0.        , 0.        , 0.        , 0.        ]),\n",
       " array([1.        , 0.99934874, 0.9991088 , 0.99893741, 0.9988003 ,\n",
       "        0.99869747, 0.99869747, 0.99856036, 0.99845753, 0.9983547 ,\n",
       "        0.99818331, 0.99784054, 0.99773771, 0.99756633, 0.99749777,\n",
       "        0.99736066, 0.99698362, 0.99664084, 0.9964009 , 0.99612669,\n",
       "        0.99578392, 0.99516693, 0.99451566, 0.99400151, 0.99362446,\n",
       "        0.99307603, 0.99276753, 0.9922191 , 0.99170494, 0.991465  ,\n",
       "        0.99129362, 0.9910194 , 0.99071091, 0.9901282 , 0.98968259,\n",
       "        0.98927127, 0.98865428, 0.98807157, 0.98755741, 0.98700898,\n",
       "        0.98618633, 0.9853294 , 0.98457531, 0.98303284, 0.98094193,\n",
       "        0.97802838, 0.97137862, 0.86913005, 0.65548091, 0.56392678,\n",
       "        0.49321313, 0.44436827, 0.39394666, 0.35007198, 0.31315555,\n",
       "        0.25104545, 0.19695619, 0.1640159 , 0.11061219, 0.02731885,\n",
       "        0.        , 0.        , 0.        , 0.        , 0.        ,\n",
       "        0.        , 0.        , 0.        , 0.        , 0.        ,\n",
       "        0.        , 0.        , 0.        , 0.        , 0.        ,\n",
       "        0.        , 0.        , 0.        , 0.        , 0.        ,\n",
       "        0.        , 0.        , 0.        , 0.        , 0.        ,\n",
       "        0.        , 0.        , 0.        , 0.        , 0.        ,\n",
       "        0.        , 0.        , 0.        , 0.        , 0.        ,\n",
       "        0.        , 0.        , 0.        , 0.        , 0.        ]))"
      ]
     },
     "execution_count": 112,
     "metadata": {},
     "output_type": "execute_result"
    }
   ],
   "source": [
    "roc2(cal_class_lsvc_down.predict_proba(Xt_test_down), y_test_down)"
   ]
  },
  {
   "cell_type": "code",
   "execution_count": 113,
   "metadata": {},
   "outputs": [
    {
     "name": "stdout",
     "output_type": "stream",
     "text": [
      "Sensitivity: 99.02820%, Specificity: 1.90581%, Threshold: 44.0%\n"
     ]
    }
   ],
   "source": [
    "TPRs_cal_class_lsvc_down, FPRs_cal_class_lsvc_down = sen_spec(probas=cal_class_lsvc_down.predict_proba(Xt_test_down), true=y_test_down, stat=\"sensitivity\", stat_val = 0.99, step=0.01)\n"
   ]
  },
  {
   "cell_type": "code",
   "execution_count": 114,
   "metadata": {},
   "outputs": [
    {
     "data": {
      "text/plain": [
       "0.6690658440469058"
      ]
     },
     "execution_count": 114,
     "metadata": {},
     "output_type": "execute_result"
    }
   ],
   "source": [
    "auc(TPRs_cal_class_lsvc_down, FPRs_cal_class_lsvc_down)"
   ]
  },
  {
   "cell_type": "code",
   "execution_count": 115,
   "metadata": {},
   "outputs": [],
   "source": [
    "cal_class_lsvc_down_preds = cal_class_lsvc_down.predict(Xt_test_down)"
   ]
  },
  {
   "cell_type": "code",
   "execution_count": 100,
   "metadata": {
    "scrolled": true
   },
   "outputs": [
    {
     "data": {
      "image/png": "[encoded data removed]",
      "text/plain": [
       "<Figure size 432x288 with 1 Axes>"
      ]
     },
     "metadata": {},
     "output_type": "display_data"
    },
    {
     "data": {
      "text/plain": [
       "(array([9.99965902e-01, 9.96931156e-01, 9.96760664e-01, 9.96624271e-01,\n",
       "        9.96590173e-01, 9.96385583e-01, 9.96317387e-01, 9.96317387e-01,\n",
       "        9.96317387e-01, 9.96180994e-01, 9.96078699e-01, 9.95874109e-01,\n",
       "        9.95874109e-01, 9.95805913e-01, 9.95703618e-01, 9.95703618e-01,\n",
       "        9.95703618e-01, 9.95669520e-01, 9.95635421e-01, 9.95601323e-01,\n",
       "        9.95601323e-01, 9.95567225e-01, 9.95499028e-01, 9.95464930e-01,\n",
       "        9.95464930e-01, 9.95362635e-01, 9.95362635e-01, 9.95328537e-01,\n",
       "        9.95328537e-01, 9.95294439e-01, 9.95226242e-01, 9.95192144e-01,\n",
       "        9.95055751e-01, 9.95055751e-01, 9.94987554e-01, 9.94953456e-01,\n",
       "        9.94953456e-01, 9.94953456e-01, 9.94919358e-01, 9.94885259e-01,\n",
       "        9.94885259e-01, 9.94817063e-01, 9.94782965e-01, 9.94782965e-01,\n",
       "        9.94782965e-01, 9.94748866e-01, 9.94748866e-01, 9.94748866e-01,\n",
       "        9.94748866e-01, 9.94612473e-01, 9.94578375e-01, 9.94441982e-01,\n",
       "        9.94441982e-01, 9.94407884e-01, 9.94407884e-01, 9.94271490e-01,\n",
       "        9.94169196e-01, 9.94032803e-01, 9.93964606e-01, 9.93896409e-01,\n",
       "        9.93794115e-01, 9.93760016e-01, 9.93657722e-01, 9.93589525e-01,\n",
       "        9.93521328e-01, 9.93384935e-01, 9.93350837e-01, 9.93180346e-01,\n",
       "        9.92873461e-01, 9.92361987e-01, 9.91986906e-01, 9.91339039e-01,\n",
       "        9.81962015e-01, 9.63787636e-01, 9.38623112e-01, 9.16595629e-01,\n",
       "        8.96102568e-01, 8.78678351e-01, 8.58287585e-01, 8.36430593e-01,\n",
       "        8.17267365e-01, 7.97967743e-01, 7.78770416e-01, 7.63392096e-01,\n",
       "        7.46342960e-01, 7.24247281e-01, 6.98162103e-01, 6.64848092e-01,\n",
       "        6.39581273e-01, 5.93105330e-01, 5.27738944e-01, 4.59746991e-01,\n",
       "        3.99665837e-01, 3.15784090e-01, 1.93473591e-01, 5.59893613e-02,\n",
       "        5.11474068e-04, 0.00000000e+00, 0.00000000e+00, 0.00000000e+00]),\n",
       " array([9.99794337e-01, 9.89408377e-01, 9.89099883e-01, 9.88757112e-01,\n",
       "        9.88551450e-01, 9.88345787e-01, 9.88174402e-01, 9.87865908e-01,\n",
       "        9.87728800e-01, 9.87591691e-01, 9.87488860e-01, 9.87180366e-01,\n",
       "        9.87111812e-01, 9.87077535e-01, 9.87043258e-01, 9.86871872e-01,\n",
       "        9.86734764e-01, 9.86391993e-01, 9.86323439e-01, 9.86254884e-01,\n",
       "        9.86152053e-01, 9.85980668e-01, 9.85809282e-01, 9.85740728e-01,\n",
       "        9.85637897e-01, 9.85432234e-01, 9.85329403e-01, 9.85192295e-01,\n",
       "        9.85192295e-01, 9.85055186e-01, 9.85020909e-01, 9.84815246e-01,\n",
       "        9.84541030e-01, 9.84438198e-01, 9.84301090e-01, 9.84129705e-01,\n",
       "        9.83924042e-01, 9.83821211e-01, 9.83752656e-01, 9.83546994e-01,\n",
       "        9.83444163e-01, 9.83307054e-01, 9.83101392e-01, 9.82861452e-01,\n",
       "        9.82655789e-01, 9.82552958e-01, 9.82484404e-01, 9.82210187e-01,\n",
       "        9.82073079e-01, 9.81867416e-01, 9.81593199e-01, 9.81181874e-01,\n",
       "        9.81079043e-01, 9.80701995e-01, 9.80427778e-01, 9.80153561e-01,\n",
       "        9.79879345e-01, 9.79673682e-01, 9.79365188e-01, 9.79228080e-01,\n",
       "        9.78851032e-01, 9.78611092e-01, 9.77891273e-01, 9.77274285e-01,\n",
       "        9.76794406e-01, 9.76245972e-01, 9.75320491e-01, 9.74669226e-01,\n",
       "        9.73263865e-01, 9.71789950e-01, 9.70041818e-01, 9.66168506e-01,\n",
       "        9.34050867e-01, 8.51203126e-01, 7.94166038e-01, 7.43778707e-01,\n",
       "        7.01138000e-01, 6.59045726e-01, 6.17810379e-01, 5.86035511e-01,\n",
       "        5.57379859e-01, 5.26427641e-01, 5.00445602e-01, 4.82004525e-01,\n",
       "        4.58456160e-01, 4.34633578e-01, 4.06629190e-01, 3.78384863e-01,\n",
       "        3.59943786e-01, 3.23472955e-01, 2.82134778e-01, 2.39596901e-01,\n",
       "        2.03845890e-01, 1.57194762e-01, 9.55988209e-02, 2.71474601e-02,\n",
       "        1.02831288e-04, 0.00000000e+00, 0.00000000e+00, 0.00000000e+00]))"
      ]
     },
     "execution_count": 100,
     "metadata": {},
     "output_type": "execute_result"
    }
   ],
   "source": [
    "roc2(gnb_down.predict_proba(Xt_test_down), y_test_down)"
   ]
  },
  {
   "cell_type": "code",
   "execution_count": 101,
   "metadata": {},
   "outputs": [
    {
     "name": "stdout",
     "output_type": "stream",
     "text": [
      "Sensitivity: 99.13390%, Specificity: 3.38315%, Threshold: 71.0%\n"
     ]
    }
   ],
   "source": [
    "TPRs_gnb_down, FPRs_gnb_down = sen_spec(probas=gnb_down.predict_proba(Xt_test_down), true=y_test_down, stat=\"sensitivity\", stat_val = 0.99, step=0.01)\n"
   ]
  },
  {
   "cell_type": "code",
   "execution_count": 102,
   "metadata": {},
   "outputs": [
    {
     "data": {
      "text/plain": [
       "0.6790497299664469"
      ]
     },
     "execution_count": 102,
     "metadata": {},
     "output_type": "execute_result"
    }
   ],
   "source": [
    "auc(TPRs_gnb_down, FPRs_gnb_down)\n"
   ]
  },
  {
   "cell_type": "code",
   "execution_count": 103,
   "metadata": {},
   "outputs": [],
   "source": [
    "gnb_down_preds = gnb_down.predict(Xt_test_down)"
   ]
  },
  {
   "cell_type": "code",
   "execution_count": 116,
   "metadata": {},
   "outputs": [
    {
     "name": "stdout",
     "output_type": "stream",
     "text": [
      "             precision    recall  f1-score   support\n",
      "\n",
      "          0       0.64      0.64      0.64     29174\n",
      "          1       0.64      0.64      0.64     29327\n",
      "\n",
      "avg / total       0.64      0.64      0.64     58501\n",
      "\n",
      "             precision    recall  f1-score   support\n",
      "\n",
      "          0       0.65      0.62      0.63     29174\n",
      "          1       0.64      0.67      0.65     29327\n",
      "\n",
      "avg / total       0.64      0.64      0.64     58501\n",
      "\n",
      "             precision    recall  f1-score   support\n",
      "\n",
      "          0       0.69      0.59      0.63     29174\n",
      "          1       0.64      0.74      0.69     29327\n",
      "\n",
      "avg / total       0.66      0.66      0.66     58501\n",
      "\n",
      "             precision    recall  f1-score   support\n",
      "\n",
      "          0       0.68      0.59      0.63     29174\n",
      "          1       0.64      0.73      0.68     29327\n",
      "\n",
      "avg / total       0.66      0.66      0.66     58501\n",
      "\n",
      "             precision    recall  f1-score   support\n",
      "\n",
      "          0       0.68      0.62      0.65     29174\n",
      "          1       0.66      0.71      0.68     29327\n",
      "\n",
      "avg / total       0.67      0.67      0.67     58501\n",
      "\n",
      "             precision    recall  f1-score   support\n",
      "\n",
      "          0       0.69      0.51      0.58     29174\n",
      "          1       0.61      0.77      0.68     29327\n",
      "\n",
      "avg / total       0.65      0.64      0.63     58501\n",
      "\n",
      "             precision    recall  f1-score   support\n",
      "\n",
      "          0       0.77      0.02      0.04     29174\n",
      "          1       0.50      0.99      0.67     29327\n",
      "\n",
      "avg / total       0.64      0.51      0.35     58501\n",
      "\n"
     ]
    }
   ],
   "source": [
    "print(classification_report(y_test_down, lr_down_preds))\n",
    "print(classification_report(y_test_down, rt_lr_pipeline_down_preds))\n",
    "print(classification_report(y_test_down, rf_down_preds))\n",
    "print(classification_report(y_test_down, grd_down_preds))\n",
    "print(classification_report(y_test_down, xgb_down_preds))\n",
    "print(classification_report(y_test_down, cal_class_lsvc_down_preds))\n",
    "print(classification_report(y_test_down, gnb_down_preds))\n"
   ]
  },
  {
   "cell_type": "markdown",
   "metadata": {},
   "source": [
    "**Class Balance Method 2:** up-sampling the minority class."
   ]
  },
  {
   "cell_type": "code",
   "execution_count": 89,
   "metadata": {},
   "outputs": [
    {
     "data": {
      "text/plain": [
       "0    771131\n",
       "1    146252\n",
       "Name: ARSON, dtype: int64"
      ]
     },
     "execution_count": 89,
     "metadata": {},
     "output_type": "execute_result"
    }
   ],
   "source": [
    "df_wburn.ARSON.value_counts()"
   ]
  },
  {
   "cell_type": "code",
   "execution_count": 90,
   "metadata": {},
   "outputs": [
    {
     "data": {
      "text/plain": [
       "1    771131\n",
       "0    771131\n",
       "Name: ARSON, dtype: int64"
      ]
     },
     "execution_count": 90,
     "metadata": {},
     "output_type": "execute_result"
    }
   ],
   "source": [
    "df_majority_up = df_wburn[df_wburn.ARSON==0]\n",
    "df_minority_up = df_wburn[df_wburn.ARSON==1]\n",
    " \n",
    "# Upsample minority class\n",
    "df_minority_upsampled = resample(df_minority_up, \n",
    "                                 replace=True,     # sample with replacement\n",
    "                                 n_samples=771131,    # to match majority class\n",
    "                                 random_state=42) # reproducible results\n",
    " \n",
    "# Combine majority class with upsampled minority class\n",
    "df_up = pd.concat([df_majority_up, df_minority_upsampled])\n",
    " \n",
    "# Display new class counts\n",
    "df_up.ARSON.value_counts()"
   ]
  },
  {
   "cell_type": "code",
   "execution_count": 91,
   "metadata": {},
   "outputs": [],
   "source": [
    "Xu = df_up.drop(['ARSON'], axis=1)\n",
    "yu = df_up['ARSON']"
   ]
  },
  {
   "cell_type": "code",
   "execution_count": 92,
   "metadata": {},
   "outputs": [],
   "source": [
    "X_train_u, X_test_u, yu_train, yu_test = train_test_split(Xu, yu, test_size=0.2, random_state=42)"
   ]
  },
  {
   "cell_type": "code",
   "execution_count": 93,
   "metadata": {},
   "outputs": [],
   "source": [
    "pca_6_up = PCA(n_components=6)\n",
    "pca_6_up.fit(X_train_u)\n",
    "Xu_train = pca_6_up.transform(X_train_u)\n",
    "Xu_test = pca_6_up.transform(X_test_u)"
   ]
  },
  {
   "cell_type": "code",
   "execution_count": 105,
   "metadata": {},
   "outputs": [
    {
     "data": {
      "text/plain": [
       "LogisticRegression(C=1.0, class_weight=None, dual=False, fit_intercept=True,\n",
       "          intercept_scaling=1, max_iter=100, multi_class='ovr', n_jobs=1,\n",
       "          penalty='l2', random_state=None, solver='liblinear', tol=0.0001,\n",
       "          verbose=0, warm_start=False)"
      ]
     },
     "execution_count": 105,
     "metadata": {},
     "output_type": "execute_result"
    }
   ],
   "source": [
    "lr_up = LogisticRegression()\n",
    "lr_up.fit(Xu_train, yu_train)"
   ]
  },
  {
   "cell_type": "code",
   "execution_count": 106,
   "metadata": {},
   "outputs": [
    {
     "data": {
      "text/plain": [
       "Pipeline(memory=None,\n",
       "     steps=[('randomtreesembedding', RandomTreesEmbedding(max_depth=4, max_leaf_nodes=None,\n",
       "           min_impurity_decrease=0.0, min_impurity_split=None,\n",
       "           min_samples_leaf=1, min_samples_split=2,\n",
       "           min_weight_fraction_leaf=0.0, n_estimators=10, n_jobs=1,\n",
       "           random_state=42, sp...ty='l2', random_state=None, solver='liblinear', tol=0.0001,\n",
       "          verbose=0, warm_start=False))])"
      ]
     },
     "execution_count": 106,
     "metadata": {},
     "output_type": "execute_result"
    }
   ],
   "source": [
    "rt_up = RandomTreesEmbedding(max_depth=4, n_estimators=n_estimator,\n",
    "    random_state=42)\n",
    "rt_lr_up = LogisticRegression()\n",
    "rt_lr_pipeline_up = make_pipeline(rt_up, rt_lr_up)\n",
    "rt_lr_pipeline_up.fit(Xu_train, yu_train)"
   ]
  },
  {
   "cell_type": "code",
   "execution_count": 107,
   "metadata": {},
   "outputs": [
    {
     "data": {
      "text/plain": [
       "RandomForestClassifier(bootstrap=True, class_weight=None, criterion='gini',\n",
       "            max_depth=4, max_features='auto', max_leaf_nodes=None,\n",
       "            min_impurity_decrease=0.0, min_impurity_split=None,\n",
       "            min_samples_leaf=1, min_samples_split=2,\n",
       "            min_weight_fraction_leaf=0.0, n_estimators=10, n_jobs=1,\n",
       "            oob_score=False, random_state=None, verbose=0,\n",
       "            warm_start=False)"
      ]
     },
     "execution_count": 107,
     "metadata": {},
     "output_type": "execute_result"
    }
   ],
   "source": [
    "rf_up = RandomForestClassifier(max_depth=4, n_estimators=n_estimator)\n",
    "rf_up.fit(Xu_train, yu_train)"
   ]
  },
  {
   "cell_type": "code",
   "execution_count": 108,
   "metadata": {},
   "outputs": [
    {
     "data": {
      "text/plain": [
       "GradientBoostingClassifier(criterion='friedman_mse', init=None,\n",
       "              learning_rate=0.1, loss='deviance', max_depth=3,\n",
       "              max_features=None, max_leaf_nodes=None,\n",
       "              min_impurity_decrease=0.0, min_impurity_split=None,\n",
       "              min_samples_leaf=1, min_samples_split=2,\n",
       "              min_weight_fraction_leaf=0.0, n_estimators=10,\n",
       "              presort='auto', random_state=None, subsample=1.0, verbose=0,\n",
       "              warm_start=False)"
      ]
     },
     "execution_count": 108,
     "metadata": {},
     "output_type": "execute_result"
    }
   ],
   "source": [
    "grd_up = GradientBoostingClassifier(n_estimators=n_estimator)\n",
    "grd_up.fit(Xu_train, yu_train)"
   ]
  },
  {
   "cell_type": "code",
   "execution_count": 109,
   "metadata": {},
   "outputs": [
    {
     "data": {
      "text/plain": [
       "XGBClassifier(base_score=0.5, booster='gbtree', colsample_bylevel=1,\n",
       "       colsample_bytree=1, gamma=0, learning_rate=0.1, max_delta_step=0,\n",
       "       max_depth=3, min_child_weight=1, missing=None, n_estimators=100,\n",
       "       n_jobs=1, nthread=None, objective='binary:logistic', random_state=0,\n",
       "       reg_alpha=0, reg_lambda=1, scale_pos_weight=1, seed=None,\n",
       "       silent=True, subsample=1)"
      ]
     },
     "execution_count": 109,
     "metadata": {},
     "output_type": "execute_result"
    }
   ],
   "source": [
    "xgb_up = XGBClassifier()\n",
    "xgb_up.fit(Xu_train, yu_train)"
   ]
  },
  {
   "cell_type": "code",
   "execution_count": 110,
   "metadata": {},
   "outputs": [
    {
     "data": {
      "text/plain": [
       "GaussianNB(priors=None)"
      ]
     },
     "execution_count": 110,
     "metadata": {},
     "output_type": "execute_result"
    }
   ],
   "source": [
    "gnb_up = GaussianNB()\n",
    "gnb_up.fit(Xu_train, yu_train)"
   ]
  },
  {
   "cell_type": "code",
   "execution_count": 111,
   "metadata": {
    "scrolled": true
   },
   "outputs": [
    {
     "name": "stderr",
     "output_type": "stream",
     "text": [
      "/Users/ryanmetz/anaconda3/envs/ipykernel_py3/lib/python3.6/site-packages/sklearn/calibration.py:435: RuntimeWarning: overflow encountered in exp\n",
      "  E = np.exp(AB[0] * F + AB[1])\n",
      "/Users/ryanmetz/anaconda3/envs/ipykernel_py3/lib/python3.6/site-packages/sklearn/calibration.py:445: RuntimeWarning: overflow encountered in exp\n",
      "  E = np.exp(AB[0] * F + AB[1])\n",
      "/Users/ryanmetz/anaconda3/envs/ipykernel_py3/lib/python3.6/site-packages/sklearn/calibration.py:447: RuntimeWarning: invalid value encountered in multiply\n",
      "  TEP_minus_T1P = P * (T * E - T1)\n",
      "/Users/ryanmetz/anaconda3/envs/ipykernel_py3/lib/python3.6/site-packages/sklearn/calibration.py:435: RuntimeWarning: overflow encountered in exp\n",
      "  E = np.exp(AB[0] * F + AB[1])\n",
      "/Users/ryanmetz/anaconda3/envs/ipykernel_py3/lib/python3.6/site-packages/sklearn/calibration.py:435: RuntimeWarning: overflow encountered in exp\n",
      "  E = np.exp(AB[0] * F + AB[1])\n",
      "/Users/ryanmetz/anaconda3/envs/ipykernel_py3/lib/python3.6/site-packages/sklearn/calibration.py:445: RuntimeWarning: overflow encountered in exp\n",
      "  E = np.exp(AB[0] * F + AB[1])\n",
      "/Users/ryanmetz/anaconda3/envs/ipykernel_py3/lib/python3.6/site-packages/sklearn/calibration.py:447: RuntimeWarning: invalid value encountered in multiply\n",
      "  TEP_minus_T1P = P * (T * E - T1)\n",
      "/Users/ryanmetz/anaconda3/envs/ipykernel_py3/lib/python3.6/site-packages/sklearn/calibration.py:435: RuntimeWarning: overflow encountered in exp\n",
      "  E = np.exp(AB[0] * F + AB[1])\n"
     ]
    },
    {
     "data": {
      "text/plain": [
       "CalibratedClassifierCV(base_estimator=LinearSVC(C=1.0, class_weight=None, dual=True, fit_intercept=True,\n",
       "     intercept_scaling=1, loss='squared_hinge', max_iter=1000,\n",
       "     multi_class='ovr', penalty='l2', random_state=0, tol=0.0001,\n",
       "     verbose=0),\n",
       "            cv=2, method='sigmoid')"
      ]
     },
     "execution_count": 111,
     "metadata": {},
     "output_type": "execute_result"
    }
   ],
   "source": [
    "cal_class_lsvc_up = CalibratedClassifierCV(lsvc, cv=2, method='sigmoid')\n",
    "cal_class_lsvc_up.fit(Xu_train, yu_train)"
   ]
  },
  {
   "cell_type": "code",
   "execution_count": 117,
   "metadata": {},
   "outputs": [
    {
     "data": {
      "image/png": "[encoded data removed]",
      "text/plain": [
       "<Figure size 432x288 with 1 Axes>"
      ]
     },
     "metadata": {},
     "output_type": "display_data"
    },
    {
     "name": "stdout",
     "output_type": "stream",
     "text": [
      "Specificity: 98.53211%, Sensitivity: 3.58512%, Threshold: 73.0%\n"
     ]
    }
   ],
   "source": [
    "roc2(lr_up.predict_proba(Xu_test), yu_test)\n",
    "\n",
    "TPRs_lr_up, FPRs_lr_up = sen_spec(probas=lr_up.predict_proba(Xu_test), true=yu_test, stat=\"specificity\", stat_val = 0.99, step=0.01)\n",
    "\n",
    "auc(TPRs_lr_up, FPRs_lr_up)\n",
    "\n",
    "lr_up_preds = lr_up.predict(Xu_test)"
   ]
  },
  {
   "cell_type": "code",
   "execution_count": 118,
   "metadata": {},
   "outputs": [
    {
     "data": {
      "image/png": "[encoded data removed]",
      "text/plain": [
       "<Figure size 432x288 with 1 Axes>"
      ]
     },
     "metadata": {},
     "output_type": "display_data"
    },
    {
     "name": "stdout",
     "output_type": "stream",
     "text": [
      "Sensitivity: 99.51518%, Specificity: 1.32741%, Threshold: 27.0%\n"
     ]
    }
   ],
   "source": [
    "roc2(rt_lr_pipeline_up.predict_proba(Xu_test), yu_test)\n",
    "\n",
    "TPRs_pipeline_up, FPRs_pipeline_up = sen_spec(probas=rt_lr_pipeline_up.predict_proba(Xu_test), true=yu_test, stat=\"sensitivity\", stat_val = 0.99, step=0.01)\n",
    "\n",
    "auc(TPRs_pipeline_up, FPRs_pipeline_up)\n",
    "\n",
    "rt_lr_pipeline_up_preds = rt_lr_pipeline_up.predict(Xu_test)"
   ]
  },
  {
   "cell_type": "code",
   "execution_count": 119,
   "metadata": {},
   "outputs": [
    {
     "data": {
      "image/png": "[encoded data removed]",
      "text/plain": [
       "<Figure size 432x288 with 1 Axes>"
      ]
     },
     "metadata": {},
     "output_type": "display_data"
    },
    {
     "name": "stdout",
     "output_type": "stream",
     "text": [
      "Sensitivity: 99.63735%, Specificity: 3.82419%, Threshold: 20.0%\n"
     ]
    }
   ],
   "source": [
    "roc2(rf_up.predict_proba(Xu_test), yu_test)\n",
    "\n",
    "TPRs_rf_up, FPRs_rf_up = sen_spec(probas=rf_up.predict_proba(Xu_test), true=yu_test, stat=\"sensitivity\", stat_val = 0.99, step=0.01)\n",
    "\n",
    "auc(TPRs_rf_up, FPRs_rf_up)\n",
    "\n",
    "rf_up_preds = rf_up.predict(Xu_test)"
   ]
  },
  {
   "cell_type": "code",
   "execution_count": 120,
   "metadata": {},
   "outputs": [
    {
     "data": {
      "image/png": "[encoded data removed]",
      "text/plain": [
       "<Figure size 432x288 with 1 Axes>"
      ]
     },
     "metadata": {},
     "output_type": "display_data"
    },
    {
     "name": "stdout",
     "output_type": "stream",
     "text": [
      "Specificity: 100.00000%, Sensitivity: 0.00000%, Threshold: 64.0%\n"
     ]
    }
   ],
   "source": [
    "roc2(grd_up.predict_proba(Xu_test), yu_test)\n",
    "\n",
    "TPRs_grd_up, FPRs_grd_up = sen_spec(probas=grd_up.predict_proba(Xu_test), true=yu_test, stat=\"specificity\", stat_val = 0.99, step=0.01)\n",
    "\n",
    "auc(TPRs_grd_up, FPRs_grd_up)\n",
    "\n",
    "grd_up_preds = grd_up.predict(Xu_test)"
   ]
  },
  {
   "cell_type": "code",
   "execution_count": 121,
   "metadata": {},
   "outputs": [
    {
     "data": {
      "image/png": "[encoded data removed]",
      "text/plain": [
       "<Figure size 432x288 with 1 Axes>"
      ]
     },
     "metadata": {},
     "output_type": "display_data"
    },
    {
     "name": "stdout",
     "output_type": "stream",
     "text": [
      "Sensitivity: 99.09305%, Specificity: 9.93769%, Threshold: 16.0%\n"
     ]
    },
    {
     "name": "stderr",
     "output_type": "stream",
     "text": [
      "/Users/ryanmetz/anaconda3/envs/ipykernel_py3/lib/python3.6/site-packages/sklearn/preprocessing/label.py:151: DeprecationWarning: The truth value of an empty array is ambiguous. Returning False, but in future this will result in an error. Use `array.size > 0` to check that an array is not empty.\n",
      "  if diff:\n"
     ]
    }
   ],
   "source": [
    "roc2(xgb_up.predict_proba(Xu_test), yu_test)\n",
    "\n",
    "TPRs_xgb_up, FPRs_xgb_up = sen_spec(probas=xgb_up.predict_proba(Xu_test), true=yu_test, stat=\"sensitivity\", stat_val = 0.99, step=0.01)\n",
    "\n",
    "auc(TPRs_xgb_up, FPRs_xgb_up)\n",
    "\n",
    "xgb_up_preds = xgb_up.predict(Xu_test)"
   ]
  },
  {
   "cell_type": "code",
   "execution_count": 122,
   "metadata": {},
   "outputs": [
    {
     "data": {
      "image/png": "[encoded data removed]",
      "text/plain": [
       "<Figure size 432x288 with 1 Axes>"
      ]
     },
     "metadata": {},
     "output_type": "display_data"
    },
    {
     "name": "stdout",
     "output_type": "stream",
     "text": [
      "Sensitivity: 99.03294%, Specificity: 1.69162%, Threshold: 47.0%\n"
     ]
    }
   ],
   "source": [
    "roc2(cal_class_lsvc_up.predict_proba(Xu_test), yu_test)\n",
    "\n",
    "TPRs_cal_class_lsvc_up, FPRs_cal_class_lsvc_up = sen_spec(probas=cal_class_lsvc_up.predict_proba(Xu_test), true=yu_test, stat=\"sensitivity\", stat_val = 0.99, step=0.01)\n",
    "\n",
    "auc(TPRs_cal_class_lsvc_up, FPRs_cal_class_lsvc_up)\n",
    "\n",
    "cal_class_lsvc_up_preds = cal_class_lsvc_up.predict(Xu_test)"
   ]
  },
  {
   "cell_type": "code",
   "execution_count": 123,
   "metadata": {},
   "outputs": [
    {
     "data": {
      "image/png": "[encoded data removed]",
      "text/plain": [
       "<Figure size 432x288 with 1 Axes>"
      ]
     },
     "metadata": {},
     "output_type": "display_data"
    },
    {
     "name": "stdout",
     "output_type": "stream",
     "text": [
      "Sensitivity: 99.18485%, Specificity: 2.98911%, Threshold: 59.0%\n"
     ]
    }
   ],
   "source": [
    "roc2(gnb_up.predict_proba(Xu_test), yu_test)\n",
    "\n",
    "TPRs_gnb_up, FPRs_gnb_up = sen_spec(probas=gnb_up.predict_proba(Xu_test), true=yu_test, stat=\"sensitivity\", stat_val = 0.99, step=0.01)\n",
    "\n",
    "auc(TPRs_gnb_up, FPRs_gnb_up)\n",
    "\n",
    "gnb_up_preds = gnb_up.predict(Xu_test)"
   ]
  },
  {
   "cell_type": "code",
   "execution_count": 124,
   "metadata": {},
   "outputs": [
    {
     "name": "stdout",
     "output_type": "stream",
     "text": [
      "             precision    recall  f1-score   support\n",
      "\n",
      "          0       0.64      0.64      0.64    153758\n",
      "          1       0.64      0.64      0.64    154695\n",
      "\n",
      "avg / total       0.64      0.64      0.64    308453\n",
      "\n",
      "             precision    recall  f1-score   support\n",
      "\n",
      "          0       0.62      0.52      0.57    153758\n",
      "          1       0.59      0.68      0.63    154695\n",
      "\n",
      "avg / total       0.60      0.60      0.60    308453\n",
      "\n",
      "             precision    recall  f1-score   support\n",
      "\n",
      "          0       0.69      0.58      0.63    153758\n",
      "          1       0.64      0.74      0.68    154695\n",
      "\n",
      "avg / total       0.66      0.66      0.66    308453\n",
      "\n",
      "             precision    recall  f1-score   support\n",
      "\n",
      "          0       0.68      0.57      0.62    153758\n",
      "          1       0.63      0.74      0.68    154695\n",
      "\n",
      "avg / total       0.66      0.66      0.65    308453\n",
      "\n",
      "             precision    recall  f1-score   support\n",
      "\n",
      "          0       0.68      0.63      0.65    153758\n",
      "          1       0.66      0.70      0.68    154695\n",
      "\n",
      "avg / total       0.67      0.67      0.67    308453\n",
      "\n",
      "             precision    recall  f1-score   support\n",
      "\n",
      "          0       0.64      0.60      0.62    153758\n",
      "          1       0.63      0.67      0.65    154695\n",
      "\n",
      "avg / total       0.63      0.63      0.63    308453\n",
      "\n",
      "             precision    recall  f1-score   support\n",
      "\n",
      "          0       0.78      0.02      0.04    153758\n",
      "          1       0.51      0.99      0.67    154695\n",
      "\n",
      "avg / total       0.64      0.51      0.36    308453\n",
      "\n"
     ]
    }
   ],
   "source": [
    "print(classification_report(yu_test, lr_up_preds))\n",
    "print(classification_report(yu_test, rt_lr_pipeline_up_preds))\n",
    "print(classification_report(yu_test, rf_up_preds))\n",
    "print(classification_report(yu_test, grd_up_preds))\n",
    "print(classification_report(yu_test, xgb_up_preds))\n",
    "print(classification_report(yu_test, cal_class_lsvc_up_preds))\n",
    "print(classification_report(yu_test, gnb_up_preds))"
   ]
  },
  {
   "cell_type": "markdown",
   "metadata": {},
   "source": [
    "I got better scores with the downsampled data. This is nice because I'm not creating any new data, robust though that method may be, and it will run faster on the smaller set."
   ]
  },
  {
   "cell_type": "markdown",
   "metadata": {},
   "source": [
    "It's time for tuning! I am going to run GridSearchCV() on everything. After that, the final step will be to take the best parameters and then re-train everything on the downsampled data set. After that I can either use the best one as my final model, do some kind of simple ensemble with them if I can figure out a way, or plug them in as inputs to a neural net. I would like to do the last one but I only have 4 days before this is due. We'll see what happens."
   ]
  },
  {
   "cell_type": "code",
   "execution_count": null,
   "metadata": {},
   "outputs": [],
   "source": []
  },
  {
   "cell_type": "markdown",
   "metadata": {},
   "source": [
    "The below cells are my ensemble of the above models."
   ]
  },
  {
   "cell_type": "code",
   "execution_count": 132,
   "metadata": {},
   "outputs": [],
   "source": [
    "df_downsampled = pd.read_csv('./df_down.csv')"
   ]
  },
  {
   "cell_type": "code",
   "execution_count": 133,
   "metadata": {},
   "outputs": [],
   "source": [
    "Xd = df_downsampled.drop(['ARSON'], axis=1)\n",
    "yd = df_downsampled['ARSON']\n",
    "\n",
    "Xs_train, Xs_test, ys_train, ys_test = train_test_split(Xd, yd, test_size=0.8, random_state=42)\n",
    "\n",
    "X_small_train, X_small_test, y_train, y_test = train_test_split(Xs_train, ys_train, test_size=0.5, random_state=42)\n",
    "\n",
    "\n",
    "pca_3_down = PCA(n_components=3)\n",
    "pca_3_down.fit(X_small_train)\n",
    "X_train = pca_3_down.transform(X_small_train)\n",
    "X_test = pca_3_down.transform(X_small_test)"
   ]
  },
  {
   "cell_type": "code",
   "execution_count": 134,
   "metadata": {},
   "outputs": [],
   "source": [
    "n_estimator_ens = 50"
   ]
  },
  {
   "cell_type": "code",
   "execution_count": 135,
   "metadata": {},
   "outputs": [],
   "source": [
    "lr_ens = LogisticRegression(fit_intercept=False)\n",
    "\n",
    "rt_ens = RandomTreesEmbedding(max_depth=3, n_estimators=n_estimator,\n",
    "    random_state=42)\n",
    "rt_lr_ens = LogisticRegression(fit_intercept=False)\n",
    "rt_lr_pipeline_ens = make_pipeline(rt_ens, rt_lr_ens)\n",
    "\n",
    "rf_ens = RandomForestClassifier(max_depth=3, n_estimators=n_estimator)\n",
    "\n",
    "grd_ens = GradientBoostingClassifier(n_estimators=n_estimator)\n",
    "\n",
    "xgb_ens = XGBClassifier()\n",
    "\n",
    "gnb_ens = GaussianNB()\n",
    "\n",
    "lsvc = LinearSVC(random_state=42)\n",
    "cal_class_lsvc_ens = CalibratedClassifierCV(lsvc, cv=2, method='sigmoid')\n"
   ]
  },
  {
   "cell_type": "code",
   "execution_count": null,
   "metadata": {},
   "outputs": [],
   "source": [
    "#copied from elsewhere, figured I'd keep them handy in case I wanted to use them.\n",
    "\n",
    "# rt_lr_pipeline_ens.fit(X_train, y_train)\n",
    "# rf_ens.fit(X_train, y_train)\n",
    "# grd.fit(X_train, y_train)\n",
    "# xgb_ens.fit(Xt_train, y_train)\n",
    "# gnb_ens.fit(Xt_train, y_train)\n",
    "# cal_class_lsvc.fit(Xt_train_svc, y_train_svc)\n"
   ]
  },
  {
   "cell_type": "code",
   "execution_count": 136,
   "metadata": {},
   "outputs": [],
   "source": [
    "models = [\n",
    "    ['logistic', lr_ens],  #these are all tuples, \"models\" is the list of them\n",
    "    ['rt_lr_pipeline', rt_lr_pipeline_ens],\n",
    "    ['random forest', rf_ens],\n",
    "    ['gradient boosting', grd_ens],\n",
    "    ['XGBoost', xgb_ens],\n",
    "    ['GaussianNB', gnb_ens],\n",
    "    ['calibrated LinearSVC', cal_class_lsvc_ens]\n",
    "]"
   ]
  },
  {
   "cell_type": "code",
   "execution_count": 138,
   "metadata": {},
   "outputs": [
    {
     "name": "stderr",
     "output_type": "stream",
     "text": [
      "/Users/ryanmetz/anaconda3/envs/ipykernel_py3/lib/python3.6/site-packages/sklearn/preprocessing/label.py:151: DeprecationWarning: The truth value of an empty array is ambiguous. Returning False, but in future this will result in an error. Use `array.size > 0` to check that an array is not empty.\n",
      "  if diff:\n",
      "/Users/ryanmetz/anaconda3/envs/ipykernel_py3/lib/python3.6/site-packages/sklearn/preprocessing/label.py:151: DeprecationWarning: The truth value of an empty array is ambiguous. Returning False, but in future this will result in an error. Use `array.size > 0` to check that an array is not empty.\n",
      "  if diff:\n",
      "/Users/ryanmetz/anaconda3/envs/ipykernel_py3/lib/python3.6/site-packages/sklearn/preprocessing/label.py:151: DeprecationWarning: The truth value of an empty array is ambiguous. Returning False, but in future this will result in an error. Use `array.size > 0` to check that an array is not empty.\n",
      "  if diff:\n",
      "/Users/ryanmetz/anaconda3/envs/ipykernel_py3/lib/python3.6/site-packages/sklearn/calibration.py:435: RuntimeWarning: overflow encountered in exp\n",
      "  E = np.exp(AB[0] * F + AB[1])\n",
      "/Users/ryanmetz/anaconda3/envs/ipykernel_py3/lib/python3.6/site-packages/sklearn/calibration.py:445: RuntimeWarning: overflow encountered in exp\n",
      "  E = np.exp(AB[0] * F + AB[1])\n",
      "/Users/ryanmetz/anaconda3/envs/ipykernel_py3/lib/python3.6/site-packages/sklearn/calibration.py:447: RuntimeWarning: invalid value encountered in multiply\n",
      "  TEP_minus_T1P = P * (T * E - T1)\n",
      "/Users/ryanmetz/anaconda3/envs/ipykernel_py3/lib/python3.6/site-packages/sklearn/calibration.py:435: RuntimeWarning: overflow encountered in exp\n",
      "  E = np.exp(AB[0] * F + AB[1])\n"
     ]
    },
    {
     "data": {
      "text/html": [
       "<div>\n",
       "<style scoped>\n",
       "    .dataframe tbody tr th:only-of-type {\n",
       "        vertical-align: middle;\n",
       "    }\n",
       "\n",
       "    .dataframe tbody tr th {\n",
       "        vertical-align: top;\n",
       "    }\n",
       "\n",
       "    .dataframe thead th {\n",
       "        text-align: right;\n",
       "    }\n",
       "</style>\n",
       "<table border=\"1\" class=\"dataframe\">\n",
       "  <thead>\n",
       "    <tr style=\"text-align: right;\">\n",
       "      <th></th>\n",
       "      <th>logistic _pred</th>\n",
       "      <th>rt_lr_pipeline _pred</th>\n",
       "      <th>random forest _pred</th>\n",
       "      <th>gradient boosting _pred</th>\n",
       "      <th>XGBoost _pred</th>\n",
       "      <th>GaussianNB _pred</th>\n",
       "      <th>calibrated LinearSVC _pred</th>\n",
       "    </tr>\n",
       "  </thead>\n",
       "  <tbody>\n",
       "    <tr>\n",
       "      <th>0</th>\n",
       "      <td>0</td>\n",
       "      <td>0</td>\n",
       "      <td>0</td>\n",
       "      <td>0</td>\n",
       "      <td>0</td>\n",
       "      <td>0</td>\n",
       "      <td>0</td>\n",
       "    </tr>\n",
       "    <tr>\n",
       "      <th>1</th>\n",
       "      <td>0</td>\n",
       "      <td>0</td>\n",
       "      <td>0</td>\n",
       "      <td>0</td>\n",
       "      <td>0</td>\n",
       "      <td>0</td>\n",
       "      <td>0</td>\n",
       "    </tr>\n",
       "    <tr>\n",
       "      <th>2</th>\n",
       "      <td>0</td>\n",
       "      <td>0</td>\n",
       "      <td>1</td>\n",
       "      <td>1</td>\n",
       "      <td>0</td>\n",
       "      <td>1</td>\n",
       "      <td>0</td>\n",
       "    </tr>\n",
       "    <tr>\n",
       "      <th>3</th>\n",
       "      <td>0</td>\n",
       "      <td>0</td>\n",
       "      <td>0</td>\n",
       "      <td>0</td>\n",
       "      <td>0</td>\n",
       "      <td>0</td>\n",
       "      <td>0</td>\n",
       "    </tr>\n",
       "    <tr>\n",
       "      <th>4</th>\n",
       "      <td>0</td>\n",
       "      <td>0</td>\n",
       "      <td>1</td>\n",
       "      <td>1</td>\n",
       "      <td>1</td>\n",
       "      <td>1</td>\n",
       "      <td>0</td>\n",
       "    </tr>\n",
       "  </tbody>\n",
       "</table>\n",
       "</div>"
      ],
      "text/plain": [
       "   logistic _pred  rt_lr_pipeline _pred  random forest _pred  \\\n",
       "0               0                     0                    0   \n",
       "1               0                     0                    0   \n",
       "2               0                     0                    1   \n",
       "3               0                     0                    0   \n",
       "4               0                     0                    1   \n",
       "\n",
       "   gradient boosting _pred  XGBoost _pred  GaussianNB _pred  \\\n",
       "0                        0              0                 0   \n",
       "1                        0              0                 0   \n",
       "2                        1              0                 1   \n",
       "3                        0              0                 0   \n",
       "4                        1              1                 1   \n",
       "\n",
       "   calibrated LinearSVC _pred  \n",
       "0                           0  \n",
       "1                           0  \n",
       "2                           0  \n",
       "3                           0  \n",
       "4                           0  "
      ]
     },
     "execution_count": 138,
     "metadata": {},
     "output_type": "execute_result"
    }
   ],
   "source": [
    "predictions_train = pd.DataFrame()\n",
    "for model_tup in models:\n",
    "    name, model = model_tup\n",
    "    predictions_train[name + ' _pred'] = cross_val_predict(model, X_train, y_train)\n",
    "    model.fit(X_train, y_train)\n",
    "predictions_train.head()"
   ]
  },
  {
   "cell_type": "code",
   "execution_count": 139,
   "metadata": {},
   "outputs": [
    {
     "data": {
      "text/plain": [
       "<matplotlib.axes._subplots.AxesSubplot at 0x14800cc50>"
      ]
     },
     "execution_count": 139,
     "metadata": {},
     "output_type": "execute_result"
    },
    {
     "data": {
      "image/png": "[encoded data removed]",
      "text/plain": [
       "<Figure size 432x288 with 2 Axes>"
      ]
     },
     "metadata": {},
     "output_type": "display_data"
    }
   ],
   "source": [
    "sns.heatmap(predictions_train.corr(), annot=True)"
   ]
  },
  {
   "cell_type": "markdown",
   "metadata": {},
   "source": [
    "I'm going to use polynomial features for logistic regression, rt_lr_pipeline, rf, and grb."
   ]
  },
  {
   "cell_type": "code",
   "execution_count": 3,
   "metadata": {},
   "outputs": [],
   "source": [
    "df_downsampled = pd.read_csv('./df_down.csv')\n",
    "\n",
    "Xd = df_downsampled.drop(['ARSON'], axis=1)\n",
    "yd = df_downsampled['ARSON']\n",
    "\n",
    "X_small_train, X_small_test, y_train, y_test = train_test_split(Xd, yd, test_size=0.2, random_state=42)\n",
    "\n",
    "\n",
    "pca_3_down = PCA(n_components=3)\n",
    "pca_3_down.fit(X_small_train)\n",
    "X_train = pca_3_down.transform(X_small_train)\n",
    "X_test = pca_3_down.transform(X_small_test)\n"
   ]
  },
  {
   "cell_type": "code",
   "execution_count": 9,
   "metadata": {},
   "outputs": [],
   "source": [
    "n_estimator_ens = 75"
   ]
  },
  {
   "cell_type": "code",
   "execution_count": 4,
   "metadata": {},
   "outputs": [],
   "source": [
    "poly = PolynomialFeatures(degree=2, include_bias=False)"
   ]
  },
  {
   "cell_type": "code",
   "execution_count": 19,
   "metadata": {},
   "outputs": [],
   "source": [
    "lr = LogisticRegression(fit_intercept=False)\n",
    "lr_pipe = Pipeline([\n",
    "    ('poly', poly),\n",
    "    ('logistic regression', lr)\n",
    "])"
   ]
  },
  {
   "cell_type": "code",
   "execution_count": 13,
   "metadata": {
    "collapsed": true
   },
   "outputs": [
    {
     "ename": "TypeError",
     "evalue": "Last step of Pipeline should implement fit. '[('poly', PolynomialFeatures(degree=2, include_bias=False, interaction_only=False)), ('rt_ens', RandomTreesEmbedding(max_depth=3, max_leaf_nodes=None,\n           min_impurity_decrease=0.0, min_impurity_split=None,\n           min_samples_leaf=1, min_samples_split=2,\n           min_weight_fraction_leaf=0.0, n_estimators=50, n_jobs=1,\n           random_state=42, sparse_output=True, verbose=0,\n           warm_start=False)), ('rt_lr_ensemble', LogisticRegression(C=1.0, class_weight=None, dual=False, fit_intercept=False,\n          intercept_scaling=1, max_iter=100, multi_class='ovr', n_jobs=1,\n          penalty='l2', random_state=None, solver='liblinear', tol=0.0001,\n          verbose=0, warm_start=False))]' (type <class 'list'>) doesn't",
     "output_type": "error",
     "traceback": [
      "\u001b[0;31m---------------------------------------------------------------------------\u001b[0m",
      "\u001b[0;31mTypeError\u001b[0m                                 Traceback (most recent call last)",
      "\u001b[0;32m<ipython-input-13-8875ca275307>\u001b[0m in \u001b[0;36m<module>\u001b[0;34m()\u001b[0m\n\u001b[1;32m      5\u001b[0m     \u001b[0;34m(\u001b[0m\u001b[0;34m'poly'\u001b[0m\u001b[0;34m,\u001b[0m \u001b[0mpoly\u001b[0m\u001b[0;34m)\u001b[0m\u001b[0;34m,\u001b[0m\u001b[0;34m\u001b[0m\u001b[0m\n\u001b[1;32m      6\u001b[0m     \u001b[0;34m(\u001b[0m\u001b[0;34m'rt_ens'\u001b[0m\u001b[0;34m,\u001b[0m \u001b[0mrt_ens\u001b[0m\u001b[0;34m)\u001b[0m\u001b[0;34m,\u001b[0m\u001b[0;34m\u001b[0m\u001b[0m\n\u001b[0;32m----> 7\u001b[0;31m     \u001b[0;34m(\u001b[0m\u001b[0;34m'rt_lr_ensemble'\u001b[0m\u001b[0;34m,\u001b[0m \u001b[0mrt_lr_ens\u001b[0m\u001b[0;34m)\u001b[0m\u001b[0;34m,\u001b[0m\u001b[0;34m\u001b[0m\u001b[0m\n\u001b[0m\u001b[1;32m      8\u001b[0m     ])\n",
      "\u001b[0;32m~/anaconda3/envs/ipykernel_py3/lib/python3.6/site-packages/sklearn/pipeline.py\u001b[0m in \u001b[0;36mmake_pipeline\u001b[0;34m(*steps, **kwargs)\u001b[0m\n\u001b[1;32m    561\u001b[0m         raise TypeError('Unknown keyword arguments: \"{}\"'\n\u001b[1;32m    562\u001b[0m                         .format(list(kwargs.keys())[0]))\n\u001b[0;32m--> 563\u001b[0;31m     \u001b[0;32mreturn\u001b[0m \u001b[0mPipeline\u001b[0m\u001b[0;34m(\u001b[0m\u001b[0m_name_estimators\u001b[0m\u001b[0;34m(\u001b[0m\u001b[0msteps\u001b[0m\u001b[0;34m)\u001b[0m\u001b[0;34m,\u001b[0m \u001b[0mmemory\u001b[0m\u001b[0;34m=\u001b[0m\u001b[0mmemory\u001b[0m\u001b[0;34m)\u001b[0m\u001b[0;34m\u001b[0m\u001b[0m\n\u001b[0m\u001b[1;32m    564\u001b[0m \u001b[0;34m\u001b[0m\u001b[0m\n\u001b[1;32m    565\u001b[0m \u001b[0;34m\u001b[0m\u001b[0m\n",
      "\u001b[0;32m~/anaconda3/envs/ipykernel_py3/lib/python3.6/site-packages/sklearn/pipeline.py\u001b[0m in \u001b[0;36m__init__\u001b[0;34m(self, steps, memory)\u001b[0m\n\u001b[1;32m    112\u001b[0m     \u001b[0;32mdef\u001b[0m \u001b[0m__init__\u001b[0m\u001b[0;34m(\u001b[0m\u001b[0mself\u001b[0m\u001b[0;34m,\u001b[0m \u001b[0msteps\u001b[0m\u001b[0;34m,\u001b[0m \u001b[0mmemory\u001b[0m\u001b[0;34m=\u001b[0m\u001b[0;32mNone\u001b[0m\u001b[0;34m)\u001b[0m\u001b[0;34m:\u001b[0m\u001b[0;34m\u001b[0m\u001b[0m\n\u001b[1;32m    113\u001b[0m         \u001b[0mself\u001b[0m\u001b[0;34m.\u001b[0m\u001b[0msteps\u001b[0m \u001b[0;34m=\u001b[0m \u001b[0msteps\u001b[0m\u001b[0;34m\u001b[0m\u001b[0m\n\u001b[0;32m--> 114\u001b[0;31m         \u001b[0mself\u001b[0m\u001b[0;34m.\u001b[0m\u001b[0m_validate_steps\u001b[0m\u001b[0;34m(\u001b[0m\u001b[0;34m)\u001b[0m\u001b[0;34m\u001b[0m\u001b[0m\n\u001b[0m\u001b[1;32m    115\u001b[0m         \u001b[0mself\u001b[0m\u001b[0;34m.\u001b[0m\u001b[0mmemory\u001b[0m \u001b[0;34m=\u001b[0m \u001b[0mmemory\u001b[0m\u001b[0;34m\u001b[0m\u001b[0m\n\u001b[1;32m    116\u001b[0m \u001b[0;34m\u001b[0m\u001b[0m\n",
      "\u001b[0;32m~/anaconda3/envs/ipykernel_py3/lib/python3.6/site-packages/sklearn/pipeline.py\u001b[0m in \u001b[0;36m_validate_steps\u001b[0;34m(self)\u001b[0m\n\u001b[1;32m    166\u001b[0m             raise TypeError(\"Last step of Pipeline should implement fit. \"\n\u001b[1;32m    167\u001b[0m                             \u001b[0;34m\"'%s' (type %s) doesn't\"\u001b[0m\u001b[0;34m\u001b[0m\u001b[0m\n\u001b[0;32m--> 168\u001b[0;31m                             % (estimator, type(estimator)))\n\u001b[0m\u001b[1;32m    169\u001b[0m \u001b[0;34m\u001b[0m\u001b[0m\n\u001b[1;32m    170\u001b[0m     \u001b[0;34m@\u001b[0m\u001b[0mproperty\u001b[0m\u001b[0;34m\u001b[0m\u001b[0m\n",
      "\u001b[0;31mTypeError\u001b[0m: Last step of Pipeline should implement fit. '[('poly', PolynomialFeatures(degree=2, include_bias=False, interaction_only=False)), ('rt_ens', RandomTreesEmbedding(max_depth=3, max_leaf_nodes=None,\n           min_impurity_decrease=0.0, min_impurity_split=None,\n           min_samples_leaf=1, min_samples_split=2,\n           min_weight_fraction_leaf=0.0, n_estimators=50, n_jobs=1,\n           random_state=42, sparse_output=True, verbose=0,\n           warm_start=False)), ('rt_lr_ensemble', LogisticRegression(C=1.0, class_weight=None, dual=False, fit_intercept=False,\n          intercept_scaling=1, max_iter=100, multi_class='ovr', n_jobs=1,\n          penalty='l2', random_state=None, solver='liblinear', tol=0.0001,\n          verbose=0, warm_start=False))]' (type <class 'list'>) doesn't"
     ]
    }
   ],
   "source": [
    "# rt_ens = RandomTreesEmbedding(max_depth=3, n_estimators=n_estimator_ens,\n",
    "#     random_state=42)\n",
    "# rt_lr_ens = LogisticRegression(fit_intercept=False)\n",
    "\n",
    "# rt_lr_pipeline2_ens = make_pipeline([\n",
    "#     ('poly', poly),\n",
    "#     ('rt_ens', rt_ens),\n",
    "#     ('rt_lr_ensemble', rt_lr_ens),\n",
    "#     ])\n"
   ]
  },
  {
   "cell_type": "code",
   "execution_count": 20,
   "metadata": {},
   "outputs": [],
   "source": [
    "\n",
    "rf_ens = RandomForestClassifier(max_depth=3, n_estimators=n_estimator_ens)\n",
    "rf_pipe_ens = Pipeline([\n",
    "    ('poly', poly),\n",
    "    ('random forest', rf_ens)\n",
    "])\n"
   ]
  },
  {
   "cell_type": "code",
   "execution_count": 21,
   "metadata": {},
   "outputs": [],
   "source": [
    "\n",
    "grd_ens = GradientBoostingClassifier(n_estimators=n_estimator_ens)\n",
    "grd_pipe_ens = Pipeline([\n",
    "    ('poly', poly),\n",
    "    ('gradient boosted', grd_ens)\n",
    "])"
   ]
  },
  {
   "cell_type": "code",
   "execution_count": 18,
   "metadata": {},
   "outputs": [],
   "source": [
    "xgb_ens = XGBClassifier()\n",
    "\n",
    "gnb_ens = GaussianNB()\n",
    "\n",
    "lsvc = LinearSVC(random_state=42)\n",
    "cal_class_lsvc_ens = CalibratedClassifierCV(lsvc, cv=2, method='sigmoid')"
   ]
  },
  {
   "cell_type": "code",
   "execution_count": 22,
   "metadata": {},
   "outputs": [],
   "source": [
    "models_poly = [\n",
    "    ['logistic_poly', lr_pipe], \n",
    "    ['random forest', rf_pipe_ens],\n",
    "    ['gradient boosting', grd_pipe_ens],\n",
    "    ['XGBoost', xgb_ens],\n",
    "    ['GaussianNB', gnb_ens],\n",
    "    ['calibrated LinearSVC', cal_class_lsvc_ens]\n",
    "]"
   ]
  },
  {
   "cell_type": "code",
   "execution_count": 24,
   "metadata": {},
   "outputs": [
    {
     "name": "stderr",
     "output_type": "stream",
     "text": [
      "/Users/ryanmetz/anaconda3/envs/ipykernel_py3/lib/python3.6/site-packages/sklearn/preprocessing/label.py:151: DeprecationWarning: The truth value of an empty array is ambiguous. Returning False, but in future this will result in an error. Use `array.size > 0` to check that an array is not empty.\n",
      "  if diff:\n",
      "/Users/ryanmetz/anaconda3/envs/ipykernel_py3/lib/python3.6/site-packages/sklearn/preprocessing/label.py:151: DeprecationWarning: The truth value of an empty array is ambiguous. Returning False, but in future this will result in an error. Use `array.size > 0` to check that an array is not empty.\n",
      "  if diff:\n",
      "/Users/ryanmetz/anaconda3/envs/ipykernel_py3/lib/python3.6/site-packages/sklearn/preprocessing/label.py:151: DeprecationWarning: The truth value of an empty array is ambiguous. Returning False, but in future this will result in an error. Use `array.size > 0` to check that an array is not empty.\n",
      "  if diff:\n",
      "/Users/ryanmetz/anaconda3/envs/ipykernel_py3/lib/python3.6/site-packages/sklearn/calibration.py:435: RuntimeWarning: overflow encountered in exp\n",
      "  E = np.exp(AB[0] * F + AB[1])\n",
      "/Users/ryanmetz/anaconda3/envs/ipykernel_py3/lib/python3.6/site-packages/sklearn/calibration.py:445: RuntimeWarning: overflow encountered in exp\n",
      "  E = np.exp(AB[0] * F + AB[1])\n",
      "/Users/ryanmetz/anaconda3/envs/ipykernel_py3/lib/python3.6/site-packages/sklearn/calibration.py:447: RuntimeWarning: invalid value encountered in multiply\n",
      "  TEP_minus_T1P = P * (T * E - T1)\n",
      "/Users/ryanmetz/anaconda3/envs/ipykernel_py3/lib/python3.6/site-packages/sklearn/calibration.py:435: RuntimeWarning: overflow encountered in exp\n",
      "  E = np.exp(AB[0] * F + AB[1])\n"
     ]
    },
    {
     "data": {
      "text/html": [
       "<div>\n",
       "<style scoped>\n",
       "    .dataframe tbody tr th:only-of-type {\n",
       "        vertical-align: middle;\n",
       "    }\n",
       "\n",
       "    .dataframe tbody tr th {\n",
       "        vertical-align: top;\n",
       "    }\n",
       "\n",
       "    .dataframe thead th {\n",
       "        text-align: right;\n",
       "    }\n",
       "</style>\n",
       "<table border=\"1\" class=\"dataframe\">\n",
       "  <thead>\n",
       "    <tr style=\"text-align: right;\">\n",
       "      <th></th>\n",
       "      <th>logistic_poly _pred</th>\n",
       "      <th>random forest _pred</th>\n",
       "      <th>gradient boosting _pred</th>\n",
       "      <th>XGBoost _pred</th>\n",
       "      <th>GaussianNB _pred</th>\n",
       "      <th>calibrated LinearSVC _pred</th>\n",
       "    </tr>\n",
       "  </thead>\n",
       "  <tbody>\n",
       "    <tr>\n",
       "      <th>0</th>\n",
       "      <td>1</td>\n",
       "      <td>0</td>\n",
       "      <td>0</td>\n",
       "      <td>0</td>\n",
       "      <td>0</td>\n",
       "      <td>0</td>\n",
       "    </tr>\n",
       "    <tr>\n",
       "      <th>1</th>\n",
       "      <td>1</td>\n",
       "      <td>0</td>\n",
       "      <td>0</td>\n",
       "      <td>0</td>\n",
       "      <td>0</td>\n",
       "      <td>0</td>\n",
       "    </tr>\n",
       "    <tr>\n",
       "      <th>2</th>\n",
       "      <td>1</td>\n",
       "      <td>1</td>\n",
       "      <td>1</td>\n",
       "      <td>0</td>\n",
       "      <td>1</td>\n",
       "      <td>0</td>\n",
       "    </tr>\n",
       "    <tr>\n",
       "      <th>3</th>\n",
       "      <td>1</td>\n",
       "      <td>0</td>\n",
       "      <td>0</td>\n",
       "      <td>0</td>\n",
       "      <td>0</td>\n",
       "      <td>0</td>\n",
       "    </tr>\n",
       "    <tr>\n",
       "      <th>4</th>\n",
       "      <td>1</td>\n",
       "      <td>1</td>\n",
       "      <td>1</td>\n",
       "      <td>1</td>\n",
       "      <td>1</td>\n",
       "      <td>0</td>\n",
       "    </tr>\n",
       "  </tbody>\n",
       "</table>\n",
       "</div>"
      ],
      "text/plain": [
       "   logistic_poly _pred  random forest _pred  gradient boosting _pred  \\\n",
       "0                    1                    0                        0   \n",
       "1                    1                    0                        0   \n",
       "2                    1                    1                        1   \n",
       "3                    1                    0                        0   \n",
       "4                    1                    1                        1   \n",
       "\n",
       "   XGBoost _pred  GaussianNB _pred  calibrated LinearSVC _pred  \n",
       "0              0                 0                           0  \n",
       "1              0                 0                           0  \n",
       "2              0                 1                           0  \n",
       "3              0                 0                           0  \n",
       "4              1                 1                           0  "
      ]
     },
     "execution_count": 24,
     "metadata": {},
     "output_type": "execute_result"
    }
   ],
   "source": [
    "predictions_train_poly = pd.DataFrame()\n",
    "for model_tup in models_poly:\n",
    "    name, model = model_tup\n",
    "    predictions_train_poly[name + ' _pred'] = cross_val_predict(model, X_train, y_train)\n",
    "    model.fit(X_train, y_train)\n",
    "predictions_train_poly.head()"
   ]
  },
  {
   "cell_type": "code",
   "execution_count": 25,
   "metadata": {},
   "outputs": [
    {
     "data": {
      "text/plain": [
       "<matplotlib.axes._subplots.AxesSubplot at 0x127b95320>"
      ]
     },
     "execution_count": 25,
     "metadata": {},
     "output_type": "execute_result"
    },
    {
     "data": {
      "image/png": "[encoded data removed]",
      "text/plain": [
       "<Figure size 432x288 with 2 Axes>"
      ]
     },
     "metadata": {},
     "output_type": "display_data"
    }
   ],
   "source": [
    "sns.heatmap(predictions_train_poly.corr(), annot=True)"
   ]
  },
  {
   "cell_type": "code",
   "execution_count": 34,
   "metadata": {},
   "outputs": [],
   "source": [
    "ada_agg = AdaBoostClassifier(n_estimators=100)"
   ]
  },
  {
   "cell_type": "code",
   "execution_count": 35,
   "metadata": {},
   "outputs": [
    {
     "data": {
      "text/plain": [
       "AdaBoostClassifier(algorithm='SAMME.R', base_estimator=None,\n",
       "          learning_rate=1.0, n_estimators=100, random_state=None)"
      ]
     },
     "execution_count": 35,
     "metadata": {},
     "output_type": "execute_result"
    }
   ],
   "source": [
    "ada_agg.fit(predictions_train_poly, y_train)"
   ]
  },
  {
   "cell_type": "code",
   "execution_count": 36,
   "metadata": {},
   "outputs": [
    {
     "name": "stderr",
     "output_type": "stream",
     "text": [
      "/Users/ryanmetz/anaconda3/envs/ipykernel_py3/lib/python3.6/site-packages/sklearn/preprocessing/label.py:151: DeprecationWarning: The truth value of an empty array is ambiguous. Returning False, but in future this will result in an error. Use `array.size > 0` to check that an array is not empty.\n",
      "  if diff:\n",
      "/Users/ryanmetz/anaconda3/envs/ipykernel_py3/lib/python3.6/site-packages/sklearn/calibration.py:510: RuntimeWarning: overflow encountered in exp\n",
      "  return 1. / (1. + np.exp(self.a_ * T + self.b_))\n"
     ]
    },
    {
     "data": {
      "text/html": [
       "<div>\n",
       "<style scoped>\n",
       "    .dataframe tbody tr th:only-of-type {\n",
       "        vertical-align: middle;\n",
       "    }\n",
       "\n",
       "    .dataframe tbody tr th {\n",
       "        vertical-align: top;\n",
       "    }\n",
       "\n",
       "    .dataframe thead th {\n",
       "        text-align: right;\n",
       "    }\n",
       "</style>\n",
       "<table border=\"1\" class=\"dataframe\">\n",
       "  <thead>\n",
       "    <tr style=\"text-align: right;\">\n",
       "      <th></th>\n",
       "      <th>logistic_poly _pred</th>\n",
       "      <th>random forest _pred</th>\n",
       "      <th>gradient boosting _pred</th>\n",
       "      <th>XGBoost _pred</th>\n",
       "      <th>GaussianNB _pred</th>\n",
       "      <th>calibrated LinearSVC _pred</th>\n",
       "    </tr>\n",
       "  </thead>\n",
       "  <tbody>\n",
       "    <tr>\n",
       "      <th>0</th>\n",
       "      <td>1</td>\n",
       "      <td>0</td>\n",
       "      <td>0</td>\n",
       "      <td>0</td>\n",
       "      <td>0</td>\n",
       "      <td>0</td>\n",
       "    </tr>\n",
       "    <tr>\n",
       "      <th>1</th>\n",
       "      <td>1</td>\n",
       "      <td>1</td>\n",
       "      <td>1</td>\n",
       "      <td>1</td>\n",
       "      <td>1</td>\n",
       "      <td>1</td>\n",
       "    </tr>\n",
       "    <tr>\n",
       "      <th>2</th>\n",
       "      <td>1</td>\n",
       "      <td>1</td>\n",
       "      <td>1</td>\n",
       "      <td>1</td>\n",
       "      <td>1</td>\n",
       "      <td>1</td>\n",
       "    </tr>\n",
       "    <tr>\n",
       "      <th>3</th>\n",
       "      <td>1</td>\n",
       "      <td>0</td>\n",
       "      <td>0</td>\n",
       "      <td>0</td>\n",
       "      <td>0</td>\n",
       "      <td>0</td>\n",
       "    </tr>\n",
       "  </tbody>\n",
       "</table>\n",
       "</div>"
      ],
      "text/plain": [
       "   logistic_poly _pred  random forest _pred  gradient boosting _pred  \\\n",
       "0                    1                    0                        0   \n",
       "1                    1                    1                        1   \n",
       "2                    1                    1                        1   \n",
       "3                    1                    0                        0   \n",
       "\n",
       "   XGBoost _pred  GaussianNB _pred  calibrated LinearSVC _pred  \n",
       "0              0                 0                           0  \n",
       "1              1                 1                           1  \n",
       "2              1                 1                           1  \n",
       "3              0                 0                           0  "
      ]
     },
     "execution_count": 36,
     "metadata": {},
     "output_type": "execute_result"
    }
   ],
   "source": [
    "predictions_test = pd.DataFrame()\n",
    "for model_tup in models_poly:\n",
    "    name, model = model_tup\n",
    "    predictions_test[name + ' _pred'] = model.predict(X_test)\n",
    "predictions_test.head(4)"
   ]
  },
  {
   "cell_type": "code",
   "execution_count": 44,
   "metadata": {},
   "outputs": [
    {
     "data": {
      "text/plain": [
       "(29250, 6)"
      ]
     },
     "execution_count": 44,
     "metadata": {},
     "output_type": "execute_result"
    }
   ],
   "source": [
    "predictions_test.shape"
   ]
  },
  {
   "cell_type": "code",
   "execution_count": 37,
   "metadata": {},
   "outputs": [
    {
     "data": {
      "text/plain": [
       "0.6663589743589744"
      ]
     },
     "execution_count": 37,
     "metadata": {},
     "output_type": "execute_result"
    }
   ],
   "source": [
    "ada_agg.score(predictions_test, y_test)"
   ]
  },
  {
   "cell_type": "code",
   "execution_count": 39,
   "metadata": {},
   "outputs": [],
   "source": [
    "ada_agg_preds = ada_agg.predict(predictions_test)"
   ]
  },
  {
   "cell_type": "code",
   "execution_count": 41,
   "metadata": {},
   "outputs": [
    {
     "name": "stdout",
     "output_type": "stream",
     "text": [
      "             precision    recall  f1-score   support\n",
      "\n",
      "          0       0.66      0.67      0.67     14667\n",
      "          1       0.67      0.66      0.66     14583\n",
      "\n",
      "avg / total       0.67      0.67      0.67     29250\n",
      "\n"
     ]
    }
   ],
   "source": [
    "print(classification_report(y_test, ada_agg_preds))"
   ]
  },
  {
   "cell_type": "code",
   "execution_count": null,
   "metadata": {},
   "outputs": [],
   "source": []
  },
  {
   "cell_type": "code",
   "execution_count": null,
   "metadata": {},
   "outputs": [],
   "source": []
  },
  {
   "cell_type": "code",
   "execution_count": null,
   "metadata": {},
   "outputs": [],
   "source": []
  },
  {
   "cell_type": "code",
   "execution_count": null,
   "metadata": {},
   "outputs": [],
   "source": []
  },
  {
   "cell_type": "markdown",
   "metadata": {},
   "source": [
    "**The below cells are code for running on AWS.**"
   ]
  },
  {
   "cell_type": "code",
   "execution_count": null,
   "metadata": {},
   "outputs": [],
   "source": [
    "df_downsampled = pd.read_csv('./df_down.csv')"
   ]
  },
  {
   "cell_type": "code",
   "execution_count": null,
   "metadata": {},
   "outputs": [],
   "source": [
    "Xd = df_downsampled.drop(['ARSON'], axis=1)\n",
    "yd = df_downsampled['ARSON']\n",
    "\n",
    "Xd_train, Xd_test, y_train, y_test = train_test_split(Xd, yd, test_size=0.2, random_state=42)\n",
    "\n",
    "pca_6_down = PCA(n_components=6)\n",
    "pca_6_down.fit(Xd_train)\n",
    "X_train = pca_6_down.transform(Xd_train)\n",
    "X_test = pca_6_down.transform(Xd_test)"
   ]
  },
  {
   "cell_type": "code",
   "execution_count": null,
   "metadata": {},
   "outputs": [],
   "source": [
    "gs_log_params = {\n",
    "    'penalty':['l2'],\n",
    "    'solver':['liblinear'],\n",
    "    'C':np.logspace(-5,0,100)\n",
    "}\n",
    "\n",
    "lr_gridsearch = GridSearchCV(LogisticRegression(), gs_log_params, cv=5, verbose=1)\n",
    "\n",
    "lr_gridsearch = lr_gridsearch.fit(X_train, y_train)"
   ]
  },
  {
   "cell_type": "code",
   "execution_count": null,
   "metadata": {},
   "outputs": [],
   "source": [
    "print('logreg best training score: ' + lr_gridsearch.best_score_)\n",
    "print('logreg best params: ' + lr_gridsearch.best_params_)"
   ]
  },
  {
   "cell_type": "code",
   "execution_count": null,
   "metadata": {},
   "outputs": [],
   "source": [
    "best_lr = lr_gridsearch.best_estimator_\n",
    "print('best log best test score: ' + best_lr.score(X_test, y_test))"
   ]
  },
  {
   "cell_type": "code",
   "execution_count": null,
   "metadata": {},
   "outputs": [],
   "source": []
  },
  {
   "cell_type": "code",
   "execution_count": null,
   "metadata": {},
   "outputs": [],
   "source": []
  },
  {
   "cell_type": "code",
   "execution_count": null,
   "metadata": {},
   "outputs": [],
   "source": []
  },
  {
   "cell_type": "code",
   "execution_count": null,
   "metadata": {},
   "outputs": [],
   "source": []
  },
  {
   "cell_type": "code",
   "execution_count": null,
   "metadata": {},
   "outputs": [],
   "source": []
  },
  {
   "cell_type": "code",
   "execution_count": null,
   "metadata": {},
   "outputs": [],
   "source": []
  },
  {
   "cell_type": "code",
   "execution_count": null,
   "metadata": {},
   "outputs": [],
   "source": []
  },
  {
   "cell_type": "code",
   "execution_count": null,
   "metadata": {},
   "outputs": [],
   "source": []
  }
 ],
 "metadata": {
  "kernelspec": {
   "display_name": "Python [conda env:ipykernel_py3]",
   "language": "python",
   "name": "conda-env-ipykernel_py3-py"
  },
  "language_info": {
   "codemirror_mode": {
    "name": "ipython",
    "version": 3
   },
   "file_extension": ".py",
   "mimetype": "text/x-python",
   "name": "python",
   "nbconvert_exporter": "python",
   "pygments_lexer": "ipython3",
   "version": "3.6.4"
  }
 },
 "nbformat": 4,
 "nbformat_minor": 2
}
